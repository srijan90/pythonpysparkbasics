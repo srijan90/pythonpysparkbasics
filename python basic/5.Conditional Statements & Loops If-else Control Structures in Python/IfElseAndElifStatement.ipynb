{
 "cells": [
  {
   "cell_type": "code",
   "execution_count": 1,
   "metadata": {},
   "outputs": [
    {
     "name": "stdout",
     "output_type": "stream",
     "text": [
      "10 is less than 20\n",
      "else block activated\n"
     ]
    }
   ],
   "source": [
    "if 10 > 20:\n",
    "    print(\"10 is greater than 20\")\n",
    "    print(\"if block activated\")\n",
    "    \n",
    "else:\n",
    "    print(\"10 is less than 20\")\n",
    "    print(\"else block activated\")"
   ]
  },
  {
   "cell_type": "code",
   "execution_count": 2,
   "metadata": {},
   "outputs": [
    {
     "data": {
      "text/plain": [
       "7160"
      ]
     },
     "execution_count": 2,
     "metadata": {},
     "output_type": "execute_result"
    }
   ],
   "source": [
    "bike_price = 7160\n",
    "bike_price"
   ]
  },
  {
   "cell_type": "code",
   "execution_count": 3,
   "metadata": {},
   "outputs": [
    {
     "name": "stdout",
     "output_type": "stream",
     "text": [
      "It's a cheap bike\n",
      "if block activated\n"
     ]
    }
   ],
   "source": [
    "if bike_price <= 8000:\n",
    "    print(\"It's a cheap bike\")\n",
    "    print(\"if block activated\")\n",
    "    \n",
    "else:\n",
    "    print(\"It's an expensive bike\")\n",
    "    print(\"else block activated\")"
   ]
  },
  {
   "cell_type": "code",
   "execution_count": 4,
   "metadata": {},
   "outputs": [
    {
     "ename": "SyntaxError",
     "evalue": "invalid syntax (<ipython-input-4-2fa0f571119d>, line 6)",
     "output_type": "error",
     "traceback": [
      "\u001b[0;36m  File \u001b[0;32m\"<ipython-input-4-2fa0f571119d>\"\u001b[0;36m, line \u001b[0;32m6\u001b[0m\n\u001b[0;31m    else:\u001b[0m\n\u001b[0m       ^\u001b[0m\n\u001b[0;31mSyntaxError\u001b[0m\u001b[0;31m:\u001b[0m invalid syntax\n"
     ]
    }
   ],
   "source": [
    "bike_price = 9000\n",
    "\n",
    "if bike_price <= 8000:\n",
    "    print(\"It's a cheap bike\")\n",
    "    \n",
    "    else:\n",
    "        print(\"It's an expensive bike\")"
   ]
  },
  {
   "cell_type": "code",
   "execution_count": 5,
   "metadata": {},
   "outputs": [
    {
     "name": "stdout",
     "output_type": "stream",
     "text": [
      "It's an expensive bike\n"
     ]
    }
   ],
   "source": [
    "bike_price = 9000\n",
    "\n",
    "if bike_price <= 8000:\n",
    "    print(\"It's a cheap bike\")\n",
    "    \n",
    "else:\n",
    "    print(\"It's an expensive bike\")"
   ]
  },
  {
   "cell_type": "code",
   "execution_count": 6,
   "metadata": {},
   "outputs": [
    {
     "name": "stdout",
     "output_type": "stream",
     "text": [
      "num before expression:  50\n",
      "num after expression:  30\n"
     ]
    }
   ],
   "source": [
    "num = 50\n",
    "print(\"num before expression: \", num)\n",
    "\n",
    "num = num - 20 if num > 20 else num + 20\n",
    "\n",
    "print(\"num after expression: \", num)"
   ]
  },
  {
   "cell_type": "code",
   "execution_count": 7,
   "metadata": {},
   "outputs": [
    {
     "name": "stdout",
     "output_type": "stream",
     "text": [
      "num before expression:  50\n",
      "num after expression:  30\n"
     ]
    }
   ],
   "source": [
    "num = 50\n",
    "print(\"num before expression: \", num)\n",
    "\n",
    "if num > 20:\n",
    "    num = num - 20\n",
    "else:\n",
    "    num = num + 20\n",
    "\n",
    "print(\"num after expression: \", num)"
   ]
  },
  {
   "cell_type": "code",
   "execution_count": 8,
   "metadata": {},
   "outputs": [
    {
     "name": "stdout",
     "output_type": "stream",
     "text": [
      "Number before expression :  100\n",
      "Number after expression :  500\n"
     ]
    }
   ],
   "source": [
    "num = 100\n",
    "print(\"Number before expression : \", num)\n",
    "\n",
    "result = num / 5 if num < 50 else num * 5\n",
    "\n",
    "print(\"Number after expression : \", result)"
   ]
  },
  {
   "cell_type": "code",
   "execution_count": 9,
   "metadata": {},
   "outputs": [
    {
     "name": "stdout",
     "output_type": "stream",
     "text": [
      "15 is less than 20\n",
      "elif block activated\n"
     ]
    }
   ],
   "source": [
    "if 15 > 20:\n",
    "    print(\"15 is greater than 20\")\n",
    "    print(\"if block activated\")\n",
    "    \n",
    "elif 15 < 20:\n",
    "    print(\"15 is less than 20\")\n",
    "    print(\"elif block activated\")\n",
    "    \n",
    "else:\n",
    "    print(\"Both are equal\")\n",
    "    print(\"else block activated\")"
   ]
  },
  {
   "cell_type": "code",
   "execution_count": 10,
   "metadata": {},
   "outputs": [
    {
     "name": "stdout",
     "output_type": "stream",
     "text": [
      "a and b are equal\n",
      "elif block activated\n"
     ]
    }
   ],
   "source": [
    "a = 45\n",
    "b = 45\n",
    "\n",
    "if b > a:\n",
    "    print(\"b is greater than a\")\n",
    "    print(\"if block activated\")\n",
    "    \n",
    "elif a == b:\n",
    "    print(\"a and b are equal\")\n",
    "    print(\"elif block activated\")\n",
    "    \n",
    "else:\n",
    "    print(\"a is greater than b\")\n",
    "    print(\"else block activated\")    "
   ]
  },
  {
   "cell_type": "code",
   "execution_count": 11,
   "metadata": {},
   "outputs": [],
   "source": [
    "bike_price = 20000"
   ]
  },
  {
   "cell_type": "code",
   "execution_count": 12,
   "metadata": {},
   "outputs": [],
   "source": [
    "if bike_price < 6000:\n",
    "    print(\"It's a cheap bike\")\n",
    "    \n",
    "elif bike_price >= 6000 and bike_price < 10000:\n",
    "    print(\"It's a moderately priced bike\")\n",
    "    \n",
    "elif bike_price >= 10000 and bike_price < 15000:\n",
    "    print(\"It's a somewhat expensive bike\")"
   ]
  },
  {
   "cell_type": "code",
   "execution_count": 13,
   "metadata": {},
   "outputs": [
    {
     "name": "stdout",
     "output_type": "stream",
     "text": [
      "It's a somewhat expensive bike\n"
     ]
    }
   ],
   "source": [
    "if bike_price < 6000:\n",
    "    print(\"It's a cheap bike\")\n",
    "    \n",
    "elif bike_price >= 6000 and bike_price < 10000:\n",
    "    print(\"It's a moderately priced bike\")\n",
    "    \n",
    "elif bike_price >= 10000:\n",
    "    print(\"It's a somewhat expensive bike\")\n",
    "    \n",
    "elif bike_price >= 20000:\n",
    "    print(\"It's a very expensive bike\")"
   ]
  },
  {
   "cell_type": "code",
   "execution_count": 14,
   "metadata": {},
   "outputs": [],
   "source": [
    "x = 25\n",
    "y = 35\n",
    "z = 45"
   ]
  },
  {
   "cell_type": "code",
   "execution_count": 15,
   "metadata": {},
   "outputs": [
    {
     "name": "stdout",
     "output_type": "stream",
     "text": [
      "The first condition is true\n",
      "Both conditions are true\n"
     ]
    }
   ],
   "source": [
    "if x < y:\n",
    "    print(\"The first condition is true\")\n",
    "    \n",
    "    if x < z:\n",
    "        print(\"Both conditions are true\")\n",
    "        \n",
    "    else:\n",
    "        print(\"The first condition is true, the second one is false\")"
   ]
  },
  {
   "cell_type": "code",
   "execution_count": 16,
   "metadata": {},
   "outputs": [
    {
     "name": "stdout",
     "output_type": "stream",
     "text": [
      "The first condition is false\n"
     ]
    }
   ],
   "source": [
    "x = 55\n",
    "\n",
    "if x < y:\n",
    "    print(\"The first condition is true\")\n",
    "    \n",
    "    if x < z:\n",
    "        print(\"Both conditions are true\")\n",
    "        \n",
    "    else:\n",
    "        print(\"The first condition is true, the second one is false\")\n",
    "        \n",
    "else:\n",
    "    print(\"The first condition is false\")"
   ]
  },
  {
   "cell_type": "code",
   "execution_count": 17,
   "metadata": {},
   "outputs": [
    {
     "name": "stdout",
     "output_type": "stream",
     "text": [
      "Enter your age: 21\n",
      "You are too old for this camping trip!\n"
     ]
    }
   ],
   "source": [
    "age = int(input(\"Enter your age: \"))\n",
    "\n",
    "if age >= 15:\n",
    "    \n",
    "    if age > 20:\n",
    "        print(\"You are too old for this camping trip!\")\n",
    "        \n",
    "    else:\n",
    "        print(\"You are of the right age for this camping trip!\")\n",
    "        \n",
    "else:\n",
    "    print(\"You are too young for this camping trip!\")"
   ]
  },
  {
   "cell_type": "code",
   "execution_count": 19,
   "metadata": {},
   "outputs": [
    {
     "name": "stdout",
     "output_type": "stream",
     "text": [
      "What is the total amount of your online shopping? 80\n",
      "USA or Canada? USA\n",
      "Shipping Cost is $6.00\n"
     ]
    }
   ],
   "source": [
    "total = int(input(\"What is the total amount of your online shopping? \"))\n",
    "country = input(\"USA or Canada? \")\n",
    "\n",
    "if country == \"USA\":\n",
    "    if total <= 50:\n",
    "        print (\"Shipping Cost is $9.00\")\n",
    "        \n",
    "    elif total <= 100:\n",
    "        print (\"Shipping Cost is $6.00\")\n",
    "        \n",
    "    else:\n",
    "        print (\"Shipping is FREE\")\n",
    "        \n",
    "if country == \"Canada\":\n",
    "    if total <= 50:\n",
    "        print (\"Shipping Cost is $12.00\")\n",
    "        \n",
    "    elif total <= 100:\n",
    "        print (\"Shipping Cost is $8.00\")\n",
    "   \n",
    "    else:\n",
    "        print (\" Shipping is FREE\")"
   ]
  },
  {
   "cell_type": "code",
   "execution_count": null,
   "metadata": {},
   "outputs": [],
   "source": []
  },
  {
   "cell_type": "code",
   "execution_count": null,
   "metadata": {},
   "outputs": [],
   "source": []
  }
 ],
 "metadata": {
  "kernelspec": {
   "display_name": "Python 3",
   "language": "python",
   "name": "python3"
  },
  "language_info": {
   "codemirror_mode": {
    "name": "ipython",
    "version": 3
   },
   "file_extension": ".py",
   "mimetype": "text/x-python",
   "name": "python",
   "nbconvert_exporter": "python",
   "pygments_lexer": "ipython3",
   "version": "3.7.3"
  }
 },
 "nbformat": 4,
 "nbformat_minor": 2
}
