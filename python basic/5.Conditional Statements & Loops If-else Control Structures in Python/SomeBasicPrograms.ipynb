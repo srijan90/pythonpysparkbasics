{
 "cells": [
  {
   "cell_type": "code",
   "execution_count": 1,
   "metadata": {},
   "outputs": [
    {
     "name": "stdout",
     "output_type": "stream",
     "text": [
      "Enter salary amount: 700\n",
      "Enter expenses: 230\n",
      "My total savings in a month is:  470\n"
     ]
    }
   ],
   "source": [
    "salary = int(input(\"Enter salary amount: \"))\n",
    "expenses = int(input(\"Enter expenses: \"))\n",
    "\n",
    "savings = salary - expenses\n",
    "\n",
    "print(\"My total savings in a month is: \", savings)"
   ]
  },
  {
   "cell_type": "code",
   "execution_count": 1,
   "metadata": {},
   "outputs": [
    {
     "name": "stdout",
     "output_type": "stream",
     "text": [
      "Enter first variable: 20\n",
      "Enter second variable: 25\n",
      "\n",
      "First_num is: 25 \n",
      "Second_num is: 20\n"
     ]
    }
   ],
   "source": [
    "first_num = int(input(\"Enter first variable: \"))      \n",
    "second_num = int(input(\"Enter second variable: \"))    \n",
    "\n",
    "first_num = first_num + second_num       \n",
    "second_num = first_num - second_num       \n",
    "first_num = first_num - second_num       \n",
    "\n",
    "print (\"\\nFirst_num is:\", first_num , \"\\nSecond_num is:\", second_num)"
   ]
  },
  {
   "cell_type": "code",
   "execution_count": 3,
   "metadata": {},
   "outputs": [
    {
     "name": "stdout",
     "output_type": "stream",
     "text": [
      "Enter a number: 12\n",
      "12 + 1212 + 121212 = 122436\n"
     ]
    }
   ],
   "source": [
    "num = int(input(\"Enter a number: \"))\n",
    "\n",
    "temp1 = str(num)                       \n",
    "temp2 = temp1 + temp1                  \n",
    "temp3 = temp1 + temp1 + temp1           \n",
    "\n",
    "total = num + (int(temp2) + int(temp3)) \n",
    "\n",
    "print(temp1, '+', temp2, '+', temp3, '=', total) "
   ]
  },
  {
   "cell_type": "code",
   "execution_count": 1,
   "metadata": {},
   "outputs": [
    {
     "name": "stdout",
     "output_type": "stream",
     "text": [
      "Enter first number: 13\n",
      "Enter second number: 4\n",
      "\n",
      "Quotient: 3\n",
      "Remainder: 1\n"
     ]
    }
   ],
   "source": [
    "num_1 = int(input(\"Enter first number: \"))\n",
    "num_2 = int(input(\"Enter second number: \"))\n",
    "\n",
    "Quotient = int(num_1 / num_2)\n",
    "print(\"\\nQuotient:\", Quotient)\n",
    "        \n",
    "Remainder = num_1 % num_2\n",
    "print(\"Remainder:\", Remainder)"
   ]
  },
  {
   "cell_type": "code",
   "execution_count": 2,
   "metadata": {},
   "outputs": [
    {
     "name": "stdout",
     "output_type": "stream",
     "text": [
      "Enter the principle amount: 800\n",
      "Enter the time(years): 6\n",
      "Enter the rate: 3\n",
      "The simple interest is: 144.0\n"
     ]
    }
   ],
   "source": [
    "principle = float(input(\"Enter the principle amount: \"))\n",
    "time = int(input(\"Enter the time(years): \"))\n",
    "rate = float(input(\"Enter the rate: \"))\n",
    "\n",
    "simple_int = (principle * time * rate) / 100\n",
    "\n",
    "print(\"The simple interest is:\",simple_int)"
   ]
  },
  {
   "cell_type": "code",
   "execution_count": 6,
   "metadata": {},
   "outputs": [
    {
     "name": "stdout",
     "output_type": "stream",
     "text": [
      "Give the height in centimeters: 168\n",
      "The length in inches:  66.19\n",
      "The length is feet:  5.44\n"
     ]
    }
   ],
   "source": [
    "cm = int(input(\"Give the height in centimeters: \"))\n",
    "inches = 0.394 * cm\n",
    "feet = 0.0324 * cm\n",
    "\n",
    "print (\"The length in inches: \", round(inches, 2))\n",
    "print (\"The length in feet: \", round(feet, 2))"
   ]
  },
  {
   "cell_type": "code",
   "execution_count": 7,
   "metadata": {},
   "outputs": [
    {
     "name": "stdout",
     "output_type": "stream",
     "text": [
      "List of cars before the swap:  ['Toyota Camry', 'Honda Accord', 'Honda Civic', 'Toyota Corolla']\n",
      "List of cars after the swap:  ['Honda Civic', 'Honda Accord', 'Toyota Camry', 'Toyota Corolla']\n"
     ]
    }
   ],
   "source": [
    "cars_list = [\"Toyota Camry\", \"Honda Accord\", \"Honda Civic\", \"Toyota Corolla\"]\n",
    "\n",
    "print(\"List of cars before the swap: \", cars_list)\n",
    "\n",
    "cars_list_temp = cars_list[0]\n",
    "\n",
    "cars_list[0] = cars_list[2]\n",
    "\n",
    "cars_list[2] = cars_list_temp\n",
    "\n",
    "print(\"List of cars after the swap: \", cars_list)"
   ]
  },
  {
   "cell_type": "code",
   "execution_count": 8,
   "metadata": {},
   "outputs": [
    {
     "name": "stdout",
     "output_type": "stream",
     "text": [
      "list of cars before the swap:  ['Toyota Camry', 'Honda Accord', 'Honda Civic', 'Toyota Corolla']\n",
      "list of cars after  the swap:  ['Toyota Camry', 'Honda Civic', 'Honda Accord', 'Toyota Corolla']\n"
     ]
    }
   ],
   "source": [
    "cars_list = [\"Toyota Camry\", \"Honda Accord\", \"Honda Civic\", \"Toyota Corolla\"]\n",
    "\n",
    "print(\"list of cars before the swap: \", cars_list)\n",
    "\n",
    "car1 = 1\n",
    "car2 = 2\n",
    "\n",
    "cars_list[car1], cars_list[car2] = cars_list[car2], cars_list[car1]\n",
    "\n",
    "print(\"list of cars after  the swap: \", cars_list)"
   ]
  },
  {
   "cell_type": "code",
   "execution_count": 4,
   "metadata": {},
   "outputs": [
    {
     "name": "stdout",
     "output_type": "stream",
     "text": [
      "Student list:  ['Sofia', 'Ella', 'Samuel', 'Ella', 'Aiden', 'Sofia']\n",
      "Number of Students:  6\n",
      "\n",
      "New student list:  ['Ella', 'Samuel', 'Aiden', 'Sofia']\n",
      "Length of modified students list:  4\n",
      "There are 2 duplicate elements\n"
     ]
    }
   ],
   "source": [
    "list_student = [\"Sofia\", \"Ella\", \"Samuel\", \"Ella\", \"Aiden\", \"Sofia\"]\n",
    "\n",
    "print(\"Student list: \", list_student)\n",
    "\n",
    "print(\"Number of Students: \", len(list_student))\n",
    "\n",
    "student_set = set(list_student)\n",
    "\n",
    "print(\"\\nNew student list: \", list(student_set))\n",
    "\n",
    "print(\"Length of modified students list: \", len(student_set))\n",
    "\n",
    "print(\"There are %s duplicate elements\"%(len(list_student) - len(student_set)))"
   ]
  },
  {
   "cell_type": "code",
   "execution_count": 5,
   "metadata": {},
   "outputs": [
    {
     "name": "stdout",
     "output_type": "stream",
     "text": [
      "There are 2 duplicate elements\n"
     ]
    }
   ],
   "source": [
    "list_str = [\"Sofia\",\"Ella\",\"Samuel\",\"Ella\",\"Aiden\",\"Sofia\"]\n",
    "\n",
    "len_list_str = len(list_str)\n",
    "\n",
    "len_set_str = len(set(list_str))\n",
    "\n",
    "if len_list_str == len_set_str:\n",
    "    \n",
    "    print(\"There are no duplicate elements\")\n",
    "    \n",
    "else:\n",
    "    \n",
    "    print(\"There are {} duplicate elements\".format(len_list_str - len_set_str))"
   ]
  },
  {
   "cell_type": "code",
   "execution_count": 11,
   "metadata": {},
   "outputs": [
    {
     "name": "stdout",
     "output_type": "stream",
     "text": [
      "The number stored in num_value is : 50\n",
      "The number is an even number\n"
     ]
    }
   ],
   "source": [
    "num_value = 50\n",
    "print(\"The number stored in num_value is :\", num_value)\n",
    "\n",
    "if not num_value % 2 == 0:\n",
    "    print(\"The number is an odd number\")\n",
    "else:\n",
    "    print(\"The number is an even number\")"
   ]
  },
  {
   "cell_type": "code",
   "execution_count": 12,
   "metadata": {},
   "outputs": [
    {
     "name": "stdout",
     "output_type": "stream",
     "text": [
      "Enter some comma separated numbers : 12,23,45,56\n",
      "List :  ['12', '23', '45', '56']\n",
      "Tuple :  ('12', '23', '45', '56')\n"
     ]
    }
   ],
   "source": [
    "values = input(\"Enter some comma separated numbers : \")\n",
    "\n",
    "list_value = values.split(\",\")\n",
    "tuple_value = tuple(list_value)\n",
    "\n",
    "print(\"List : \", list_value)\n",
    "print(\"Tuple : \", tuple_value)"
   ]
  },
  {
   "cell_type": "code",
   "execution_count": 13,
   "metadata": {},
   "outputs": [
    {
     "name": "stdout",
     "output_type": "stream",
     "text": [
      "Enter some comma separated words : Kiwi,Apple,Banana\n",
      "['Apple', 'Banana', 'Kiwi']\n"
     ]
    }
   ],
   "source": [
    "list_words = input(\"Enter some comma separated words : \")\n",
    "\n",
    "words = list_words.split(\",\")\n",
    "\n",
    "new_list_words = sorted(words)\n",
    "\n",
    "print (new_list_words)"
   ]
  },
  {
   "cell_type": "markdown",
   "metadata": {},
   "source": [
    "what lies behind us and what lies before us are tiny matters compared to what lies within us"
   ]
  },
  {
   "cell_type": "code",
   "execution_count": 2,
   "metadata": {},
   "outputs": [
    {
     "name": "stdout",
     "output_type": "stream",
     "text": [
      "Enter some whitespace-separated words : what lies behind us and what lies before us are tiny matters compared to what lies within us\n",
      "and are before behind compared lies matters tiny to us what within\n"
     ]
    }
   ],
   "source": [
    "sentence = input(\"Enter some whitespace-separated words : \")\n",
    "\n",
    "words = sentence.split(\" \")\n",
    "\n",
    "set_of_words = set(words)\n",
    "\n",
    "sorted_set_of_words = sorted(set_of_words)\n",
    "\n",
    "print(\" \".join(sorted_set_of_words))"
   ]
  },
  {
   "cell_type": "code",
   "execution_count": 15,
   "metadata": {},
   "outputs": [
    {
     "name": "stdout",
     "output_type": "stream",
     "text": [
      "{1: 1, 2: 4, 3: 9}\n"
     ]
    }
   ],
   "source": [
    "num_dict = dict()\n",
    "\n",
    "num_dict[1] = 1\n",
    "num_dict[2] = 2 ** 2\n",
    "num_dict[3] = 3 ** 2\n",
    "\n",
    "print (num_dict)"
   ]
  },
  {
   "cell_type": "code",
   "execution_count": 3,
   "metadata": {},
   "outputs": [
    {
     "name": "stdout",
     "output_type": "stream",
     "text": [
      "Enter first string: hello\n",
      "Enter second string: python\n",
      "\n",
      "Common letters:  ['h', 'o']\n"
     ]
    }
   ],
   "source": [
    "string_1 = input(\"Enter first string: \")\n",
    "\n",
    "string_2 = input(\"Enter second string: \")\n",
    "\n",
    "set_1 = set(string_1)\n",
    "set_2 = set(string_2)\n",
    "\n",
    "common_char = set_1.intersection(set_2)\n",
    "\n",
    "print(\"\\nCommon letters: \", list(common_char))"
   ]
  },
  {
   "cell_type": "code",
   "execution_count": 7,
   "metadata": {},
   "outputs": [
    {
     "name": "stdout",
     "output_type": "stream",
     "text": [
      "Numbers before slicing: [10, 11, 12, 13, 14, 15, 16, 17, 18, 19, 20, 21]\n",
      "Length of numbers before slicing:  12\n",
      "\n",
      "First half: [10, 11, 12, 13, 14, 15]\n",
      "Second half: [16, 17, 18, 19, 20, 21]\n"
     ]
    }
   ],
   "source": [
    "list_num = [10, 11, 12, 13, 14, 15, 16, 17, 18, 19, 20, 21]\n",
    "\n",
    "len_of_list = len(list_num)\n",
    "\n",
    "print(\"Numbers before slicing: %s\" %list_num)\n",
    "print(\"Length of numbers before slicing: \", len_of_list)\n",
    "\n",
    "half = int(len_of_list / 2)\n",
    "\n",
    "list_num1 = list_num[:half]\n",
    "list_num2 = list_num[half:]\n",
    "\n",
    "print(\"\\nFirst half: %s\" %list_num1)\n",
    "print(\"Second half: %s\" %list_num2)"
   ]
  },
  {
   "cell_type": "code",
   "execution_count": 19,
   "metadata": {},
   "outputs": [
    {
     "name": "stdout",
     "output_type": "stream",
     "text": [
      "Enter a number: -12\n",
      "Negative number\n"
     ]
    }
   ],
   "source": [
    "num = float(input(\"Enter a number: \"))\n",
    "\n",
    "if num >= 0:\n",
    "    \n",
    "    if num == 0:\n",
    "        print(\"Zero\")\n",
    "        \n",
    "    else:\n",
    "        print(\"Positive number\")\n",
    "        \n",
    "else:\n",
    "    \n",
    "    print(\"Negative number\")"
   ]
  },
  {
   "cell_type": "markdown",
   "metadata": {},
   "source": [
    "run this cell twice first with var = 3\n",
    "\n",
    "the var = 1+2j"
   ]
  },
  {
   "cell_type": "code",
   "execution_count": 12,
   "metadata": {},
   "outputs": [
    {
     "name": "stdout",
     "output_type": "stream",
     "text": [
      "Type of the variable is Integer\n"
     ]
    }
   ],
   "source": [
    "var = 3\n",
    "\n",
    "if (type(var) == int):\n",
    "    print(\"Type of the variable is Integer\")\n",
    "    \n",
    "elif (type(var) == float):\n",
    "    print(\"Type of the variable is Float\")\n",
    "    \n",
    "elif (type(var) == complex):\n",
    "    print(\"Type of the variable is Complex\")\n",
    "\n",
    "else:\n",
    "    print(\"Type of the variable is Unknown\")"
   ]
  },
  {
   "cell_type": "code",
   "execution_count": 22,
   "metadata": {},
   "outputs": [
    {
     "name": "stdout",
     "output_type": "stream",
     "text": [
      "Enter a number: 59\n",
      "59 is Odd\n"
     ]
    }
   ],
   "source": [
    "num = int(input(\"Enter a number: \"))\n",
    "\n",
    "if (num % 2) == 0:\n",
    "    \n",
    "    print(\"%d is Even\" % num)\n",
    "    \n",
    "else:\n",
    "    \n",
    "    print(\"%d is Odd\" % num)"
   ]
  },
  {
   "cell_type": "code",
   "execution_count": 24,
   "metadata": {},
   "outputs": [
    {
     "name": "stdout",
     "output_type": "stream",
     "text": [
      "Enter the first number: 12\n",
      "Operator: /\n",
      "Enter the second number: 4\n",
      "Division:  3.0\n"
     ]
    }
   ],
   "source": [
    "num1 = float(input(\"Enter the first number: \"))\n",
    "\n",
    "operator = input(\"Operator: \")\n",
    "\n",
    "num2 = float(input(\"Enter the second number: \"))\n",
    "\n",
    "if operator == \"+\":\n",
    "    print(\"Addition: \", num1 + num2)\n",
    "\n",
    "elif operator == \"-\":\n",
    "    print(\"Subtraction: \", num1 - num2)\n",
    "\n",
    "elif operator == \"*\":\n",
    "    print(\"Multiplication: \", num1 * num2)\n",
    "\n",
    "elif operator == \"/\":\n",
    "    print(\"Division: \", num1 / num2)\n",
    "    \n",
    "else:\n",
    "    print(\"This is not a valid operator\")"
   ]
  },
  {
   "cell_type": "code",
   "execution_count": 26,
   "metadata": {},
   "outputs": [
    {
     "name": "stdout",
     "output_type": "stream",
     "text": [
      "Enter a number: 35\n",
      "This number is divisible by both 5 and 7\n"
     ]
    }
   ],
   "source": [
    "num_1 = int(input(\"Enter a number: \"))\n",
    "\n",
    "if num_1 % 5 == 0 and num_1 % 7 == 0:\n",
    "    print(\"This number is divisible by both 5 and 7\")\n",
    "    \n",
    "elif num_1 % 5 == 0:\n",
    "    print(\"This number is divisible by 5\")\n",
    "    \n",
    "elif num_1 % 7 == 0:\n",
    "    print(\"This number is divisible by 7\")\n",
    "    \n",
    "else:\n",
    "    print(\"This number is neither divisible by 5 nor 7\")"
   ]
  },
  {
   "cell_type": "code",
   "execution_count": 28,
   "metadata": {},
   "outputs": [
    {
     "name": "stdout",
     "output_type": "stream",
     "text": [
      "Enter a number: 13000\n",
      "This bike is very expensive\n"
     ]
    }
   ],
   "source": [
    "bike_price = int(input('Enter a number: '))\n",
    "\n",
    "if bike_price < 4000:\n",
    "    \n",
    "    print(\"It's a cheap bike\")\n",
    "    \n",
    "elif bike_price >= 4000 and bike_price < 7000:\n",
    "    print(\"It's a moderately priced bike\")\n",
    "    \n",
    "elif bike_price >= 7000 and bike_price < 12000:\n",
    "    print(\"It's an expensive bike\")\n",
    "    \n",
    "else:\n",
    "    print(\"This bike is very expensive\")"
   ]
  },
  {
   "cell_type": "code",
   "execution_count": 29,
   "metadata": {},
   "outputs": [
    {
     "name": "stdout",
     "output_type": "stream",
     "text": [
      "Enter dog's age in human years: 3\n",
      "The dog's age in dog years is 25\n"
     ]
    }
   ],
   "source": [
    "human_age = int(input(\"Enter dog's age in human years: \"))\n",
    "\n",
    "if human_age < 0:\n",
    "    print(\"Age must be a positive number.\")\n",
    "    exit()\n",
    "    \n",
    "if human_age <= 2:\n",
    "    dog_age = human_age * 10.5\n",
    "    \n",
    "else:\n",
    "    dog_age = 21 + (human_age - 2)*4\n",
    "\n",
    "print(\"The dog's age in dog years is\", dog_age)"
   ]
  },
  {
   "cell_type": "code",
   "execution_count": 32,
   "metadata": {},
   "outputs": [
    {
     "name": "stdout",
     "output_type": "stream",
     "text": [
      "Enter a letter of the alphabet: y\n",
      "Y is ambiguous. It depends where it is used\n"
     ]
    }
   ],
   "source": [
    "letter = input(\"Enter a letter of the alphabet: \")\n",
    "letter = letter.lower()\n",
    "\n",
    "if letter in ('a', 'e', 'i', 'o', 'u'):\n",
    "    \n",
    "    print(\"%s is a vowel.\" % letter)\n",
    "    \n",
    "elif letter == 'y':\n",
    "    print(\"Y is ambiguous. It depends where it is used\")\n",
    "    \n",
    "else:\n",
    "    print(\"%s is a consonant.\" % letter) "
   ]
  },
  {
   "cell_type": "code",
   "execution_count": 34,
   "metadata": {},
   "outputs": [
    {
     "name": "stdout",
     "output_type": "stream",
     "text": [
      "Enter the name of the Month: April\n",
      "No. of days: 30 days\n"
     ]
    }
   ],
   "source": [
    "month_name = input(\"Enter the name of the Month: \")\n",
    "\n",
    "if month_name == \"February\":\n",
    "    print(\"No. of days: 28/29 days\")\n",
    "    \n",
    "elif month_name in (\"April\", \"June\", \"September\", \"November\"):\n",
    "    print(\"No. of days: 30 days\")\n",
    "    \n",
    "elif month_name in (\"January\", \"March\", \"May\", \"July\", \"August\", \"October\", \"December\"):\n",
    "    print(\"No. of days: 31 days\")\n",
    "    \n",
    "else:\n",
    "    print(\"Give a correct month name\") "
   ]
  },
  {
   "cell_type": "code",
   "execution_count": 35,
   "metadata": {},
   "outputs": [
    {
     "name": "stdout",
     "output_type": "stream",
     "text": [
      "Enter first number: 34\n",
      "Enter second number: 23\n",
      "Enter third number: 45\n",
      "\n",
      "The median is 34.0\n"
     ]
    }
   ],
   "source": [
    "num_1 = float(input(\"Enter first number: \"))\n",
    "num_2 = float(input(\"Enter second number: \"))\n",
    "num_3 = float(input(\"Enter third number: \"))\n",
    "\n",
    "if num_1 > num_2:\n",
    "    \n",
    "    if num_1 < num_3:\n",
    "        median = num_1\n",
    "        \n",
    "    elif num_2 > num_3:\n",
    "        median = num_2\n",
    "        \n",
    "    else:\n",
    "        median = num_3\n",
    "        \n",
    "else:\n",
    "    if num_1 > num_3:\n",
    "        median = num_1\n",
    "        \n",
    "    elif num_2 < num_3:\n",
    "        median = num_2\n",
    "        \n",
    "    else:\n",
    "        median = num_3\n",
    "\n",
    "print(\"\\nThe median is\", median)"
   ]
  },
  {
   "cell_type": "code",
   "execution_count": 38,
   "metadata": {},
   "outputs": [
    {
     "name": "stdout",
     "output_type": "stream",
     "text": [
      "a: 12\n",
      "b: 12\n",
      "c: 12\n",
      "Equilateral triangle\n"
     ]
    }
   ],
   "source": [
    "a = int(input(\"a: \"))\n",
    "b = int(input(\"b: \"))\n",
    "c = int(input(\"c: \"))\n",
    "\n",
    "if a == b == c:\n",
    "    print(\"Equilateral triangle\")\n",
    "    \n",
    "elif a == b or b == c or c == a:\n",
    "    print(\"Isosceles triangle\")\n",
    "    \n",
    "else:\n",
    "    print(\"\\nScalene triangle\")"
   ]
  },
  {
   "cell_type": "code",
   "execution_count": 40,
   "metadata": {},
   "outputs": [
    {
     "name": "stdout",
     "output_type": "stream",
     "text": [
      "Enter the string: madam\n",
      "The string is a palindrome\n"
     ]
    }
   ],
   "source": [
    "str_value = input(\"Enter the string: \")\n",
    "\n",
    "reversed_str = str_value[::-1]\n",
    "\n",
    "if(str_value == reversed_str):\n",
    "      print(\"The string is a palindrome\")\n",
    "        \n",
    "else:\n",
    "      print(\"The string is not a palindrome\")"
   ]
  },
  {
   "cell_type": "code",
   "execution_count": 42,
   "metadata": {},
   "outputs": [
    {
     "name": "stdout",
     "output_type": "stream",
     "text": [
      "How many days are there in a leap year? 366\n",
      "You entered: 366\n",
      "You have cleared the first level.\n",
      "\n",
      "Which month has an extra day in a leap year?february\n",
      "You have cleared the test.\n"
     ]
    }
   ],
   "source": [
    "ans = int(input(\"How many days are there in a leap year? \"))\n",
    "print(\"You entered:\", ans)\n",
    "    \n",
    "if ans == 366 :\n",
    "    print(\"You have cleared the first level.\")\n",
    "    \n",
    "    ans = input(\"\\nWhich month has an extra day in a leap year?\").lower()\n",
    "    if ans == \"february\" :\n",
    "        \n",
    "        print(\"You have cleared the test.\")\n",
    "        \n",
    "    else :\n",
    "        \n",
    "        print(\"You have failed the test.\")\n",
    "        \n",
    "else :\n",
    "    print(\"Your answer is wrong, please try again.\")"
   ]
  },
  {
   "cell_type": "code",
   "execution_count": 43,
   "metadata": {},
   "outputs": [
    {
     "name": "stdout",
     "output_type": "stream",
     "text": [
      "Enter a score: 75\n",
      "C grade\n"
     ]
    }
   ],
   "source": [
    "score = int(input(\"Enter a score: \"))\n",
    "\n",
    "if score >= 90:\n",
    "    print(\"A grade\")\n",
    "\n",
    "elif score >=80:\n",
    "    print(\"B grade\")\n",
    "\n",
    "elif score >=70:\n",
    "    print(\"C grade\")\n",
    "\n",
    "elif score >= 50:\n",
    "    print(\"D grade\")\n",
    "\n",
    "else:\n",
    "    print(\"Fail\")"
   ]
  },
  {
   "cell_type": "code",
   "execution_count": 1,
   "metadata": {},
   "outputs": [
    {
     "name": "stdout",
     "output_type": "stream",
     "text": [
      "Enter annual salary: 40000\n",
      "Enter years of service: 8\n",
      "Bonus is:  2000.0\n"
     ]
    }
   ],
   "source": [
    "salary = int(input(\"Enter annual salary: \"))\n",
    "\n",
    "years_service = int(input(\"Enter years of service: \"))\n",
    "\n",
    "if years_service >= 10: \n",
    "    print (\"Bonus is: \", .15 * salary)\n",
    "\n",
    "elif years_service >= 5 and years_service < 10:\n",
    "    print (\"Bonus is: \", .05 * salary)\n",
    "    \n",
    "else:\n",
    "    print (\"No bonus\")"
   ]
  },
  {
   "cell_type": "code",
   "execution_count": null,
   "metadata": {},
   "outputs": [],
   "source": []
  }
 ],
 "metadata": {
  "kernelspec": {
   "display_name": "Python 3",
   "language": "python",
   "name": "python3"
  },
  "language_info": {
   "codemirror_mode": {
    "name": "ipython",
    "version": 3
   },
   "file_extension": ".py",
   "mimetype": "text/x-python",
   "name": "python",
   "nbconvert_exporter": "python",
   "pygments_lexer": "ipython3",
   "version": "3.7.3"
  }
 },
 "nbformat": 4,
 "nbformat_minor": 2
}
