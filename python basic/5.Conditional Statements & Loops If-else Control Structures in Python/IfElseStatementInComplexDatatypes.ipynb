{
 "cells": [
  {
   "cell_type": "code",
   "execution_count": 1,
   "metadata": {},
   "outputs": [],
   "source": [
    "fruit_list = [\"apple\", \"orange\", \"grape\", \"banana\", \"avocado\"]"
   ]
  },
  {
   "cell_type": "code",
   "execution_count": 2,
   "metadata": {},
   "outputs": [
    {
     "name": "stdout",
     "output_type": "stream",
     "text": [
      "Yes, grape is in the fruit list\n"
     ]
    }
   ],
   "source": [
    "if \"grape\" in fruit_list:\n",
    "    print(\"Yes, grape is in the fruit list\")\n",
    "    \n",
    "else:\n",
    "    print(\"No, grape is not in the fruit list\")"
   ]
  },
  {
   "cell_type": "code",
   "execution_count": 3,
   "metadata": {},
   "outputs": [
    {
     "name": "stdout",
     "output_type": "stream",
     "text": [
      "orange is in the fruit list\n"
     ]
    }
   ],
   "source": [
    "if \"strawberry\" in fruit_list:\n",
    "    print(\"strawberry is in the fruit list\")\n",
    "    \n",
    "elif \"orange\" in fruit_list:\n",
    "    print(\"orange is in the fruit list\")\n",
    "    \n",
    "else:\n",
    "    print(\"Both strawberry and orange are not in the fruit list\")"
   ]
  },
  {
   "cell_type": "code",
   "execution_count": 4,
   "metadata": {},
   "outputs": [
    {
     "name": "stdout",
     "output_type": "stream",
     "text": [
      "True\n"
     ]
    }
   ],
   "source": [
    "if fruit_list[1] == \"orange\":\n",
    "    print(\"True\")\n",
    "    \n",
    "else:\n",
    "    print(\"False\")"
   ]
  },
  {
   "cell_type": "code",
   "execution_count": 5,
   "metadata": {},
   "outputs": [
    {
     "name": "stdout",
     "output_type": "stream",
     "text": [
      "Yes, avocado is at the fourth index\n",
      "Replacing avocado with strawberry at the fourth index\n",
      "['apple', 'orange', 'grape', 'banana', 'strawberry']\n"
     ]
    }
   ],
   "source": [
    "if fruit_list[4] == \"avocado\":\n",
    "    \n",
    "    print(\"Yes, avocado is at the fourth index\")\n",
    "    print(\"Replacing avocado with strawberry at the fourth index\")\n",
    "    \n",
    "    fruit_list[4] = \"strawberry\"\n",
    "    print(fruit_list)\n",
    "    \n",
    "else:\n",
    "    print(\"avocado is not at the fourth index\")"
   ]
  },
  {
   "cell_type": "code",
   "execution_count": 6,
   "metadata": {},
   "outputs": [],
   "source": [
    "car_tuple = ('Toyota Camry', 'Honda Accord', 'Honda Civic', 'Toyota Corolla')"
   ]
  },
  {
   "cell_type": "code",
   "execution_count": 7,
   "metadata": {},
   "outputs": [
    {
     "name": "stdout",
     "output_type": "stream",
     "text": [
      "Honda Accord is present in our car tuple\n"
     ]
    }
   ],
   "source": [
    "if \"Honda Accord\" in car_tuple:\n",
    "    print(\"Honda Accord is present in our car tuple\")\n",
    "    \n",
    "else:\n",
    "    print(\"Honda Accord is not present in our car tuple\")"
   ]
  },
  {
   "cell_type": "code",
   "execution_count": 8,
   "metadata": {},
   "outputs": [
    {
     "name": "stdout",
     "output_type": "stream",
     "text": [
      "Ducati Monster is not a car\n"
     ]
    }
   ],
   "source": [
    "if \"Ducati Monster\" in car_tuple:\n",
    "    print(\"Ducati Monster is a car\")\n",
    "    \n",
    "else:\n",
    "    print(\"Ducati Monster is not a car\")"
   ]
  },
  {
   "cell_type": "code",
   "execution_count": 9,
   "metadata": {},
   "outputs": [
    {
     "name": "stdout",
     "output_type": "stream",
     "text": [
      "At least one of Ducati Monster and Honda Accord is not a car\n"
     ]
    }
   ],
   "source": [
    "if \"Ducati Monster\" in car_tuple and 'Honda Accord' in car_tuple:\n",
    "    \n",
    "    print(\"Ducati Monster and Honda Accord are both cars\")\n",
    "    \n",
    "else:\n",
    "    print(\"At least one of Ducati Monster and Honda Accord is not a car\")"
   ]
  },
  {
   "cell_type": "code",
   "execution_count": 10,
   "metadata": {},
   "outputs": [
    {
     "name": "stdout",
     "output_type": "stream",
     "text": [
      "At least one of Ducati Monster and Honda Accord is a car\n"
     ]
    }
   ],
   "source": [
    "if \"Ducati Monster\" in car_tuple or 'Honda Accord' in car_tuple:\n",
    "    print(\"At least one of Ducati Monster and Honda Accord is a car\")\n",
    "    \n",
    "else:\n",
    "    print(\"Neither Ducati Monster nor Honda Accord is a car\")"
   ]
  },
  {
   "cell_type": "code",
   "execution_count": 2,
   "metadata": {},
   "outputs": [],
   "source": [
    "salary_details = {\"Lisa\":25000,\n",
    "                  \"Jason\":45000,\n",
    "                  \"Cooper\":35000,\n",
    "                  \"Elias\":23000,\n",
    "                  \"Jordan\":77000}"
   ]
  },
  {
   "cell_type": "code",
   "execution_count": 3,
   "metadata": {},
   "outputs": [
    {
     "data": {
      "text/plain": [
       "{'Lisa': 25000,\n",
       " 'Jason': 45000,\n",
       " 'Cooper': 35000,\n",
       " 'Elias': 23000,\n",
       " 'Jordan': 77000}"
      ]
     },
     "execution_count": 3,
     "metadata": {},
     "output_type": "execute_result"
    }
   ],
   "source": [
    "salary_details"
   ]
  },
  {
   "cell_type": "code",
   "execution_count": 4,
   "metadata": {},
   "outputs": [
    {
     "name": "stdout",
     "output_type": "stream",
     "text": [
      "We have the salary details for Lisa\n"
     ]
    }
   ],
   "source": [
    "if \"Lisa\" in salary_details:\n",
    "    print(\"We have the salary details for Lisa\")\n",
    "    \n",
    "else:\n",
    "    print(\"We don't have the salary details for Lisa\") "
   ]
  },
  {
   "cell_type": "code",
   "execution_count": 14,
   "metadata": {},
   "outputs": [
    {
     "name": "stdout",
     "output_type": "stream",
     "text": [
      "We don't have the salary details for Ruby \n"
     ]
    }
   ],
   "source": [
    "if \"Ruby\" in salary_details:\n",
    "    print(\"We have the salary details for Ruby \")\n",
    "    \n",
    "else:\n",
    "    print(\"We don't have the salary details for Ruby \") "
   ]
  },
  {
   "cell_type": "code",
   "execution_count": 15,
   "metadata": {},
   "outputs": [
    {
     "name": "stdout",
     "output_type": "stream",
     "text": [
      "Cora's annual income is 31000\n"
     ]
    }
   ],
   "source": [
    "if \"Cora\" in salary_details:\n",
    "    print(\"We have salary details for Cora\")\n",
    "    \n",
    "else :\n",
    "    salary_details[\"Cora\"] = 31000\n",
    "    print(\"Cora's annual income is %s\"%salary_details[\"Cora\"])"
   ]
  },
  {
   "cell_type": "code",
   "execution_count": 16,
   "metadata": {},
   "outputs": [
    {
     "data": {
      "text/plain": [
       "{'Lisa': 25000,\n",
       " 'Jason': 45000,\n",
       " 'Cooper': 35000,\n",
       " 'Elias': 23000,\n",
       " 'Jordan': 77000,\n",
       " 'Cora': 31000}"
      ]
     },
     "execution_count": 16,
     "metadata": {},
     "output_type": "execute_result"
    }
   ],
   "source": [
    "salary_details"
   ]
  },
  {
   "cell_type": "code",
   "execution_count": 17,
   "metadata": {},
   "outputs": [],
   "source": [
    "age_details = {\"Lisa\": 25, \"Jason\": 30, \"Cooper\": 29, \"Sarah\": 22}"
   ]
  },
  {
   "cell_type": "code",
   "execution_count": 18,
   "metadata": {},
   "outputs": [
    {
     "name": "stdout",
     "output_type": "stream",
     "text": [
      "Jason is older than Lisa\n",
      "Jason is older than Cooper\n",
      "Jason is the oldest person in the given dictionary\n"
     ]
    }
   ],
   "source": [
    "if age_details[\"Lisa\"] < age_details[\"Jason\"]:\n",
    "    \n",
    "    print(\"Jason is older than Lisa\")\n",
    "    \n",
    "    if age_details[\"Jason\"] > age_details[\"Cooper\"]:\n",
    "        \n",
    "        print(\"Jason is older than Cooper\")\n",
    "        \n",
    "        if age_details[\"Cooper\"] < age_details[\"Sarah\"]:\n",
    "\n",
    "             print(\"Cooper is younger than Sarah\")\n",
    "                \n",
    "        elif age_details[\"Cooper\"] > age_details[\"Sarah\"]:\n",
    "\n",
    "             print(\"Jason is the oldest person in the given dictionary\")\n",
    "            \n",
    "else:\n",
    "    print(\"Jason is not the oldest person in the given dictionary\")"
   ]
  },
  {
   "cell_type": "code",
   "execution_count": 19,
   "metadata": {},
   "outputs": [],
   "source": [
    "details = [['Jane', 'Amanda', 'Emma'], \n",
    "           [35, 40, 50], \n",
    "           [20000, 50000, 40000]]"
   ]
  },
  {
   "cell_type": "code",
   "execution_count": 20,
   "metadata": {},
   "outputs": [
    {
     "name": "stdout",
     "output_type": "stream",
     "text": [
      "Amanda has the highest salary and her age is greater than 30\n"
     ]
    }
   ],
   "source": [
    "max_sal = max(details[2])\n",
    "\n",
    "if (details[2][1] == max_sal):\n",
    "        \n",
    "        if(details[1][1] > 30):\n",
    "            print(details[0][1], \"has the highest salary and her age is greater than 30\")\n",
    "            \n",
    "        elif(details[1][1] == 30):\n",
    "            print(details[0][1],\"has the highest salary and she is 30 years old\")\n",
    "           \n",
    "        else:\n",
    "            print(\"Amanda has the highest salary and her age is less than 30\")\n",
    "else:\n",
    "    print(\"Amanda is not the highest paid employee\")\n",
    "            "
   ]
  },
  {
   "cell_type": "code",
   "execution_count": null,
   "metadata": {},
   "outputs": [],
   "source": []
  },
  {
   "cell_type": "code",
   "execution_count": null,
   "metadata": {},
   "outputs": [],
   "source": []
  },
  {
   "cell_type": "code",
   "execution_count": null,
   "metadata": {},
   "outputs": [],
   "source": []
  },
  {
   "cell_type": "code",
   "execution_count": null,
   "metadata": {},
   "outputs": [],
   "source": []
  },
  {
   "cell_type": "code",
   "execution_count": null,
   "metadata": {},
   "outputs": [],
   "source": []
  },
  {
   "cell_type": "code",
   "execution_count": null,
   "metadata": {},
   "outputs": [],
   "source": []
  },
  {
   "cell_type": "code",
   "execution_count": null,
   "metadata": {},
   "outputs": [],
   "source": []
  }
 ],
 "metadata": {
  "kernelspec": {
   "display_name": "Python 3",
   "language": "python",
   "name": "python3"
  },
  "language_info": {
   "codemirror_mode": {
    "name": "ipython",
    "version": 3
   },
   "file_extension": ".py",
   "mimetype": "text/x-python",
   "name": "python",
   "nbconvert_exporter": "python",
   "pygments_lexer": "ipython3",
   "version": "3.7.3"
  }
 },
 "nbformat": 4,
 "nbformat_minor": 2
}
