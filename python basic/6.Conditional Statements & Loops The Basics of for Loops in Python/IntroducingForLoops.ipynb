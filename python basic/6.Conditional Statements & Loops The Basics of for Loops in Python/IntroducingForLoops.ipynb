{
 "cells": [
  {
   "cell_type": "markdown",
   "metadata": {},
   "source": [
    "### IntroducingForLoops"
   ]
  },
  {
   "cell_type": "markdown",
   "metadata": {},
   "source": [
    "##### Syntax of the For Loop\n",
    "\n",
    "* for variable in sequence:<br>\n",
    "\tstatements\n",
    "    \n",
    "    \n",
    " A for loop is used for iterating over a sequence (that is either a list, a tuple, a dictionary, a set, or a string)."
   ]
  },
  {
   "cell_type": "code",
   "execution_count": 2,
   "metadata": {},
   "outputs": [
    {
     "name": "stdout",
     "output_type": "stream",
     "text": [
      "H\n",
      "e\n",
      "l\n",
      "l\n",
      "o\n"
     ]
    }
   ],
   "source": [
    "for letter in ['H', 'e', 'l', 'l', 'o']:\n",
    "    print(letter)"
   ]
  },
  {
   "cell_type": "markdown",
   "metadata": {},
   "source": [
    "strings are iterable objects, they contain a sequence of characters"
   ]
  },
  {
   "cell_type": "code",
   "execution_count": 3,
   "metadata": {},
   "outputs": [
    {
     "name": "stdout",
     "output_type": "stream",
     "text": [
      "H\n",
      "e\n",
      "l\n",
      "l\n",
      "o\n"
     ]
    }
   ],
   "source": [
    "for letter in \"Hello\":\n",
    "    print(letter) "
   ]
  },
  {
   "cell_type": "code",
   "execution_count": 5,
   "metadata": {},
   "outputs": [
    {
     "name": "stdout",
     "output_type": "stream",
     "text": [
      "H\n",
      "e\n",
      "l\n",
      "l\n",
      "o\n",
      " \n",
      "W\n",
      "o\n",
      "r\n",
      "l\n",
      "d\n"
     ]
    }
   ],
   "source": [
    "my_string = \"Hello World\"\n",
    "\n",
    "for char in my_string:\n",
    "    print (char)"
   ]
  },
  {
   "cell_type": "code",
   "execution_count": 6,
   "metadata": {},
   "outputs": [
    {
     "name": "stdout",
     "output_type": "stream",
     "text": [
      "1\n",
      "0\n"
     ]
    }
   ],
   "source": [
    "for digit in \"10\":\n",
    "    print (digit)"
   ]
  },
  {
   "cell_type": "markdown",
   "metadata": {},
   "source": [
    "Integer is not a iterable"
   ]
  },
  {
   "cell_type": "code",
   "execution_count": 7,
   "metadata": {},
   "outputs": [
    {
     "ename": "TypeError",
     "evalue": "'int' object is not iterable",
     "output_type": "error",
     "traceback": [
      "\u001b[0;31m---------------------------------------------------------------------------\u001b[0m",
      "\u001b[0;31mTypeError\u001b[0m                                 Traceback (most recent call last)",
      "\u001b[0;32m<ipython-input-7-26040624bba9>\u001b[0m in \u001b[0;36m<module>\u001b[0;34m()\u001b[0m\n\u001b[0;32m----> 1\u001b[0;31m \u001b[0;32mfor\u001b[0m \u001b[0mdigit\u001b[0m \u001b[0;32min\u001b[0m \u001b[0;36m10\u001b[0m\u001b[0;34m:\u001b[0m\u001b[0;34m\u001b[0m\u001b[0;34m\u001b[0m\u001b[0m\n\u001b[0m\u001b[1;32m      2\u001b[0m     \u001b[0mprint\u001b[0m \u001b[0;34m(\u001b[0m\u001b[0mdigit\u001b[0m\u001b[0;34m)\u001b[0m\u001b[0;34m\u001b[0m\u001b[0;34m\u001b[0m\u001b[0m\n",
      "\u001b[0;31mTypeError\u001b[0m: 'int' object is not iterable"
     ]
    }
   ],
   "source": [
    "for digit in 10:\n",
    "    print (digit)"
   ]
  },
  {
   "cell_type": "markdown",
   "metadata": {},
   "source": [
    "Print each country "
   ]
  },
  {
   "cell_type": "code",
   "execution_count": 11,
   "metadata": {
    "scrolled": true
   },
   "outputs": [
    {
     "name": "stdout",
     "output_type": "stream",
     "text": [
      "Germany\n",
      "India\n",
      "Israel\n"
     ]
    }
   ],
   "source": [
    "for country in \"Germany\", \"India\", \"Israel\":\n",
    "    print(country)"
   ]
  },
  {
   "cell_type": "markdown",
   "metadata": {},
   "source": [
    "Iterating over Tuple"
   ]
  },
  {
   "cell_type": "code",
   "execution_count": 12,
   "metadata": {
    "collapsed": true
   },
   "outputs": [],
   "source": [
    "dogs = (\"Pug\", \"Doberman\", \"Golden Retriever\")"
   ]
  },
  {
   "cell_type": "code",
   "execution_count": 13,
   "metadata": {},
   "outputs": [
    {
     "name": "stdout",
     "output_type": "stream",
     "text": [
      "It's a Pug\n",
      "It's a Doberman\n",
      "It's a Golden Retriever\n"
     ]
    }
   ],
   "source": [
    "for dog in dogs:\n",
    "    print(\"It's a\", dog)"
   ]
  },
  {
   "cell_type": "markdown",
   "metadata": {},
   "source": [
    "built-in function `enumerate()`adds a counter to an iterable and returns it in a form of enumerate object\n",
    "\n",
    "A lot of times when dealing with iterators, we also get a need to keep a count of iterations. Python eases the programmers’ task by providing a built-in function enumerate() for this task.\n",
    "Enumerate() method adds a counter to an iterable and returns it in a form of enumerate object. "
   ]
  },
  {
   "cell_type": "code",
   "execution_count": 14,
   "metadata": {},
   "outputs": [
    {
     "name": "stdout",
     "output_type": "stream",
     "text": [
      "The dog at index 0 is a Pug and it weighs 20 pounds\n",
      "The dog at index 1 is a Doberman and it weighs 80 pounds\n",
      "The dog at index 2 is a Golden Retriever and it weighs 55 pounds\n"
     ]
    }
   ],
   "source": [
    "dog_weight = ((\"Pug\", 20),\n",
    "              (\"Doberman\", 80),\n",
    "              (\"Golden Retriever\", 55))\n",
    "\n",
    "\n",
    "for i, (dog, weight) in enumerate(dog_weight):\n",
    "    print(\"The dog at index %d is a %s and it weighs %s pounds\" % (i, dog, weight))"
   ]
  },
  {
   "cell_type": "markdown",
   "metadata": {},
   "source": [
    "Iterating over List"
   ]
  },
  {
   "cell_type": "code",
   "execution_count": 16,
   "metadata": {},
   "outputs": [
    {
     "name": "stdout",
     "output_type": "stream",
     "text": [
      "Happy New Year, John\n",
      "Happy New Year, Sam\n",
      "Happy New Year, Jill\n"
     ]
    }
   ],
   "source": [
    "friends = [\"John\", \"Sam\", \"Jill\"]\n",
    "\n",
    "for friend in friends:\n",
    "    print(\"Happy New Year,\", friend)"
   ]
  },
  {
   "cell_type": "markdown",
   "metadata": {},
   "source": [
    "The purpose of zip() is to map the similar index of multiple containers so that they can be used just using as single entity."
   ]
  },
  {
   "cell_type": "code",
   "execution_count": 19,
   "metadata": {},
   "outputs": [
    {
     "data": {
      "text/plain": [
       "{'Bob': 96, 'Jill': 50, 'John': 80, 'Sam': 60}"
      ]
     },
     "execution_count": 19,
     "metadata": {},
     "output_type": "execute_result"
    }
   ],
   "source": [
    "student_scores = {'John': 80, \n",
    "                  'Sam': 60, \n",
    "                  'Jill': 50, \n",
    "                  'Bob': 96}  \n",
    "\n",
    "student_scores"
   ]
  },
  {
   "cell_type": "markdown",
   "metadata": {},
   "source": [
    "Iterating over dictionary"
   ]
  },
  {
   "cell_type": "markdown",
   "metadata": {},
   "source": [
    "Iterating over keys"
   ]
  },
  {
   "cell_type": "code",
   "execution_count": 20,
   "metadata": {},
   "outputs": [
    {
     "name": "stdout",
     "output_type": "stream",
     "text": [
      "John\n",
      "Sam\n",
      "Jill\n",
      "Bob\n"
     ]
    }
   ],
   "source": [
    "for student in student_scores:\n",
    "    print(student)"
   ]
  },
  {
   "cell_type": "markdown",
   "metadata": {},
   "source": [
    "Using `.keys` function we can get all keys in dictionary"
   ]
  },
  {
   "cell_type": "code",
   "execution_count": 21,
   "metadata": {},
   "outputs": [
    {
     "data": {
      "text/plain": [
       "dict_keys(['John', 'Sam', 'Jill', 'Bob'])"
      ]
     },
     "execution_count": 21,
     "metadata": {},
     "output_type": "execute_result"
    }
   ],
   "source": [
    "student_scores.keys()"
   ]
  },
  {
   "cell_type": "code",
   "execution_count": 22,
   "metadata": {},
   "outputs": [
    {
     "name": "stdout",
     "output_type": "stream",
     "text": [
      "John\n",
      "Sam\n",
      "Jill\n",
      "Bob\n"
     ]
    }
   ],
   "source": [
    "for student in student_scores.keys():\n",
    "    print(student)"
   ]
  },
  {
   "cell_type": "markdown",
   "metadata": {},
   "source": [
    "Using `.value` function we can get all values in dictionary"
   ]
  },
  {
   "cell_type": "code",
   "execution_count": 24,
   "metadata": {},
   "outputs": [
    {
     "name": "stdout",
     "output_type": "stream",
     "text": [
      "80\n",
      "60\n",
      "50\n",
      "96\n"
     ]
    }
   ],
   "source": [
    "for score in student_scores.values():\n",
    "    print(score)"
   ]
  },
  {
   "cell_type": "markdown",
   "metadata": {},
   "source": [
    "Using `[]` we can get all keys and values in a dictionary<br>\n",
    "Print each key value pair in dictionary"
   ]
  },
  {
   "cell_type": "code",
   "execution_count": 25,
   "metadata": {},
   "outputs": [
    {
     "name": "stdout",
     "output_type": "stream",
     "text": [
      "Key value pair - John : 80\n",
      "Key value pair - Sam : 60\n",
      "Key value pair - Jill : 50\n",
      "Key value pair - Bob : 96\n"
     ]
    }
   ],
   "source": [
    "for key in student_scores:\n",
    "    print(\"Key value pair -\", key, \":\", student_scores[key])"
   ]
  },
  {
   "cell_type": "markdown",
   "metadata": {},
   "source": [
    "Using `.items` function we can get keys and value list of tuple"
   ]
  },
  {
   "cell_type": "code",
   "execution_count": 26,
   "metadata": {},
   "outputs": [
    {
     "name": "stdout",
     "output_type": "stream",
     "text": [
      "('John', 80)\n",
      "('Sam', 60)\n",
      "('Jill', 50)\n",
      "('Bob', 96)\n"
     ]
    }
   ],
   "source": [
    "for key_value in student_scores.items():\n",
    "    print (key_value)"
   ]
  },
  {
   "cell_type": "markdown",
   "metadata": {},
   "source": [
    "Giving two variables (first variable will hold fist field in the Dictionary\n",
    "and second variable will hold second field in the Dictionary)"
   ]
  },
  {
   "cell_type": "code",
   "execution_count": 27,
   "metadata": {},
   "outputs": [
    {
     "name": "stdout",
     "output_type": "stream",
     "text": [
      "Student: John \tScore: 80\n",
      "Student: Sam \tScore: 60\n",
      "Student: Jill \tScore: 50\n",
      "Student: Bob \tScore: 96\n"
     ]
    }
   ],
   "source": [
    "for student, score in student_scores.items():\n",
    "    print (\"Student:\", student, \"\\tScore:\", score)"
   ]
  },
  {
   "cell_type": "markdown",
   "metadata": {},
   "source": [
    "Let's see another example for iterating over dictionary."
   ]
  },
  {
   "cell_type": "markdown",
   "metadata": {},
   "source": [
    "program to perform a division using for loops:"
   ]
  },
  {
   "cell_type": "code",
   "execution_count": 23,
   "metadata": {},
   "outputs": [
    {
     "name": "stdout",
     "output_type": "stream",
     "text": [
      "2 is the quotient of 4 / 2\n",
      "3 is the quotient of 6 / 2\n",
      "4 is the quotient of 9 / 2\n",
      "5 is the quotient of 10 / 2\n"
     ]
    }
   ],
   "source": [
    "numbers = [4, 6, 9, 10]\n",
    "\n",
    "for num in numbers:\n",
    "    quotient = num // 2\n",
    "    \n",
    "    print(quotient, \"is the quotient of\", num, \"/ 2\" )"
   ]
  },
  {
   "cell_type": "markdown",
   "metadata": {},
   "source": [
    "program that prints each item and its corresponding type from the following list."
   ]
  },
  {
   "cell_type": "code",
   "execution_count": 24,
   "metadata": {},
   "outputs": [
    {
     "name": "stdout",
     "output_type": "stream",
     "text": [
      "Type of  145  is  <class 'int'>\n",
      "Type of  10.5  is  <class 'float'>\n",
      "Type of  (1+3j)  is  <class 'complex'>\n",
      "Type of  True  is  <class 'bool'>\n",
      "Type of  Python  is  <class 'str'>\n",
      "Type of  (0, 1)  is  <class 'tuple'>\n",
      "Type of  [2, -5]  is  <class 'list'>\n",
      "Type of  {'Class': 'V', 'Section': 'A'}  is  <class 'dict'>\n"
     ]
    }
   ],
   "source": [
    "mixed_list = [145, 10.5, 1+3j,\n",
    "              True, \"Python\",\n",
    "              (0, 1),[2, -5],\n",
    "              {\"Class\":\"V\", \"Section\":\"A\"}]\n",
    "\n",
    "for item in mixed_list:\n",
    "    print (\"Type of \", item, \" is \", type(item))"
   ]
  },
  {
   "cell_type": "markdown",
   "metadata": {},
   "source": [
    "Print squares of all numbers present in a list"
   ]
  },
  {
   "cell_type": "code",
   "execution_count": 25,
   "metadata": {
    "scrolled": true
   },
   "outputs": [
    {
     "name": "stdout",
     "output_type": "stream",
     "text": [
      "Square of 2 is 4\n",
      "Square of 4 is 16\n",
      "Square of 6 is 36\n",
      "Square of 8 is 64\n"
     ]
    }
   ],
   "source": [
    "num_list = [2, 4, 6, 8]         \n",
    "\n",
    "square = 0 \n",
    "\n",
    "for val in num_list:         \n",
    "    square = val ** 2  \n",
    "    \n",
    "    print (\"Square of\", val, \"is\", square)   "
   ]
  },
  {
   "cell_type": "markdown",
   "metadata": {},
   "source": [
    "program to find lenght of a function with out using len function."
   ]
  },
  {
   "cell_type": "code",
   "execution_count": 35,
   "metadata": {},
   "outputs": [
    {
     "name": "stdout",
     "output_type": "stream",
     "text": [
      "Enter a string: python\n",
      "6\n"
     ]
    }
   ],
   "source": [
    "string = input(\"Enter a string: \")\n",
    "\n",
    "count = 0\n",
    "\n",
    "for i in string:\n",
    "    count = count + 1\n",
    "    \n",
    "print(count)"
   ]
  },
  {
   "cell_type": "markdown",
   "metadata": {},
   "source": [
    "#### For Loop with else"
   ]
  },
  {
   "cell_type": "code",
   "execution_count": 4,
   "metadata": {},
   "outputs": [
    {
     "name": "stdout",
     "output_type": "stream",
     "text": [
      "2\n",
      "3\n",
      "5\n",
      "7\n",
      "No more items left in the list.\n"
     ]
    }
   ],
   "source": [
    "numbers = [2, 3, 5, 7]\n",
    "\n",
    "for num in numbers:\n",
    "    print(num)\n",
    "    \n",
    "else:    \n",
    "    print(\"No more items left in the list.\")"
   ]
  },
  {
   "cell_type": "code",
   "execution_count": 5,
   "metadata": {},
   "outputs": [
    {
     "name": "stdout",
     "output_type": "stream",
     "text": [
      "d\n",
      "c\n",
      "a\n",
      "b\n",
      "No more characters left \n"
     ]
    }
   ],
   "source": [
    "characters = {\"a\", \"b\", \"c\", \"d\"}\n",
    "\n",
    "for letter in characters:\n",
    "    print(letter)\n",
    "    \n",
    "else:\n",
    "    print(\"No more characters left \")"
   ]
  },
  {
   "cell_type": "markdown",
   "metadata": {},
   "source": [
    "Print the Bristol city is available or not in us_cities list"
   ]
  },
  {
   "cell_type": "markdown",
   "metadata": {},
   "source": [
    "Using append attribute to add cities near new york to the list us_cities."
   ]
  },
  {
   "cell_type": "code",
   "execution_count": 29,
   "metadata": {},
   "outputs": [
    {
     "name": "stdout",
     "output_type": "stream",
     "text": [
      "New York is present in the list\n"
     ]
    }
   ],
   "source": [
    "us_cities = [\"New York\", \"Nashville\", \"Seattle\"]\n",
    "\n",
    "for city in us_cities:\n",
    "    \n",
    "    if city == \"New York\":\n",
    "        \n",
    "        print(\"New York is present in the list\")"
   ]
  },
  {
   "cell_type": "markdown",
   "metadata": {},
   "source": [
    "Add an even number in the list to show that the nested if statement works"
   ]
  },
  {
   "cell_type": "code",
   "execution_count": 30,
   "metadata": {},
   "outputs": [
    {
     "name": "stdout",
     "output_type": "stream",
     "text": [
      "The list contains an even number: 2\n",
      "The list contains an even number: 22\n"
     ]
    }
   ],
   "source": [
    "numbers = [11, 33, 55, 39, 2, 55, 75, 37, 22, 23, 41, 13]\n",
    "\n",
    "for num in numbers:\n",
    "    \n",
    "    if num % 2 == 0:\n",
    "        \n",
    "        print(\"The list contains an even number:\", num) "
   ]
  },
  {
   "cell_type": "markdown",
   "metadata": {},
   "source": [
    "Finding out which year is leap year and which year is not leap in list"
   ]
  },
  {
   "cell_type": "code",
   "execution_count": 31,
   "metadata": {},
   "outputs": [
    {
     "name": "stdout",
     "output_type": "stream",
     "text": [
      "2016 is a leap year\n",
      "2017 is not a leap year\n",
      "2018 is not a leap year\n",
      "2019 is not a leap year\n",
      "2020 is a leap year\n"
     ]
    }
   ],
   "source": [
    "years = [2016, 2017, 2018, 2019, 2020]\n",
    "\n",
    "for year in years:\n",
    "    \n",
    "    if year % 4 == 0:\n",
    "        \n",
    "        print(year, \"is a leap year\")\n",
    "        \n",
    "    else:\n",
    "        print(year, \"is not a leap year\")"
   ]
  },
  {
   "cell_type": "markdown",
   "metadata": {},
   "source": [
    "#### Nested loops"
   ]
  },
  {
   "cell_type": "markdown",
   "metadata": {},
   "source": [
    "Loop over Lists of lists\n",
    "\n",
    "Nested for loops can be useful for iterating through items within lists composed of lists. "
   ]
  },
  {
   "cell_type": "code",
   "execution_count": 32,
   "metadata": {},
   "outputs": [
    {
     "name": "stdout",
     "output_type": "stream",
     "text": [
      "['Mary', 'Linda', 'Jessica']\n",
      "['James', 'Jacob', 'William']\n"
     ]
    }
   ],
   "source": [
    "names = [[\"Mary\", \"Linda\", \"Jessica\"],\n",
    "         [\"James\", \"Jacob\", \"William\"]]\n",
    "\n",
    "for sublist in names:\n",
    "    print(sublist)"
   ]
  },
  {
   "cell_type": "code",
   "execution_count": 33,
   "metadata": {},
   "outputs": [
    {
     "name": "stdout",
     "output_type": "stream",
     "text": [
      "Mary\n",
      "Linda\n",
      "Jessica\n",
      "James\n",
      "Jacob\n",
      "William\n"
     ]
    }
   ],
   "source": [
    "for sublist in names:\n",
    "    for name in sublist:\n",
    "        print(name)"
   ]
  },
  {
   "cell_type": "code",
   "execution_count": 34,
   "metadata": {
    "scrolled": true
   },
   "outputs": [
    {
     "name": "stdout",
     "output_type": "stream",
     "text": [
      "Red Pen\n",
      "Red Marker\n",
      "Red Pencil\n",
      "Green Pen\n",
      "Green Marker\n",
      "Green Pencil\n",
      "Blue Pen\n",
      "Blue Marker\n",
      "Blue Pencil\n"
     ]
    }
   ],
   "source": [
    "colors_list = [\"Red\", \"Green\", \"Blue\"]\n",
    "objects_list = [\"Pen\", \"Marker\", \"Pencil\"]\n",
    "\n",
    "for color in colors_list:\n",
    "    for obj in objects_list:\n",
    "        \n",
    "        print (color, obj)"
   ]
  },
  {
   "cell_type": "code",
   "execution_count": null,
   "metadata": {
    "collapsed": true
   },
   "outputs": [],
   "source": []
  },
  {
   "cell_type": "code",
   "execution_count": null,
   "metadata": {
    "collapsed": true
   },
   "outputs": [],
   "source": []
  }
 ],
 "metadata": {
  "kernelspec": {
   "display_name": "Python 3",
   "language": "python",
   "name": "python3"
  },
  "language_info": {
   "codemirror_mode": {
    "name": "ipython",
    "version": 3
   },
   "file_extension": ".py",
   "mimetype": "text/x-python",
   "name": "python",
   "nbconvert_exporter": "python",
   "pygments_lexer": "ipython3",
   "version": "3.6.8"
  }
 },
 "nbformat": 4,
 "nbformat_minor": 2
}
