{
 "cells": [
  {
   "cell_type": "code",
   "execution_count": 1,
   "metadata": {},
   "outputs": [
    {
     "data": {
      "text/plain": [
       "{'jan': 1, 'feb': 2, 'march': 3, 'april': 4}"
      ]
     },
     "execution_count": 1,
     "metadata": {},
     "output_type": "execute_result"
    }
   ],
   "source": [
    "months = {'jan': 1, 'feb': 2, 'march': 3, 'april':4}\n",
    "\n",
    "months"
   ]
  },
  {
   "cell_type": "code",
   "execution_count": 2,
   "metadata": {},
   "outputs": [
    {
     "name": "stdout",
     "output_type": "stream",
     "text": [
      "Original: {'jan': 1, 'feb': 2, 'march': 3, 'april': 4}\n",
      "Modified: {'jan': 1, 'feb': 2, 'march': 3, 'april': 4}\n"
     ]
    }
   ],
   "source": [
    "new_months = months.copy()\n",
    "\n",
    "print(\"Original:\", months)\n",
    "print(\"Modified:\", new_months)"
   ]
  },
  {
   "cell_type": "code",
   "execution_count": 3,
   "metadata": {},
   "outputs": [
    {
     "data": {
      "text/plain": [
       "2"
      ]
     },
     "execution_count": 3,
     "metadata": {},
     "output_type": "execute_result"
    }
   ],
   "source": [
    "new_months['feb']"
   ]
  },
  {
   "cell_type": "code",
   "execution_count": 4,
   "metadata": {},
   "outputs": [
    {
     "name": "stdout",
     "output_type": "stream",
     "text": [
      "Original: {'jan': 1, 'feb': 2, 'march': 3, 'april': 4}\n",
      "Modified: {'jan': 1, 'feb': 'FEB', 'march': 3, 'april': 4}\n"
     ]
    }
   ],
   "source": [
    "new_months['feb'] = 'FEB'\n",
    "\n",
    "print(\"Original:\", months)\n",
    "print(\"Modified:\", new_months)"
   ]
  },
  {
   "cell_type": "code",
   "execution_count": 5,
   "metadata": {},
   "outputs": [],
   "source": [
    "import copy"
   ]
  },
  {
   "cell_type": "code",
   "execution_count": 6,
   "metadata": {},
   "outputs": [
    {
     "data": {
      "text/plain": [
       "{'Alison': 2007, 'Bart': 2008, 'Cathy': 2009, 'Dan': 2010}"
      ]
     },
     "execution_count": 6,
     "metadata": {},
     "output_type": "execute_result"
    }
   ],
   "source": [
    "employees = {\"Alison\" : 2007, \"Bart\" : 2008, \"Cathy\" : 2009, \"Dan\" : 2010} \n",
    "\n",
    "employees"
   ]
  },
  {
   "cell_type": "code",
   "execution_count": 7,
   "metadata": {},
   "outputs": [
    {
     "name": "stdout",
     "output_type": "stream",
     "text": [
      "{'Alison': 2007, 'Bart': 2008, 'Cathy': 2009, 'Dan': 2010}\n",
      "{'Alison': 2007, 'Bart': 2008, 'Cathy': 2009, 'Dan': 2010}\n"
     ]
    }
   ],
   "source": [
    "employees_copy = copy.deepcopy(employees)\n",
    "\n",
    "print(employees)\n",
    "print(employees_copy)"
   ]
  },
  {
   "cell_type": "code",
   "execution_count": 8,
   "metadata": {},
   "outputs": [
    {
     "data": {
      "text/plain": [
       "2007"
      ]
     },
     "execution_count": 8,
     "metadata": {},
     "output_type": "execute_result"
    }
   ],
   "source": [
    "employees[\"Alison\"]"
   ]
  },
  {
   "cell_type": "code",
   "execution_count": 9,
   "metadata": {},
   "outputs": [
    {
     "name": "stdout",
     "output_type": "stream",
     "text": [
      "{'Alison': 2011, 'Bart': 2008, 'Cathy': 2009, 'Dan': 2010}\n",
      "{'Alison': 2007, 'Bart': 2008, 'Cathy': 2009, 'Dan': 2010}\n"
     ]
    }
   ],
   "source": [
    "employees[\"Alison\"] = 2011\n",
    "\n",
    "print(employees)\n",
    "print(employees_copy)"
   ]
  },
  {
   "cell_type": "code",
   "execution_count": 10,
   "metadata": {},
   "outputs": [
    {
     "data": {
      "text/plain": [
       "{'one': 1, 'two': 2, 'three': 3, 'four': [1, 2, 3, 4.0]}"
      ]
     },
     "execution_count": 10,
     "metadata": {},
     "output_type": "execute_result"
    }
   ],
   "source": [
    "orig_dict = {'one':1, 'two':2, 'three':3, 'four':[1, 2, 3, 4.0]}\n",
    "\n",
    "orig_dict"
   ]
  },
  {
   "cell_type": "code",
   "execution_count": 11,
   "metadata": {},
   "outputs": [
    {
     "name": "stdout",
     "output_type": "stream",
     "text": [
      "Original: {'one': 1, 'two': 2, 'three': 3, 'four': [1, 2, 3, 4.0]}\n",
      "Modified: {'one': 1, 'two': 2, 'three': 3, 'four': [1, 2, 3, 4.0]}\n"
     ]
    }
   ],
   "source": [
    "new_dict = copy.deepcopy(orig_dict)\n",
    "\n",
    "print ('Original:', orig_dict)\n",
    "print ('Modified:', new_dict)"
   ]
  },
  {
   "cell_type": "code",
   "execution_count": 12,
   "metadata": {},
   "outputs": [
    {
     "data": {
      "text/plain": [
       "4.0"
      ]
     },
     "execution_count": 12,
     "metadata": {},
     "output_type": "execute_result"
    }
   ],
   "source": [
    "new_dict['four'][3]"
   ]
  },
  {
   "cell_type": "code",
   "execution_count": 13,
   "metadata": {},
   "outputs": [
    {
     "name": "stdout",
     "output_type": "stream",
     "text": [
      "Original: {'one': 1, 'two': 2, 'three': 3, 'four': [1, 2, 3, 4.0]}\n",
      "Modified: {'one': 1, 'two': 2, 'three': 3, 'four': [1, 2, 3, 'FOUR']}\n"
     ]
    }
   ],
   "source": [
    "new_dict['four'][3] = 'FOUR'\n",
    "\n",
    "print ('Original:', orig_dict) \n",
    "print ('Modified:', new_dict)"
   ]
  },
  {
   "cell_type": "code",
   "execution_count": 14,
   "metadata": {},
   "outputs": [
    {
     "name": "stdout",
     "output_type": "stream",
     "text": [
      "Original: {'one': 1, 'two': 2, 'three': 3, 'four': [1, 2, 3, 4.0]}\n",
      "Modified: {'one': 1, 'two': 2, 'three': 3, 'four': [1, 2, 3, 'FOUR', 5]}\n"
     ]
    }
   ],
   "source": [
    "new_dict['four'].append(5)\n",
    "\n",
    "print ('Original:', orig_dict) \n",
    "print ('Modified:', new_dict)"
   ]
  },
  {
   "cell_type": "code",
   "execution_count": 15,
   "metadata": {},
   "outputs": [
    {
     "data": {
      "text/plain": [
       "{'one': 1, 'two': 2, 'three': {'zero': 0, 'one': 1}, 'four': 4}"
      ]
     },
     "execution_count": 15,
     "metadata": {},
     "output_type": "execute_result"
    }
   ],
   "source": [
    "orig_dict = {'one':1, 'two':2, 'three': {'zero':0, 'one':1}, 'four':4}\n",
    "\n",
    "orig_dict"
   ]
  },
  {
   "cell_type": "code",
   "execution_count": 16,
   "metadata": {},
   "outputs": [
    {
     "name": "stdout",
     "output_type": "stream",
     "text": [
      "{'one': 1, 'two': 2, 'three': {'zero': 0, 'one': 1}, 'four': 4}\n",
      "{'one': 1, 'two': 2, 'three': {'zero': 0, 'one': 1}, 'four': 4}\n"
     ]
    }
   ],
   "source": [
    "new_dict = copy.deepcopy(orig_dict)\n",
    "\n",
    "print(orig_dict)\n",
    "print(new_dict)"
   ]
  },
  {
   "cell_type": "code",
   "execution_count": 17,
   "metadata": {},
   "outputs": [
    {
     "data": {
      "text/plain": [
       "0"
      ]
     },
     "execution_count": 17,
     "metadata": {},
     "output_type": "execute_result"
    }
   ],
   "source": [
    "new_dict['three']['zero']"
   ]
  },
  {
   "cell_type": "code",
   "execution_count": 18,
   "metadata": {},
   "outputs": [
    {
     "name": "stdout",
     "output_type": "stream",
     "text": [
      "{'one': 1, 'two': 2, 'three': {'zero': 0, 'one': 1}, 'four': 4}\n",
      "{'one': 1, 'two': 2, 'three': {'zero': 'ZERO', 'one': 1}, 'four': 4}\n"
     ]
    }
   ],
   "source": [
    "new_dict['three']['zero'] = 'ZERO'\n",
    "\n",
    "print(orig_dict)\n",
    "print(new_dict)"
   ]
  },
  {
   "cell_type": "code",
   "execution_count": 19,
   "metadata": {},
   "outputs": [
    {
     "data": {
      "text/plain": [
       "{'one': 1, 'two': 2, 'three': {0, 1, 2}, 'four': 4}"
      ]
     },
     "execution_count": 19,
     "metadata": {},
     "output_type": "execute_result"
    }
   ],
   "source": [
    "orig_dict = {'one':1, 'two':2, 'three':{0,1,2}, 'four':4}\n",
    "orig_dict"
   ]
  },
  {
   "cell_type": "code",
   "execution_count": 20,
   "metadata": {},
   "outputs": [
    {
     "name": "stdout",
     "output_type": "stream",
     "text": [
      "Original: {'one': 1, 'two': 2, 'three': {0, 1, 2}, 'four': 4}\n",
      "Modified: {'one': 1, 'two': 2, 'three': {0, 1, 2}, 'four': 4}\n"
     ]
    }
   ],
   "source": [
    "new_dict = copy.deepcopy(orig_dict)\n",
    "\n",
    "print ('Original:', orig_dict)\n",
    "print ('Modified:', new_dict)"
   ]
  },
  {
   "cell_type": "code",
   "execution_count": 21,
   "metadata": {},
   "outputs": [
    {
     "data": {
      "text/plain": [
       "{0, 1, 2}"
      ]
     },
     "execution_count": 21,
     "metadata": {},
     "output_type": "execute_result"
    }
   ],
   "source": [
    "new_dict['three']"
   ]
  },
  {
   "cell_type": "code",
   "execution_count": 22,
   "metadata": {},
   "outputs": [
    {
     "name": "stdout",
     "output_type": "stream",
     "text": [
      "Original: {'one': 1, 'two': 2, 'three': {0, 1, 2}, 'four': 4}\n",
      "Modified: {'one': 1, 'two': 2, 'three': {0, 1, 2, 'THREE'}, 'four': 4}\n"
     ]
    }
   ],
   "source": [
    "new_dict['three'].add('THREE')\n",
    "\n",
    "print ('Original:', orig_dict)\n",
    "print ('Modified:', new_dict)"
   ]
  },
  {
   "cell_type": "code",
   "execution_count": null,
   "metadata": {},
   "outputs": [],
   "source": []
  },
  {
   "cell_type": "code",
   "execution_count": null,
   "metadata": {},
   "outputs": [],
   "source": []
  },
  {
   "cell_type": "code",
   "execution_count": null,
   "metadata": {},
   "outputs": [],
   "source": []
  }
 ],
 "metadata": {
  "kernelspec": {
   "display_name": "Python 3",
   "language": "python",
   "name": "python3"
  },
  "language_info": {
   "codemirror_mode": {
    "name": "ipython",
    "version": 3
   },
   "file_extension": ".py",
   "mimetype": "text/x-python",
   "name": "python",
   "nbconvert_exporter": "python",
   "pygments_lexer": "ipython3",
   "version": "3.7.3"
  }
 },
 "nbformat": 4,
 "nbformat_minor": 2
}
