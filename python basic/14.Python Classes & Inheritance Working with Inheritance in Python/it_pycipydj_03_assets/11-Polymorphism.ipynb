{
 "cells": [
  {
   "cell_type": "markdown",
   "metadata": {},
   "source": [
    "### The literal meaning of polymorphism is that same name many behaviour or forms\n",
    "### One simple analogy example will be\n",
    "\n",
    "If anybody says CUT to these people\n",
    "\n",
    "* The Butcher\n",
    "* The Hair Stylist\n",
    "* The Actor\n",
    "\n",
    "What will happen?\n",
    "\n",
    "* The Butcher wil start cutting the meat.\n",
    "* The Hair Stylist would begin to cut someone's hair.\n",
    "* The Actor would abruptly stop acting out of the current scene, awaiting directorial guidance."
   ]
  },
  {
   "cell_type": "markdown",
   "metadata": {},
   "source": [
    "### Polymorphism describes a pattern in object oriented programming in which classes have different functionality while sharing a common interface."
   ]
  },
  {
   "cell_type": "code",
   "execution_count": 1,
   "metadata": {},
   "outputs": [],
   "source": [
    "class Hominidae():\n",
    "\n",
    "    def communication(self):\n",
    "        print(\"They use auditory calls and visual cues.\")\n",
    "        \n",
    "    def walk(self):\n",
    "        print(\"They are knuckle-walkers, used to hang and swing from one tree to another\")"
   ]
  },
  {
   "cell_type": "code",
   "execution_count": 2,
   "metadata": {},
   "outputs": [],
   "source": [
    "class Human(Hominidae):\n",
    "\n",
    "    def communication(self):\n",
    "        print(\"They use language to communicate.\")\n",
    "        \n",
    "    def walk(self):\n",
    "        print(\"They are bipeds.\")"
   ]
  },
  {
   "cell_type": "code",
   "execution_count": 3,
   "metadata": {},
   "outputs": [],
   "source": [
    "class Gorrila(Hominidae):\n",
    "\n",
    "    def communication(self):\n",
    "        print(\"They use twenty-five distinct vocalizations to communicate.\")\n",
    "        \n",
    "    def walk(self):\n",
    "        print(\"They are knuckle-walkers.\")"
   ]
  },
  {
   "cell_type": "code",
   "execution_count": 4,
   "metadata": {},
   "outputs": [],
   "source": [
    "hominidae_1 = Hominidae()\n",
    "\n",
    "human_1 = Human()\n",
    "\n",
    "gorrila_1 = Gorrila()"
   ]
  },
  {
   "cell_type": "code",
   "execution_count": 5,
   "metadata": {},
   "outputs": [
    {
     "name": "stdout",
     "output_type": "stream",
     "text": [
      "They use auditory calls and visual cues.\n",
      "They use language to communicate.\n",
      "They use twenty-five distinct vocalizations to communicate.\n"
     ]
    }
   ],
   "source": [
    "hominidae_1.communication()\n",
    "\n",
    "human_1.communication()\n",
    "\n",
    "gorrila_1.communication()"
   ]
  },
  {
   "cell_type": "code",
   "execution_count": 6,
   "metadata": {},
   "outputs": [
    {
     "name": "stdout",
     "output_type": "stream",
     "text": [
      "They are knuckle-walkers, used to hang and swing from one tree to another\n",
      "They are bipeds.\n",
      "They are knuckle-walkers.\n"
     ]
    }
   ],
   "source": [
    "hominidae_1.walk()\n",
    "\n",
    "human_1.walk()\n",
    "\n",
    "gorrila_1.walk()"
   ]
  },
  {
   "cell_type": "code",
   "execution_count": 10,
   "metadata": {},
   "outputs": [],
   "source": [
    "class BankAccount:\n",
    "    \n",
    "    def __init__(self, balance):\n",
    "        self.__balance = balance\n",
    "        \n",
    "    def deposit(self, value):\n",
    "        self.__balance =  self.__balance + value\n",
    "        \n",
    "        print('Deposit amount:', value)\n",
    "        print('Balance after depositing:', self.__balance)\n",
    "            \n",
    "    def withdrawal(self, value):\n",
    "        self.__balance =  self.__balance - value\n",
    "        \n",
    "        print('Withdrawal amount:', value)\n",
    "        print('Balance after withdrawal:', self.__balance)"
   ]
  },
  {
   "cell_type": "code",
   "execution_count": 11,
   "metadata": {},
   "outputs": [],
   "source": [
    "b_1 = BankAccount(1500)"
   ]
  },
  {
   "cell_type": "code",
   "execution_count": 12,
   "metadata": {},
   "outputs": [
    {
     "name": "stdout",
     "output_type": "stream",
     "text": [
      "Deposit amount: 100\n",
      "Balance after depositing: 1600\n"
     ]
    }
   ],
   "source": [
    "b_1.deposit(100)"
   ]
  },
  {
   "cell_type": "code",
   "execution_count": 14,
   "metadata": {},
   "outputs": [
    {
     "name": "stdout",
     "output_type": "stream",
     "text": [
      "Withdrawal amount: 200\n",
      "Balance after withdrawal: 1300\n"
     ]
    }
   ],
   "source": [
    "b_1.withdrawal(200)"
   ]
  },
  {
   "cell_type": "code",
   "execution_count": 18,
   "metadata": {},
   "outputs": [],
   "source": [
    "class CurrentAccount(BankAccount):\n",
    "    \n",
    "    def __init__(self, balance):\n",
    "        super().__init__(balance)\n",
    "                  \n",
    "    def withdrawal(self, value):\n",
    "        if value > 1000:\n",
    "            print('Contact your branch manager')\n",
    "        else:\n",
    "            super().withdrawal(value)"
   ]
  },
  {
   "cell_type": "code",
   "execution_count": 19,
   "metadata": {},
   "outputs": [],
   "source": [
    "c_1 = CurrentAccount(1500)"
   ]
  },
  {
   "cell_type": "code",
   "execution_count": 20,
   "metadata": {},
   "outputs": [
    {
     "name": "stdout",
     "output_type": "stream",
     "text": [
      "Withdrawal amount: 100\n",
      "Balance after withdrawal: 1400\n"
     ]
    }
   ],
   "source": [
    "c_1.withdrawal(100)"
   ]
  },
  {
   "cell_type": "code",
   "execution_count": 21,
   "metadata": {},
   "outputs": [
    {
     "name": "stdout",
     "output_type": "stream",
     "text": [
      "Contact your branch manager\n"
     ]
    }
   ],
   "source": [
    "c_1.withdrawal(1400)"
   ]
  },
  {
   "cell_type": "code",
   "execution_count": 25,
   "metadata": {},
   "outputs": [],
   "source": [
    "class SavingsAccount(BankAccount):\n",
    "    \n",
    "    def __init__(self, balance):\n",
    "        super().__init__(balance)\n",
    "        \n",
    "    def deposit(self, value):\n",
    "        value += 0.05 * value\n",
    "        \n",
    "        super().deposit(value)"
   ]
  },
  {
   "cell_type": "code",
   "execution_count": 26,
   "metadata": {},
   "outputs": [],
   "source": [
    "s_1 = SavingsAccount(2000)"
   ]
  },
  {
   "cell_type": "code",
   "execution_count": 27,
   "metadata": {},
   "outputs": [
    {
     "name": "stdout",
     "output_type": "stream",
     "text": [
      "Deposit amount: 525.0\n",
      "Balance after depositing: 2525.0\n"
     ]
    }
   ],
   "source": [
    "s_1.deposit(500)"
   ]
  },
  {
   "cell_type": "code",
   "execution_count": null,
   "metadata": {},
   "outputs": [],
   "source": []
  }
 ],
 "metadata": {
  "kernelspec": {
   "display_name": "Python 3",
   "language": "python",
   "name": "python3"
  },
  "language_info": {
   "codemirror_mode": {
    "name": "ipython",
    "version": 3
   },
   "file_extension": ".py",
   "mimetype": "text/x-python",
   "name": "python",
   "nbconvert_exporter": "python",
   "pygments_lexer": "ipython3",
   "version": "3.6.4"
  }
 },
 "nbformat": 4,
 "nbformat_minor": 2
}
