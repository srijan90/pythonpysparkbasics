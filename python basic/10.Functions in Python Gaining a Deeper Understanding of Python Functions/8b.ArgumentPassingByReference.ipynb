{
 "cells": [
  {
   "cell_type": "code",
   "execution_count": 2,
   "metadata": {},
   "outputs": [],
   "source": [
    "fruits_list = [\"Apple\", \"Grapes\", \"Mango\", \"Bananas\"]"
   ]
  },
  {
   "cell_type": "code",
   "execution_count": 3,
   "metadata": {},
   "outputs": [
    {
     "name": "stdout",
     "output_type": "stream",
     "text": [
      "Inside the function:  ['Kiwi', 'Grapes', 'Mango', 'Bananas']\n",
      "\n",
      "Outside the function:  ['Kiwi', 'Grapes', 'Mango', 'Bananas']\n"
     ]
    }
   ],
   "source": [
    "def change_list(fruits_list):\n",
    "    \n",
    "    fruits_list[0] = \"Kiwi\"\n",
    "    \n",
    "    print(\"Inside the function: \", fruits_list)\n",
    "\n",
    "change_list(fruits_list)\n",
    "print()\n",
    "print(\"Outside the function: \", fruits_list)"
   ]
  },
  {
   "cell_type": "code",
   "execution_count": 4,
   "metadata": {},
   "outputs": [],
   "source": [
    "fruits_list = [\"Apple\", \"Grapes\"]"
   ]
  },
  {
   "cell_type": "code",
   "execution_count": 5,
   "metadata": {},
   "outputs": [
    {
     "name": "stdout",
     "output_type": "stream",
     "text": [
      "Inside the function:  ['Kiwi', 'Grapes']\n"
     ]
    }
   ],
   "source": [
    "change_list(fruits_list)"
   ]
  },
  {
   "cell_type": "code",
   "execution_count": 6,
   "metadata": {},
   "outputs": [
    {
     "data": {
      "text/plain": [
       "['Kiwi', 'Grapes']"
      ]
     },
     "execution_count": 6,
     "metadata": {},
     "output_type": "execute_result"
    }
   ],
   "source": [
    "fruits_list"
   ]
  },
  {
   "cell_type": "code",
   "execution_count": 7,
   "metadata": {},
   "outputs": [
    {
     "name": "stdout",
     "output_type": "stream",
     "text": [
      "Inside the function:  ['Apple', 'Grapes', 'Mango', 'Bananas', 'Kiwi']\n",
      "\n",
      "Outside the function:  ['Apple', 'Grapes', 'Mango', 'Bananas', 'Kiwi']\n"
     ]
    }
   ],
   "source": [
    "fruits_list = [\"Apple\", \"Grapes\", \"Mango\", \"Bananas\"]\n",
    "\n",
    "def change_list(fruits_list):\n",
    "    \n",
    "    fruits_list.append(\"Kiwi\")\n",
    "    \n",
    "    print(\"Inside the function: \", fruits_list)\n",
    "\n",
    "change_list(fruits_list)\n",
    "print()\n",
    "print(\"Outside the function: \", fruits_list)"
   ]
  },
  {
   "cell_type": "code",
   "execution_count": 8,
   "metadata": {},
   "outputs": [
    {
     "name": "stdout",
     "output_type": "stream",
     "text": [
      "Inside the function:  ['Grapes', 'Mango', 'Bananas']\n",
      "\n",
      "Outside the function:  ['Grapes', 'Mango', 'Bananas']\n"
     ]
    }
   ],
   "source": [
    "fruits_list = [\"Apple\", \"Grapes\", \"Mango\", \"Bananas\"]\n",
    "\n",
    "def change_list(fruits_list):\n",
    "    \n",
    "    fruits_list.remove(\"Apple\")\n",
    "    \n",
    "    print(\"Inside the function: \", fruits_list)\n",
    "\n",
    "change_list(fruits_list)\n",
    "print()\n",
    "print(\"Outside the function: \", fruits_list)"
   ]
  },
  {
   "cell_type": "code",
   "execution_count": 20,
   "metadata": {},
   "outputs": [],
   "source": [
    "fruits_list = [\"Apple\", \"Grapes\", \"Mango\", \"Bananas\"]\n",
    "\n",
    "def sort_items_and_remove_last(my_list):\n",
    "    my_list.sort()\n",
    "    my_list.pop()\n",
    "    \n",
    "    print(\"Inside the function\", my_list)"
   ]
  },
  {
   "cell_type": "code",
   "execution_count": 21,
   "metadata": {},
   "outputs": [
    {
     "name": "stdout",
     "output_type": "stream",
     "text": [
      "Inside the function ['Apple', 'Bananas', 'Grapes']\n"
     ]
    }
   ],
   "source": [
    "sort_items_and_remove_last(fruits_list)"
   ]
  },
  {
   "cell_type": "code",
   "execution_count": 22,
   "metadata": {},
   "outputs": [
    {
     "data": {
      "text/plain": [
       "['Apple', 'Bananas', 'Grapes']"
      ]
     },
     "execution_count": 22,
     "metadata": {},
     "output_type": "execute_result"
    }
   ],
   "source": [
    "fruits_list"
   ]
  },
  {
   "cell_type": "code",
   "execution_count": null,
   "metadata": {},
   "outputs": [],
   "source": []
  },
  {
   "cell_type": "code",
   "execution_count": 23,
   "metadata": {},
   "outputs": [],
   "source": [
    "car_speeds_dictionary = {\n",
    "    \"Camry\": 120,\n",
    "    \"Accord\": 130,\n",
    "    \"Cayenne\": 250,\n",
    "    \"Mini Cooper\": 100\n",
    "}"
   ]
  },
  {
   "cell_type": "code",
   "execution_count": 25,
   "metadata": {},
   "outputs": [],
   "source": [
    "def change_dictionary(car_speeds_dictionary):\n",
    "    \n",
    "    car_speeds_dictionary[\"Mustang\"] = 200\n",
    "    \n",
    "    print(\"Inside the function: \", car_speeds_dictionary)"
   ]
  },
  {
   "cell_type": "code",
   "execution_count": 26,
   "metadata": {},
   "outputs": [
    {
     "name": "stdout",
     "output_type": "stream",
     "text": [
      "Inside the function:  {'Camry': 120, 'Accord': 130, 'Cayenne': 250, 'Mini Cooper': 100, 'Mustang': 200}\n"
     ]
    }
   ],
   "source": [
    "change_dictionary(car_speeds_dictionary)"
   ]
  },
  {
   "cell_type": "code",
   "execution_count": 27,
   "metadata": {},
   "outputs": [
    {
     "data": {
      "text/plain": [
       "{'Accord': 130,\n",
       " 'Camry': 120,\n",
       " 'Cayenne': 250,\n",
       " 'Mini Cooper': 100,\n",
       " 'Mustang': 200}"
      ]
     },
     "execution_count": 27,
     "metadata": {},
     "output_type": "execute_result"
    }
   ],
   "source": [
    "car_speeds_dictionary"
   ]
  },
  {
   "cell_type": "code",
   "execution_count": 28,
   "metadata": {},
   "outputs": [],
   "source": [
    "def change_dictionary(some_dictionary):\n",
    "    \n",
    "    some_dictionary[\"Camry\"] = 140\n",
    "    \n",
    "    print(\"Inside the function: \", some_dictionary)"
   ]
  },
  {
   "cell_type": "code",
   "execution_count": 30,
   "metadata": {},
   "outputs": [
    {
     "name": "stdout",
     "output_type": "stream",
     "text": [
      "Inside the function:  {'Camry': 140, 'Accord': 130, 'Cayenne': 250, 'Mini Cooper': 100, 'Mustang': 200}\n"
     ]
    },
    {
     "data": {
      "text/plain": [
       "{'Accord': 130,\n",
       " 'Camry': 140,\n",
       " 'Cayenne': 250,\n",
       " 'Mini Cooper': 100,\n",
       " 'Mustang': 200}"
      ]
     },
     "execution_count": 30,
     "metadata": {},
     "output_type": "execute_result"
    }
   ],
   "source": [
    "change_dictionary(car_speeds_dictionary)\n",
    "\n",
    "car_speeds_dictionary"
   ]
  },
  {
   "cell_type": "code",
   "execution_count": 31,
   "metadata": {},
   "outputs": [],
   "source": [
    "def change_dictionary(some_dictionary):\n",
    "    \n",
    "    del some_dictionary[\"Camry\"]\n",
    "    \n",
    "    print(\"Inside the function: \", some_dictionary)"
   ]
  },
  {
   "cell_type": "code",
   "execution_count": 32,
   "metadata": {},
   "outputs": [
    {
     "name": "stdout",
     "output_type": "stream",
     "text": [
      "Inside the function:  {'Accord': 130, 'Cayenne': 250, 'Mini Cooper': 100, 'Mustang': 200}\n"
     ]
    },
    {
     "data": {
      "text/plain": [
       "{'Accord': 130, 'Cayenne': 250, 'Mini Cooper': 100, 'Mustang': 200}"
      ]
     },
     "execution_count": 32,
     "metadata": {},
     "output_type": "execute_result"
    }
   ],
   "source": [
    "change_dictionary(car_speeds_dictionary)\n",
    "\n",
    "car_speeds_dictionary"
   ]
  },
  {
   "cell_type": "code",
   "execution_count": null,
   "metadata": {},
   "outputs": [],
   "source": []
  }
 ],
 "metadata": {
  "kernelspec": {
   "display_name": "Python 3",
   "language": "python",
   "name": "python3"
  },
  "language_info": {
   "codemirror_mode": {
    "name": "ipython",
    "version": 3
   },
   "file_extension": ".py",
   "mimetype": "text/x-python",
   "name": "python",
   "nbconvert_exporter": "python",
   "pygments_lexer": "ipython3",
   "version": "3.6.4"
  }
 },
 "nbformat": 4,
 "nbformat_minor": 2
}
