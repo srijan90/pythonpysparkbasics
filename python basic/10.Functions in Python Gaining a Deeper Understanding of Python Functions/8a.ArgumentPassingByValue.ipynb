{
 "cells": [
  {
   "cell_type": "code",
   "execution_count": 1,
   "metadata": {},
   "outputs": [],
   "source": [
    "salary = 1000\n",
    "expense = 200\n",
    "\n",
    "name = \"James\"\n",
    "interest_rate = 0.04"
   ]
  },
  {
   "cell_type": "code",
   "execution_count": 2,
   "metadata": {},
   "outputs": [],
   "source": [
    "def print_savings_details():\n",
    "    \n",
    "    print(\"Name on account: \", name)\n",
    "    \n",
    "    savings  = salary - expense\n",
    "    print(\"Savings: \", savings)\n",
    "    \n",
    "    print(\"Interest rate: \", interest_rate)"
   ]
  },
  {
   "cell_type": "code",
   "execution_count": 4,
   "metadata": {},
   "outputs": [
    {
     "name": "stdout",
     "output_type": "stream",
     "text": [
      "Name on account:  James\n",
      "Savings:  800\n",
      "Interest rate:  0.04\n"
     ]
    }
   ],
   "source": [
    "print_savings_details()"
   ]
  },
  {
   "cell_type": "code",
   "execution_count": 5,
   "metadata": {},
   "outputs": [],
   "source": [
    "def print_savings_details(name, salary, expense, interest_rate):\n",
    "    \n",
    "    print(\"Name on account: \", name)\n",
    "    \n",
    "    savings  = salary - expense\n",
    "    print(\"Savings: \", savings)\n",
    "    \n",
    "    print(\"Interest rate: \", interest_rate)"
   ]
  },
  {
   "cell_type": "code",
   "execution_count": 6,
   "metadata": {},
   "outputs": [
    {
     "name": "stdout",
     "output_type": "stream",
     "text": [
      "Name on account:  James\n",
      "Savings:  800\n",
      "Interest rate:  0.04\n"
     ]
    }
   ],
   "source": [
    "print_savings_details(name, salary, expense, interest_rate)"
   ]
  },
  {
   "cell_type": "code",
   "execution_count": 7,
   "metadata": {},
   "outputs": [
    {
     "name": "stdout",
     "output_type": "stream",
     "text": [
      "Name on account:  Julie\n",
      "Savings:  8000\n",
      "Interest rate:  0.02\n"
     ]
    }
   ],
   "source": [
    "print_savings_details(\"Julie\", 10000, 2000, 0.02)"
   ]
  },
  {
   "cell_type": "code",
   "execution_count": 10,
   "metadata": {},
   "outputs": [],
   "source": [
    "def print_savings_details(name, salary, expense, interest_rate):\n",
    "    \n",
    "    print(\"Name on account: \", name)\n",
    "\n",
    "    expense = expense + 100\n",
    "    \n",
    "    savings  = salary - expense\n",
    "    print(\"Savings: \", savings)\n",
    "    \n",
    "    print(\"Interest rate: \", interest_rate)"
   ]
  },
  {
   "cell_type": "code",
   "execution_count": 11,
   "metadata": {},
   "outputs": [
    {
     "name": "stdout",
     "output_type": "stream",
     "text": [
      "Name on account:  James\n",
      "Savings:  700\n",
      "Interest rate:  0.04\n"
     ]
    }
   ],
   "source": [
    "print_savings_details(name, salary, expense, interest_rate)"
   ]
  },
  {
   "cell_type": "code",
   "execution_count": 12,
   "metadata": {},
   "outputs": [
    {
     "data": {
      "text/plain": [
       "('James', 1000, 200, 0.04)"
      ]
     },
     "execution_count": 12,
     "metadata": {},
     "output_type": "execute_result"
    }
   ],
   "source": [
    "name, salary, expense, interest_rate"
   ]
  },
  {
   "cell_type": "code",
   "execution_count": 13,
   "metadata": {},
   "outputs": [],
   "source": [
    "def print_savings_details(name, salary, expense, interest_rate):\n",
    "    \n",
    "    name = \"Harry\"\n",
    "    print(\"Name on account: \", name)\n",
    "\n",
    "    salary = salary * 2\n",
    "    expense = expense + 100\n",
    "\n",
    "    savings  = salary - expense\n",
    "    print(\"Savings: \", savings)\n",
    "    \n",
    "    interest_rate = 0.09\n",
    "    print(\"Interest rate: \", interest_rate)"
   ]
  },
  {
   "cell_type": "code",
   "execution_count": 14,
   "metadata": {},
   "outputs": [
    {
     "name": "stdout",
     "output_type": "stream",
     "text": [
      "Name on account:  Harry\n",
      "Savings:  1700\n",
      "Interest rate:  0.09\n"
     ]
    }
   ],
   "source": [
    "print_savings_details(name, salary, expense, interest_rate)"
   ]
  },
  {
   "cell_type": "code",
   "execution_count": 15,
   "metadata": {},
   "outputs": [
    {
     "data": {
      "text/plain": [
       "('James', 1000, 200, 0.04)"
      ]
     },
     "execution_count": 15,
     "metadata": {},
     "output_type": "execute_result"
    }
   ],
   "source": [
    "name, salary, expense, interest_rate"
   ]
  },
  {
   "cell_type": "code",
   "execution_count": null,
   "metadata": {},
   "outputs": [],
   "source": []
  },
  {
   "cell_type": "code",
   "execution_count": 16,
   "metadata": {},
   "outputs": [],
   "source": [
    "fruits_list = [\"Apple\", \"Grapes\", \"Mango\", \"Bananas\"]"
   ]
  },
  {
   "cell_type": "code",
   "execution_count": 18,
   "metadata": {},
   "outputs": [
    {
     "name": "stdout",
     "output_type": "stream",
     "text": [
      "Inside the function:  ['Kiwi', 'Strawberry']\n",
      "\n",
      "Outside the function:  ['Apple', 'Grapes', 'Mango', 'Bananas']\n"
     ]
    }
   ],
   "source": [
    "def change_list(fruits_list):\n",
    "    \n",
    "    fruits_list = [\"Kiwi\", \"Strawberry\"]\n",
    "    \n",
    "    print(\"Inside the function: \", fruits_list)\n",
    "\n",
    "change_list(fruits_list)\n",
    "print()\n",
    "print(\"Outside the function: \", fruits_list)"
   ]
  },
  {
   "cell_type": "code",
   "execution_count": 19,
   "metadata": {},
   "outputs": [],
   "source": [
    "fruits_list = [\"Apple\", \"Grapes\"]"
   ]
  },
  {
   "cell_type": "code",
   "execution_count": 20,
   "metadata": {},
   "outputs": [
    {
     "name": "stdout",
     "output_type": "stream",
     "text": [
      "Inside the function:  ['Kiwi', 'Strawberry']\n"
     ]
    }
   ],
   "source": [
    "change_list(fruits_list)"
   ]
  },
  {
   "cell_type": "code",
   "execution_count": 21,
   "metadata": {},
   "outputs": [
    {
     "data": {
      "text/plain": [
       "['Apple', 'Grapes']"
      ]
     },
     "execution_count": 21,
     "metadata": {},
     "output_type": "execute_result"
    }
   ],
   "source": [
    "fruits_list"
   ]
  },
  {
   "cell_type": "code",
   "execution_count": 23,
   "metadata": {},
   "outputs": [],
   "source": [
    "fruits_tuple = (\"Apple\", \"Grapes\", \"Mango\", \"Bananas\")"
   ]
  },
  {
   "cell_type": "code",
   "execution_count": 25,
   "metadata": {},
   "outputs": [
    {
     "name": "stdout",
     "output_type": "stream",
     "text": [
      "Inside the function:  ('Kiwi', 'Strawberry')\n",
      "\n",
      "Outside the function:  ('Apple', 'Grapes', 'Mango', 'Bananas')\n"
     ]
    }
   ],
   "source": [
    "def change_tuple(fruits_tuple):\n",
    "    \n",
    "    fruits_tuple = (\"Kiwi\", \"Strawberry\")\n",
    "    \n",
    "    print(\"Inside the function: \", fruits_tuple)\n",
    "\n",
    "change_tuple(fruits_tuple)\n",
    "print()\n",
    "print(\"Outside the function: \", fruits_tuple)"
   ]
  },
  {
   "cell_type": "code",
   "execution_count": 26,
   "metadata": {},
   "outputs": [
    {
     "name": "stdout",
     "output_type": "stream",
     "text": [
      "Inside the function:  This is not even a tuple\n",
      "\n",
      "Outside the function:  ('Apple', 'Grapes', 'Mango', 'Bananas')\n"
     ]
    }
   ],
   "source": [
    "def change_tuple(fruits_tuple):\n",
    "    \n",
    "    fruits_tuple = \"This is not even a tuple\"\n",
    "    \n",
    "    print(\"Inside the function: \", fruits_tuple)\n",
    "\n",
    "change_tuple(fruits_tuple)\n",
    "print()\n",
    "print(\"Outside the function: \", fruits_tuple)"
   ]
  },
  {
   "cell_type": "code",
   "execution_count": null,
   "metadata": {},
   "outputs": [],
   "source": []
  },
  {
   "cell_type": "code",
   "execution_count": 30,
   "metadata": {},
   "outputs": [],
   "source": [
    "car_speeds_dictionary = {\n",
    "    \"Camry\": 120,\n",
    "    \"Accord\": 130,\n",
    "    \"Cayenne\": 250,\n",
    "    \"Mini Cooper\": 100\n",
    "}"
   ]
  },
  {
   "cell_type": "code",
   "execution_count": 29,
   "metadata": {},
   "outputs": [],
   "source": [
    "def change_dictionary(car_speeds_dictionary):\n",
    "    \n",
    "    car_speeds_dictionary = {\n",
    "        \"Mustang\": 200\n",
    "    }\n",
    "    \n",
    "    print(\"Inside the function: \", car_speeds_dictionary)"
   ]
  },
  {
   "cell_type": "code",
   "execution_count": 31,
   "metadata": {},
   "outputs": [
    {
     "name": "stdout",
     "output_type": "stream",
     "text": [
      "Inside the function:  {'Mustang': 200}\n"
     ]
    }
   ],
   "source": [
    "change_dictionary(car_speeds_dictionary)"
   ]
  },
  {
   "cell_type": "code",
   "execution_count": 32,
   "metadata": {},
   "outputs": [
    {
     "data": {
      "text/plain": [
       "{'Accord': 130, 'Camry': 120, 'Cayenne': 250, 'Mini Cooper': 100}"
      ]
     },
     "execution_count": 32,
     "metadata": {},
     "output_type": "execute_result"
    }
   ],
   "source": [
    "car_speeds_dictionary"
   ]
  },
  {
   "cell_type": "code",
   "execution_count": null,
   "metadata": {},
   "outputs": [],
   "source": []
  },
  {
   "cell_type": "code",
   "execution_count": null,
   "metadata": {},
   "outputs": [],
   "source": []
  }
 ],
 "metadata": {
  "kernelspec": {
   "display_name": "Python 3",
   "language": "python",
   "name": "python3"
  },
  "language_info": {
   "codemirror_mode": {
    "name": "ipython",
    "version": 3
   },
   "file_extension": ".py",
   "mimetype": "text/x-python",
   "name": "python",
   "nbconvert_exporter": "python",
   "pygments_lexer": "ipython3",
   "version": "3.6.4"
  }
 },
 "nbformat": 4,
 "nbformat_minor": 2
}
