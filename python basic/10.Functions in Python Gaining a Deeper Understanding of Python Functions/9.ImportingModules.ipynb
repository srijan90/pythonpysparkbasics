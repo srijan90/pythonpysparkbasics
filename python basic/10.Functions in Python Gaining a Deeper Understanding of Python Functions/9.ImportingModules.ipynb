{
 "cells": [
  {
   "cell_type": "code",
   "execution_count": 2,
   "metadata": {},
   "outputs": [
    {
     "name": "stdout",
     "output_type": "stream",
     "text": [
      "\n",
      "Please wait a moment while I gather a list of all available modules...\n",
      "\n",
      "Crypto              brain_pkg_resources jupyter_client      rope\n",
      "Cython              brain_pytest        jupyter_console     ruamel_yaml\n",
      "IPython             brain_qt            jupyter_core        runpy\n",
      "OpenSSL             brain_re            jupyterlab          sched\n",
      "PIL                 brain_six           jupyterlab_launcher scipy\n",
      "PyQt5               brain_ssl           keras               scripts\n",
      "__future__          brain_subprocess    keras_applications  seaborn\n",
      "_ast                brain_threading     keras_preprocessing secrets\n",
      "_asyncio            brain_typing        keyword             select\n",
      "_bisect             brain_uuid          kiwisolver          selectors\n",
      "_blake2             bs4                 lazy_object_proxy   send2trash\n",
      "_bootlocale         builtins            lib2to3             setuptools\n",
      "_bz2                bz2                 libfuturize         shelve\n",
      "_cffi_backend       cProfile            libpasteurize       shlex\n",
      "_codecs             caffe               linecache           shutil\n",
      "_codecs_cn          caffe2              llvmlite            signal\n",
      "_codecs_hk          calendar            locale              simplegeneric\n",
      "_codecs_iso2022     category_encoders   locket              singledispatch\n",
      "_codecs_jp          certifi             logging             singledispatch_helpers\n",
      "_codecs_kr          cffi                lxml                sip\n",
      "_codecs_tw          cgi                 lzma                sipconfig\n",
      "_collections        cgitb               macpath             sipdistutils\n",
      "_collections_abc    chardet             mactypes            site\n",
      "_compat_pickle      chart_studio        macurl2path         six\n",
      "_compression        chunk               mailbox             skimage\n",
      "_crypt              click               mailcap             sklearn\n",
      "_csv                cloudpickle         markdown            smtpd\n",
      "_ctypes             clyent              markupsafe          smtplib\n",
      "_ctypes_test        cmath               marshal             sndhdr\n",
      "_curses             cmd                 math                snowballstemmer\n",
      "_curses_panel       code                matplotlib          socket\n",
      "_datetime           codecs              mccabe              socketserver\n",
      "_dbm                codeop              mimetypes           socks\n",
      "_decimal            collections         mistune             sockshandler\n",
      "_dummy_thread       colorama            mkl                 sortedcollections\n",
      "_elementtree        colorsys            mmap                sortedcontainers\n",
      "_functools          compileall          modulefinder        spacy\n",
      "_hashlib            concurrent          mpmath              sphinx\n",
      "_heapq              conda               msgpack             sphinxcontrib\n",
      "_imp                conda_build         multipledispatch    sphinxify\n",
      "_io                 conda_env           multiprocessing     spyder\n",
      "_json               conda_verify        murmurhash          spyder_breakpoints\n",
      "_locale             conf                navigator_updater   spyder_io_dcm\n",
      "_lsprof             configparser        nbconvert           spyder_io_hdf5\n",
      "_lzma               contextlib          nbformat            spyder_profiler\n",
      "_markupbase         contextlib2         netrc               spyder_pylint\n",
      "_md5                copy                networkx            sqlalchemy\n",
      "_multibytecodec     copyreg             nis                 sqlite3\n",
      "_multiprocessing    crypt               nltk                sre_compile\n",
      "_opcode             cryptography        nntplib             sre_constants\n",
      "_operator           csv                 nose                sre_parse\n",
      "_osx_support        ctypes              notebook            srsly\n",
      "_pickle             curl                ntpath              ssl\n",
      "_plotly_future_     curses              nturl2path          stat\n",
      "_plotly_utils       cv2                 numba               statistics\n",
      "_posixsubprocess    cycler              numbers             statsmodels\n",
      "_pydecimal          cymem               numexpr             storemagic\n",
      "_pyio               cython              numpy               string\n",
      "_pytest             cythonmagic         numpydoc            stringprep\n",
      "_random             cytoolz             odo                 struct\n",
      "_scproxy            dask                olefile             subprocess\n",
      "_sha1               datashape           onnx                sunau\n",
      "_sha256             datetime            opcode              symbol\n",
      "_sha3               dateutil            openpyxl            sympy\n",
      "_sha512             dbm                 operator            sympyprinting\n",
      "_signal             decimal             optparse            symtable\n",
      "_sitebuiltins       decorator           os                  sys\n",
      "_socket             difflib             osax                sysconfig\n",
      "_sqlite3            dis                 packaging           syslog\n",
      "_sre                distributed         pandas              tables\n",
      "_ssl                distutils           pandas_ml           tabnanny\n",
      "_stat               docs                pandocfilters       tarfile\n",
      "_string             doctest             parser              tblib\n",
      "_strptime           docutils            parso               telnetlib\n",
      "_struct             dummy_threading     partd               tempfile\n",
      "_symtable           easy_install        past                tensorboard\n",
      "_sysconfigdata_i686_conda_cos6_linux_gnu email               pasta               tensorflow\n",
      "_sysconfigdata_m_darwin_darwin en_core_web_sm      path                tensorflow_estimator\n",
      "_sysconfigdata_powerpc64le_conda_cos7_linux_gnu encodings           pathlib             termcolor\n",
      "_sysconfigdata_x86_64_apple_darwin13_4_0 ensurepip           pathlib2            terminado\n",
      "_sysconfigdata_x86_64_conda_cos6_linux_gnu entrypoints         patsy               termios\n",
      "_testbuffer         enum                pdb                 test\n",
      "_testcapi           errno               pep8                test_path\n",
      "_testimportmultiple et_xmlfile          pexpect             test_pycosat\n",
      "_testmultiphase     examples            pickle              testpath\n",
      "_thread             fastcache           pickleshare         tests\n",
      "_threading_local    faulthandler        pickletools         textwrap\n",
      "_tkinter            fcntl               pip                 thinc\n",
      "_tracemalloc        filecmp             pipes               this\n",
      "_warnings           fileinput           pkg_resources       threading\n",
      "_weakref            filelock            pkginfo             time\n",
      "_weakrefset         flask               pkgutil             timeit\n",
      "_yaml               flask_cors          plac                tkinter\n",
      "abc                 fnmatch             plac_core           tlz\n",
      "absl                formatter           plac_ext            token\n",
      "aem                 fractions           plac_tk             tokenize\n",
      "aifc                ftplib              platform            toolz\n",
      "alabaster           functools           plistlib            torch\n",
      "albumentations      future              plotly              torchtext\n",
      "anaconda_navigator  gast                plotlywidget        torchvision\n",
      "anaconda_project    gc                  pluggy              tornado\n",
      "antigravity         genericpath         ply                 tqdm\n",
      "appnope             getopt              poplib              trace\n",
      "appscript           getpass             posix               traceback\n",
      "argparse            gettext             posixpath           tracemalloc\n",
      "array               gevent              pprint              traitlets\n",
      "asn1crypto          glob                preshed             tty\n",
      "ast                 glob2               profile             turtle\n",
      "astor               gmpy2               prompt_toolkit      turtledemo\n",
      "astroid             google              pstats              types\n",
      "astropy             greenlet            psutil              typing\n",
      "asynchat            grp                 pty                 typing_extensions\n",
      "asyncio             grpc                ptyprocess          unicodecsv\n",
      "asyncore            gzip                pwd                 unicodedata\n",
      "atexit              h5py                py                  unittest\n",
      "attr                hashlib             py_compile          urllib\n",
      "audioop             heapdict            pyclbr              urllib3\n",
      "autoreload          heapq               pycodestyle         uu\n",
      "babel               hmac                pycosat             uuid\n",
      "backports           html                pycparser           venv\n",
      "base64              html5lib            pycurl              warnings\n",
      "bdb                 http                pydoc               wasabi\n",
      "binascii            idlelib             pydoc_data          wave\n",
      "binhex              idna                pyexpat             wcwidth\n",
      "binstar_client      imageio             pyflakes            weakref\n",
      "bisect              imagesize           pygments            webbrowser\n",
      "bitarray            imaplib             pylab               webencodings\n",
      "bkcharts            imblearn            pylint              werkzeug\n",
      "blaze               imgaug              pyodbc              wheel\n",
      "bleach              imghdr              pyparsing           widgetsnbextension\n",
      "blis                imp                 pytesseract         wrapt\n",
      "bokeh               importlib           pytest              wsgiref\n",
      "boto                inspect             pytz                xdrlib\n",
      "bottleneck          io                  pywt                xlrd\n",
      "brain_attrs         ipaddress           pyximport           xlsxwriter\n",
      "brain_builtin_inference ipykernel           qtawesome           xlwings\n",
      "brain_collections   ipykernel_launcher  qtconsole           xlwt\n",
      "brain_curses        ipython_genutils    qtpy                xml\n",
      "brain_dateutil      ipywidgets          queue               xmlrpc\n",
      "brain_fstrings      isort               quopri              xxlimited\n",
      "brain_functools     itertools           random              xxsubtype\n",
      "brain_gi            itsdangerous        re                  yaml\n",
      "brain_hashlib       jdcal               readline            zict\n",
      "brain_io            jedi                reprlib             zipapp\n",
      "brain_mechanize     jinja2              requests            zipfile\n",
      "brain_multiprocessing joblib              resource            zipimport\n",
      "brain_namedtuple_enum json                retrying            zlib\n",
      "brain_nose          jsonschema          rlcompleter         zmq\n",
      "brain_numpy         jupyter             rmagic              \n",
      "\n",
      "Enter any module name to get more help.  Or, type \"modules spam\" to search\n",
      "for modules whose name or summary contain the string \"spam\".\n",
      "\n"
     ]
    }
   ],
   "source": [
    "help(\"modules\")"
   ]
  },
  {
   "cell_type": "code",
   "execution_count": 3,
   "metadata": {},
   "outputs": [],
   "source": [
    "import math"
   ]
  },
  {
   "cell_type": "code",
   "execution_count": 4,
   "metadata": {},
   "outputs": [
    {
     "name": "stdout",
     "output_type": "stream",
     "text": [
      "Pi:  3.141592653589793\n"
     ]
    }
   ],
   "source": [
    "print(\"Pi: \", math.pi)"
   ]
  },
  {
   "cell_type": "code",
   "execution_count": 5,
   "metadata": {},
   "outputs": [
    {
     "name": "stdout",
     "output_type": "stream",
     "text": [
      "e:  2.718281828459045\n"
     ]
    }
   ],
   "source": [
    "print(\"e: \", math.e)"
   ]
  },
  {
   "cell_type": "code",
   "execution_count": 6,
   "metadata": {},
   "outputs": [
    {
     "data": {
      "text/plain": [
       "9"
      ]
     },
     "execution_count": 6,
     "metadata": {},
     "output_type": "execute_result"
    }
   ],
   "source": [
    "math.ceil(8.1)"
   ]
  },
  {
   "cell_type": "code",
   "execution_count": 7,
   "metadata": {},
   "outputs": [
    {
     "data": {
      "text/plain": [
       "8"
      ]
     },
     "execution_count": 7,
     "metadata": {},
     "output_type": "execute_result"
    }
   ],
   "source": [
    "math.floor(8.1)"
   ]
  },
  {
   "cell_type": "code",
   "execution_count": 8,
   "metadata": {},
   "outputs": [
    {
     "data": {
      "text/plain": [
       "16.0"
      ]
     },
     "execution_count": 8,
     "metadata": {},
     "output_type": "execute_result"
    }
   ],
   "source": [
    "math.pow(2, 4)"
   ]
  },
  {
   "cell_type": "code",
   "execution_count": 9,
   "metadata": {},
   "outputs": [
    {
     "data": {
      "text/plain": [
       "4.898979485566356"
      ]
     },
     "execution_count": 9,
     "metadata": {},
     "output_type": "execute_result"
    }
   ],
   "source": [
    "math.sqrt(24)"
   ]
  },
  {
   "cell_type": "code",
   "execution_count": 10,
   "metadata": {},
   "outputs": [
    {
     "data": {
      "text/plain": [
       "720"
      ]
     },
     "execution_count": 10,
     "metadata": {},
     "output_type": "execute_result"
    }
   ],
   "source": [
    "math.factorial(6)"
   ]
  },
  {
   "cell_type": "code",
   "execution_count": 1,
   "metadata": {},
   "outputs": [],
   "source": [
    "import os"
   ]
  },
  {
   "cell_type": "code",
   "execution_count": 2,
   "metadata": {},
   "outputs": [
    {
     "data": {
      "text/plain": [
       "'/Users/jananiravi/Desktop/Skillsoft/PythonTrack/FunctionsAndLambdas/Final'"
      ]
     },
     "execution_count": 2,
     "metadata": {},
     "output_type": "execute_result"
    }
   ],
   "source": [
    "os.getcwd()"
   ]
  },
  {
   "cell_type": "code",
   "execution_count": 3,
   "metadata": {},
   "outputs": [
    {
     "data": {
      "text/plain": [
       "environ({'SPARK_HOME': '/Users/jananiravi/spark2.0/spark-2.3.0-bin-hadoop2.7', 'TERM_PROGRAM': 'Apple_Terminal', 'PIG_HOME': '/Users/jananiravi/pig-install/pig-0.16.0', 'SHELL': '/bin/bash', 'TERM': 'xterm-color', 'HADOOP_HOME': '/Users/jananiravi/hadoop-install/hadoop-2.7.3', 'TMPDIR': '/var/folders/yd/1rlyjfk975d3bb98d7_nyt740000gn/T/', 'Apple_PubSub_Socket_Render': '/private/tmp/com.apple.launchd.dmkCLkLgFD/Render', 'TERM_PROGRAM_VERSION': '421.1', 'TERM_SESSION_ID': 'BA206CD4-0D18-407A-A789-C8DE041D3964', 'USER': 'jananiravi', 'PYSPARK_DRIVER_PYTHON': 'ipython', 'SSH_AUTH_SOCK': '/private/tmp/com.apple.launchd.hP8BrTf0Bz/Listeners', 'PATH': '/anaconda3/bin:/Users/jananiravi/gcp_vms/google-cloud-sdk/bin:/anaconda3/bin:/Users/jananiravi/spark2.0/spark-2.3.0-bin-hadoop2.7/bin:/usr/local/sbin:/usr/local/bin:/usr/bin:/bin:/usr/sbin:/sbin:/usr/local/mysql/bin:/Users/jananiravi/pig-install/pig-0.16.0/bin:/Users/jananiravi/hadoop-install/hadoop-2.7.3/bin:/Users/jananiravi/hive-install/apache-hive-2.1.1-bin/bin:/Users/jananiravi/apache-maven-3.3.9/bin:/Users/jananiravi/scala/scala-2.12.1/bin:/usr/local/mysql/bin', 'HIVE_HOME': '/Users/jananiravi/hive-install/apache-hive-2.1.1-bin', 'PWD': '/Users/jananiravi', 'JAVA_HOME': '/Library/Java/JavaVirtualMachines/jdk1.8.0_65.jdk/Contents/Home', 'LANG': 'en_US.UTF-8', 'PYSPARK_SUBMIT_ARGS': 'pyspark-shell', 'XPC_FLAGS': '0x0', 'PS1': '\\\\[\\\\e[34m\\\\]\\\\w\\\\[\\\\e[m\\\\]>\\\\n-->', 'XPC_SERVICE_NAME': '0', 'SHLVL': '1', 'HOME': '/Users/jananiravi', 'PYTHONPATH': '/Users/jananiravi/spark2.0/spark-2.3.0-bin-hadoop2.7/python/lib/py4j-0.10.6-src.zip:/Users/jananiravi/spark2.0/spark-2.3.0-bin-hadoop2.7/python/:', 'LOGNAME': 'jananiravi', 'CLASSPATH': ':/Users/jananiravi/hadoop-install/hadoop-2.7.3/lib/*:.:/Users/jananiravi/hive-install/apache-hive-2.1.1-bin/lib/*:', 'PYSPARK_DRIVER_PYTHON_OPTS': 'notebook', 'SCALA_HOME': '/Users/jananiravi/scala/scala-2.12.1', 'SECURITYSESSIONID': '186a8', '_': '/anaconda3/bin/jupyter', 'JPY_PARENT_PID': '4617', 'CLICOLOR': '1', 'PAGER': 'cat', 'GIT_PAGER': 'cat', 'MPLBACKEND': 'module://ipykernel.pylab.backend_inline'})"
      ]
     },
     "execution_count": 3,
     "metadata": {},
     "output_type": "execute_result"
    }
   ],
   "source": [
    "os.environ"
   ]
  },
  {
   "cell_type": "code",
   "execution_count": 4,
   "metadata": {},
   "outputs": [
    {
     "name": "stdout",
     "output_type": "stream",
     "text": [
      "User:  jananiravi\n"
     ]
    }
   ],
   "source": [
    "user = os.environ[\"USER\"] \n",
    "\n",
    "print(\"User: \", user)"
   ]
  },
  {
   "cell_type": "code",
   "execution_count": 5,
   "metadata": {},
   "outputs": [
    {
     "name": "stdout",
     "output_type": "stream",
     "text": [
      "Path:  /anaconda3/bin:/Users/jananiravi/gcp_vms/google-cloud-sdk/bin:/anaconda3/bin:/Users/jananiravi/spark2.0/spark-2.3.0-bin-hadoop2.7/bin:/usr/local/sbin:/usr/local/bin:/usr/bin:/bin:/usr/sbin:/sbin:/usr/local/mysql/bin:/Users/jananiravi/pig-install/pig-0.16.0/bin:/Users/jananiravi/hadoop-install/hadoop-2.7.3/bin:/Users/jananiravi/hive-install/apache-hive-2.1.1-bin/bin:/Users/jananiravi/apache-maven-3.3.9/bin:/Users/jananiravi/scala/scala-2.12.1/bin:/usr/local/mysql/bin\n"
     ]
    }
   ],
   "source": [
    "path = os.environ[\"PATH\"] \n",
    "\n",
    "print(\"Path: \", path)"
   ]
  },
  {
   "cell_type": "code",
   "execution_count": 6,
   "metadata": {},
   "outputs": [
    {
     "data": {
      "text/plain": [
       "['9.ArgumentPassingByReference.ipynb',\n",
       " '1.Functions.ipynb',\n",
       " '5.DefaultArguments.ipynb',\n",
       " '2.InputArguments.ipynb',\n",
       " '3.ReturnValues.ipynb',\n",
       " '7.LocalAndGlobalVariables.ipynb',\n",
       " '4.PositionalAndKeywordArguments.ipynb',\n",
       " '6.VariableLengthArguments.ipynb',\n",
       " '.ipynb_checkpoints',\n",
       " '8.ArgumentPassingByValue.ipynb',\n",
       " 'ModuleFunctions.ipynb']"
      ]
     },
     "execution_count": 6,
     "metadata": {},
     "output_type": "execute_result"
    }
   ],
   "source": [
    "os.listdir()"
   ]
  },
  {
   "cell_type": "code",
   "execution_count": 7,
   "metadata": {},
   "outputs": [],
   "source": [
    "os.mkdir(\"./my_temp_dir\")"
   ]
  },
  {
   "cell_type": "code",
   "execution_count": 8,
   "metadata": {},
   "outputs": [
    {
     "data": {
      "text/plain": [
       "['9.ArgumentPassingByReference.ipynb',\n",
       " '1.Functions.ipynb',\n",
       " '5.DefaultArguments.ipynb',\n",
       " '2.InputArguments.ipynb',\n",
       " '3.ReturnValues.ipynb',\n",
       " '7.LocalAndGlobalVariables.ipynb',\n",
       " '4.PositionalAndKeywordArguments.ipynb',\n",
       " '6.VariableLengthArguments.ipynb',\n",
       " '.ipynb_checkpoints',\n",
       " '8.ArgumentPassingByValue.ipynb',\n",
       " 'ModuleFunctions.ipynb',\n",
       " 'my_temp_dir']"
      ]
     },
     "execution_count": 8,
     "metadata": {},
     "output_type": "execute_result"
    }
   ],
   "source": [
    "os.listdir(\".\")"
   ]
  },
  {
   "cell_type": "code",
   "execution_count": 9,
   "metadata": {},
   "outputs": [],
   "source": [
    "os.rename(\"my_temp_dir\", \"my_new_dir\")"
   ]
  },
  {
   "cell_type": "code",
   "execution_count": 10,
   "metadata": {},
   "outputs": [
    {
     "data": {
      "text/plain": [
       "['9.ArgumentPassingByReference.ipynb',\n",
       " '1.Functions.ipynb',\n",
       " '5.DefaultArguments.ipynb',\n",
       " '2.InputArguments.ipynb',\n",
       " '3.ReturnValues.ipynb',\n",
       " '7.LocalAndGlobalVariables.ipynb',\n",
       " '4.PositionalAndKeywordArguments.ipynb',\n",
       " 'my_new_dir',\n",
       " '6.VariableLengthArguments.ipynb',\n",
       " '.ipynb_checkpoints',\n",
       " '8.ArgumentPassingByValue.ipynb',\n",
       " 'ModuleFunctions.ipynb']"
      ]
     },
     "execution_count": 10,
     "metadata": {},
     "output_type": "execute_result"
    }
   ],
   "source": [
    "os.listdir(\".\")"
   ]
  },
  {
   "cell_type": "code",
   "execution_count": 11,
   "metadata": {},
   "outputs": [],
   "source": [
    "os.rmdir(\"my_new_dir\")"
   ]
  },
  {
   "cell_type": "code",
   "execution_count": 12,
   "metadata": {},
   "outputs": [
    {
     "data": {
      "text/plain": [
       "['9.ArgumentPassingByReference.ipynb',\n",
       " '1.Functions.ipynb',\n",
       " '5.DefaultArguments.ipynb',\n",
       " '2.InputArguments.ipynb',\n",
       " '3.ReturnValues.ipynb',\n",
       " '7.LocalAndGlobalVariables.ipynb',\n",
       " '4.PositionalAndKeywordArguments.ipynb',\n",
       " '6.VariableLengthArguments.ipynb',\n",
       " '.ipynb_checkpoints',\n",
       " '8.ArgumentPassingByValue.ipynb',\n",
       " 'ModuleFunctions.ipynb']"
      ]
     },
     "execution_count": 12,
     "metadata": {},
     "output_type": "execute_result"
    }
   ],
   "source": [
    "os.listdir(\".\")"
   ]
  },
  {
   "cell_type": "code",
   "execution_count": 13,
   "metadata": {},
   "outputs": [],
   "source": [
    "os.mkdir(\"./my_temp_dir\")"
   ]
  },
  {
   "cell_type": "code",
   "execution_count": 14,
   "metadata": {},
   "outputs": [
    {
     "data": {
      "text/plain": [
       "'/Users/jananiravi/Desktop/Skillsoft/PythonTrack/FunctionsAndLambdas/Final'"
      ]
     },
     "execution_count": 14,
     "metadata": {},
     "output_type": "execute_result"
    }
   ],
   "source": [
    "cwd = os.getcwd()\n",
    "\n",
    "cwd"
   ]
  },
  {
   "cell_type": "code",
   "execution_count": 15,
   "metadata": {},
   "outputs": [
    {
     "data": {
      "text/plain": [
       "True"
      ]
     },
     "execution_count": 15,
     "metadata": {},
     "output_type": "execute_result"
    }
   ],
   "source": [
    "os.path.isdir(cwd)"
   ]
  },
  {
   "cell_type": "code",
   "execution_count": 16,
   "metadata": {},
   "outputs": [
    {
     "data": {
      "text/plain": [
       "False"
      ]
     },
     "execution_count": 16,
     "metadata": {},
     "output_type": "execute_result"
    }
   ],
   "source": [
    "os.path.isfile(cwd)"
   ]
  },
  {
   "cell_type": "code",
   "execution_count": 17,
   "metadata": {},
   "outputs": [],
   "source": [
    "from os import path"
   ]
  },
  {
   "cell_type": "code",
   "execution_count": 18,
   "metadata": {},
   "outputs": [
    {
     "data": {
      "text/plain": [
       "True"
      ]
     },
     "execution_count": 18,
     "metadata": {},
     "output_type": "execute_result"
    }
   ],
   "source": [
    "path.isdir(cwd)"
   ]
  },
  {
   "cell_type": "code",
   "execution_count": 19,
   "metadata": {},
   "outputs": [
    {
     "data": {
      "text/plain": [
       "False"
      ]
     },
     "execution_count": 19,
     "metadata": {},
     "output_type": "execute_result"
    }
   ],
   "source": [
    "path.isfile(cwd)"
   ]
  },
  {
   "cell_type": "code",
   "execution_count": 20,
   "metadata": {},
   "outputs": [
    {
     "data": {
      "text/plain": [
       "True"
      ]
     },
     "execution_count": 20,
     "metadata": {},
     "output_type": "execute_result"
    }
   ],
   "source": [
    "path.exists(\"my_temp_dir\")"
   ]
  },
  {
   "cell_type": "code",
   "execution_count": 21,
   "metadata": {},
   "outputs": [
    {
     "data": {
      "text/plain": [
       "False"
      ]
     },
     "execution_count": 21,
     "metadata": {},
     "output_type": "execute_result"
    }
   ],
   "source": [
    "path.exists(\"random_dir\")"
   ]
  },
  {
   "cell_type": "code",
   "execution_count": 22,
   "metadata": {},
   "outputs": [],
   "source": [
    "import random"
   ]
  },
  {
   "cell_type": "code",
   "execution_count": 23,
   "metadata": {},
   "outputs": [
    {
     "data": {
      "text/plain": [
       "0.8652560792009796"
      ]
     },
     "execution_count": 23,
     "metadata": {},
     "output_type": "execute_result"
    }
   ],
   "source": [
    "random.random()"
   ]
  },
  {
   "cell_type": "code",
   "execution_count": 24,
   "metadata": {},
   "outputs": [
    {
     "data": {
      "text/plain": [
       "0.6259559765863827"
      ]
     },
     "execution_count": 24,
     "metadata": {},
     "output_type": "execute_result"
    }
   ],
   "source": [
    "random.random()"
   ]
  },
  {
   "cell_type": "code",
   "execution_count": 25,
   "metadata": {},
   "outputs": [
    {
     "data": {
      "text/plain": [
       "0"
      ]
     },
     "execution_count": 25,
     "metadata": {},
     "output_type": "execute_result"
    }
   ],
   "source": [
    "random.randint(0, 10)"
   ]
  },
  {
   "cell_type": "code",
   "execution_count": 26,
   "metadata": {},
   "outputs": [
    {
     "data": {
      "text/plain": [
       "8"
      ]
     },
     "execution_count": 26,
     "metadata": {},
     "output_type": "execute_result"
    }
   ],
   "source": [
    "random.randint(0, 10)"
   ]
  },
  {
   "cell_type": "code",
   "execution_count": 27,
   "metadata": {},
   "outputs": [
    {
     "data": {
      "text/plain": [
       "4"
      ]
     },
     "execution_count": 27,
     "metadata": {},
     "output_type": "execute_result"
    }
   ],
   "source": [
    "random.randint(0, 10)"
   ]
  },
  {
   "cell_type": "code",
   "execution_count": 29,
   "metadata": {},
   "outputs": [],
   "source": [
    "my_list = [\"John\", \"Roy\", True, 34, \"Rose\", 12.9]"
   ]
  },
  {
   "cell_type": "code",
   "execution_count": 30,
   "metadata": {},
   "outputs": [
    {
     "data": {
      "text/plain": [
       "True"
      ]
     },
     "execution_count": 30,
     "metadata": {},
     "output_type": "execute_result"
    }
   ],
   "source": [
    "random.choice(my_list)"
   ]
  },
  {
   "cell_type": "code",
   "execution_count": 31,
   "metadata": {},
   "outputs": [
    {
     "data": {
      "text/plain": [
       "'Roy'"
      ]
     },
     "execution_count": 31,
     "metadata": {},
     "output_type": "execute_result"
    }
   ],
   "source": [
    "random.choice(my_list)"
   ]
  },
  {
   "cell_type": "code",
   "execution_count": 32,
   "metadata": {},
   "outputs": [
    {
     "data": {
      "text/plain": [
       "True"
      ]
     },
     "execution_count": 32,
     "metadata": {},
     "output_type": "execute_result"
    }
   ],
   "source": [
    "random.choice(my_list)"
   ]
  },
  {
   "cell_type": "code",
   "execution_count": 33,
   "metadata": {},
   "outputs": [],
   "source": [
    "import datetime"
   ]
  },
  {
   "cell_type": "code",
   "execution_count": 34,
   "metadata": {},
   "outputs": [
    {
     "data": {
      "text/plain": [
       "datetime.date(2019, 8, 10)"
      ]
     },
     "execution_count": 34,
     "metadata": {},
     "output_type": "execute_result"
    }
   ],
   "source": [
    "datetime.date.today()"
   ]
  },
  {
   "cell_type": "code",
   "execution_count": 35,
   "metadata": {},
   "outputs": [
    {
     "data": {
      "text/plain": [
       "datetime.datetime(2019, 8, 10, 17, 28, 31, 340395)"
      ]
     },
     "execution_count": 35,
     "metadata": {},
     "output_type": "execute_result"
    }
   ],
   "source": [
    "datetime.datetime.now()"
   ]
  },
  {
   "cell_type": "code",
   "execution_count": null,
   "metadata": {},
   "outputs": [],
   "source": []
  }
 ],
 "metadata": {
  "kernelspec": {
   "display_name": "Python 3",
   "language": "python",
   "name": "python3"
  },
  "language_info": {
   "codemirror_mode": {
    "name": "ipython",
    "version": 3
   },
   "file_extension": ".py",
   "mimetype": "text/x-python",
   "name": "python",
   "nbconvert_exporter": "python",
   "pygments_lexer": "ipython3",
   "version": "3.6.4"
  }
 },
 "nbformat": 4,
 "nbformat_minor": 2
}
