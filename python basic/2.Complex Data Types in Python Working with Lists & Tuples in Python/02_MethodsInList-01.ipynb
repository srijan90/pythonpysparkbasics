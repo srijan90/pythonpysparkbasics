{
 "cells": [
  {
   "cell_type": "code",
   "execution_count": 1,
   "metadata": {},
   "outputs": [
    {
     "data": {
      "text/plain": [
       "['Toyota Camry', 'Honda Accord', 'Honda Civic', 'Toyota Corolla']"
      ]
     },
     "execution_count": 1,
     "metadata": {},
     "output_type": "execute_result"
    }
   ],
   "source": [
    "cars_list = ['Toyota Camry', 'Honda Accord',\n",
    "             'Honda Civic', 'Toyota Corolla']\n",
    "\n",
    "cars_list"
   ]
  },
  {
   "cell_type": "code",
   "execution_count": 2,
   "metadata": {},
   "outputs": [
    {
     "ename": "IndexError",
     "evalue": "list assignment index out of range",
     "output_type": "error",
     "traceback": [
      "\u001b[0;31m---------------------------------------------------------------------------\u001b[0m",
      "\u001b[0;31mIndexError\u001b[0m                                Traceback (most recent call last)",
      "\u001b[0;32m<ipython-input-2-57a351ab2750>\u001b[0m in \u001b[0;36m<module>\u001b[0;34m()\u001b[0m\n\u001b[0;32m----> 1\u001b[0;31m \u001b[0mcars_list\u001b[0m\u001b[0;34m[\u001b[0m\u001b[0;36m4\u001b[0m\u001b[0;34m]\u001b[0m \u001b[0;34m=\u001b[0m \u001b[0;34m'Hyundai Elantra'\u001b[0m\u001b[0;34m\u001b[0m\u001b[0m\n\u001b[0m\u001b[1;32m      2\u001b[0m \u001b[0;34m\u001b[0m\u001b[0m\n\u001b[1;32m      3\u001b[0m \u001b[0mcars_list\u001b[0m\u001b[0;34m\u001b[0m\u001b[0m\n",
      "\u001b[0;31mIndexError\u001b[0m: list assignment index out of range"
     ]
    }
   ],
   "source": [
    "cars_list[4] = 'Hyundai Elantra'\n",
    "\n",
    "cars_list"
   ]
  },
  {
   "cell_type": "code",
   "execution_count": 3,
   "metadata": {},
   "outputs": [
    {
     "data": {
      "text/plain": [
       "['Toyota Camry',\n",
       " 'Honda Accord',\n",
       " 'Honda Civic',\n",
       " 'Toyota Corolla',\n",
       " 'Hyundai Elantra']"
      ]
     },
     "execution_count": 3,
     "metadata": {},
     "output_type": "execute_result"
    }
   ],
   "source": [
    "cars_list.append('Hyundai Elantra')\n",
    "\n",
    "cars_list"
   ]
  },
  {
   "cell_type": "code",
   "execution_count": 4,
   "metadata": {},
   "outputs": [
    {
     "ename": "TypeError",
     "evalue": "append() takes exactly one argument (2 given)",
     "output_type": "error",
     "traceback": [
      "\u001b[0;31m---------------------------------------------------------------------------\u001b[0m",
      "\u001b[0;31mTypeError\u001b[0m                                 Traceback (most recent call last)",
      "\u001b[0;32m<ipython-input-4-69d061c925b1>\u001b[0m in \u001b[0;36m<module>\u001b[0;34m()\u001b[0m\n\u001b[0;32m----> 1\u001b[0;31m \u001b[0mcars_list\u001b[0m\u001b[0;34m.\u001b[0m\u001b[0mappend\u001b[0m\u001b[0;34m(\u001b[0m\u001b[0;34m'Nissan Sentra'\u001b[0m\u001b[0;34m,\u001b[0m\u001b[0;34m'Ford Fusion'\u001b[0m\u001b[0;34m)\u001b[0m\u001b[0;34m\u001b[0m\u001b[0m\n\u001b[0m\u001b[1;32m      2\u001b[0m \u001b[0;34m\u001b[0m\u001b[0m\n\u001b[1;32m      3\u001b[0m \u001b[0mcars_list\u001b[0m\u001b[0;34m\u001b[0m\u001b[0m\n",
      "\u001b[0;31mTypeError\u001b[0m: append() takes exactly one argument (2 given)"
     ]
    }
   ],
   "source": [
    "cars_list.append('Nissan Sentra','Ford Fusion')\n",
    "\n",
    "cars_list"
   ]
  },
  {
   "cell_type": "code",
   "execution_count": 5,
   "metadata": {},
   "outputs": [
    {
     "data": {
      "text/plain": [
       "5"
      ]
     },
     "execution_count": 5,
     "metadata": {},
     "output_type": "execute_result"
    }
   ],
   "source": [
    "len(cars_list)"
   ]
  },
  {
   "cell_type": "code",
   "execution_count": 6,
   "metadata": {},
   "outputs": [
    {
     "data": {
      "text/plain": [
       "['Toyota Camry',\n",
       " 'Honda Accord',\n",
       " 'Honda Civic',\n",
       " 'Toyota Corolla',\n",
       " 'Hyundai Elantra',\n",
       " 'Nissan Sentra']"
      ]
     },
     "execution_count": 6,
     "metadata": {},
     "output_type": "execute_result"
    }
   ],
   "source": [
    "cars_list.insert(6, 'Nissan Sentra')\n",
    "\n",
    "cars_list"
   ]
  },
  {
   "cell_type": "code",
   "execution_count": 7,
   "metadata": {},
   "outputs": [
    {
     "data": {
      "text/plain": [
       "6"
      ]
     },
     "execution_count": 7,
     "metadata": {},
     "output_type": "execute_result"
    }
   ],
   "source": [
    "len(cars_list)"
   ]
  },
  {
   "cell_type": "code",
   "execution_count": 8,
   "metadata": {},
   "outputs": [
    {
     "data": {
      "text/plain": [
       "['Toyota Camry',\n",
       " 'Honda Accord',\n",
       " 'Honda Civic',\n",
       " 'Toyota Corolla',\n",
       " 'Hyundai Elantra',\n",
       " 'Nissan Altima',\n",
       " 'Nissan Sentra']"
      ]
     },
     "execution_count": 8,
     "metadata": {},
     "output_type": "execute_result"
    }
   ],
   "source": [
    "cars_list.insert(5, 'Nissan Altima')\n",
    "\n",
    "cars_list"
   ]
  },
  {
   "cell_type": "code",
   "execution_count": 9,
   "metadata": {},
   "outputs": [
    {
     "data": {
      "text/plain": [
       "['Toyota Camry',\n",
       " 'Honda Accord',\n",
       " 'Honda Civic',\n",
       " 'Toyota Corolla',\n",
       " 'Hyundai Elantra',\n",
       " 'Nissan Altima',\n",
       " 'Nissan Sentra',\n",
       " 'Kia Optima',\n",
       " 'Kia Soul']"
      ]
     },
     "execution_count": 9,
     "metadata": {},
     "output_type": "execute_result"
    }
   ],
   "source": [
    "cars_list.extend(['Kia Optima', 'Kia Soul'])\n",
    "\n",
    "cars_list"
   ]
  },
  {
   "cell_type": "code",
   "execution_count": 10,
   "metadata": {},
   "outputs": [
    {
     "data": {
      "text/plain": [
       "['Hennessey Venom GT', 'Bugatti Veyron', 'Koenigsegg Agera R']"
      ]
     },
     "execution_count": 10,
     "metadata": {},
     "output_type": "execute_result"
    }
   ],
   "source": [
    "cars_list2 = ['Hennessey Venom GT', 'Bugatti Veyron', 'Koenigsegg Agera R']\n",
    "\n",
    "cars_list2"
   ]
  },
  {
   "cell_type": "code",
   "execution_count": 11,
   "metadata": {},
   "outputs": [
    {
     "data": {
      "text/plain": [
       "['Toyota Camry',\n",
       " 'Honda Accord',\n",
       " 'Honda Civic',\n",
       " 'Toyota Corolla',\n",
       " 'Hyundai Elantra',\n",
       " 'Nissan Altima',\n",
       " 'Nissan Sentra',\n",
       " 'Kia Optima',\n",
       " 'Kia Soul',\n",
       " 'Hennessey Venom GT',\n",
       " 'Bugatti Veyron',\n",
       " 'Koenigsegg Agera R']"
      ]
     },
     "execution_count": 11,
     "metadata": {},
     "output_type": "execute_result"
    }
   ],
   "source": [
    "complete_cars_list = cars_list + cars_list2\n",
    "\n",
    "complete_cars_list"
   ]
  },
  {
   "cell_type": "code",
   "execution_count": 12,
   "metadata": {},
   "outputs": [
    {
     "data": {
      "text/plain": [
       "['Toyota Camry',\n",
       " 'Honda Accord',\n",
       " 'Honda Civic',\n",
       " 'Toyota Corolla',\n",
       " 'Hyundai Elantra',\n",
       " 'Nissan Altima',\n",
       " 'Nissan Sentra',\n",
       " 'Kia Optima',\n",
       " 'Kia Soul']"
      ]
     },
     "execution_count": 12,
     "metadata": {},
     "output_type": "execute_result"
    }
   ],
   "source": [
    "cars_list"
   ]
  },
  {
   "cell_type": "code",
   "execution_count": 13,
   "metadata": {},
   "outputs": [
    {
     "data": {
      "text/plain": [
       "2"
      ]
     },
     "execution_count": 13,
     "metadata": {},
     "output_type": "execute_result"
    }
   ],
   "source": [
    "complete_cars_list.index('Honda Civic')"
   ]
  },
  {
   "cell_type": "code",
   "execution_count": 14,
   "metadata": {},
   "outputs": [
    {
     "ename": "ValueError",
     "evalue": "'honda Civic' is not in list",
     "output_type": "error",
     "traceback": [
      "\u001b[0;31m---------------------------------------------------------------------------\u001b[0m",
      "\u001b[0;31mValueError\u001b[0m                                Traceback (most recent call last)",
      "\u001b[0;32m<ipython-input-14-d2b633d5b12b>\u001b[0m in \u001b[0;36m<module>\u001b[0;34m()\u001b[0m\n\u001b[0;32m----> 1\u001b[0;31m \u001b[0mcomplete_cars_list\u001b[0m\u001b[0;34m.\u001b[0m\u001b[0mindex\u001b[0m\u001b[0;34m(\u001b[0m\u001b[0;34m'honda Civic'\u001b[0m\u001b[0;34m)\u001b[0m\u001b[0;34m\u001b[0m\u001b[0m\n\u001b[0m",
      "\u001b[0;31mValueError\u001b[0m: 'honda Civic' is not in list"
     ]
    }
   ],
   "source": [
    "complete_cars_list.index('honda Civic')"
   ]
  },
  {
   "cell_type": "code",
   "execution_count": 15,
   "metadata": {},
   "outputs": [
    {
     "data": {
      "text/plain": [
       "4"
      ]
     },
     "execution_count": 15,
     "metadata": {},
     "output_type": "execute_result"
    }
   ],
   "source": [
    "complete_cars_list.index('Hyundai Elantra')"
   ]
  },
  {
   "cell_type": "code",
   "execution_count": 16,
   "metadata": {},
   "outputs": [
    {
     "data": {
      "text/plain": [
       "['Toyota Camry',\n",
       " 'Honda Accord',\n",
       " 'Honda Civic',\n",
       " 'Toyota Corolla',\n",
       " 'Nissan Altima',\n",
       " 'Nissan Sentra',\n",
       " 'Kia Optima',\n",
       " 'Kia Soul',\n",
       " 'Hennessey Venom GT',\n",
       " 'Bugatti Veyron',\n",
       " 'Koenigsegg Agera R']"
      ]
     },
     "execution_count": 16,
     "metadata": {},
     "output_type": "execute_result"
    }
   ],
   "source": [
    "complete_cars_list.remove('Hyundai Elantra')\n",
    "\n",
    "complete_cars_list"
   ]
  },
  {
   "cell_type": "code",
   "execution_count": 17,
   "metadata": {},
   "outputs": [
    {
     "ename": "ValueError",
     "evalue": "'Hyundai Elantra' is not in list",
     "output_type": "error",
     "traceback": [
      "\u001b[0;31m---------------------------------------------------------------------------\u001b[0m",
      "\u001b[0;31mValueError\u001b[0m                                Traceback (most recent call last)",
      "\u001b[0;32m<ipython-input-17-6fdc31c2bb40>\u001b[0m in \u001b[0;36m<module>\u001b[0;34m()\u001b[0m\n\u001b[0;32m----> 1\u001b[0;31m \u001b[0mcomplete_cars_list\u001b[0m\u001b[0;34m.\u001b[0m\u001b[0mindex\u001b[0m\u001b[0;34m(\u001b[0m\u001b[0;34m'Hyundai Elantra'\u001b[0m\u001b[0;34m)\u001b[0m\u001b[0;34m\u001b[0m\u001b[0m\n\u001b[0m",
      "\u001b[0;31mValueError\u001b[0m: 'Hyundai Elantra' is not in list"
     ]
    }
   ],
   "source": [
    "complete_cars_list.index('Hyundai Elantra')"
   ]
  },
  {
   "cell_type": "code",
   "execution_count": 18,
   "metadata": {},
   "outputs": [
    {
     "data": {
      "text/plain": [
       "['Toyota Camry',\n",
       " 'Honda Accord',\n",
       " 'Honda Civic',\n",
       " 'Toyota Corolla',\n",
       " 'Nissan Altima',\n",
       " 'Nissan Sentra',\n",
       " 'Kia Optima',\n",
       " 'Kia Soul',\n",
       " 'Hennessey Venom GT',\n",
       " 'Bugatti Veyron',\n",
       " 'Koenigsegg Agera R',\n",
       " 'Chevrolet Cruze',\n",
       " 'Chevrolet Malibu']"
      ]
     },
     "execution_count": 18,
     "metadata": {},
     "output_type": "execute_result"
    }
   ],
   "source": [
    "complete_cars_list += ['Chevrolet Cruze', 'Chevrolet Malibu']\n",
    "\n",
    "complete_cars_list"
   ]
  },
  {
   "cell_type": "code",
   "execution_count": 19,
   "metadata": {},
   "outputs": [
    {
     "data": {
      "text/plain": [
       "['Bugatti Veyron',\n",
       " 'Chevrolet Cruze',\n",
       " 'Chevrolet Malibu',\n",
       " 'Hennessey Venom GT',\n",
       " 'Honda Accord',\n",
       " 'Honda Civic',\n",
       " 'Kia Optima',\n",
       " 'Kia Soul',\n",
       " 'Koenigsegg Agera R',\n",
       " 'Nissan Altima',\n",
       " 'Nissan Sentra',\n",
       " 'Toyota Camry',\n",
       " 'Toyota Corolla']"
      ]
     },
     "execution_count": 19,
     "metadata": {},
     "output_type": "execute_result"
    }
   ],
   "source": [
    "complete_cars_list.sort()\n",
    "\n",
    "complete_cars_list"
   ]
  },
  {
   "cell_type": "code",
   "execution_count": 20,
   "metadata": {},
   "outputs": [
    {
     "data": {
      "text/plain": [
       "['Toyota Corolla',\n",
       " 'Toyota Camry',\n",
       " 'Nissan Sentra',\n",
       " 'Nissan Altima',\n",
       " 'Koenigsegg Agera R',\n",
       " 'Kia Soul',\n",
       " 'Kia Optima',\n",
       " 'Honda Civic',\n",
       " 'Honda Accord',\n",
       " 'Hennessey Venom GT',\n",
       " 'Chevrolet Malibu',\n",
       " 'Chevrolet Cruze',\n",
       " 'Bugatti Veyron']"
      ]
     },
     "execution_count": 20,
     "metadata": {},
     "output_type": "execute_result"
    }
   ],
   "source": [
    "complete_cars_list.reverse()\n",
    "\n",
    "complete_cars_list"
   ]
  },
  {
   "cell_type": "code",
   "execution_count": 21,
   "metadata": {},
   "outputs": [
    {
     "data": {
      "text/plain": [
       "['Toyota Corolla',\n",
       " 'Toyota Camry',\n",
       " 'Nissan Sentra',\n",
       " 'Nissan Altima',\n",
       " 'Koenigsegg Agera R',\n",
       " 'Kia Soul',\n",
       " 'Kia Optima',\n",
       " 'Honda Civic',\n",
       " 'Honda Accord',\n",
       " 'Hennessey Venom GT',\n",
       " 'Chevrolet Malibu',\n",
       " 'Chevrolet Cruze']"
      ]
     },
     "execution_count": 21,
     "metadata": {},
     "output_type": "execute_result"
    }
   ],
   "source": [
    "complete_cars_list.pop()\n",
    "\n",
    "complete_cars_list"
   ]
  },
  {
   "cell_type": "code",
   "execution_count": 22,
   "metadata": {},
   "outputs": [
    {
     "data": {
      "text/plain": [
       "['Toyota Corolla',\n",
       " 'Toyota Camry',\n",
       " 'Nissan Sentra',\n",
       " 'Nissan Altima',\n",
       " 'Koenigsegg Agera R',\n",
       " 'Kia Soul',\n",
       " 'Kia Optima',\n",
       " 'Honda Civic',\n",
       " 'Honda Accord',\n",
       " 'Hennessey Venom GT',\n",
       " 'Chevrolet Malibu']"
      ]
     },
     "execution_count": 22,
     "metadata": {},
     "output_type": "execute_result"
    }
   ],
   "source": [
    "complete_cars_list.pop()\n",
    "\n",
    "complete_cars_list"
   ]
  },
  {
   "cell_type": "code",
   "execution_count": 23,
   "metadata": {},
   "outputs": [
    {
     "data": {
      "text/plain": [
       "['Toyota Corolla',\n",
       " 'Toyota Camry',\n",
       " 'Nissan Sentra',\n",
       " 'Nissan Altima',\n",
       " 'Koenigsegg Agera R',\n",
       " 'Kia Soul',\n",
       " 'Kia Optima',\n",
       " 'Honda Civic',\n",
       " 'Honda Accord',\n",
       " 'Hennessey Venom GT',\n",
       " 'Chevrolet Malibu',\n",
       " 'Nissan Altima']"
      ]
     },
     "execution_count": 23,
     "metadata": {},
     "output_type": "execute_result"
    }
   ],
   "source": [
    "complete_cars_list.append('Nissan Altima')\n",
    "\n",
    "complete_cars_list"
   ]
  },
  {
   "cell_type": "code",
   "execution_count": 24,
   "metadata": {},
   "outputs": [
    {
     "data": {
      "text/plain": [
       "0"
      ]
     },
     "execution_count": 24,
     "metadata": {},
     "output_type": "execute_result"
    }
   ],
   "source": [
    "complete_cars_list.count('honda Civic')"
   ]
  },
  {
   "cell_type": "code",
   "execution_count": 25,
   "metadata": {},
   "outputs": [
    {
     "data": {
      "text/plain": [
       "1"
      ]
     },
     "execution_count": 25,
     "metadata": {},
     "output_type": "execute_result"
    }
   ],
   "source": [
    "complete_cars_list.count('Honda Civic')"
   ]
  },
  {
   "cell_type": "code",
   "execution_count": 26,
   "metadata": {},
   "outputs": [
    {
     "data": {
      "text/plain": [
       "2"
      ]
     },
     "execution_count": 26,
     "metadata": {},
     "output_type": "execute_result"
    }
   ],
   "source": [
    "complete_cars_list.count('Nissan Altima')"
   ]
  },
  {
   "cell_type": "code",
   "execution_count": 27,
   "metadata": {},
   "outputs": [
    {
     "data": {
      "text/plain": [
       "{'Chevrolet Malibu',\n",
       " 'Hennessey Venom GT',\n",
       " 'Honda Accord',\n",
       " 'Honda Civic',\n",
       " 'Kia Optima',\n",
       " 'Kia Soul',\n",
       " 'Koenigsegg Agera R',\n",
       " 'Nissan Altima',\n",
       " 'Nissan Sentra',\n",
       " 'Toyota Camry',\n",
       " 'Toyota Corolla'}"
      ]
     },
     "execution_count": 27,
     "metadata": {},
     "output_type": "execute_result"
    }
   ],
   "source": [
    "set(complete_cars_list)"
   ]
  },
  {
   "cell_type": "code",
   "execution_count": 28,
   "metadata": {},
   "outputs": [
    {
     "name": "stdout",
     "output_type": "stream",
     "text": [
      "['Toyota Camry', 'Honda Accord', 'Honda Civic', 'Toyota Corolla', 'Hyundai Elantra', 'Nissan Altima', 'Nissan Sentra', 'Kia Optima', 'Kia Soul']\n"
     ]
    }
   ],
   "source": [
    "print(cars_list)"
   ]
  },
  {
   "cell_type": "code",
   "execution_count": 29,
   "metadata": {},
   "outputs": [],
   "source": [
    "cars_list.clear()"
   ]
  },
  {
   "cell_type": "code",
   "execution_count": 30,
   "metadata": {},
   "outputs": [
    {
     "data": {
      "text/plain": [
       "[]"
      ]
     },
     "execution_count": 30,
     "metadata": {},
     "output_type": "execute_result"
    }
   ],
   "source": [
    "cars_list"
   ]
  },
  {
   "cell_type": "code",
   "execution_count": 31,
   "metadata": {},
   "outputs": [
    {
     "data": {
      "text/plain": [
       "['Toyota Corolla',\n",
       " 'Toyota Camry',\n",
       " 'Nissan Sentra',\n",
       " 'Nissan Altima',\n",
       " 'Koenigsegg Agera R',\n",
       " 'Kia Soul',\n",
       " 'Kia Optima',\n",
       " 'Honda Civic',\n",
       " 'Honda Accord',\n",
       " 'Hennessey Venom GT',\n",
       " 'Chevrolet Malibu',\n",
       " 'Nissan Altima']"
      ]
     },
     "execution_count": 31,
     "metadata": {},
     "output_type": "execute_result"
    }
   ],
   "source": [
    "complete_cars_list"
   ]
  },
  {
   "cell_type": "code",
   "execution_count": 32,
   "metadata": {},
   "outputs": [],
   "source": [
    "new_cars_list = complete_cars_list.copy()"
   ]
  },
  {
   "cell_type": "code",
   "execution_count": 33,
   "metadata": {},
   "outputs": [],
   "source": [
    "del complete_cars_list"
   ]
  },
  {
   "cell_type": "code",
   "execution_count": 34,
   "metadata": {},
   "outputs": [
    {
     "ename": "NameError",
     "evalue": "name 'complete_cars_list' is not defined",
     "output_type": "error",
     "traceback": [
      "\u001b[0;31m---------------------------------------------------------------------------\u001b[0m",
      "\u001b[0;31mNameError\u001b[0m                                 Traceback (most recent call last)",
      "\u001b[0;32m<ipython-input-34-686e73c6e8ec>\u001b[0m in \u001b[0;36m<module>\u001b[0;34m()\u001b[0m\n\u001b[0;32m----> 1\u001b[0;31m \u001b[0mcomplete_cars_list\u001b[0m\u001b[0;34m\u001b[0m\u001b[0m\n\u001b[0m",
      "\u001b[0;31mNameError\u001b[0m: name 'complete_cars_list' is not defined"
     ]
    }
   ],
   "source": [
    "complete_cars_list"
   ]
  },
  {
   "cell_type": "code",
   "execution_count": 35,
   "metadata": {},
   "outputs": [
    {
     "data": {
      "text/plain": [
       "['Toyota Corolla',\n",
       " 'Toyota Camry',\n",
       " 'Nissan Sentra',\n",
       " 'Nissan Altima',\n",
       " 'Koenigsegg Agera R',\n",
       " 'Kia Soul',\n",
       " 'Kia Optima',\n",
       " 'Honda Civic',\n",
       " 'Honda Accord',\n",
       " 'Hennessey Venom GT',\n",
       " 'Chevrolet Malibu',\n",
       " 'Nissan Altima']"
      ]
     },
     "execution_count": 35,
     "metadata": {},
     "output_type": "execute_result"
    }
   ],
   "source": [
    "new_cars_list"
   ]
  },
  {
   "cell_type": "code",
   "execution_count": 36,
   "metadata": {},
   "outputs": [
    {
     "data": {
      "text/plain": [
       "['Toyota Corolla',\n",
       " 'Toyota Camry',\n",
       " 'Nissan Sentra',\n",
       " 'Nissan Altima',\n",
       " 'Koenigsegg Agera R',\n",
       " 'Kia Soul',\n",
       " 'Kia Optima',\n",
       " 'Honda Civic',\n",
       " 'Honda Accord',\n",
       " 'Hennessey Venom GT',\n",
       " 'Chevrolet Malibu',\n",
       " 'Nissan Altima']"
      ]
     },
     "execution_count": 36,
     "metadata": {},
     "output_type": "execute_result"
    }
   ],
   "source": [
    "another_cars_list = new_cars_list\n",
    "\n",
    "another_cars_list"
   ]
  },
  {
   "cell_type": "code",
   "execution_count": 37,
   "metadata": {},
   "outputs": [],
   "source": [
    "another_cars_list.remove('Hennessey Venom GT')"
   ]
  },
  {
   "cell_type": "code",
   "execution_count": 38,
   "metadata": {},
   "outputs": [
    {
     "data": {
      "text/plain": [
       "['Toyota Corolla',\n",
       " 'Toyota Camry',\n",
       " 'Nissan Sentra',\n",
       " 'Nissan Altima',\n",
       " 'Koenigsegg Agera R',\n",
       " 'Kia Soul',\n",
       " 'Kia Optima',\n",
       " 'Honda Civic',\n",
       " 'Honda Accord',\n",
       " 'Chevrolet Malibu',\n",
       " 'Nissan Altima']"
      ]
     },
     "execution_count": 38,
     "metadata": {},
     "output_type": "execute_result"
    }
   ],
   "source": [
    "another_cars_list"
   ]
  },
  {
   "cell_type": "code",
   "execution_count": 39,
   "metadata": {},
   "outputs": [
    {
     "data": {
      "text/plain": [
       "['Toyota Corolla',\n",
       " 'Toyota Camry',\n",
       " 'Nissan Sentra',\n",
       " 'Nissan Altima',\n",
       " 'Koenigsegg Agera R',\n",
       " 'Kia Soul',\n",
       " 'Kia Optima',\n",
       " 'Honda Civic',\n",
       " 'Honda Accord',\n",
       " 'Chevrolet Malibu',\n",
       " 'Nissan Altima']"
      ]
     },
     "execution_count": 39,
     "metadata": {},
     "output_type": "execute_result"
    }
   ],
   "source": [
    "new_cars_list"
   ]
  },
  {
   "cell_type": "code",
   "execution_count": 40,
   "metadata": {},
   "outputs": [
    {
     "ename": "ValueError",
     "evalue": "list.remove(x): x not in list",
     "output_type": "error",
     "traceback": [
      "\u001b[0;31m---------------------------------------------------------------------------\u001b[0m",
      "\u001b[0;31mValueError\u001b[0m                                Traceback (most recent call last)",
      "\u001b[0;32m<ipython-input-40-6c269cb1c11a>\u001b[0m in \u001b[0;36m<module>\u001b[0;34m()\u001b[0m\n\u001b[0;32m----> 1\u001b[0;31m \u001b[0mnew_cars_list\u001b[0m\u001b[0;34m.\u001b[0m\u001b[0mremove\u001b[0m\u001b[0;34m(\u001b[0m\u001b[0;34m'Hennessey Venom GT'\u001b[0m\u001b[0;34m)\u001b[0m\u001b[0;34m\u001b[0m\u001b[0m\n\u001b[0m",
      "\u001b[0;31mValueError\u001b[0m: list.remove(x): x not in list"
     ]
    }
   ],
   "source": [
    "new_cars_list.remove('Hennessey Venom GT')"
   ]
  },
  {
   "cell_type": "code",
   "execution_count": 41,
   "metadata": {},
   "outputs": [
    {
     "data": {
      "text/plain": [
       "['Toyota Corolla',\n",
       " 'Toyota Camry',\n",
       " 'Nissan Altima',\n",
       " 'Koenigsegg Agera R',\n",
       " 'Kia Soul',\n",
       " 'Kia Optima',\n",
       " 'Honda Civic',\n",
       " 'Honda Accord',\n",
       " 'Chevrolet Malibu',\n",
       " 'Nissan Altima']"
      ]
     },
     "execution_count": 41,
     "metadata": {},
     "output_type": "execute_result"
    }
   ],
   "source": [
    "new_cars_list.remove('Nissan Sentra')\n",
    "\n",
    "new_cars_list"
   ]
  },
  {
   "cell_type": "code",
   "execution_count": 42,
   "metadata": {},
   "outputs": [
    {
     "data": {
      "text/plain": [
       "['Toyota Corolla',\n",
       " 'Toyota Camry',\n",
       " 'Nissan Altima',\n",
       " 'Koenigsegg Agera R',\n",
       " 'Kia Soul',\n",
       " 'Kia Optima',\n",
       " 'Honda Civic',\n",
       " 'Honda Accord',\n",
       " 'Chevrolet Malibu',\n",
       " 'Nissan Altima']"
      ]
     },
     "execution_count": 42,
     "metadata": {},
     "output_type": "execute_result"
    }
   ],
   "source": [
    "another_cars_list"
   ]
  },
  {
   "cell_type": "code",
   "execution_count": null,
   "metadata": {},
   "outputs": [],
   "source": []
  },
  {
   "cell_type": "code",
   "execution_count": null,
   "metadata": {},
   "outputs": [],
   "source": []
  },
  {
   "cell_type": "code",
   "execution_count": null,
   "metadata": {},
   "outputs": [],
   "source": []
  },
  {
   "cell_type": "code",
   "execution_count": null,
   "metadata": {},
   "outputs": [],
   "source": []
  },
  {
   "cell_type": "code",
   "execution_count": null,
   "metadata": {},
   "outputs": [],
   "source": []
  },
  {
   "cell_type": "code",
   "execution_count": null,
   "metadata": {},
   "outputs": [],
   "source": []
  },
  {
   "cell_type": "code",
   "execution_count": null,
   "metadata": {},
   "outputs": [],
   "source": []
  },
  {
   "cell_type": "code",
   "execution_count": null,
   "metadata": {},
   "outputs": [],
   "source": []
  },
  {
   "cell_type": "code",
   "execution_count": null,
   "metadata": {},
   "outputs": [],
   "source": []
  },
  {
   "cell_type": "code",
   "execution_count": null,
   "metadata": {},
   "outputs": [],
   "source": []
  }
 ],
 "metadata": {
  "kernelspec": {
   "display_name": "Python 3",
   "language": "python",
   "name": "python3"
  },
  "language_info": {
   "codemirror_mode": {
    "name": "ipython",
    "version": 3
   },
   "file_extension": ".py",
   "mimetype": "text/x-python",
   "name": "python",
   "nbconvert_exporter": "python",
   "pygments_lexer": "ipython3",
   "version": "3.7.1"
  }
 },
 "nbformat": 4,
 "nbformat_minor": 2
}
