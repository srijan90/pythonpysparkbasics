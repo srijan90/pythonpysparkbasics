{
 "cells": [
  {
   "cell_type": "code",
   "execution_count": 1,
   "metadata": {},
   "outputs": [],
   "source": [
    "def nested_hello_fn():\n",
    "    \n",
    "    def hello():\n",
    "        print(\"Hello Cathy!\")\n",
    "        \n",
    "    hello()"
   ]
  },
  {
   "cell_type": "code",
   "execution_count": 2,
   "metadata": {},
   "outputs": [
    {
     "name": "stdout",
     "output_type": "stream",
     "text": [
      "Hello Cathy!\n"
     ]
    }
   ],
   "source": [
    "nested_hello_fn()"
   ]
  },
  {
   "cell_type": "code",
   "execution_count": 3,
   "metadata": {},
   "outputs": [
    {
     "ename": "NameError",
     "evalue": "name 'hello' is not defined",
     "output_type": "error",
     "traceback": [
      "\u001b[0;31m---------------------------------------------------------------------------\u001b[0m",
      "\u001b[0;31mNameError\u001b[0m                                 Traceback (most recent call last)",
      "\u001b[0;32m<ipython-input-3-a75d7781aaeb>\u001b[0m in \u001b[0;36m<module>\u001b[0;34m()\u001b[0m\n\u001b[0;32m----> 1\u001b[0;31m \u001b[0mhello\u001b[0m\u001b[0;34m(\u001b[0m\u001b[0;34m)\u001b[0m\u001b[0;34m\u001b[0m\u001b[0m\n\u001b[0m",
      "\u001b[0;31mNameError\u001b[0m: name 'hello' is not defined"
     ]
    }
   ],
   "source": [
    "hello()"
   ]
  },
  {
   "cell_type": "code",
   "execution_count": 4,
   "metadata": {},
   "outputs": [],
   "source": [
    "def get_hello_fn():\n",
    "    \n",
    "    def hello():\n",
    "        print(\"Hello Cathy!\")\n",
    "        \n",
    "    return hello"
   ]
  },
  {
   "cell_type": "code",
   "execution_count": 5,
   "metadata": {},
   "outputs": [
    {
     "data": {
      "text/plain": [
       "<function __main__.get_hello_fn.<locals>.hello>"
      ]
     },
     "execution_count": 5,
     "metadata": {},
     "output_type": "execute_result"
    }
   ],
   "source": [
    "hello_fn = get_hello_fn()\n",
    "\n",
    "hello_fn"
   ]
  },
  {
   "cell_type": "code",
   "execution_count": 6,
   "metadata": {},
   "outputs": [
    {
     "name": "stdout",
     "output_type": "stream",
     "text": [
      "Hello Cathy!\n"
     ]
    }
   ],
   "source": [
    "hello_fn()"
   ]
  },
  {
   "cell_type": "code",
   "execution_count": 8,
   "metadata": {},
   "outputs": [],
   "source": [
    "def greet_hello_by_name(name):\n",
    "    \n",
    "    def hello():\n",
    "        print(\"Hello!\", name)\n",
    "        \n",
    "    hello()\n",
    "    \n",
    "    return hello"
   ]
  },
  {
   "cell_type": "code",
   "execution_count": 10,
   "metadata": {},
   "outputs": [
    {
     "name": "stdout",
     "output_type": "stream",
     "text": [
      "Hello! Chris\n"
     ]
    }
   ],
   "source": [
    "greet_hello_fn = greet_hello_by_name(\"Chris\")"
   ]
  },
  {
   "cell_type": "code",
   "execution_count": 11,
   "metadata": {},
   "outputs": [
    {
     "data": {
      "text/plain": [
       "<function __main__.greet_hello_by_name.<locals>.hello>"
      ]
     },
     "execution_count": 11,
     "metadata": {},
     "output_type": "execute_result"
    }
   ],
   "source": [
    "greet_hello_fn"
   ]
  },
  {
   "cell_type": "code",
   "execution_count": 12,
   "metadata": {},
   "outputs": [
    {
     "name": "stdout",
     "output_type": "stream",
     "text": [
      "Hello! Chris\n"
     ]
    }
   ],
   "source": [
    "greet_hello_fn()"
   ]
  },
  {
   "cell_type": "code",
   "execution_count": 22,
   "metadata": {},
   "outputs": [],
   "source": [
    "def greet_by_name(name):\n",
    "    \n",
    "    greeting_msg = \"Hi there!\"\n",
    "\n",
    "    def greeting():\n",
    "        print(greeting_msg, name)\n",
    "        \n",
    "    return greeting"
   ]
  },
  {
   "cell_type": "code",
   "execution_count": 23,
   "metadata": {},
   "outputs": [],
   "source": [
    "greet_fn = greet_by_name(\"Alex\")"
   ]
  },
  {
   "cell_type": "code",
   "execution_count": 24,
   "metadata": {},
   "outputs": [
    {
     "name": "stdout",
     "output_type": "stream",
     "text": [
      "Hi there! Alex\n"
     ]
    }
   ],
   "source": [
    "greet_fn()"
   ]
  },
  {
   "cell_type": "code",
   "execution_count": 25,
   "metadata": {},
   "outputs": [],
   "source": [
    "del greet_by_name"
   ]
  },
  {
   "cell_type": "code",
   "execution_count": 26,
   "metadata": {},
   "outputs": [
    {
     "ename": "NameError",
     "evalue": "name 'greet_by_name' is not defined",
     "output_type": "error",
     "traceback": [
      "\u001b[0;31m---------------------------------------------------------------------------\u001b[0m",
      "\u001b[0;31mNameError\u001b[0m                                 Traceback (most recent call last)",
      "\u001b[0;32m<ipython-input-26-ea721c7ff5b2>\u001b[0m in \u001b[0;36m<module>\u001b[0;34m()\u001b[0m\n\u001b[0;32m----> 1\u001b[0;31m \u001b[0mgreet_by_name\u001b[0m\u001b[0;34m(\u001b[0m\u001b[0;34m\"Alex\"\u001b[0m\u001b[0;34m)\u001b[0m\u001b[0;34m\u001b[0m\u001b[0m\n\u001b[0m",
      "\u001b[0;31mNameError\u001b[0m: name 'greet_by_name' is not defined"
     ]
    }
   ],
   "source": [
    "greet_by_name(\"Alex\")"
   ]
  },
  {
   "cell_type": "code",
   "execution_count": 27,
   "metadata": {},
   "outputs": [
    {
     "name": "stdout",
     "output_type": "stream",
     "text": [
      "Hi there! Alex\n"
     ]
    }
   ],
   "source": [
    "greet_fn()"
   ]
  },
  {
   "cell_type": "code",
   "execution_count": 31,
   "metadata": {},
   "outputs": [],
   "source": [
    "import random\n",
    "\n",
    "def greet_with_personal_message(name, message):\n",
    "    \n",
    "    annotations = ['-', '*', '+', ':', '^']\n",
    "    annotate = random.choice(annotations)\n",
    "    \n",
    "    def greeting():\n",
    "        print(annotate * 50)\n",
    "        print(message, name)\n",
    "        print(annotate * 50)\n",
    "        \n",
    "    return greeting"
   ]
  },
  {
   "cell_type": "code",
   "execution_count": 32,
   "metadata": {},
   "outputs": [],
   "source": [
    "greet_greg_fn = greet_with_personal_message('Greg', 'Hello!')"
   ]
  },
  {
   "cell_type": "code",
   "execution_count": 34,
   "metadata": {},
   "outputs": [],
   "source": [
    "greet_claudia_fn = greet_with_personal_message('Claudia', 'Good morning!')"
   ]
  },
  {
   "cell_type": "code",
   "execution_count": 33,
   "metadata": {},
   "outputs": [],
   "source": [
    "greet_jon_fn = greet_with_personal_message('Jon', 'Hey!')"
   ]
  },
  {
   "cell_type": "code",
   "execution_count": 36,
   "metadata": {},
   "outputs": [
    {
     "name": "stdout",
     "output_type": "stream",
     "text": [
      "**************************************************\n",
      "Hello! Greg\n",
      "**************************************************\n"
     ]
    }
   ],
   "source": [
    "greet_greg_fn()"
   ]
  },
  {
   "cell_type": "code",
   "execution_count": 35,
   "metadata": {},
   "outputs": [
    {
     "name": "stdout",
     "output_type": "stream",
     "text": [
      "--------------------------------------------------\n",
      "Good morning! Claudia\n",
      "--------------------------------------------------\n"
     ]
    }
   ],
   "source": [
    "greet_claudia_fn()"
   ]
  },
  {
   "cell_type": "code",
   "execution_count": 37,
   "metadata": {},
   "outputs": [
    {
     "name": "stdout",
     "output_type": "stream",
     "text": [
      "::::::::::::::::::::::::::::::::::::::::::::::::::\n",
      "Hey! Jon\n",
      "::::::::::::::::::::::::::::::::::::::::::::::::::\n"
     ]
    }
   ],
   "source": [
    "greet_jon_fn()"
   ]
  },
  {
   "cell_type": "code",
   "execution_count": 39,
   "metadata": {},
   "outputs": [
    {
     "name": "stdout",
     "output_type": "stream",
     "text": [
      "**************************************************\n",
      "Hello! Greg\n",
      "**************************************************\n"
     ]
    }
   ],
   "source": [
    "greet_greg_fn()"
   ]
  },
  {
   "cell_type": "code",
   "execution_count": 41,
   "metadata": {},
   "outputs": [
    {
     "ename": "NameError",
     "evalue": "name 'greet_with_personal_message' is not defined",
     "output_type": "error",
     "traceback": [
      "\u001b[0;31m---------------------------------------------------------------------------\u001b[0m",
      "\u001b[0;31mNameError\u001b[0m                                 Traceback (most recent call last)",
      "\u001b[0;32m<ipython-input-41-6af5583c1c38>\u001b[0m in \u001b[0;36m<module>\u001b[0;34m()\u001b[0m\n\u001b[0;32m----> 1\u001b[0;31m \u001b[0;32mdel\u001b[0m \u001b[0mgreet_with_personal_message\u001b[0m\u001b[0;34m\u001b[0m\u001b[0m\n\u001b[0m\u001b[1;32m      2\u001b[0m \u001b[0;34m\u001b[0m\u001b[0m\n\u001b[1;32m      3\u001b[0m \u001b[0mgreet_with_personal_message\u001b[0m\u001b[0;34m(\u001b[0m\u001b[0;34m'Greg'\u001b[0m\u001b[0;34m,\u001b[0m \u001b[0;34m'Hello!'\u001b[0m\u001b[0;34m)\u001b[0m\u001b[0;34m\u001b[0m\u001b[0m\n",
      "\u001b[0;31mNameError\u001b[0m: name 'greet_with_personal_message' is not defined"
     ]
    }
   ],
   "source": [
    "del greet_with_personal_message\n",
    "\n",
    "greet_with_personal_message('Greg', 'Hello!')"
   ]
  },
  {
   "cell_type": "code",
   "execution_count": 44,
   "metadata": {},
   "outputs": [
    {
     "name": "stdout",
     "output_type": "stream",
     "text": [
      "**************************************************\n",
      "Hello! Greg\n",
      "**************************************************\n"
     ]
    }
   ],
   "source": [
    "greet_greg_fn()"
   ]
  },
  {
   "cell_type": "code",
   "execution_count": 43,
   "metadata": {},
   "outputs": [
    {
     "name": "stdout",
     "output_type": "stream",
     "text": [
      "--------------------------------------------------\n",
      "Good morning! Claudia\n",
      "--------------------------------------------------\n"
     ]
    }
   ],
   "source": [
    "greet_claudia_fn()"
   ]
  },
  {
   "cell_type": "code",
   "execution_count": 74,
   "metadata": {},
   "outputs": [],
   "source": [
    "def enroll_in_college(college_name):\n",
    "    \n",
    "    student_list = []\n",
    "    \n",
    "    def enroll_student(student_name):\n",
    "        \n",
    "        student_list.append(student_name)\n",
    "        print(\"Student\", student_name, \"has been enrolled in\", college_name)\n",
    "        print(\"Current students\", student_list, end=\"\\n\\n\")\n",
    "        \n",
    "    return enroll_student"
   ]
  },
  {
   "cell_type": "code",
   "execution_count": 75,
   "metadata": {},
   "outputs": [],
   "source": [
    "enroll_in_yale_fn = enroll_in_college('Yale')"
   ]
  },
  {
   "cell_type": "code",
   "execution_count": 76,
   "metadata": {},
   "outputs": [],
   "source": [
    "enroll_in_duke_fn = enroll_in_college('Duke')"
   ]
  },
  {
   "cell_type": "code",
   "execution_count": 77,
   "metadata": {},
   "outputs": [
    {
     "name": "stdout",
     "output_type": "stream",
     "text": [
      "Student Sam has been enrolled in Yale\n",
      "Current students ['Sam']\n",
      "\n"
     ]
    }
   ],
   "source": [
    "enroll_in_yale_fn('Sam')"
   ]
  },
  {
   "cell_type": "code",
   "execution_count": 78,
   "metadata": {},
   "outputs": [
    {
     "name": "stdout",
     "output_type": "stream",
     "text": [
      "Student Jill has been enrolled in Duke\n",
      "Current students ['Jill']\n",
      "\n"
     ]
    }
   ],
   "source": [
    "enroll_in_duke_fn('Jill')"
   ]
  },
  {
   "cell_type": "code",
   "execution_count": 79,
   "metadata": {},
   "outputs": [
    {
     "name": "stdout",
     "output_type": "stream",
     "text": [
      "Student Donald has been enrolled in Yale\n",
      "Current students ['Sam', 'Donald']\n",
      "\n",
      "Student John has been enrolled in Yale\n",
      "Current students ['Sam', 'Donald', 'John']\n",
      "\n",
      "Student Trisha has been enrolled in Yale\n",
      "Current students ['Sam', 'Donald', 'John', 'Trisha']\n",
      "\n"
     ]
    }
   ],
   "source": [
    "enroll_in_yale_fn('Donald')\n",
    "enroll_in_yale_fn('John')\n",
    "enroll_in_yale_fn('Trisha')"
   ]
  },
  {
   "cell_type": "code",
   "execution_count": 80,
   "metadata": {},
   "outputs": [
    {
     "name": "stdout",
     "output_type": "stream",
     "text": [
      "Student Olga has been enrolled in Duke\n",
      "Current students ['Jill', 'Olga']\n",
      "\n",
      "Student Steven has been enrolled in Duke\n",
      "Current students ['Jill', 'Olga', 'Steven']\n",
      "\n"
     ]
    }
   ],
   "source": [
    "enroll_in_duke_fn('Olga')\n",
    "enroll_in_duke_fn('Steven')"
   ]
  },
  {
   "cell_type": "code",
   "execution_count": 82,
   "metadata": {},
   "outputs": [],
   "source": [
    "def formal_greeting():\n",
    "    \n",
    "    greeting = \"How are you doing?\"\n",
    "    \n",
    "    def informal_greeting():\n",
    "        \n",
    "        greeting = \"Hi there!\"\n",
    "        print(greeting)\n",
    "        \n",
    "    informal_greeting()\n",
    "    print(greeting)"
   ]
  },
  {
   "cell_type": "code",
   "execution_count": 83,
   "metadata": {},
   "outputs": [
    {
     "name": "stdout",
     "output_type": "stream",
     "text": [
      "Hi there!\n",
      "How are you doing?\n"
     ]
    }
   ],
   "source": [
    "formal_greeting()"
   ]
  },
  {
   "cell_type": "code",
   "execution_count": 84,
   "metadata": {},
   "outputs": [],
   "source": [
    "def formal_greeting():\n",
    "    \n",
    "    greeting = \"How are you doing?\"\n",
    "    \n",
    "    def informal_greeting():\n",
    "        nonlocal greeting\n",
    "\n",
    "        greeting = \"Hi there!\"\n",
    "        print(greeting)\n",
    "        \n",
    "    informal_greeting()\n",
    "    print(greeting)"
   ]
  },
  {
   "cell_type": "code",
   "execution_count": 85,
   "metadata": {},
   "outputs": [
    {
     "name": "stdout",
     "output_type": "stream",
     "text": [
      "Hi there!\n",
      "Hi there!\n"
     ]
    }
   ],
   "source": [
    "formal_greeting()"
   ]
  },
  {
   "cell_type": "code",
   "execution_count": null,
   "metadata": {},
   "outputs": [],
   "source": []
  },
  {
   "cell_type": "code",
   "execution_count": null,
   "metadata": {},
   "outputs": [],
   "source": []
  },
  {
   "cell_type": "code",
   "execution_count": null,
   "metadata": {},
   "outputs": [],
   "source": []
  },
  {
   "cell_type": "code",
   "execution_count": null,
   "metadata": {},
   "outputs": [],
   "source": []
  },
  {
   "cell_type": "code",
   "execution_count": null,
   "metadata": {},
   "outputs": [],
   "source": []
  },
  {
   "cell_type": "code",
   "execution_count": null,
   "metadata": {},
   "outputs": [],
   "source": []
  },
  {
   "cell_type": "code",
   "execution_count": null,
   "metadata": {},
   "outputs": [],
   "source": []
  },
  {
   "cell_type": "code",
   "execution_count": null,
   "metadata": {},
   "outputs": [],
   "source": []
  }
 ],
 "metadata": {
  "kernelspec": {
   "display_name": "Python 3",
   "language": "python",
   "name": "python3"
  },
  "language_info": {
   "codemirror_mode": {
    "name": "ipython",
    "version": 3
   },
   "file_extension": ".py",
   "mimetype": "text/x-python",
   "name": "python",
   "nbconvert_exporter": "python",
   "pygments_lexer": "ipython3",
   "version": "3.6.4"
  }
 },
 "nbformat": 4,
 "nbformat_minor": 2
}
