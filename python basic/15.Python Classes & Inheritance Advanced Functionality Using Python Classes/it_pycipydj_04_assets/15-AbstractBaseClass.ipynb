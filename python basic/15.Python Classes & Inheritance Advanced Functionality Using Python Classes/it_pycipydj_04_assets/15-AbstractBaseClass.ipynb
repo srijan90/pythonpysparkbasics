{
 "cells": [
  {
   "cell_type": "markdown",
   "metadata": {},
   "source": [
    "https://docs.python.org/3/library/abc.html"
   ]
  },
  {
   "cell_type": "markdown",
   "metadata": {},
   "source": [
    "### Abstract Base Class: \n",
    "An abstract method is a method that is declared, but contains no implementation. Abstract classes are classes that contain one or more abstract methods.  Abstract classes may not be instantiated, and require subclasses to provide implementations for the abstract methods. Subclasses of an abstract class in Python are not required to implement abstract methods of the parent class."
   ]
  },
  {
   "cell_type": "code",
   "execution_count": 9,
   "metadata": {},
   "outputs": [],
   "source": [
    "from abc import ABC, abstractmethod"
   ]
  },
  {
   "cell_type": "markdown",
   "metadata": {},
   "source": [
    "#### Make a normal class and show it's child class"
   ]
  },
  {
   "cell_type": "markdown",
   "metadata": {},
   "source": [
    "#### Parent class"
   ]
  },
  {
   "cell_type": "code",
   "execution_count": 1,
   "metadata": {},
   "outputs": [],
   "source": [
    "class Hominidae():\n",
    "\n",
    "    def diet(self):\n",
    "        pass\n",
    "    \n",
    "    def walk(self):\n",
    "        pass\n",
    "        \n",
    "    def behavior(self):\n",
    "        print(\"They show complex facial expression and social behaviour.\")"
   ]
  },
  {
   "cell_type": "code",
   "execution_count": 2,
   "metadata": {},
   "outputs": [
    {
     "name": "stdout",
     "output_type": "stream",
     "text": [
      "They show complex facial expression and social behaviour.\n"
     ]
    }
   ],
   "source": [
    "chimpanzee = Hominidae()\n",
    "\n",
    "chimpanzee.behavior()"
   ]
  },
  {
   "cell_type": "code",
   "execution_count": 3,
   "metadata": {},
   "outputs": [],
   "source": [
    "chimpanzee.diet()"
   ]
  },
  {
   "cell_type": "code",
   "execution_count": 4,
   "metadata": {},
   "outputs": [],
   "source": [
    "chimpanzee.walk()"
   ]
  },
  {
   "cell_type": "markdown",
   "metadata": {},
   "source": [
    "#### Child class"
   ]
  },
  {
   "cell_type": "code",
   "execution_count": 6,
   "metadata": {},
   "outputs": [],
   "source": [
    "class Human(Hominidae):\n",
    "\n",
    "    def diet(self):\n",
    "        print(\"Humans are omnivorous.\")\n",
    "        \n",
    "    def walk(self):\n",
    "        print(\"They are bipeds.\")"
   ]
  },
  {
   "cell_type": "markdown",
   "metadata": {},
   "source": [
    "#### Object initiation"
   ]
  },
  {
   "cell_type": "code",
   "execution_count": 7,
   "metadata": {},
   "outputs": [
    {
     "name": "stdout",
     "output_type": "stream",
     "text": [
      "Humans are omnivorous.\n",
      "They are bipeds.\n"
     ]
    }
   ],
   "source": [
    "paul = Human()\n",
    "\n",
    "paul.diet()\n",
    "\n",
    "paul.walk()"
   ]
  },
  {
   "cell_type": "markdown",
   "metadata": {},
   "source": [
    "#### Here Hominidae is inheriting Abstract Base Class"
   ]
  },
  {
   "cell_type": "code",
   "execution_count": 10,
   "metadata": {},
   "outputs": [],
   "source": [
    "class Hominidae(ABC):\n",
    "\n",
    "    def diet(self):\n",
    "        pass\n",
    "    \n",
    "    def walk(self):\n",
    "        pass\n",
    "        \n",
    "    def behavior(self):\n",
    "        print(\"They show complex facial expression and social behaviour.\")"
   ]
  },
  {
   "cell_type": "markdown",
   "metadata": {},
   "source": [
    "#### We can call the methods in the class if none of the methods are set as abstract method"
   ]
  },
  {
   "cell_type": "code",
   "execution_count": 11,
   "metadata": {},
   "outputs": [
    {
     "name": "stdout",
     "output_type": "stream",
     "text": [
      "They show complex facial expression and social behaviour.\n"
     ]
    }
   ],
   "source": [
    "chimpanzee = Hominidae()\n",
    "\n",
    "chimpanzee.behavior()"
   ]
  },
  {
   "cell_type": "markdown",
   "metadata": {},
   "source": [
    "#### Child class of the above Class Hominidae"
   ]
  },
  {
   "cell_type": "code",
   "execution_count": 13,
   "metadata": {},
   "outputs": [],
   "source": [
    "class Human(Hominidae):\n",
    "\n",
    "    def diet(self):\n",
    "        print(\"Humans are omnivorous.\")\n",
    "        \n",
    "    def walk(self):\n",
    "        print(\"They are bipeds.\")"
   ]
  },
  {
   "cell_type": "markdown",
   "metadata": {},
   "source": [
    "* There is no effect on the methods of the child class and there is no difference between the class defined above and this one. \n",
    "* So for Abstract base classes it is necessary to contain atleast one method."
   ]
  },
  {
   "cell_type": "code",
   "execution_count": 14,
   "metadata": {},
   "outputs": [
    {
     "name": "stdout",
     "output_type": "stream",
     "text": [
      "Humans are omnivorous.\n",
      "They are bipeds.\n"
     ]
    }
   ],
   "source": [
    "myra = Human()\n",
    "\n",
    "myra.diet()\n",
    "\n",
    "myra.walk()"
   ]
  },
  {
   "cell_type": "code",
   "execution_count": 16,
   "metadata": {},
   "outputs": [
    {
     "name": "stdout",
     "output_type": "stream",
     "text": [
      "Help on class ABC in module abc:\n",
      "\n",
      "class ABC(builtins.object)\n",
      " |  Helper class that provides a standard way to create an ABC using\n",
      " |  inheritance.\n",
      " |  \n",
      " |  Data descriptors defined here:\n",
      " |  \n",
      " |  __dict__\n",
      " |      dictionary for instance variables (if defined)\n",
      " |  \n",
      " |  __weakref__\n",
      " |      list of weak references to the object (if defined)\n",
      " |  \n",
      " |  ----------------------------------------------------------------------\n",
      " |  Data and other attributes defined here:\n",
      " |  \n",
      " |  __abstractmethods__ = frozenset()\n",
      "\n"
     ]
    }
   ],
   "source": [
    "help(ABC)"
   ]
  },
  {
   "cell_type": "markdown",
   "metadata": {},
   "source": [
    "#### Here one of the methods in the class are set as abstract method with `@abstractmethod`"
   ]
  },
  {
   "cell_type": "code",
   "execution_count": 17,
   "metadata": {},
   "outputs": [],
   "source": [
    "class Hominidae(ABC):\n",
    "\n",
    "    @abstractmethod\n",
    "    def diet(self):\n",
    "        pass\n",
    "    \n",
    "    def walk(self):\n",
    "        pass\n",
    "      \n",
    "    def behavior(self):\n",
    "        print(\"They show complex facial expression and social behaviour.\")"
   ]
  },
  {
   "cell_type": "markdown",
   "metadata": {},
   "source": [
    "#### If any method inside the class is set as abstract method then no other method inside the class is callable"
   ]
  },
  {
   "cell_type": "code",
   "execution_count": 19,
   "metadata": {},
   "outputs": [
    {
     "ename": "TypeError",
     "evalue": "Can't instantiate abstract class Hominidae with abstract methods diet",
     "output_type": "error",
     "traceback": [
      "\u001b[0;31m---------------------------------------------------------------------------\u001b[0m",
      "\u001b[0;31mTypeError\u001b[0m                                 Traceback (most recent call last)",
      "\u001b[0;32m<ipython-input-19-ebc49f01cc14>\u001b[0m in \u001b[0;36m<module>\u001b[0;34m()\u001b[0m\n\u001b[0;32m----> 1\u001b[0;31m \u001b[0mgreat_apes\u001b[0m \u001b[0;34m=\u001b[0m \u001b[0mHominidae\u001b[0m\u001b[0;34m(\u001b[0m\u001b[0;34m)\u001b[0m\u001b[0;34m\u001b[0m\u001b[0m\n\u001b[0m",
      "\u001b[0;31mTypeError\u001b[0m: Can't instantiate abstract class Hominidae with abstract methods diet"
     ]
    }
   ],
   "source": [
    "great_apes = Hominidae()"
   ]
  },
  {
   "cell_type": "markdown",
   "metadata": {},
   "source": [
    "#### But the abstract method along with other methods inherited from the parent class can be called within the child class `Human` "
   ]
  },
  {
   "cell_type": "code",
   "execution_count": 23,
   "metadata": {},
   "outputs": [],
   "source": [
    "class Human(Hominidae):\n",
    "\n",
    "    def diet(self):\n",
    "        print(\"Humans are omnivorous.\")\n",
    "        \n",
    "    def walk(self):\n",
    "        print(\"They are bipeds.\")"
   ]
  },
  {
   "cell_type": "code",
   "execution_count": 24,
   "metadata": {},
   "outputs": [
    {
     "name": "stdout",
     "output_type": "stream",
     "text": [
      "Humans are omnivorous.\n",
      "They are bipeds.\n"
     ]
    }
   ],
   "source": [
    "bill = Human()\n",
    "\n",
    "bill.diet()\n",
    "\n",
    "bill.walk()"
   ]
  },
  {
   "cell_type": "markdown",
   "metadata": {},
   "source": [
    "#### Here all the methods inside the class are set as abstract method"
   ]
  },
  {
   "cell_type": "code",
   "execution_count": 25,
   "metadata": {},
   "outputs": [],
   "source": [
    "class Hominidae(ABC):\n",
    "\n",
    "    @abstractmethod\n",
    "    def diet(self):\n",
    "        pass\n",
    "    \n",
    "    @abstractmethod    \n",
    "    def walk(self):\n",
    "        pass"
   ]
  },
  {
   "cell_type": "markdown",
   "metadata": {},
   "source": [
    "#### Although the  \"Human\" class  is inheriting the method \"walk( )\" , but it is not defined inside it\n",
    "* At the time of object initiation it will throw an error"
   ]
  },
  {
   "cell_type": "code",
   "execution_count": 26,
   "metadata": {},
   "outputs": [],
   "source": [
    "class Human(Hominidae):\n",
    "\n",
    "    def diet(self):\n",
    "        print(\"Humans are omnivorous.\")"
   ]
  },
  {
   "cell_type": "markdown",
   "metadata": {},
   "source": [
    "#### It gives error because all the methods which are abstracted are not defined in the parent class"
   ]
  },
  {
   "cell_type": "code",
   "execution_count": 27,
   "metadata": {},
   "outputs": [
    {
     "ename": "TypeError",
     "evalue": "Can't instantiate abstract class Human with abstract methods walk",
     "output_type": "error",
     "traceback": [
      "\u001b[0;31m---------------------------------------------------------------------------\u001b[0m",
      "\u001b[0;31mTypeError\u001b[0m                                 Traceback (most recent call last)",
      "\u001b[0;32m<ipython-input-27-8751dad636b7>\u001b[0m in \u001b[0;36m<module>\u001b[0;34m()\u001b[0m\n\u001b[0;32m----> 1\u001b[0;31m \u001b[0mcathy\u001b[0m \u001b[0;34m=\u001b[0m \u001b[0mHuman\u001b[0m\u001b[0;34m(\u001b[0m\u001b[0;34m)\u001b[0m\u001b[0;34m\u001b[0m\u001b[0m\n\u001b[0m",
      "\u001b[0;31mTypeError\u001b[0m: Can't instantiate abstract class Human with abstract methods walk"
     ]
    }
   ],
   "source": [
    "cathy = Human()"
   ]
  },
  {
   "cell_type": "markdown",
   "metadata": {},
   "source": [
    "#### Here both of the abstract class of the prent class is defined inside the child class"
   ]
  },
  {
   "cell_type": "code",
   "execution_count": 28,
   "metadata": {},
   "outputs": [],
   "source": [
    "class Human(Hominidae):\n",
    "\n",
    "    def diet(self):\n",
    "        print(\"Humans are omnivorous.\")\n",
    "        \n",
    "    def walk(self):\n",
    "        print(\"They are bipeds.\")"
   ]
  },
  {
   "cell_type": "markdown",
   "metadata": {},
   "source": [
    "#### Hence object initiation does not throw any error"
   ]
  },
  {
   "cell_type": "code",
   "execution_count": 29,
   "metadata": {},
   "outputs": [
    {
     "name": "stdout",
     "output_type": "stream",
     "text": [
      "Humans are omnivorous.\n",
      "They are bipeds.\n"
     ]
    }
   ],
   "source": [
    "cathy = Human()\n",
    "\n",
    "cathy.diet()\n",
    "\n",
    "cathy.walk()"
   ]
  },
  {
   "cell_type": "code",
   "execution_count": null,
   "metadata": {},
   "outputs": [],
   "source": []
  },
  {
   "cell_type": "code",
   "execution_count": null,
   "metadata": {},
   "outputs": [],
   "source": []
  }
 ],
 "metadata": {
  "kernelspec": {
   "display_name": "Python 3",
   "language": "python",
   "name": "python3"
  },
  "language_info": {
   "codemirror_mode": {
    "name": "ipython",
    "version": 3
   },
   "file_extension": ".py",
   "mimetype": "text/x-python",
   "name": "python",
   "nbconvert_exporter": "python",
   "pygments_lexer": "ipython3",
   "version": "3.6.4"
  }
 },
 "nbformat": 4,
 "nbformat_minor": 2
}
