{
 "cells": [
  {
   "cell_type": "markdown",
   "metadata": {},
   "source": [
    "The continue statement rejects all the remaining statements in the current iteration of the loop and moves the control back to the top of the loop.<br>\n",
    "Using continue statement you can skip elements in your program\n"
   ]
  },
  {
   "cell_type": "markdown",
   "metadata": {},
   "source": [
    "Here i am printing all the odd numbers between 0 to 10 and skipping even numbers using continue"
   ]
  },
  {
   "cell_type": "code",
   "execution_count": 1,
   "metadata": {},
   "outputs": [
    {
     "name": "stdout",
     "output_type": "stream",
     "text": [
      "odd number : 1\n",
      "odd number : 3\n",
      "odd number : 5\n",
      "odd number : 7\n",
      "odd number : 9\n",
      "good bye!\n"
     ]
    }
   ],
   "source": [
    "num = 0                    \n",
    "\n",
    "while num < 10:          \n",
    "    \n",
    "    num = num + 1\n",
    "    \n",
    "    if num % 2 == 0:\n",
    "        continue\n",
    "        \n",
    "    print (\"odd number :\", num) \n",
    "    \n",
    "print (\"good bye!\")"
   ]
  },
  {
   "cell_type": "markdown",
   "metadata": {},
   "source": [
    "Here i am adding all numbers between 0 to 50 in my list<br>\n",
    "Except those numbers which is divisible by 5 and 7 using continue statement"
   ]
  },
  {
   "cell_type": "code",
   "execution_count": 2,
   "metadata": {},
   "outputs": [
    {
     "name": "stdout",
     "output_type": "stream",
     "text": [
      "[1, 2, 3, 4, 6, 8, 9, 11, 12, 13, 16, 17, 18, 19, 22, 23, 24, 26, 27, 29, 31, 32, 33, 34, 36, 37, 38, 39, 41, 43, 44, 46, 47, 48]\n"
     ]
    }
   ],
   "source": [
    "my_list = []\n",
    "num = 0\n",
    "\n",
    "while num in range(0, 50):\n",
    "    \n",
    "    num += 1\n",
    "    \n",
    "    if num % 5 == 0 or num % 7 == 0:\n",
    "        continue\n",
    "        \n",
    "    my_list.append(num)\n",
    "    \n",
    "    \n",
    "print(my_list)"
   ]
  },
  {
   "cell_type": "markdown",
   "metadata": {},
   "source": [
    "In the following example, while loop is set to print the first 9 items in the tuple starting from 9 to 1. But when the count is divisible by 4 the continue statement will execute and skip the element."
   ]
  },
  {
   "cell_type": "code",
   "execution_count": 4,
   "metadata": {},
   "outputs": [
    {
     "name": "stdout",
     "output_type": "stream",
     "text": [
      "9\n",
      "7\n",
      "6\n",
      "5\n",
      "3\n",
      "2\n",
      "1\n",
      "end of program\n"
     ]
    }
   ],
   "source": [
    "num_tup = (1, 2, 3, 4, 5, 6, 7, 8, 9)\n",
    "count = 9\n",
    "\n",
    "while (count > 0):\n",
    "    count = count - 1\n",
    "    \n",
    "    if num_tup[count] % 4 == 0:\n",
    "        continue\n",
    "        \n",
    "    print (num_tup[count])\n",
    "    \n",
    "print (\"end of the program\")"
   ]
  },
  {
   "cell_type": "markdown",
   "metadata": {},
   "source": [
    "Here i mentioned the string `pythcon` is wrong <br>\n",
    "So with the help of continue statement i will print that correctly"
   ]
  },
  {
   "cell_type": "code",
   "execution_count": 6,
   "metadata": {},
   "outputs": [
    {
     "name": "stdout",
     "output_type": "stream",
     "text": [
      "p\n",
      "y\n",
      "t\n",
      "h\n",
      "o\n",
      "n\n"
     ]
    }
   ],
   "source": [
    "my_str = \"pywthcont\"\n",
    "correct_str = \"python\"\n",
    "\n",
    "\n",
    "my_index = 0\n",
    "correct_index = 0\n",
    "\n",
    "while my_index < len(my_str) and correct_index < len(correct_str):\n",
    "\n",
    "    if my_str[my_index] != correct_str[correct_index]:\n",
    "        my_index += 1\n",
    "        continue\n",
    "        \n",
    "    print(my_str[my_index])\n",
    "    my_index += 1\n",
    "    correct_index += 1"
   ]
  },
  {
   "cell_type": "markdown",
   "metadata": {},
   "source": [
    "Here is a nested list with the student name and their corresponding scores,<br>\n",
    "We are intrested with those student who got more than 60 marks, So using continue we will skip those student <br>\n",
    "Who got less than 60 and we will print the rest of the students names and their scores"
   ]
  },
  {
   "cell_type": "code",
   "execution_count": 11,
   "metadata": {},
   "outputs": [
    {
     "name": "stdout",
     "output_type": "stream",
     "text": [
      "students who cleared the exam: \n",
      "['Joseph', 70]\n",
      "['David', 85]\n",
      "['Aria', 85]\n",
      "['Ella', 60]\n"
     ]
    }
   ],
   "source": [
    "score_list = [[\"Joseph\", 70], [\"David\", 85], [\"Sofia\", 55],\n",
    "              [\"Aria\", 85], [\"John\", 30], [\"Ella\", 60]]\n",
    "i = 0\n",
    "j = 1\n",
    "\n",
    "print(\"students who cleared the exam: \")\n",
    "while i in range (len(score_list)):\n",
    "    \n",
    "    if score_list[i][j] < 60:\n",
    "        i = i + 1 \n",
    "        continue\n",
    "    \n",
    "    print(score_list[i])\n",
    "    i = i + 1"
   ]
  },
  {
   "cell_type": "markdown",
   "metadata": {},
   "source": [
    "https://overiq.com/python-101/break-and-continue-statement-in-python/<BR>\n",
    "#### We can also use break and continue statement together in the same loop"
   ]
  },
  {
   "cell_type": "markdown",
   "metadata": {},
   "source": [
    "Here we are getting the cube of a input number<br>\n",
    "If the input is a number then the program will execute and it will print the result<br>\n",
    "If the input is `out` then the break statement will be execute and we will come out from the loop<br>\n",
    "If the input is not a digit then the continue statement will be execute and move to the next iteration"
   ]
  },
  {
   "cell_type": "code",
   "execution_count": 12,
   "metadata": {},
   "outputs": [
    {
     "name": "stdout",
     "output_type": "stream",
     "text": [
      "\n",
      "Enter a number: 9\n",
      "Cube of 9 is 729\n",
      "\n",
      "Enter a number: 7\n",
      "Cube of 7 is 343\n",
      "\n",
      "Enter a number: out\n",
      "Good bye! (break statement executed)\n"
     ]
    }
   ],
   "source": [
    "while True:\n",
    "    \n",
    "    value = input(\"\\nEnter a number: \")\n",
    " \n",
    "    if value == \"out\": \n",
    "        print(\"Good bye! (break statement executed)\")\n",
    "        break\n",
    " \n",
    "    if not value.isdigit(): # if input is not a digit move on to the next iteration\n",
    "        print(\"Enter integers only (continue statement executed)\")\n",
    "        continue\n",
    " \n",
    "    value = int(value)\n",
    "    print(\"Cube of %d is %d\" %(value, value ** 3))"
   ]
  },
  {
   "cell_type": "markdown",
   "metadata": {},
   "source": [
    "In this example the user Accept numbers till the break statement execute and if the number is divisible by 7 then skip the number using continue,<br>\n",
    "And store the rest of numbers in a list"
   ]
  },
  {
   "cell_type": "code",
   "execution_count": 8,
   "metadata": {},
   "outputs": [
    {
     "name": "stdout",
     "output_type": "stream",
     "text": [
      "\n",
      "What is the capital of Egypt? jakarta\n",
      "That is not the correct answer. Try again...\n",
      "\n",
      "What is the capital of Egypt? quit\n",
      "The correct answer is Cairo. Better luck next time!\n"
     ]
    }
   ],
   "source": [
    "response = \"\"\n",
    "\n",
    "while True:\n",
    "    \n",
    "    response = input(\"\\nWhat is the capital of Egypt? \")\n",
    " \n",
    "    if response == \"quit\": \n",
    "        print(\"The correct answer is Cairo. Better luck next time!\")\n",
    "        break\n",
    "        \n",
    "    if response.upper() == \"CAIRO\":\n",
    "        print(\"That is the correct answer!\")\n",
    "        break\n",
    "    else:\n",
    "        print(\"That is not the correct answer. Try again...\")\n",
    " "
   ]
  },
  {
   "cell_type": "code",
   "execution_count": null,
   "metadata": {
    "collapsed": true
   },
   "outputs": [],
   "source": []
  }
 ],
 "metadata": {
  "kernelspec": {
   "display_name": "Python 3",
   "language": "python",
   "name": "python3"
  },
  "language_info": {
   "codemirror_mode": {
    "name": "ipython",
    "version": 3
   },
   "file_extension": ".py",
   "mimetype": "text/x-python",
   "name": "python",
   "nbconvert_exporter": "python",
   "pygments_lexer": "ipython3",
   "version": "3.6.8"
  }
 },
 "nbformat": 4,
 "nbformat_minor": 2
}
