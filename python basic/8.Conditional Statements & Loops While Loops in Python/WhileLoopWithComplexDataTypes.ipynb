{
 "cells": [
  {
   "cell_type": "markdown",
   "metadata": {},
   "source": [
    "### while loop using complex data types"
   ]
  },
  {
   "cell_type": "markdown",
   "metadata": {},
   "source": [
    "#### List Iteration Using While loop"
   ]
  },
  {
   "cell_type": "code",
   "execution_count": 2,
   "metadata": {
    "collapsed": true
   },
   "outputs": [],
   "source": [
    "num_list = [20, 30, 40, 50, 60]"
   ]
  },
  {
   "cell_type": "code",
   "execution_count": 3,
   "metadata": {},
   "outputs": [
    {
     "name": "stdout",
     "output_type": "stream",
     "text": [
      "20\n",
      "30\n",
      "40\n",
      "50\n",
      "60\n"
     ]
    }
   ],
   "source": [
    "count = 0 \n",
    "\n",
    "while count < len(num_list):\n",
    "    \n",
    "    print(num_list[count])\n",
    "    \n",
    "    count = count + 1"
   ]
  },
  {
   "cell_type": "markdown",
   "metadata": {},
   "source": [
    "Count the number of elements in a list using whileloop"
   ]
  },
  {
   "cell_type": "code",
   "execution_count": 4,
   "metadata": {},
   "outputs": [
    {
     "name": "stdout",
     "output_type": "stream",
     "text": [
      "there are 5 elements in the list\n"
     ]
    }
   ],
   "source": [
    "count = 0\n",
    "\n",
    "while count < len(num_list):\n",
    "    \n",
    "    count = count + 1\n",
    "    \n",
    "print(\"there are %d elements in the list\" %count)"
   ]
  },
  {
   "cell_type": "markdown",
   "metadata": {},
   "source": [
    "Getting the sum of a list of numbers using while loop"
   ]
  },
  {
   "cell_type": "code",
   "execution_count": 5,
   "metadata": {},
   "outputs": [
    {
     "name": "stdout",
     "output_type": "stream",
     "text": [
      "20\n",
      "50\n",
      "90\n",
      "140\n",
      "200\n",
      "sum of all elements in the list : 200\n"
     ]
    }
   ],
   "source": [
    "total = 0\n",
    "element = 0\n",
    "\n",
    "while element < len(num_list):\n",
    "\n",
    "    total = total + num_list[element]\n",
    "    \n",
    "    print(total)\n",
    "    \n",
    "    element += 1\n",
    "    \n",
    "print(\"sum of all elements in the list :\" , total)"
   ]
  },
  {
   "cell_type": "markdown",
   "metadata": {},
   "source": [
    "The equivalent for loop for the same operation"
   ]
  },
  {
   "cell_type": "code",
   "execution_count": 7,
   "metadata": {},
   "outputs": [
    {
     "name": "stdout",
     "output_type": "stream",
     "text": [
      "20\n",
      "50\n",
      "90\n",
      "140\n",
      "200\n",
      "sum of all elements in the list : 200\n"
     ]
    }
   ],
   "source": [
    "total = 0\n",
    "element = 0\n",
    "\n",
    "for element in num_list:\n",
    "\n",
    "    total += element\n",
    "    \n",
    "    print(total)\n",
    "    \n",
    "print(\"sum of all elements in the list :\" , total)"
   ]
  },
  {
   "cell_type": "markdown",
   "metadata": {},
   "source": [
    "Using whileloop with list of string"
   ]
  },
  {
   "cell_type": "code",
   "execution_count": 8,
   "metadata": {
    "collapsed": true
   },
   "outputs": [],
   "source": [
    "smartphone_brands = [\"Samsung\", \"Huawei\", \"Apple\", \n",
    "                     \"Nokia\", \"OnePlus\", \"Vivo\", \"Sony\"]"
   ]
  },
  {
   "cell_type": "markdown",
   "metadata": {},
   "source": [
    "An error will be thrown if we try a while loop out of range of a list"
   ]
  },
  {
   "cell_type": "code",
   "execution_count": 10,
   "metadata": {},
   "outputs": [
    {
     "name": "stdout",
     "output_type": "stream",
     "text": [
      "Samsung\n",
      "Huawei\n",
      "Apple\n",
      "Nokia\n",
      "OnePlus\n",
      "Vivo\n",
      "Sony\n"
     ]
    },
    {
     "ename": "IndexError",
     "evalue": "list index out of range",
     "output_type": "error",
     "traceback": [
      "\u001b[0;31m---------------------------------------------------------------------------\u001b[0m",
      "\u001b[0;31mIndexError\u001b[0m                                Traceback (most recent call last)",
      "\u001b[0;32m<ipython-input-10-abd92b8ff9fe>\u001b[0m in \u001b[0;36m<module>\u001b[0;34m()\u001b[0m\n\u001b[1;32m      2\u001b[0m \u001b[0;34m\u001b[0m\u001b[0m\n\u001b[1;32m      3\u001b[0m \u001b[0;32mwhile\u001b[0m \u001b[0mcount\u001b[0m \u001b[0;34m<\u001b[0m \u001b[0;36m10\u001b[0m\u001b[0;34m:\u001b[0m\u001b[0;34m\u001b[0m\u001b[0;34m\u001b[0m\u001b[0m\n\u001b[0;32m----> 4\u001b[0;31m     \u001b[0mprint\u001b[0m\u001b[0;34m(\u001b[0m\u001b[0msmartphone_brands\u001b[0m\u001b[0;34m[\u001b[0m\u001b[0mcount\u001b[0m\u001b[0;34m]\u001b[0m\u001b[0;34m)\u001b[0m\u001b[0;34m\u001b[0m\u001b[0;34m\u001b[0m\u001b[0m\n\u001b[0m\u001b[1;32m      5\u001b[0m \u001b[0;34m\u001b[0m\u001b[0m\n\u001b[1;32m      6\u001b[0m     \u001b[0mcount\u001b[0m \u001b[0;34m=\u001b[0m \u001b[0mcount\u001b[0m \u001b[0;34m+\u001b[0m \u001b[0;36m1\u001b[0m\u001b[0;34m\u001b[0m\u001b[0;34m\u001b[0m\u001b[0m\n",
      "\u001b[0;31mIndexError\u001b[0m: list index out of range"
     ]
    }
   ],
   "source": [
    "count = 0\n",
    "\n",
    "while count < 10:\n",
    "    print(smartphone_brands[count])\n",
    "    \n",
    "    count = count + 1"
   ]
  },
  {
   "cell_type": "code",
   "execution_count": 11,
   "metadata": {},
   "outputs": [
    {
     "data": {
      "text/plain": [
       "7"
      ]
     },
     "execution_count": 11,
     "metadata": {},
     "output_type": "execute_result"
    }
   ],
   "source": [
    "len(smartphone_brands)"
   ]
  },
  {
   "cell_type": "markdown",
   "metadata": {},
   "source": [
    "Now we are using length of the list here"
   ]
  },
  {
   "cell_type": "code",
   "execution_count": 13,
   "metadata": {},
   "outputs": [
    {
     "name": "stdout",
     "output_type": "stream",
     "text": [
      "Samsung\n",
      "Huawei\n",
      "Apple\n",
      "Nokia\n",
      "OnePlus\n",
      "Vivo\n",
      "Sony\n"
     ]
    }
   ],
   "source": [
    "count = 0\n",
    "\n",
    "while count < len(smartphone_brands):\n",
    "    \n",
    "    print(smartphone_brands[count])\n",
    "    \n",
    "    count = count + 1"
   ]
  },
  {
   "cell_type": "markdown",
   "metadata": {},
   "source": [
    "we can print the even elements as well<br>\n",
    "So here we are increasing the count by 2"
   ]
  },
  {
   "cell_type": "code",
   "execution_count": 28,
   "metadata": {},
   "outputs": [
    {
     "name": "stdout",
     "output_type": "stream",
     "text": [
      "Samsung\n",
      "Apple\n",
      "Oppo\n",
      "Lenovo\n"
     ]
    }
   ],
   "source": [
    "count = 0\n",
    "\n",
    "while count < len(smartphone_companies):\n",
    "    \n",
    "    print(smartphone_companies[count])\n",
    "    \n",
    "    count = count + 2 "
   ]
  },
  {
   "cell_type": "markdown",
   "metadata": {},
   "source": [
    "Using whileloop make two list one containing all even numbers and anothor containing all odd numbers from 0 upto 50"
   ]
  },
  {
   "cell_type": "code",
   "execution_count": 14,
   "metadata": {
    "collapsed": true
   },
   "outputs": [],
   "source": [
    "even_list = []\n",
    "odd_list = []\n",
    "num = 0\n",
    "\n",
    "while num <= 50:\n",
    "    \n",
    "    if num % 2 == 0:\n",
    "        even_list.append(num)\n",
    "        \n",
    "    else:\n",
    "        odd_list.append(num)\n",
    "        \n",
    "    num += 1"
   ]
  },
  {
   "cell_type": "code",
   "execution_count": 15,
   "metadata": {},
   "outputs": [
    {
     "name": "stdout",
     "output_type": "stream",
     "text": [
      "[0, 2, 4, 6, 8, 10, 12, 14, 16, 18, 20, 22, 24, 26, 28, 30, 32, 34, 36, 38, 40, 42, 44, 46, 48, 50]\n"
     ]
    }
   ],
   "source": [
    "print(even_list)"
   ]
  },
  {
   "cell_type": "code",
   "execution_count": 16,
   "metadata": {},
   "outputs": [
    {
     "name": "stdout",
     "output_type": "stream",
     "text": [
      "[1, 3, 5, 7, 9, 11, 13, 15, 17, 19, 21, 23, 25, 27, 29, 31, 33, 35, 37, 39, 41, 43, 45, 47, 49]\n"
     ]
    }
   ],
   "source": [
    "print(odd_list)"
   ]
  },
  {
   "cell_type": "markdown",
   "metadata": {},
   "source": [
    "Find average and sum of the list of numbers(Here we are specifying the count)"
   ]
  },
  {
   "cell_type": "code",
   "execution_count": 33,
   "metadata": {},
   "outputs": [
    {
     "name": "stdout",
     "output_type": "stream",
     "text": [
      "enter the number of elements: 5\n",
      "enter a number: 78\n",
      "enter a number: 96\n",
      "enter a number: 78\n",
      "enter a number: 9\n",
      "enter a number: 7\n",
      "\n",
      "sum of the numbers:  268\n",
      "average of the numbers:  53.6\n"
     ]
    }
   ],
   "source": [
    "num_list = []\n",
    "index = 0\n",
    "total = 0\n",
    "\n",
    "count = int(input(\"enter the number of elements: \")) \n",
    "\n",
    "while index < count:\n",
    "    \n",
    "    num_list.append(int(input(\"enter a number: \")))\n",
    "    \n",
    "    total = total + num_list[index]\n",
    "    index = index + 1\n",
    "    \n",
    "print(\"\\nsum of the numbers: \", total)\n",
    "\n",
    "avg = total/len(num_list)\n",
    "print(\"average of the numbers: \", avg)  "
   ]
  },
  {
   "cell_type": "markdown",
   "metadata": {},
   "source": [
    "Building long lists by writing down all the elements separated by commas<br>\n",
    "Create a list of numbers  from -20 to 20 in steps of 2.5"
   ]
  },
  {
   "cell_type": "code",
   "execution_count": 17,
   "metadata": {
    "collapsed": true
   },
   "outputs": [],
   "source": [
    "num_list = []\n",
    "num_value = -20\n",
    "max_value = 20\n",
    "\n",
    "while num_value <= max_value:\n",
    "    \n",
    "    num_list.append(num_value)\n",
    "    \n",
    "    num_value += 2"
   ]
  },
  {
   "cell_type": "code",
   "execution_count": 18,
   "metadata": {},
   "outputs": [
    {
     "data": {
      "text/plain": [
       "[-20,\n",
       " -18,\n",
       " -16,\n",
       " -14,\n",
       " -12,\n",
       " -10,\n",
       " -8,\n",
       " -6,\n",
       " -4,\n",
       " -2,\n",
       " 0,\n",
       " 2,\n",
       " 4,\n",
       " 6,\n",
       " 8,\n",
       " 10,\n",
       " 12,\n",
       " 14,\n",
       " 16,\n",
       " 18,\n",
       " 20]"
      ]
     },
     "execution_count": 18,
     "metadata": {},
     "output_type": "execute_result"
    }
   ],
   "source": [
    "num_list"
   ]
  },
  {
   "cell_type": "markdown",
   "metadata": {},
   "source": [
    "Convert a list of values from Celsius to fahrenheit<br>\n",
    "Celsius to fahrenheit = (°C × 9/5) + 32 = F"
   ]
  },
  {
   "cell_type": "code",
   "execution_count": 36,
   "metadata": {},
   "outputs": [
    {
     "name": "stdout",
     "output_type": "stream",
     "text": [
      "    C    F\n",
      "  -20  -4.0\n",
      "  -15   5.0\n",
      "  -10  14.0\n",
      "   -5  23.0\n",
      "    0  32.0\n",
      "    5  41.0\n",
      "   10  50.0\n",
      "   15  59.0\n",
      "   20  68.0\n",
      "   25  77.0\n",
      "   30  86.0\n",
      "   35  95.0\n",
      "   40 104.0\n"
     ]
    }
   ],
   "source": [
    "c_degrees = [-20, -15, -10, -5, 0, 5, 10, 15, 20, 25, 30, 35, 40]\n",
    "index = 0\n",
    "\n",
    "print( '    C    F')\n",
    "\n",
    "while index < len(c_degrees):\n",
    "    \n",
    "    C = c_degrees[index]\n",
    "    F = (9.0/5)*C + 32\n",
    "    \n",
    "    print( '%5d %5.1f' % (C, F))\n",
    "    \n",
    "    index += 1"
   ]
  },
  {
   "cell_type": "markdown",
   "metadata": {},
   "source": [
    "Here is two different list called name list and age list<br>\n",
    "Using nested while loop i am printing those together"
   ]
  },
  {
   "cell_type": "code",
   "execution_count": 20,
   "metadata": {
    "collapsed": true
   },
   "outputs": [],
   "source": [
    "name_list = [\"William\", \"James\", \"Olive\", \"Jessie\", \"Liam\"]\n",
    "\n",
    "age_list = [22, 26, 24, 28, 21]"
   ]
  },
  {
   "cell_type": "code",
   "execution_count": 21,
   "metadata": {},
   "outputs": [
    {
     "name": "stdout",
     "output_type": "stream",
     "text": [
      "William is 22 years old\n",
      "James is 26 years old\n",
      "Olive is 24 years old\n",
      "Jessie is 28 years old\n",
      "Liam is 21 years old\n"
     ]
    }
   ],
   "source": [
    "index = 0\n",
    "\n",
    "while index < len(name_list):\n",
    "    \n",
    "    print(name_list[index], \"is\", age_list[index], \"years old\")\n",
    "\n",
    "    index = index + 1\n",
    "        "
   ]
  },
  {
   "cell_type": "markdown",
   "metadata": {},
   "source": [
    "#### While loop with tuple"
   ]
  },
  {
   "cell_type": "markdown",
   "metadata": {},
   "source": [
    "Printing ou a tuple"
   ]
  },
  {
   "cell_type": "code",
   "execution_count": 23,
   "metadata": {},
   "outputs": [
    {
     "name": "stdout",
     "output_type": "stream",
     "text": [
      "a\n",
      "b\n",
      "c\n",
      "d\n",
      "e\n",
      "f\n",
      "g\n",
      "h\n"
     ]
    }
   ],
   "source": [
    "alpha_tuple = ('a', 'b', 'c', 'd', 'e', 'f', 'g', 'h')\n",
    "count = 0\n",
    "\n",
    "while count < 8:\n",
    "    \n",
    "    print (alpha_tuple[count]) \n",
    "    \n",
    "    count = count + 1"
   ]
  },
  {
   "cell_type": "markdown",
   "metadata": {},
   "source": [
    "Getting the sum of a tuple"
   ]
  },
  {
   "cell_type": "code",
   "execution_count": 41,
   "metadata": {
    "collapsed": true
   },
   "outputs": [],
   "source": [
    "num_tuple = (34, 65, 98, 67, 56)"
   ]
  },
  {
   "cell_type": "code",
   "execution_count": 42,
   "metadata": {},
   "outputs": [
    {
     "name": "stdout",
     "output_type": "stream",
     "text": [
      "sum of the elements in the tuple is:  320\n"
     ]
    }
   ],
   "source": [
    "sum_value = 0\n",
    "count = 0 \n",
    "\n",
    "while count < len(num_tuple):\n",
    "    \n",
    "    sum_value = sum_value + num_tuple[count]\n",
    "    \n",
    "    count = count + 1\n",
    "    \n",
    "print(\"sum of the elements in the tuple is: \", sum_value)"
   ]
  },
  {
   "cell_type": "code",
   "execution_count": 28,
   "metadata": {
    "collapsed": true
   },
   "outputs": [],
   "source": [
    "character_name = (\"Missandei\", \"Samwell\", \"Jorah\", \"Brienne\", \"Margaery\")"
   ]
  },
  {
   "cell_type": "code",
   "execution_count": 29,
   "metadata": {},
   "outputs": [
    {
     "name": "stdout",
     "output_type": "stream",
     "text": [
      "the longest name in the tuple is:  Missandei\n"
     ]
    }
   ],
   "source": [
    "long_name = character_name[0]\n",
    "index = 0\n",
    "\n",
    "while index < len(character_name): \n",
    "    \n",
    "    if len(long_name) < len(character_name[index]): \n",
    "        \n",
    "        long_name = character_name[index]\n",
    "        \n",
    "    index = index + 1\n",
    "    \n",
    "print(\"the longest name in the tuple is: \", long_name)"
   ]
  },
  {
   "cell_type": "markdown",
   "metadata": {},
   "source": [
    "Getting the count of vowels from a sentence: let the cat out of the bag"
   ]
  },
  {
   "cell_type": "code",
   "execution_count": 30,
   "metadata": {},
   "outputs": [
    {
     "name": "stdout",
     "output_type": "stream",
     "text": [
      "enter a sentence: let the cat out of the bag\n",
      "there are 8 vowels in this sentence\n"
     ]
    }
   ],
   "source": [
    "sentence = input(\"enter a sentence: \")\n",
    "sentence = sentence.lower()\n",
    "\n",
    "index = 0\n",
    "count = 0\n",
    "\n",
    "vowels = (\"a\", \"e\", \"i\", \"o\", \"u\")\n",
    "\n",
    "while index < len(sentence):\n",
    "    \n",
    "    if sentence[index] in vowels:\n",
    "        count += 1\n",
    "        \n",
    "    index += 1\n",
    "    \n",
    "print(\"there are %s vowels in this sentence\" % count)"
   ]
  },
  {
   "cell_type": "code",
   "execution_count": null,
   "metadata": {
    "collapsed": true
   },
   "outputs": [],
   "source": []
  },
  {
   "cell_type": "markdown",
   "metadata": {},
   "source": [
    "#### While loop with dictionary"
   ]
  },
  {
   "cell_type": "markdown",
   "metadata": {},
   "source": [
    "Ckeck a key is in dictionary or not"
   ]
  },
  {
   "cell_type": "code",
   "execution_count": 32,
   "metadata": {},
   "outputs": [
    {
     "data": {
      "text/plain": [
       "{'age': '27', 'designation': 'Assistant Manager', 'name': 'Tiago'}"
      ]
     },
     "execution_count": 32,
     "metadata": {},
     "output_type": "execute_result"
    }
   ],
   "source": [
    "employee_dict = {\"name\": \"Tiago\",\n",
    "                 \"age\": \"27\",\n",
    "                 \"designation\": \"Assistant Manager\"\n",
    "               }\n",
    "employee_dict"
   ]
  },
  {
   "cell_type": "code",
   "execution_count": 33,
   "metadata": {},
   "outputs": [
    {
     "name": "stdout",
     "output_type": "stream",
     "text": [
      "\n",
      "Enter the information required: designation\n",
      "Assistant Manager\n",
      "\n",
      "Enter the information required: name\n",
      "Tiago\n",
      "\n",
      "Enter the information required: age\n",
      "27\n",
      "\n",
      "Enter the information required: quit\n",
      "End of the program\n"
     ]
    }
   ],
   "source": [
    "info = \"\"\n",
    "\n",
    "while info != \"quit\":\n",
    "\n",
    "    info = input(\"\\nEnter the information required: \")\n",
    "    \n",
    "    if info in employee_dict:\n",
    "        \n",
    "        print(employee_dict[info])\n",
    "        \n",
    "    elif(info == \"quit\"):\n",
    "         print(\"End of the program\")\n",
    "          \n",
    "    else:\n",
    "         print(\"This is not a valid key, try again\")"
   ]
  },
  {
   "cell_type": "code",
   "execution_count": null,
   "metadata": {
    "collapsed": true
   },
   "outputs": [],
   "source": []
  }
 ],
 "metadata": {
  "kernelspec": {
   "display_name": "Python 3",
   "language": "python",
   "name": "python3"
  },
  "language_info": {
   "codemirror_mode": {
    "name": "ipython",
    "version": 3
   },
   "file_extension": ".py",
   "mimetype": "text/x-python",
   "name": "python",
   "nbconvert_exporter": "python",
   "pygments_lexer": "ipython3",
   "version": "3.6.8"
  }
 },
 "nbformat": 4,
 "nbformat_minor": 2
}
