{
 "cells": [
  {
   "cell_type": "code",
   "execution_count": 15,
   "metadata": {},
   "outputs": [],
   "source": [
    "def print_student_details(name, school, \n",
    "                          math, physics, chemistry, biology, \n",
    "                          enrolled):\n",
    "    \n",
    "    total = math + physics + chemistry + biology\n",
    "    \n",
    "    print(\"Name: \", name)\n",
    "    print(\"School: \", school, \"Enrolled: \", enrolled)\n",
    "    print(\"Score: \", total)"
   ]
  },
  {
   "cell_type": "code",
   "execution_count": 16,
   "metadata": {},
   "outputs": [
    {
     "name": "stdout",
     "output_type": "stream",
     "text": [
      "Name:  Alice\n",
      "School:  Columbia Enrolled:  True\n",
      "Score:  339\n"
     ]
    }
   ],
   "source": [
    "print_student_details(\"Alice\", \"Columbia\", \n",
    "                      math=100, physics=76, chemistry=64, biology=99, \n",
    "                      enrolled=True)"
   ]
  },
  {
   "cell_type": "code",
   "execution_count": 17,
   "metadata": {},
   "outputs": [
    {
     "ename": "TypeError",
     "evalue": "print_student_details() missing 1 required positional argument: 'enrolled'",
     "output_type": "error",
     "traceback": [
      "\u001b[0;31m---------------------------------------------------------------------------\u001b[0m",
      "\u001b[0;31mTypeError\u001b[0m                                 Traceback (most recent call last)",
      "\u001b[0;32m<ipython-input-17-8ed89ec79990>\u001b[0m in \u001b[0;36m<module>\u001b[0;34m()\u001b[0m\n\u001b[1;32m      1\u001b[0m print_student_details(\"Alice\", \"Columbia\", \n\u001b[0;32m----> 2\u001b[0;31m                       math=100, physics=76, chemistry=64, biology=99)\n\u001b[0m",
      "\u001b[0;31mTypeError\u001b[0m: print_student_details() missing 1 required positional argument: 'enrolled'"
     ]
    }
   ],
   "source": [
    "print_student_details(\"Alice\", \"Columbia\", \n",
    "                      math=100, physics=76, chemistry=64, biology=99)"
   ]
  },
  {
   "cell_type": "code",
   "execution_count": 18,
   "metadata": {},
   "outputs": [],
   "source": [
    "def print_student_details(name, school, \n",
    "                          math, physics, chemistry, biology, \n",
    "                          enrolled=False):\n",
    "    \n",
    "    total = math + physics + chemistry + biology\n",
    "    \n",
    "    print(\"Name: \", name)\n",
    "    print(\"School: \", school, \"Enrolled: \", enrolled)\n",
    "    print(\"Score: \", total)"
   ]
  },
  {
   "cell_type": "code",
   "execution_count": 19,
   "metadata": {},
   "outputs": [
    {
     "name": "stdout",
     "output_type": "stream",
     "text": [
      "Name:  Alice\n",
      "School:  Columbia Enrolled:  True\n",
      "Score:  339\n"
     ]
    }
   ],
   "source": [
    "print_student_details(\"Alice\", \"Columbia\", \n",
    "                      math=100, physics=76, chemistry=64, biology=99, \n",
    "                      enrolled=True)"
   ]
  },
  {
   "cell_type": "code",
   "execution_count": 20,
   "metadata": {},
   "outputs": [
    {
     "name": "stdout",
     "output_type": "stream",
     "text": [
      "Name:  Alice\n",
      "School:  Columbia Enrolled:  False\n",
      "Score:  339\n"
     ]
    }
   ],
   "source": [
    "print_student_details(\"Alice\", \"Columbia\", \n",
    "                      math=100, physics=76, chemistry=64, biology=99, \n",
    "                      enrolled=False)"
   ]
  },
  {
   "cell_type": "code",
   "execution_count": 21,
   "metadata": {},
   "outputs": [
    {
     "name": "stdout",
     "output_type": "stream",
     "text": [
      "Name:  Alice\n",
      "School:  Columbia Enrolled:  False\n",
      "Score:  339\n"
     ]
    }
   ],
   "source": [
    "print_student_details(\"Alice\", \"Columbia\", \n",
    "                      math=100, physics=76, chemistry=64, biology=99)"
   ]
  },
  {
   "cell_type": "code",
   "execution_count": 24,
   "metadata": {},
   "outputs": [],
   "source": [
    "def print_student_details(name, school, \n",
    "                          math, physics, chemistry, biology=50, \n",
    "                          enrolled=False):\n",
    "    \n",
    "    total = math + physics + chemistry + biology\n",
    "    \n",
    "    print(\"Name: \", name)\n",
    "    print(\"School: \", school, \"Enrolled: \", enrolled)\n",
    "    print(\"Biology: \", biology)\n",
    "    print(\"Score: \", total)"
   ]
  },
  {
   "cell_type": "code",
   "execution_count": 25,
   "metadata": {},
   "outputs": [
    {
     "name": "stdout",
     "output_type": "stream",
     "text": [
      "Name:  Alice\n",
      "School:  Columbia Enrolled:  False\n",
      "Biology:  99\n",
      "Score:  339\n"
     ]
    }
   ],
   "source": [
    "print_student_details(\"Alice\", \"Columbia\", \n",
    "                      math=100, physics=76, chemistry=64, biology=99)"
   ]
  },
  {
   "cell_type": "code",
   "execution_count": 26,
   "metadata": {},
   "outputs": [
    {
     "name": "stdout",
     "output_type": "stream",
     "text": [
      "Name:  Alice\n",
      "School:  Columbia Enrolled:  False\n",
      "Biology:  50\n",
      "Score:  290\n"
     ]
    }
   ],
   "source": [
    "print_student_details(\"Alice\", \"Columbia\", \n",
    "                      math=100, physics=76, chemistry=64)"
   ]
  },
  {
   "cell_type": "code",
   "execution_count": 27,
   "metadata": {},
   "outputs": [
    {
     "ename": "TypeError",
     "evalue": "print_student_details() missing 1 required positional argument: 'chemistry'",
     "output_type": "error",
     "traceback": [
      "\u001b[0;31m---------------------------------------------------------------------------\u001b[0m",
      "\u001b[0;31mTypeError\u001b[0m                                 Traceback (most recent call last)",
      "\u001b[0;32m<ipython-input-27-5ed0c2412890>\u001b[0m in \u001b[0;36m<module>\u001b[0;34m()\u001b[0m\n\u001b[1;32m      1\u001b[0m print_student_details(\"Alice\", \"Columbia\", \n\u001b[0;32m----> 2\u001b[0;31m                       math=100, physics=76)\n\u001b[0m",
      "\u001b[0;31mTypeError\u001b[0m: print_student_details() missing 1 required positional argument: 'chemistry'"
     ]
    }
   ],
   "source": [
    "print_student_details(\"Alice\", \"Columbia\", \n",
    "                      math=100, physics=76)"
   ]
  },
  {
   "cell_type": "code",
   "execution_count": 28,
   "metadata": {},
   "outputs": [],
   "source": [
    "def print_student_details(name, school, \n",
    "                          math, physics, chemistry=50, biology=50, \n",
    "                          enrolled=False):\n",
    "    \n",
    "    total = math + physics + chemistry + biology\n",
    "    \n",
    "    print(\"Name: \", name)\n",
    "    print(\"School: \", school, \"Enrolled: \", enrolled)\n",
    "    print(\"Chemistry: \", chemistry)\n",
    "    print(\"Biology: \", biology)\n",
    "    print(\"Score: \", total)"
   ]
  },
  {
   "cell_type": "code",
   "execution_count": 29,
   "metadata": {},
   "outputs": [
    {
     "name": "stdout",
     "output_type": "stream",
     "text": [
      "Name:  Alice\n",
      "School:  Columbia Enrolled:  False\n",
      "Chemistry:  64\n",
      "Biology:  50\n",
      "Score:  290\n"
     ]
    }
   ],
   "source": [
    "print_student_details(\"Alice\", \"Columbia\", \n",
    "                      math=100, physics=76, chemistry=64)"
   ]
  },
  {
   "cell_type": "code",
   "execution_count": 30,
   "metadata": {},
   "outputs": [
    {
     "name": "stdout",
     "output_type": "stream",
     "text": [
      "Name:  Alice\n",
      "School:  Columbia Enrolled:  False\n",
      "Chemistry:  50\n",
      "Biology:  50\n",
      "Score:  276\n"
     ]
    }
   ],
   "source": [
    "print_student_details(\"Alice\", \"Columbia\", \n",
    "                      math=100, physics=76)"
   ]
  },
  {
   "cell_type": "code",
   "execution_count": 33,
   "metadata": {},
   "outputs": [
    {
     "ename": "SyntaxError",
     "evalue": "non-default argument follows default argument (<ipython-input-33-999df647fb27>, line 1)",
     "output_type": "error",
     "traceback": [
      "\u001b[0;36m  File \u001b[0;32m\"<ipython-input-33-999df647fb27>\"\u001b[0;36m, line \u001b[0;32m1\u001b[0m\n\u001b[0;31m    def print_student_details(name, school,\u001b[0m\n\u001b[0m                             ^\u001b[0m\n\u001b[0;31mSyntaxError\u001b[0m\u001b[0;31m:\u001b[0m non-default argument follows default argument\n"
     ]
    }
   ],
   "source": [
    "def print_student_details(name, school, \n",
    "                          math=50, physics, chemistry=50, biology=50, \n",
    "                          enrolled=False):\n",
    "    \n",
    "    total = math + physics + chemistry + biology\n",
    "    \n",
    "    print(\"Name: \", name)\n",
    "    print(\"School: \", school, \"Enrolled: \", enrolled)\n",
    "    print(\"Chemistry: \", chemistry)\n",
    "    print(\"Biology: \", biology)\n",
    "    print(\"Score: \", total)"
   ]
  },
  {
   "cell_type": "code",
   "execution_count": 34,
   "metadata": {},
   "outputs": [
    {
     "ename": "SyntaxError",
     "evalue": "non-default argument follows default argument (<ipython-input-34-2e7e83e9d21d>, line 1)",
     "output_type": "error",
     "traceback": [
      "\u001b[0;36m  File \u001b[0;32m\"<ipython-input-34-2e7e83e9d21d>\"\u001b[0;36m, line \u001b[0;32m1\u001b[0m\n\u001b[0;31m    def print_student_details(name, school=\"Harvard\",\u001b[0m\n\u001b[0m                             ^\u001b[0m\n\u001b[0;31mSyntaxError\u001b[0m\u001b[0;31m:\u001b[0m non-default argument follows default argument\n"
     ]
    }
   ],
   "source": [
    "def print_student_details(name, school=\"Harvard\", \n",
    "                          math, physics, chemistry=50, biology=50, \n",
    "                          enrolled=False):\n",
    "    \n",
    "    total = math + physics + chemistry + biology\n",
    "    \n",
    "    print(\"Name: \", name)\n",
    "    print(\"School: \", school, \"Enrolled: \", enrolled)\n",
    "    print(\"Chemistry: \", chemistry)\n",
    "    print(\"Biology: \", biology)\n",
    "    print(\"Score: \", total)"
   ]
  },
  {
   "cell_type": "code",
   "execution_count": 35,
   "metadata": {},
   "outputs": [
    {
     "ename": "SyntaxError",
     "evalue": "non-default argument follows default argument (<ipython-input-35-23449577e505>, line 1)",
     "output_type": "error",
     "traceback": [
      "\u001b[0;36m  File \u001b[0;32m\"<ipython-input-35-23449577e505>\"\u001b[0;36m, line \u001b[0;32m1\u001b[0m\n\u001b[0;31m    def print_student_details(name=\"Mark\", school,\u001b[0m\n\u001b[0m                             ^\u001b[0m\n\u001b[0;31mSyntaxError\u001b[0m\u001b[0;31m:\u001b[0m non-default argument follows default argument\n"
     ]
    }
   ],
   "source": [
    "def print_student_details(name=\"Mark\", school, \n",
    "                          math, physics, chemistry=50, biology=50, \n",
    "                          enrolled=False):\n",
    "    \n",
    "    total = math + physics + chemistry + biology\n",
    "    \n",
    "    print(\"Name: \", name)\n",
    "    print(\"School: \", school, \"Enrolled: \", enrolled)\n",
    "    print(\"Chemistry: \", chemistry)\n",
    "    print(\"Biology: \", biology)\n",
    "    print(\"Score: \", total)"
   ]
  },
  {
   "cell_type": "code",
   "execution_count": 43,
   "metadata": {},
   "outputs": [],
   "source": [
    "def print_student_details(name=\"Mark\", school=\"Harvard\", \n",
    "                          math=50, physics=50, chemistry=50, biology=50, \n",
    "                          enrolled=False):\n",
    "    \n",
    "    total = math + physics + chemistry + biology\n",
    "    \n",
    "    print(\"Name: \", name)\n",
    "    print(\"School: \", school, \"Enrolled: \", enrolled)\n",
    "    print(\"Math: \", math)\n",
    "    print(\"Physics: \", physics)\n",
    "    print(\"Chemistry: \", chemistry)\n",
    "    print(\"Biology: \", biology)\n",
    "    print(\"Score: \", total)"
   ]
  },
  {
   "cell_type": "code",
   "execution_count": 44,
   "metadata": {},
   "outputs": [
    {
     "name": "stdout",
     "output_type": "stream",
     "text": [
      "Name:  Mark\n",
      "School:  Harvard Enrolled:  False\n",
      "Math:  50\n",
      "Physics:  50\n",
      "Chemistry:  50\n",
      "Biology:  50\n",
      "Score:  200\n"
     ]
    }
   ],
   "source": [
    "print_student_details()"
   ]
  },
  {
   "cell_type": "code",
   "execution_count": 45,
   "metadata": {},
   "outputs": [
    {
     "name": "stdout",
     "output_type": "stream",
     "text": [
      "Name:  Alice\n",
      "School:  Harvard Enrolled:  False\n",
      "Math:  50\n",
      "Physics:  50\n",
      "Chemistry:  50\n",
      "Biology:  50\n",
      "Score:  200\n"
     ]
    }
   ],
   "source": [
    "print_student_details(\"Alice\")"
   ]
  },
  {
   "cell_type": "code",
   "execution_count": 46,
   "metadata": {},
   "outputs": [
    {
     "name": "stdout",
     "output_type": "stream",
     "text": [
      "Name:  Alice\n",
      "School:  Columbia Enrolled:  False\n",
      "Math:  50\n",
      "Physics:  50\n",
      "Chemistry:  50\n",
      "Biology:  50\n",
      "Score:  200\n"
     ]
    }
   ],
   "source": [
    "print_student_details(\"Alice\", \"Columbia\")"
   ]
  },
  {
   "cell_type": "code",
   "execution_count": 47,
   "metadata": {},
   "outputs": [
    {
     "name": "stdout",
     "output_type": "stream",
     "text": [
      "Name:  Alice\n",
      "School:  Columbia Enrolled:  False\n",
      "Math:  99\n",
      "Physics:  50\n",
      "Chemistry:  50\n",
      "Biology:  50\n",
      "Score:  249\n"
     ]
    }
   ],
   "source": [
    "print_student_details(\"Alice\", \"Columbia\", 99)"
   ]
  },
  {
   "cell_type": "code",
   "execution_count": 48,
   "metadata": {},
   "outputs": [
    {
     "name": "stdout",
     "output_type": "stream",
     "text": [
      "Name:  Alice\n",
      "School:  Columbia Enrolled:  True\n",
      "Math:  99\n",
      "Physics:  50\n",
      "Chemistry:  50\n",
      "Biology:  50\n",
      "Score:  249\n"
     ]
    }
   ],
   "source": [
    "print_student_details(\"Alice\", \"Columbia\", 99, enrolled=True)"
   ]
  },
  {
   "cell_type": "code",
   "execution_count": 49,
   "metadata": {},
   "outputs": [
    {
     "name": "stdout",
     "output_type": "stream",
     "text": [
      "Name:  Alice\n",
      "School:  Columbia Enrolled:  True\n",
      "Math:  99\n",
      "Physics:  50\n",
      "Chemistry:  50\n",
      "Biology:  50\n",
      "Score:  249\n"
     ]
    }
   ],
   "source": [
    "print_student_details(\"Alice\", \"Columbia\", 99, enrolled=True)"
   ]
  },
  {
   "cell_type": "code",
   "execution_count": 50,
   "metadata": {},
   "outputs": [
    {
     "name": "stdout",
     "output_type": "stream",
     "text": [
      "Name:  Alice\n",
      "School:  Columbia Enrolled:  True\n",
      "Math:  99\n",
      "Physics:  50\n",
      "Chemistry:  50\n",
      "Biology:  66\n",
      "Score:  265\n"
     ]
    }
   ],
   "source": [
    "print_student_details(\"Alice\", \"Columbia\", 99, biology=66, enrolled=True)"
   ]
  },
  {
   "cell_type": "code",
   "execution_count": null,
   "metadata": {},
   "outputs": [],
   "source": []
  }
 ],
 "metadata": {
  "kernelspec": {
   "display_name": "Python 3",
   "language": "python",
   "name": "python3"
  },
  "language_info": {
   "codemirror_mode": {
    "name": "ipython",
    "version": 3
   },
   "file_extension": ".py",
   "mimetype": "text/x-python",
   "name": "python",
   "nbconvert_exporter": "python",
   "pygments_lexer": "ipython3",
   "version": "3.6.4"
  }
 },
 "nbformat": 4,
 "nbformat_minor": 2
}
