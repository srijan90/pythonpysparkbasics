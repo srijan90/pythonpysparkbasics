{
 "cells": [
  {
   "cell_type": "markdown",
   "metadata": {},
   "source": [
    "#### Making variables private. This is a hack in Python"
   ]
  },
  {
   "cell_type": "code",
   "execution_count": 38,
   "metadata": {},
   "outputs": [],
   "source": [
    "class Dog:\n",
    "   \n",
    "    def __init__(self, name, breed):\n",
    "        \n",
    "        self.name = name\n",
    "        self.breed = breed\n",
    "    \n",
    "    def print_details(self):\n",
    "\n",
    "        print('My name is %s and I am a %s' % (self.name, self.breed))"
   ]
  },
  {
   "cell_type": "code",
   "execution_count": 39,
   "metadata": {},
   "outputs": [
    {
     "name": "stdout",
     "output_type": "stream",
     "text": [
      "My name is Oba and I am a Labrador\n"
     ]
    }
   ],
   "source": [
    "d1 = Dog('Oba', 'Labrador')\n",
    "\n",
    "d1.print_details()"
   ]
  },
  {
   "cell_type": "code",
   "execution_count": 40,
   "metadata": {},
   "outputs": [
    {
     "name": "stdout",
     "output_type": "stream",
     "text": [
      "My name is Nemo and I am a Labrador\n"
     ]
    }
   ],
   "source": [
    "d1.name = 'Nemo'\n",
    "\n",
    "d1.print_details()"
   ]
  },
  {
   "cell_type": "code",
   "execution_count": 41,
   "metadata": {},
   "outputs": [
    {
     "name": "stdout",
     "output_type": "stream",
     "text": [
      "My name is Nemo and I am a Golden Retriever\n"
     ]
    }
   ],
   "source": [
    "d1.breed = 'Golden Retriever'\n",
    "\n",
    "d1.print_details()"
   ]
  },
  {
   "cell_type": "code",
   "execution_count": 42,
   "metadata": {},
   "outputs": [
    {
     "data": {
      "text/plain": [
       "mappingproxy({'__dict__': <attribute '__dict__' of 'Dog' objects>,\n",
       "              '__doc__': None,\n",
       "              '__init__': <function __main__.Dog.__init__>,\n",
       "              '__module__': '__main__',\n",
       "              '__weakref__': <attribute '__weakref__' of 'Dog' objects>,\n",
       "              'print_details': <function __main__.Dog.print_details>})"
      ]
     },
     "execution_count": 42,
     "metadata": {},
     "output_type": "execute_result"
    }
   ],
   "source": [
    "Dog.__dict__"
   ]
  },
  {
   "cell_type": "code",
   "execution_count": 43,
   "metadata": {},
   "outputs": [
    {
     "data": {
      "text/plain": [
       "{'breed': 'Golden Retriever', 'name': 'Nemo'}"
      ]
     },
     "execution_count": 43,
     "metadata": {},
     "output_type": "execute_result"
    }
   ],
   "source": [
    "d1.__dict__"
   ]
  },
  {
   "cell_type": "code",
   "execution_count": 44,
   "metadata": {},
   "outputs": [],
   "source": [
    "class Dog:\n",
    "   \n",
    "    def __init__(self, name, breed):\n",
    "        \n",
    "        self.__name = name\n",
    "        self.__breed = breed\n",
    "    \n",
    "    def print_details(self):\n",
    "\n",
    "        print('My name is %s and I am a %s' % (self.__name, self.__breed))"
   ]
  },
  {
   "cell_type": "code",
   "execution_count": 45,
   "metadata": {},
   "outputs": [
    {
     "name": "stdout",
     "output_type": "stream",
     "text": [
      "My name is Moje and I am a Golden Retriever\n"
     ]
    }
   ],
   "source": [
    "d1 = Dog('Moje', 'Golden Retriever')\n",
    "\n",
    "d1.print_details()"
   ]
  },
  {
   "cell_type": "code",
   "execution_count": 46,
   "metadata": {},
   "outputs": [
    {
     "data": {
      "text/plain": [
       "{'_Dog__breed': 'Golden Retriever', '_Dog__name': 'Moje'}"
      ]
     },
     "execution_count": 46,
     "metadata": {},
     "output_type": "execute_result"
    }
   ],
   "source": [
    "d1.__dict__"
   ]
  },
  {
   "cell_type": "code",
   "execution_count": 47,
   "metadata": {},
   "outputs": [
    {
     "name": "stdout",
     "output_type": "stream",
     "text": [
      "My name is Moje and I am a Golden Retriever\n"
     ]
    }
   ],
   "source": [
    "d1.__name = \"Oba\"\n",
    "\n",
    "d1.print_details()"
   ]
  },
  {
   "cell_type": "code",
   "execution_count": 48,
   "metadata": {},
   "outputs": [
    {
     "data": {
      "text/plain": [
       "{'_Dog__breed': 'Golden Retriever', '_Dog__name': 'Moje', '__name': 'Oba'}"
      ]
     },
     "execution_count": 48,
     "metadata": {},
     "output_type": "execute_result"
    }
   ],
   "source": [
    "d1.__dict__"
   ]
  },
  {
   "cell_type": "code",
   "execution_count": 49,
   "metadata": {},
   "outputs": [
    {
     "name": "stdout",
     "output_type": "stream",
     "text": [
      "My name is Moje and I am a Husky\n"
     ]
    }
   ],
   "source": [
    "d1._Dog__breed = 'Husky'\n",
    "\n",
    "d1.print_details()"
   ]
  },
  {
   "cell_type": "code",
   "execution_count": 50,
   "metadata": {},
   "outputs": [],
   "source": [
    "class Dog:\n",
    "    \n",
    "    def __init__(self, name, breed):\n",
    "        \n",
    "        self.__name = name\n",
    "        self.__breed = breed\n",
    "    \n",
    "    def print_details(self):\n",
    "        print('My name is %s and I am a %s' % (self.__name, self.__breed))\n",
    "        \n",
    "    def change_name(self, name):\n",
    "        self.__name = name"
   ]
  },
  {
   "cell_type": "code",
   "execution_count": 51,
   "metadata": {},
   "outputs": [
    {
     "name": "stdout",
     "output_type": "stream",
     "text": [
      "My name is Nemo and I am a Husky\n"
     ]
    }
   ],
   "source": [
    "d1 = Dog('Nemo', 'Husky')\n",
    "\n",
    "d1.print_details()"
   ]
  },
  {
   "cell_type": "code",
   "execution_count": 52,
   "metadata": {},
   "outputs": [
    {
     "name": "stdout",
     "output_type": "stream",
     "text": [
      "My name is Oba and I am a Husky\n"
     ]
    }
   ],
   "source": [
    "d1.change_name(\"Oba\")\n",
    "\n",
    "d1.print_details()"
   ]
  },
  {
   "cell_type": "code",
   "execution_count": 53,
   "metadata": {},
   "outputs": [],
   "source": [
    "class Dog:\n",
    "    \n",
    "    __species = 'canine'\n",
    "    \n",
    "    def __init__(self, name, breed):\n",
    "        \n",
    "        self.__name = name\n",
    "        self.__breed = breed\n",
    "        self.__tricks = []\n",
    "    \n",
    "    def get_name(self):\n",
    "        return self.__name\n",
    "    \n",
    "    def set_name(self, name):\n",
    "        self.__name = name\n",
    "\n",
    "    def get_breed(self):\n",
    "        return self.__breed\n",
    "    \n",
    "    def set_breed(self, breed):\n",
    "        self.__breed = breed\n",
    "\n",
    "    def add_trick(self, trick):\n",
    "        self.__tricks.append(trick)\n",
    "    \n",
    "    def print_details(self):\n",
    "        print('My name is %s and I am a %s and I can do tricks! %s' % \n",
    "              (self.__name, self.__breed, self.__tricks))\n"
   ]
  },
  {
   "cell_type": "markdown",
   "metadata": {},
   "source": [
    "#### Initializing classes in Python"
   ]
  },
  {
   "cell_type": "code",
   "execution_count": 54,
   "metadata": {},
   "outputs": [
    {
     "name": "stdout",
     "output_type": "stream",
     "text": [
      "My name is Moje and I am a Golden Retriever and I can do tricks! []\n"
     ]
    }
   ],
   "source": [
    "d1 = Dog('Moje', 'Golden Retriever')\n",
    "\n",
    "d1.print_details()"
   ]
  },
  {
   "cell_type": "code",
   "execution_count": 55,
   "metadata": {},
   "outputs": [
    {
     "name": "stdout",
     "output_type": "stream",
     "text": [
      "My name is Moje and I am a Golden Retriever and I can do tricks! ['roll over']\n"
     ]
    }
   ],
   "source": [
    "d1.add_trick('roll over')\n",
    "\n",
    "d1.print_details()"
   ]
  },
  {
   "cell_type": "code",
   "execution_count": 56,
   "metadata": {},
   "outputs": [
    {
     "name": "stdout",
     "output_type": "stream",
     "text": [
      "My name is Moje and I am a Labrador and I can do tricks! ['roll over']\n"
     ]
    }
   ],
   "source": [
    "d1.set_breed('Labrador')\n",
    "\n",
    "d1.print_details()"
   ]
  },
  {
   "cell_type": "markdown",
   "metadata": {},
   "source": [
    "#### Calling one method from another within a class"
   ]
  },
  {
   "cell_type": "code",
   "execution_count": 57,
   "metadata": {},
   "outputs": [],
   "source": [
    "class Dog:\n",
    "    \"\"\" This is a class which defines a dog.\n",
    "        This includes cute dogs as well as ferocious dogs.\n",
    "    \"\"\"\n",
    "    \n",
    "    __species = 'canine'\n",
    "    \n",
    "    def __init__(self, name, breed):\n",
    "        self.__name = name\n",
    "        self.__breed = breed\n",
    "        self.__tricks = []\n",
    "    \n",
    "    def print_details(self):\n",
    "        print('My name is %s and I am a %s' % (self.__name, self.__breed))\n",
    "        print('Here are the tricks I can do: ', self.__tricks)\n",
    "\n",
    "    def change_name(self, name):\n",
    "        self.__name = name\n",
    "\n",
    "    def change_breed(self, breed):\n",
    "        self.__breed = breed\n",
    "\n",
    "    def change_name_and_breed(self, name, breed):\n",
    "        self.change_name(name)\n",
    "        self.change_breed(breed)\n",
    "        \n",
    "    def add_trick(self, trick):\n",
    "        self.__tricks.append(trick)"
   ]
  },
  {
   "cell_type": "code",
   "execution_count": 60,
   "metadata": {},
   "outputs": [
    {
     "name": "stdout",
     "output_type": "stream",
     "text": [
      "My name is Moje and I am a Golden Retriever\n",
      "Here are the tricks I can do:  []\n"
     ]
    }
   ],
   "source": [
    "d1 = Dog('Moje', 'Golden Retriever')\n",
    "\n",
    "d1.print_details()"
   ]
  },
  {
   "cell_type": "code",
   "execution_count": 61,
   "metadata": {},
   "outputs": [
    {
     "name": "stdout",
     "output_type": "stream",
     "text": [
      "My name is Oba and I am a Labrador\n",
      "Here are the tricks I can do:  []\n"
     ]
    }
   ],
   "source": [
    "d1.change_name_and_breed('Oba', 'Labrador')\n",
    "\n",
    "d1.print_details()"
   ]
  },
  {
   "cell_type": "code",
   "execution_count": null,
   "metadata": {},
   "outputs": [],
   "source": []
  },
  {
   "cell_type": "code",
   "execution_count": null,
   "metadata": {},
   "outputs": [],
   "source": []
  },
  {
   "cell_type": "code",
   "execution_count": null,
   "metadata": {},
   "outputs": [],
   "source": []
  },
  {
   "cell_type": "code",
   "execution_count": null,
   "metadata": {},
   "outputs": [],
   "source": []
  },
  {
   "cell_type": "code",
   "execution_count": null,
   "metadata": {},
   "outputs": [],
   "source": []
  },
  {
   "cell_type": "code",
   "execution_count": null,
   "metadata": {},
   "outputs": [],
   "source": []
  },
  {
   "cell_type": "code",
   "execution_count": null,
   "metadata": {},
   "outputs": [],
   "source": []
  },
  {
   "cell_type": "code",
   "execution_count": null,
   "metadata": {},
   "outputs": [],
   "source": []
  },
  {
   "cell_type": "code",
   "execution_count": null,
   "metadata": {},
   "outputs": [],
   "source": []
  },
  {
   "cell_type": "code",
   "execution_count": null,
   "metadata": {},
   "outputs": [],
   "source": []
  }
 ],
 "metadata": {
  "kernelspec": {
   "display_name": "Python 3",
   "language": "python",
   "name": "python3"
  },
  "language_info": {
   "codemirror_mode": {
    "name": "ipython",
    "version": 3
   },
   "file_extension": ".py",
   "mimetype": "text/x-python",
   "name": "python",
   "nbconvert_exporter": "python",
   "pygments_lexer": "ipython3",
   "version": "3.6.4"
  }
 },
 "nbformat": 4,
 "nbformat_minor": 2
}
