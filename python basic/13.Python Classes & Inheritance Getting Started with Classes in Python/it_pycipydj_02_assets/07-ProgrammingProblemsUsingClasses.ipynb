{
 "cells": [
  {
   "cell_type": "markdown",
   "metadata": {},
   "source": [
    "### Create a class for a student which contains the following information\n",
    "\n",
    "* name\n",
    "* gpa\n",
    "* active student or not\n",
    "* clubs the student is a member of\n",
    "\n",
    "Write functions to change the value of each student attribute"
   ]
  },
  {
   "cell_type": "code",
   "execution_count": 1,
   "metadata": {},
   "outputs": [],
   "source": [
    "class Student:\n",
    "    \n",
    "    def __init__(self, name, gpa):\n",
    "        self.__name = name\n",
    "        self.__gpa = gpa\n",
    "        self.__clubs = set()\n",
    "        self.__active = True\n",
    "        \n",
    "    def set_name(self, name):\n",
    "        self.__name = name\n",
    "        \n",
    "    def set_gpa(self, gpa):\n",
    "        self.__gpa = gpa\n",
    "        \n",
    "    def add_club(self, club):\n",
    "        self.__clubs.add(club)\n",
    "\n",
    "    def remove_club(self, club):\n",
    "        self.__clubs.remove(club)\n",
    "    \n",
    "    def set_active(self, is_honors_student):\n",
    "        self.__is_honors_student = is_honors_student\n",
    "        \n",
    "    def print_details(self):\n",
    "        print('Student: ', self.__name)\n",
    "        print(self.__gpa, self.__clubs, self.__active)"
   ]
  },
  {
   "cell_type": "code",
   "execution_count": 11,
   "metadata": {},
   "outputs": [],
   "source": [
    "s = Student('James', 3.8)"
   ]
  },
  {
   "cell_type": "code",
   "execution_count": 12,
   "metadata": {},
   "outputs": [],
   "source": [
    "s.add_club('Yoga')"
   ]
  },
  {
   "cell_type": "code",
   "execution_count": 13,
   "metadata": {},
   "outputs": [
    {
     "name": "stdout",
     "output_type": "stream",
     "text": [
      "Student:  James\n",
      "3.8 {'Yoga'} True\n"
     ]
    }
   ],
   "source": [
    "s.print_details()"
   ]
  },
  {
   "cell_type": "code",
   "execution_count": 14,
   "metadata": {},
   "outputs": [],
   "source": [
    "s.add_club('yoga')"
   ]
  },
  {
   "cell_type": "code",
   "execution_count": 15,
   "metadata": {},
   "outputs": [
    {
     "name": "stdout",
     "output_type": "stream",
     "text": [
      "Student:  James\n",
      "3.8 {'yoga', 'Yoga'} True\n"
     ]
    }
   ],
   "source": [
    "s.print_details()"
   ]
  },
  {
   "cell_type": "code",
   "execution_count": 16,
   "metadata": {},
   "outputs": [],
   "source": [
    "s.add_club('yoga')"
   ]
  },
  {
   "cell_type": "code",
   "execution_count": 17,
   "metadata": {},
   "outputs": [
    {
     "name": "stdout",
     "output_type": "stream",
     "text": [
      "Student:  James\n",
      "3.8 {'yoga', 'Yoga'} True\n"
     ]
    }
   ],
   "source": [
    "s.print_details()"
   ]
  },
  {
   "cell_type": "code",
   "execution_count": 18,
   "metadata": {},
   "outputs": [
    {
     "name": "stdout",
     "output_type": "stream",
     "text": [
      "Student:  James\n",
      "3.9 {'yoga', 'Yoga'} True\n"
     ]
    }
   ],
   "source": [
    "s.set_gpa(3.9)\n",
    "\n",
    "s.print_details()"
   ]
  },
  {
   "cell_type": "code",
   "execution_count": 21,
   "metadata": {},
   "outputs": [],
   "source": [
    "# You have student details in a dictionary format i.e a list of dictionaries. Write a method to convert these \n",
    "# to instances of the student class. Return a list of instances from a function\n",
    "\n",
    "student_details_list = [\n",
    "    {'name': 'Nina', 'gpa': 3.6, 'clubs': ['tennis', 'chess']},\n",
    "    {'name': 'Emily', 'gpa': 3.9, 'clubs': ['tennis'], 'active': False},\n",
    "    {'name': 'Michael', 'gpa': 3.2, 'clubs': ['football', 'chess']},\n",
    "    {'name': 'Joe', 'gpa': 3.9, 'is_honors_student': True}\n",
    "]"
   ]
  },
  {
   "cell_type": "code",
   "execution_count": 24,
   "metadata": {},
   "outputs": [],
   "source": [
    "def get_students(student_details_list):\n",
    "    students_list = []\n",
    "\n",
    "    for student_details in student_details_list:\n",
    "        \n",
    "        if 'name' not in student_details or 'gpa' not in student_details:\n",
    "            continue\n",
    "            \n",
    "        s = Student(student_details['name'], student_details['gpa'])\n",
    "        \n",
    "        if 'clubs' in student_details:\n",
    "            for club in student_details['clubs']:\n",
    "                s.add_club(club)\n",
    "\n",
    "        if 'active' in student_details:\n",
    "            s.set_active(student_details['active'])\n",
    "    \n",
    "        students_list.append(s)\n",
    "        \n",
    "    return students_list    "
   ]
  },
  {
   "cell_type": "code",
   "execution_count": 25,
   "metadata": {},
   "outputs": [],
   "source": [
    "students = get_students(student_details_list)"
   ]
  },
  {
   "cell_type": "code",
   "execution_count": 26,
   "metadata": {},
   "outputs": [
    {
     "data": {
      "text/plain": [
       "[<__main__.Student at 0x1124455f8>,\n",
       " <__main__.Student at 0x112445588>,\n",
       " <__main__.Student at 0x112445128>,\n",
       " <__main__.Student at 0x1124454e0>]"
      ]
     },
     "execution_count": 26,
     "metadata": {},
     "output_type": "execute_result"
    }
   ],
   "source": [
    "students"
   ]
  },
  {
   "cell_type": "code",
   "execution_count": 28,
   "metadata": {},
   "outputs": [
    {
     "name": "stdout",
     "output_type": "stream",
     "text": [
      "Student:  Nina\n",
      "3.6 {'tennis', 'chess'} True\n",
      "Student:  Emily\n",
      "3.9 {'tennis'} True\n",
      "Student:  Michael\n",
      "3.2 {'chess', 'football'} True\n",
      "Student:  Joe\n",
      "3.9 set() True\n"
     ]
    }
   ],
   "source": [
    "for student in students:\n",
    "    student.print_details()"
   ]
  },
  {
   "cell_type": "code",
   "execution_count": 29,
   "metadata": {},
   "outputs": [],
   "source": [
    "# Set up a Circle class which takes in a radius and has methods which calculate the area and perimeter\n",
    "# for the circle\n",
    "\n",
    "import math\n",
    "\n",
    "class Circle:\n",
    "    \n",
    "    def __init__(self, radius):\n",
    "        self.__radius = radius\n",
    "    \n",
    "    def get_area(self):\n",
    "        return math.pi * self.__radius * self.__radius\n",
    "    \n",
    "    def get_perimeter(self):\n",
    "        return 2 * math.pi * self.__radius\n",
    "        "
   ]
  },
  {
   "cell_type": "code",
   "execution_count": 30,
   "metadata": {},
   "outputs": [],
   "source": [
    "c = Circle(12)"
   ]
  },
  {
   "cell_type": "code",
   "execution_count": 31,
   "metadata": {},
   "outputs": [
    {
     "data": {
      "text/plain": [
       "(452.3893421169302, 75.39822368615503)"
      ]
     },
     "execution_count": 31,
     "metadata": {},
     "output_type": "execute_result"
    }
   ],
   "source": [
    "c.get_area(), c.get_perimeter()"
   ]
  },
  {
   "cell_type": "code",
   "execution_count": null,
   "metadata": {},
   "outputs": [],
   "source": []
  },
  {
   "cell_type": "code",
   "execution_count": null,
   "metadata": {},
   "outputs": [],
   "source": []
  },
  {
   "cell_type": "code",
   "execution_count": null,
   "metadata": {},
   "outputs": [],
   "source": []
  },
  {
   "cell_type": "code",
   "execution_count": null,
   "metadata": {},
   "outputs": [],
   "source": []
  }
 ],
 "metadata": {
  "kernelspec": {
   "display_name": "Python 3",
   "language": "python",
   "name": "python3"
  },
  "language_info": {
   "codemirror_mode": {
    "name": "ipython",
    "version": 3
   },
   "file_extension": ".py",
   "mimetype": "text/x-python",
   "name": "python",
   "nbconvert_exporter": "python",
   "pygments_lexer": "ipython3",
   "version": "3.6.4"
  }
 },
 "nbformat": 4,
 "nbformat_minor": 2
}
