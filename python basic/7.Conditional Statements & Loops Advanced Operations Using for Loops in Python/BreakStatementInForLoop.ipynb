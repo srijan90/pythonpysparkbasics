{
 "cells": [
  {
   "cell_type": "markdown",
   "metadata": {},
   "source": [
    "#### Break Keyword\n",
    "\n",
    "* The `break` keyword is used to break out a `for loop`"
   ]
  },
  {
   "cell_type": "markdown",
   "metadata": {},
   "source": [
    "End the loop val is equals to n"
   ]
  },
  {
   "cell_type": "code",
   "execution_count": 1,
   "metadata": {},
   "outputs": [
    {
     "name": "stdout",
     "output_type": "stream",
     "text": [
      "p\n",
      "y\n",
      "t\n",
      "h\n"
     ]
    }
   ],
   "source": [
    "for letter in \"python\":\n",
    "    if letter == \"o\":\n",
    "        \n",
    "        break\n",
    "    print(letter)     "
   ]
  },
  {
   "cell_type": "code",
   "execution_count": 2,
   "metadata": {},
   "outputs": [
    {
     "name": "stdout",
     "output_type": "stream",
     "text": [
      "p\n",
      "y\n",
      "t\n",
      "h\n",
      "o\n"
     ]
    }
   ],
   "source": [
    "for letter in \"python\":\n",
    "    print(letter)\n",
    "    \n",
    "    if letter == \"o\":\n",
    "        break        "
   ]
  },
  {
   "cell_type": "code",
   "execution_count": 3,
   "metadata": {},
   "outputs": [
    {
     "name": "stdout",
     "output_type": "stream",
     "text": [
      "The letter c was found in the string\n"
     ]
    }
   ],
   "source": [
    "for char in 'icecream':\n",
    "    if char == 'c':\n",
    "        \n",
    "        print ('The letter %s was found in the string' % char)\n",
    "        break\n",
    "else:\n",
    "    print('The letter %s does not exist in the string' % char)"
   ]
  },
  {
   "cell_type": "code",
   "execution_count": 4,
   "metadata": {},
   "outputs": [
    {
     "name": "stdout",
     "output_type": "stream",
     "text": [
      "3\n",
      "11\n",
      "22\n",
      "The number 22 has been found\n",
      "Terminating the loop...\n"
     ]
    }
   ],
   "source": [
    "for num in [3, 11, 22, 35, 90]:\n",
    "    print (num)\n",
    "    \n",
    "    if (num == 22):\n",
    "        print (\"The number %d has been found\" % num )\n",
    "        print (\"Terminating the loop...\")\n",
    "        \n",
    "        break"
   ]
  },
  {
   "cell_type": "markdown",
   "metadata": {},
   "source": [
    "#### Break statement using range"
   ]
  },
  {
   "cell_type": "code",
   "execution_count": 5,
   "metadata": {},
   "outputs": [
    {
     "name": "stdout",
     "output_type": "stream",
     "text": [
      "0\n",
      "1\n",
      "2\n",
      "3\n"
     ]
    }
   ],
   "source": [
    "for i in range (5):\n",
    "    \n",
    "    if i == 4:\n",
    "        break\n",
    "        \n",
    "    print(i)"
   ]
  },
  {
   "cell_type": "markdown",
   "metadata": {},
   "source": [
    "End the loop if i is larger than num"
   ]
  },
  {
   "cell_type": "code",
   "execution_count": 6,
   "metadata": {},
   "outputs": [
    {
     "name": "stdout",
     "output_type": "stream",
     "text": [
      "1 is less than 5\n",
      "2 is less than 5\n",
      "3 is less than 5\n",
      "4 is less than 5\n"
     ]
    }
   ],
   "source": [
    "for i in range (1, 10):\n",
    "    \n",
    "    if i >= 5:\n",
    "        break \n",
    "        \n",
    "    print(i, \"is less than 5\")    "
   ]
  },
  {
   "cell_type": "markdown",
   "metadata": {},
   "source": [
    "Print the number to the power of 2"
   ]
  },
  {
   "cell_type": "code",
   "execution_count": 7,
   "metadata": {},
   "outputs": [
    {
     "name": "stdout",
     "output_type": "stream",
     "text": [
      "0 square 0\n",
      "1 square 1\n",
      "2 square 4\n",
      "3 square 9\n",
      "4 square 16\n"
     ]
    }
   ],
   "source": [
    "my_list = range(10)\n",
    " \n",
    "for num in my_list:\n",
    "    if num ** 2 > 20:\n",
    "         \n",
    "        break\n",
    "        \n",
    "    print(num, \"square\", num ** 2 )"
   ]
  },
  {
   "cell_type": "markdown",
   "metadata": {},
   "source": [
    "* Here the variable number is initialized 0.  Then a for statement constructs the loop which executes as long as the variable is less than 10.\n",
    "* Within the for loop, the number increases incrementally by 1 with each pass\n",
    "* Then if statement presents the condition that if the variable is equivalent to the integer 5,then the loop will break\n",
    "* Print() statement within loop will execute with each iteration until the loop breaks, since it is after the break statement\n",
    "* When we are out of the loop, we have included a final print() statement outside of the for loop."
   ]
  },
  {
   "cell_type": "code",
   "execution_count": 8,
   "metadata": {},
   "outputs": [
    {
     "name": "stdout",
     "output_type": "stream",
     "text": [
      "number is: 1\n",
      "number is: 2\n",
      "number is: 3\n",
      "number is: 4\n",
      "we are out of the loop\n"
     ]
    }
   ],
   "source": [
    "number = 0\n",
    "\n",
    "for number in range (10):\n",
    "    \n",
    "    number = number + 1     \n",
    "    \n",
    "    if number == 5:\n",
    "        break\n",
    "        \n",
    "    print (\"number is: \" + str(number)) \n",
    "    \n",
    "print (\"we are out of the loop\")    "
   ]
  },
  {
   "cell_type": "markdown",
   "metadata": {},
   "source": [
    "Here we have small change within the for loop the `i` variable increses incrementally by `i` value not 1.\n",
    "\n",
    "Here we can see break statement is not applying because when we pass the itereation each time that number incrementing with i that means, in if statemet number is 3 and i is 3 (number + i)it will give you output is 6, not 5 that's why here that output is coming upto range 10."
   ]
  },
  {
   "cell_type": "markdown",
   "metadata": {},
   "source": [
    "Print 'Odd Numbers Between', start and End"
   ]
  },
  {
   "cell_type": "code",
   "execution_count": 9,
   "metadata": {},
   "outputs": [
    {
     "name": "stdout",
     "output_type": "stream",
     "text": [
      "odd numbers between 0 and 10 are:\n",
      "1\n",
      "3\n",
      "5\n",
      "7\n"
     ]
    }
   ],
   "source": [
    "start = 0\n",
    "end = 10\n",
    "\n",
    "print (\"odd numbers between\",start, \"and\", end, \"are:\")\n",
    "\n",
    "for i in range (start, end + 1):\n",
    "    \n",
    "    if (i % 2) != 0:\n",
    "        print (i)\n",
    "        \n",
    "    if i == 7:\n",
    "        break"
   ]
  },
  {
   "cell_type": "markdown",
   "metadata": {},
   "source": [
    "Find the sum of first five integers"
   ]
  },
  {
   "cell_type": "code",
   "execution_count": 10,
   "metadata": {},
   "outputs": [
    {
     "name": "stdout",
     "output_type": "stream",
     "text": [
      "at index 0  the sum is 10\n",
      "at index 1  the sum is 30\n",
      "at index 2  the sum is 60\n",
      "at index 3  the sum is 100\n",
      "at index 4  the sum is 150\n",
      "the sum of first 5 integers is: 150\n"
     ]
    }
   ],
   "source": [
    "num_tuple = (10, 20, 30, 40, 50, 60, 70, 80, 90)\n",
    "\n",
    "sum_num = 0\n",
    "count = 0\n",
    "\n",
    "for num in num_tuple:\n",
    "    \n",
    "    sum_num = sum_num + num\n",
    "    print(\"at index\", count, \" the sum is\", sum_num)\n",
    "    \n",
    "    count = count + 1\n",
    "    \n",
    "    if count == 5:\n",
    "        break\n",
    "print (\"the sum of first\", count, \"integers is:\", sum_num)"
   ]
  },
  {
   "cell_type": "markdown",
   "metadata": {},
   "source": [
    "#### The else clause! After the loop is completed, and has not encountered a break statement, it will run the code in else. However, if the loop is broken out of manually, it will skip the else altogether."
   ]
  },
  {
   "cell_type": "markdown",
   "metadata": {},
   "source": [
    "Since 'Mali' was not in the list, we see the message \"The villain got away agian.  'If we change the value of villain_at to Norway, we will see 'Villain captured!' instead. \n",
    "code got from https://dev.to/codemouse92/dead-simple-python-loops-and-iterators-15bp"
   ]
  },
  {
   "cell_type": "code",
   "execution_count": 11,
   "metadata": {},
   "outputs": [
    {
     "name": "stdout",
     "output_type": "stream",
     "text": [
      "The villain got away :(\n"
     ]
    }
   ],
   "source": [
    "places = [\"New Zealand\", \"Norway\", \"Botswana\", \"Zimbabwe\", \"Uzbekistan\", \"Paraguay\"]\n",
    "\n",
    "villain_at = \"Mali\"  \n",
    "\n",
    "for place in places:\n",
    "    if place == villain_at:\n",
    "        \n",
    "        print(\"The Villain has been captured!\")\n",
    "        break\n",
    "else:\n",
    "    print(\"The villain got away :(\")"
   ]
  },
  {
   "cell_type": "code",
   "execution_count": 12,
   "metadata": {},
   "outputs": [
    {
     "name": "stdout",
     "output_type": "stream",
     "text": [
      "The Villain has been captured!\n"
     ]
    }
   ],
   "source": [
    "places = [\"New Zealand\", \"Norway\", \"Botswana\", \"Zimbabwe\", \"Uzbekistan\", \"Paraguay\"]\n",
    "\n",
    "villain_at = \"Norway\"  \n",
    "\n",
    "for place in places:\n",
    "    if place == villain_at:\n",
    "        \n",
    "        print(\"The Villain has been captured!\")\n",
    "        break\n",
    "else:\n",
    "    print(\"The villain got away :(\")"
   ]
  },
  {
   "cell_type": "markdown",
   "metadata": {},
   "source": [
    "Run this once with Apple and once with Mango"
   ]
  },
  {
   "cell_type": "code",
   "execution_count": 13,
   "metadata": {
    "collapsed": true
   },
   "outputs": [],
   "source": [
    "list_of_fruits = [\"Apple\", \"Watermelon\", \"Orange\", \"Papaya\", \"Kiwi\"]"
   ]
  },
  {
   "cell_type": "code",
   "execution_count": 14,
   "metadata": {},
   "outputs": [
    {
     "name": "stdout",
     "output_type": "stream",
     "text": [
      "Enter a fruit: Mango\n",
      "The fruit was not found\n"
     ]
    }
   ],
   "source": [
    "fruit = input(\"Enter a fruit: \")\n",
    "\n",
    "for i in list_of_fruits:\n",
    "    \n",
    "    if i == fruit:\n",
    "        \n",
    "        print(\"The fruit was found in the list\")\n",
    "        break\n",
    "        \n",
    "else:\n",
    "    print (\"The fruit was not found\")"
   ]
  },
  {
   "cell_type": "markdown",
   "metadata": {},
   "source": [
    "Finding prime number"
   ]
  },
  {
   "cell_type": "code",
   "execution_count": 15,
   "metadata": {},
   "outputs": [
    {
     "name": "stdout",
     "output_type": "stream",
     "text": [
      "Enter a number: 6\n",
      "It is not a prime number\n"
     ]
    }
   ],
   "source": [
    "num = int(input(\"Enter a number: \"))\n",
    "\n",
    "for i in range(2, num//2):\n",
    "    if num % i == 0:\n",
    "        \n",
    "        print(\"It is not a prime number\")\n",
    "        break\n",
    "        \n",
    "else:\n",
    "    print(num,\"is a prime number\")"
   ]
  },
  {
   "cell_type": "markdown",
   "metadata": {},
   "source": [
    "Find Prime numbers with given range(10 to 20)"
   ]
  },
  {
   "cell_type": "markdown",
   "metadata": {},
   "source": [
    "Here the list is defined and the user is asked to input a number if the number is found then it will report that it is found otherwise it will say not found"
   ]
  },
  {
   "cell_type": "markdown",
   "metadata": {},
   "source": [
    "# technically correct?"
   ]
  },
  {
   "cell_type": "code",
   "execution_count": 16,
   "metadata": {},
   "outputs": [
    {
     "name": "stdout",
     "output_type": "stream",
     "text": [
      "[1, 3, 6, 5, 2, 7, 4]\n",
      "\n",
      "Enter a number: 5\n",
      "5 found at index: 3\n"
     ]
    }
   ],
   "source": [
    "id_number = [1, 3, 6, 5, 2, 7, 4]\n",
    "print (id_number)\n",
    "\n",
    "x = int (input(\"\\nEnter a number: \"))\n",
    "\n",
    "for i in range (len(id_number)):\n",
    "    if x == id_number[i]:\n",
    "        break\n",
    "        \n",
    "if i < len(id_number) - 1:\n",
    "    print (x, \"found at index:\", i )\n",
    "    \n",
    "else:\n",
    "    print (x,\"is not in the list\")"
   ]
  },
  {
   "cell_type": "markdown",
   "metadata": {},
   "source": [
    "first enter 3 wrong guesses then run again and pass correct password"
   ]
  },
  {
   "cell_type": "code",
   "execution_count": 17,
   "metadata": {},
   "outputs": [
    {
     "name": "stdout",
     "output_type": "stream",
     "text": [
      "Enter a password: secret\n",
      "you guessed the password :)\n"
     ]
    }
   ],
   "source": [
    "for i in range(3):\n",
    "    password = str(input(\"Enter a password: \"))\n",
    "    \n",
    "    if password == \"secret\":\n",
    "        print (\"you guessed the password :)\")\n",
    "        break\n",
    "        \n",
    "else:\n",
    "    print (\"3 incorrect password attempts\")"
   ]
  },
  {
   "cell_type": "markdown",
   "metadata": {},
   "source": [
    "first check gor great then for level"
   ]
  },
  {
   "cell_type": "code",
   "execution_count": 18,
   "metadata": {},
   "outputs": [
    {
     "name": "stdout",
     "output_type": "stream",
     "text": [
      "Enter a string: otto\n",
      "This is a palindrome\n"
     ]
    }
   ],
   "source": [
    "my_str = input(\"Enter a string: \")\n",
    "length = len(my_str)\n",
    "start = 0\n",
    "end = int(length // 2 + 1)\n",
    "\n",
    "for i in range(start, end):\n",
    "    if my_str[i] == my_str[-i -1]:\n",
    "        \n",
    "        i = i + 1\n",
    "        \n",
    "    else:\n",
    "        break\n",
    "        \n",
    "if i < (length / 2):\n",
    "    print(\"This is not a palindrome\")\n",
    "    \n",
    "else:\n",
    "    print (\"This is a palindrome\") "
   ]
  },
  {
   "cell_type": "code",
   "execution_count": null,
   "metadata": {
    "collapsed": true
   },
   "outputs": [],
   "source": []
  }
 ],
 "metadata": {
  "kernelspec": {
   "display_name": "Python 3",
   "language": "python",
   "name": "python3"
  },
  "language_info": {
   "codemirror_mode": {
    "name": "ipython",
    "version": 3
   },
   "file_extension": ".py",
   "mimetype": "text/x-python",
   "name": "python",
   "nbconvert_exporter": "python",
   "pygments_lexer": "ipython3",
   "version": "3.6.8"
  }
 },
 "nbformat": 4,
 "nbformat_minor": 2
}
