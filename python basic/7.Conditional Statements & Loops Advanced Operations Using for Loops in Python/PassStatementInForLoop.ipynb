{
 "cells": [
  {
   "cell_type": "markdown",
   "metadata": {},
   "source": [
    "#### Pass keyword"
   ]
  },
  {
   "cell_type": "markdown",
   "metadata": {},
   "source": [
    "The pass statement does nothing. It can be used when a statement is required syntactically but the program requires no action.\n",
    "\n",
    "The pass statement occurring after the if conditional statement is telling the program to continue to run the loop and ignore the fact that the variable number evaluates as equivalent to 5 during one of its iterations.\n",
    "\n",
    "The pass statement tells the program to disregard that condition and continue to run the program as usual.  This sttement is a null operation; nothing happens when it executes."
   ]
  },
  {
   "cell_type": "markdown",
   "metadata": {},
   "source": [
    "The pass statement is used to write the empty loop"
   ]
  },
  {
   "cell_type": "code",
   "execution_count": 1,
   "metadata": {},
   "outputs": [
    {
     "name": "stdout",
     "output_type": "stream",
     "text": [
      "s\n",
      "t\n",
      "r\n",
      "i\n",
      "n\n",
      "g\n"
     ]
    }
   ],
   "source": [
    "for letter in \"string\": \n",
    "    if letter == \"r\":\n",
    "        pass\n",
    "        \n",
    "    print (letter)        "
   ]
  },
  {
   "cell_type": "markdown",
   "metadata": {},
   "source": [
    "# print statements"
   ]
  },
  {
   "cell_type": "code",
   "execution_count": 2,
   "metadata": {},
   "outputs": [
    {
     "name": "stdout",
     "output_type": "stream",
     "text": [
      "Current Letter : s\n",
      "Current Letter : t\n",
      "This is the pass block\n",
      "Current Letter : i\n",
      "Current Letter : n\n",
      "Current Letter : g\n",
      "out of the loop\n"
     ]
    }
   ],
   "source": [
    "for letter in \"string\": \n",
    "    \n",
    "    if letter == \"r\":\n",
    "        \n",
    "        pass\n",
    "        print(\"This is the pass block\")\n",
    "    \n",
    "    else:   \n",
    "        print (\"Current Letter :\", letter)\n",
    "print (\"out of the loop\")"
   ]
  },
  {
   "cell_type": "markdown",
   "metadata": {},
   "source": [
    "program for getting all the odd numbers"
   ]
  },
  {
   "cell_type": "code",
   "execution_count": 3,
   "metadata": {},
   "outputs": [
    {
     "name": "stdout",
     "output_type": "stream",
     "text": [
      "1\n",
      "3\n",
      "5\n",
      "7\n",
      "9\n"
     ]
    }
   ],
   "source": [
    "for i in range(10):\n",
    "    \n",
    "    if(i % 2 == 0):\n",
    "        pass\n",
    "    \n",
    "    else:\n",
    "        print(i)"
   ]
  },
  {
   "cell_type": "markdown",
   "metadata": {},
   "source": [
    "The difference becomes apparent if we added another statement after the if: After executing pass,  this further statement would be executed"
   ]
  },
  {
   "cell_type": "code",
   "execution_count": 4,
   "metadata": {},
   "outputs": [
    {
     "name": "stdout",
     "output_type": "stream",
     "text": [
      "Count of odd numbers:  0\n",
      "Total count of numbers:  1 \n",
      "\n",
      "1\n",
      "Count of odd numbers:  1\n",
      "Total count of numbers:  2 \n",
      "\n",
      "Count of odd numbers:  1\n",
      "Total count of numbers:  3 \n",
      "\n",
      "3\n",
      "Count of odd numbers:  2\n",
      "Total count of numbers:  4 \n",
      "\n",
      "Count of odd numbers:  2\n",
      "Total count of numbers:  5 \n",
      "\n",
      "5\n",
      "Count of odd numbers:  3\n",
      "Total count of numbers:  6 \n",
      "\n",
      "Count of odd numbers:  3\n",
      "Total count of numbers:  7 \n",
      "\n",
      "7\n",
      "Count of odd numbers:  4\n",
      "Total count of numbers:  8 \n",
      "\n",
      "Count of odd numbers:  4\n",
      "Total count of numbers:  9 \n",
      "\n",
      "9\n",
      "Count of odd numbers:  5\n",
      "Total count of numbers:  10 \n",
      "\n"
     ]
    }
   ],
   "source": [
    "odd_count = 0\n",
    "total_count = 0\n",
    "\n",
    "for i in range(10):\n",
    "    \n",
    "    if(i % 2 == 0):\n",
    "        pass\n",
    "    \n",
    "    else:\n",
    "        print(i)\n",
    "        odd_count += 1\n",
    "        \n",
    "    total_count += 1\n",
    "    \n",
    "    print(\"Count of odd numbers: \", odd_count)\n",
    "    print(\"Total count of numbers: \", total_count, \"\\n\")"
   ]
  },
  {
   "cell_type": "markdown",
   "metadata": {},
   "source": [
    "Write a python program that accepts a string and calculate the number of digits and letters.\n",
    "\n",
    "Enter the following strings:\n",
    "* python3\n",
    "* python$$3"
   ]
  },
  {
   "cell_type": "code",
   "execution_count": 5,
   "metadata": {},
   "outputs": [
    {
     "name": "stdout",
     "output_type": "stream",
     "text": [
      "Input a string: python#$3\n",
      "Digits =  1\n",
      "Letters =  6\n"
     ]
    }
   ],
   "source": [
    "my_str = input (\"Input a string: \")\n",
    "\n",
    "digits = 0\n",
    "letters = 0\n",
    "\n",
    "for i in my_str:\n",
    "    if i.isdigit():\n",
    "        digits = digits + 1\n",
    "        \n",
    "    elif i.isalpha():\n",
    "        letters = letters + 1\n",
    "        \n",
    "    else:\n",
    "        pass\n",
    "    \n",
    "print(\"Digits = \", digits)\n",
    "print(\"Letters = \", letters)        "
   ]
  },
  {
   "cell_type": "markdown",
   "metadata": {},
   "source": [
    "\"Write a program that accepts a sentence and calculate the number of upper case letters and lower case letters.\n",
    "Suppose the following input is supplied to the program:\n",
    "Hello world!\n",
    "Then, the output should be:\n",
    "UPPER CASE 1\n",
    "LOWER CASE 9\""
   ]
  },
  {
   "cell_type": "markdown",
   "metadata": {},
   "source": [
    "Your Time Is Limited, So Don't Waste It Living Someone Else's Life."
   ]
  },
  {
   "cell_type": "code",
   "execution_count": 6,
   "metadata": {},
   "outputs": [
    {
     "name": "stdout",
     "output_type": "stream",
     "text": [
      "Pass In A Sentence : The rain in Spain is mainly in the Plain\n",
      "no. of upper case characters :  3\n",
      "no. of lower case Characters :  29\n"
     ]
    }
   ],
   "source": [
    "sentence = input(\"Pass In A Sentence : \")\n",
    "\n",
    "case = {\"upper_case\":0, \"lower_case\":0}\n",
    "\n",
    "for i in sentence:    \n",
    "    if i.isupper():\n",
    "        case[\"upper_case\"] += 1\n",
    "        \n",
    "    elif i.islower():\n",
    "            case[\"lower_case\"] += 1\n",
    "            \n",
    "    else:\n",
    "        pass\n",
    "\n",
    "print (\"no. of upper case characters : \", case[\"upper_case\"])\n",
    "print (\"no. of lower case Characters : \", case[\"lower_case\"])"
   ]
  },
  {
   "cell_type": "markdown",
   "metadata": {},
   "source": [
    "let's see the difference between **break continue and pass** with one example"
   ]
  },
  {
   "cell_type": "code",
   "execution_count": 7,
   "metadata": {},
   "outputs": [
    {
     "name": "stdout",
     "output_type": "stream",
     "text": [
      "0\n",
      "hello\n",
      "end of an iteration of for loop\n",
      "1\n",
      "hello\n",
      "end of an iteration of for loop\n",
      "2\n",
      "hello\n",
      "end of an iteration of for loop\n",
      "3\n",
      "hello\n",
      "end of an iteration of for loop\n",
      "4\n"
     ]
    }
   ],
   "source": [
    "for i in range(10):\n",
    "    \n",
    "    print(i)\n",
    "    \n",
    "    if i > 3:\n",
    "        break\n",
    "        \n",
    "    else:\n",
    "        print(\"hello\")\n",
    "        \n",
    "    print(\"end of an iteration of the for loop\")"
   ]
  },
  {
   "cell_type": "markdown",
   "metadata": {},
   "source": [
    "here continue doesn't break out of the loop. it does not contine going down instead it goes back to the begining of the loop."
   ]
  },
  {
   "cell_type": "code",
   "execution_count": 8,
   "metadata": {},
   "outputs": [
    {
     "name": "stdout",
     "output_type": "stream",
     "text": [
      "0\n",
      "hello\n",
      "end of an iteration of for loop\n",
      "1\n",
      "hello\n",
      "end of an iteration of for loop\n",
      "2\n",
      "hello\n",
      "end of an iteration of for loop\n",
      "3\n",
      "hello\n",
      "end of an iteration of for loop\n",
      "4\n",
      "5\n",
      "6\n",
      "7\n",
      "8\n",
      "9\n"
     ]
    }
   ],
   "source": [
    "for i in range(10):\n",
    "    \n",
    "    print(i)\n",
    "    \n",
    "    if i > 3:\n",
    "        continue\n",
    "        \n",
    "    else:\n",
    "        print(\"hello\")\n",
    "        \n",
    "    print(\"end of an iteration of the for loop\")"
   ]
  },
  {
   "cell_type": "markdown",
   "metadata": {},
   "source": [
    "pass is nothing but do nothing"
   ]
  },
  {
   "cell_type": "code",
   "execution_count": 9,
   "metadata": {
    "scrolled": true
   },
   "outputs": [
    {
     "name": "stdout",
     "output_type": "stream",
     "text": [
      "0\n",
      "hello\n",
      "end of an iteration of for loop\n",
      "1\n",
      "hello\n",
      "end of an iteration of for loop\n",
      "2\n",
      "hello\n",
      "end of an iteration of for loop\n",
      "3\n",
      "hello\n",
      "end of an iteration of for loop\n",
      "4\n",
      "end of an iteration of for loop\n",
      "5\n",
      "end of an iteration of for loop\n",
      "6\n",
      "end of an iteration of for loop\n",
      "7\n",
      "end of an iteration of for loop\n",
      "8\n",
      "end of an iteration of for loop\n",
      "9\n",
      "end of an iteration of for loop\n"
     ]
    }
   ],
   "source": [
    "for i in range(10):\n",
    "    \n",
    "    print(i)\n",
    "    \n",
    "    if i > 3:\n",
    "        pass\n",
    "    \n",
    "    else:\n",
    "        print(\"hello\")\n",
    "        \n",
    "    print(\"end of an iteration of the for loop\")    \n",
    "        "
   ]
  },
  {
   "cell_type": "code",
   "execution_count": null,
   "metadata": {
    "collapsed": true
   },
   "outputs": [],
   "source": []
  }
 ],
 "metadata": {
  "kernelspec": {
   "display_name": "Python 3",
   "language": "python",
   "name": "python3"
  },
  "language_info": {
   "codemirror_mode": {
    "name": "ipython",
    "version": 3
   },
   "file_extension": ".py",
   "mimetype": "text/x-python",
   "name": "python",
   "nbconvert_exporter": "python",
   "pygments_lexer": "ipython3",
   "version": "3.6.8"
  }
 },
 "nbformat": 4,
 "nbformat_minor": 2
}
