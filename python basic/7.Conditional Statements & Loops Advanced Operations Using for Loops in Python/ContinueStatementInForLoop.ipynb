{
 "cells": [
  {
   "cell_type": "markdown",
   "metadata": {},
   "source": [
    "#### Continue keyword\n",
    "* The continue statement is used to skip the rest of the code inside a loop for the current iteration only.\n",
    "* Loop does not terminate but continues on with the next iteration."
   ]
  },
  {
   "cell_type": "markdown",
   "metadata": {},
   "source": [
    "Here letter `i` is skipped"
   ]
  },
  {
   "cell_type": "code",
   "execution_count": 1,
   "metadata": {},
   "outputs": [
    {
     "name": "stdout",
     "output_type": "stream",
     "text": [
      "s\n",
      "t\n",
      "r\n",
      "n\n",
      "g\n",
      "The end\n"
     ]
    }
   ],
   "source": [
    "for letter in \"string\":\n",
    "    \n",
    "    if letter == \"i\":\n",
    "        continue\n",
    "        \n",
    "    print(letter)  \n",
    "    \n",
    "print (\"The end\")"
   ]
  },
  {
   "cell_type": "markdown",
   "metadata": {},
   "source": [
    "Here `e` and `s` both skipped"
   ]
  },
  {
   "cell_type": "code",
   "execution_count": 2,
   "metadata": {},
   "outputs": [
    {
     "name": "stdout",
     "output_type": "stream",
     "text": [
      "S\n",
      "t\n",
      "u\n",
      "d\n",
      "n\n",
      "t\n"
     ]
    }
   ],
   "source": [
    "my_string = \"Students\"\n",
    "\n",
    "for letter in my_string:\n",
    "    if (letter == \"e\" or letter == \"s\"):\n",
    "        \n",
    "        continue\n",
    "    else:\n",
    "        print(letter)"
   ]
  },
  {
   "cell_type": "markdown",
   "metadata": {},
   "source": [
    "Here the numbers divisible by `2` will prints and remaining numbers will skip "
   ]
  },
  {
   "cell_type": "code",
   "execution_count": 3,
   "metadata": {},
   "outputs": [
    {
     "name": "stdout",
     "output_type": "stream",
     "text": [
      "Is 2 is an even number? \n",
      "Yes\n",
      "Is 4 is an even number? \n",
      "Yes\n",
      "Is 6 is an even number? \n",
      "Yes\n",
      "Is 8 is an even number? \n",
      "Yes\n"
     ]
    }
   ],
   "source": [
    "for i in range (1, 10):\n",
    "    \n",
    "    if i % 2 == 0:\n",
    "        print (\"Is %s is an even number? \" % i)\n",
    "\n",
    "    else:    \n",
    "        continue\n",
    "        \n",
    "    print(\"Yes\")     "
   ]
  },
  {
   "cell_type": "code",
   "execution_count": 4,
   "metadata": {},
   "outputs": [
    {
     "name": "stdout",
     "output_type": "stream",
     "text": [
      "1\n",
      "Found an even number: 2\n",
      "3\n",
      "Found an even number: 4\n",
      "5\n",
      "Found an even number: 6\n",
      "7\n",
      "Found an even number: 8\n",
      "9\n"
     ]
    }
   ],
   "source": [
    "for num in range(1, 10):\n",
    "    \n",
    "    if num % 2 == 0:\n",
    "        print(\"Found an even number:\", num)\n",
    "        \n",
    "        continue\n",
    "    print(num)"
   ]
  },
  {
   "cell_type": "markdown",
   "metadata": {},
   "source": [
    "Here the values divisible by `3` and `5` both got skipped"
   ]
  },
  {
   "cell_type": "code",
   "execution_count": 5,
   "metadata": {},
   "outputs": [
    {
     "name": "stdout",
     "output_type": "stream",
     "text": [
      "1 is not divisible by either 3 or 5\n",
      "2 is not divisible by either 3 or 5\n",
      "4 is not divisible by either 3 or 5\n",
      "7 is not divisible by either 3 or 5\n",
      "8 is not divisible by either 3 or 5\n"
     ]
    }
   ],
   "source": [
    "for value in range(10):\n",
    "    \n",
    "    if value % 3 == 0 or value % 5== 0:\n",
    "        \n",
    "        continue\n",
    "        \n",
    "    print(value, \"is not divisible by either 3 or 5\")"
   ]
  },
  {
   "cell_type": "markdown",
   "metadata": {},
   "source": [
    "Continue will despite the disruption when the variable number is evaluated as equivalent to `5`\n",
    "\n",
    "Here we see that the line Number is `5` never occurs in the output, but the loop `continues` after that point to print lines for the numbers `6-8` before leaving the loop."
   ]
  },
  {
   "cell_type": "code",
   "execution_count": 6,
   "metadata": {},
   "outputs": [
    {
     "name": "stdout",
     "output_type": "stream",
     "text": [
      "number is: 1\n",
      "number is: 2\n",
      "number is: 3\n",
      "number is: 4\n",
      "number is: 6\n",
      "number is: 7\n",
      "number is: 8\n",
      "out of the for loop\n"
     ]
    }
   ],
   "source": [
    "number = 0\n",
    "\n",
    "for number in range(8):\n",
    "    number = number + 1\n",
    "    \n",
    "    if number == 5:\n",
    "        continue\n",
    "        \n",
    "    print (\"number is: \" + str(number))\n",
    "print(\"out of the for loop\")        "
   ]
  },
  {
   "cell_type": "code",
   "execution_count": 7,
   "metadata": {},
   "outputs": [
    {
     "name": "stdout",
     "output_type": "stream",
     "text": [
      "\n",
      "Before the continue statement 1\n",
      "After the continue statement 1\n",
      "\n",
      "Before the continue statement 2\n",
      "After the continue statement 2\n",
      "\n",
      "Before the continue statement 3\n",
      "\n",
      "Before the continue statement 4\n",
      "After the continue statement 4\n",
      "\n",
      "Before the continue statement 5\n",
      "After the continue statement 5\n",
      "\n",
      "Before the continue statement 6\n",
      "\n",
      "Before the continue statement 7\n",
      "After the continue statement 7\n",
      "\n",
      "Before the continue statement 8\n",
      "After the continue statement 8\n",
      "\n",
      "Before the continue statement 9\n",
      "\n",
      "Before the continue statement 10\n",
      "After the continue statement 10\n",
      "\n",
      "Before the continue statement 11\n",
      "After the continue statement 11\n"
     ]
    }
   ],
   "source": [
    "for i in range (1, 12):\n",
    "    \n",
    "    print()\n",
    "    print (\"Before the continue statement\", i)\n",
    "    \n",
    "    if i % 3 == 0:\n",
    "        continue\n",
    "        \n",
    "    print(\"After the continue statement\", i)"
   ]
  },
  {
   "cell_type": "markdown",
   "metadata": {},
   "source": [
    "printing `sum of all positive numbers` in given list"
   ]
  },
  {
   "cell_type": "code",
   "execution_count": 8,
   "metadata": {},
   "outputs": [
    {
     "name": "stdout",
     "output_type": "stream",
     "text": [
      "At index 0 sum is 5\n",
      "At index 1 sum is 9\n",
      "At index 4 sum is 10\n",
      "At index 5 sum is 12\n",
      "\n",
      "Sum of all positive numbers is: 12\n"
     ]
    }
   ],
   "source": [
    "num_list = [5, 4, -4, -3, 1, 2, -3, -5]\n",
    "\n",
    "total = 0\n",
    "\n",
    "for element in num_list:\n",
    "    if element <= 0:\n",
    "        \n",
    "        \n",
    "        continue\n",
    "    total += element\n",
    "    print(\"At index\",num_list.index(element) , \"sum is\", total)\n",
    "\n",
    "print(\"\\nSum of all positive numbers is:\", total)    "
   ]
  },
  {
   "cell_type": "code",
   "execution_count": 9,
   "metadata": {},
   "outputs": [
    {
     "name": "stdout",
     "output_type": "stream",
     "text": [
      "Junk\n",
      "We are not looking for this\n",
      "Trash\n",
      "We are not looking for this\n",
      "Useless\n",
      "We are not looking for this\n",
      "Important File\n",
      "That's exactly what we were looking for :)\n",
      "Random File\n",
      "We are not looking for this\n"
     ]
    }
   ],
   "source": [
    "files = [\"Junk\", \"Trash\", \"Useless\", \"Important File\", \"Random File\"]\n",
    "\n",
    "for file in files:\n",
    "    print (file)\n",
    "    \n",
    "    if file == \"Important File\":        \n",
    "        print (\"That's exactly what we were looking for :)\")\n",
    "        \n",
    "        continue\n",
    "        \n",
    "    else:\n",
    "        print(\"We are not looking for this\")"
   ]
  },
  {
   "cell_type": "markdown",
   "metadata": {},
   "source": [
    "Here lists are created: one with the numeric items and other with months. Skip which are 30 days, 28 days and print remaining which has 31 days  "
   ]
  },
  {
   "cell_type": "code",
   "execution_count": 10,
   "metadata": {},
   "outputs": [
    {
     "name": "stdout",
     "output_type": "stream",
     "text": [
      "Jan month has 31 days\n",
      "Mar month has 31 days\n",
      "Apr month has 30 days\n",
      "May month has 31 days\n",
      "Jun month has 30 days\n",
      "Jul month has 31 days\n",
      "Aug month has 31 days\n",
      "Sep month has 30 days\n",
      "Oct month has 31 days\n",
      "Nov month has 30 days\n",
      "Dec month has 31 days\n"
     ]
    }
   ],
   "source": [
    "num_days = [31, 28, 31, 30, 31, 30, 31, 31, 30, 31, 30, 31] \n",
    "months = [\"Jan\", \"Feb\",\"Mar\", \"Apr\", \"May\", \"Jun\", \"Jul\", \"Aug\", \"Sep\", \"Oct\", \"Nov\", \"Dec\"]\n",
    " \n",
    "new_dict = dict() \n",
    "\n",
    "for i, j in zip(months, num_days):\n",
    "    new_dict.update({i:j})\n",
    "    \n",
    "    if new_dict[i] < 29:  \n",
    "        continue\n",
    "        \n",
    "    else:\n",
    "        print(i, \"month has\", new_dict[i], \"days\")"
   ]
  },
  {
   "cell_type": "markdown",
   "metadata": {},
   "source": [
    "Here we are using both break and continue keyword in this list"
   ]
  },
  {
   "cell_type": "code",
   "execution_count": 11,
   "metadata": {},
   "outputs": [
    {
     "name": "stdout",
     "output_type": "stream",
     "text": [
      "Deer\n",
      "Rabbit\n",
      "Dog\n",
      "Cat\n"
     ]
    }
   ],
   "source": [
    "animals = [\"Deer\", \"Rabbit\", \"Lion\", \"Dog\", \"Cat\", \"Elephant\", \"Giraffe\"]\n",
    "\n",
    "for pet in animals:\n",
    "    \n",
    "    if pet == \"Lion\":\n",
    "        \n",
    "        continue\n",
    "    if pet == \"Elephant\":\n",
    "        \n",
    "        break\n",
    "        \n",
    "    print (pet)"
   ]
  },
  {
   "cell_type": "code",
   "execution_count": null,
   "metadata": {
    "collapsed": true
   },
   "outputs": [],
   "source": []
  }
 ],
 "metadata": {
  "kernelspec": {
   "display_name": "Python 3",
   "language": "python",
   "name": "python3"
  },
  "language_info": {
   "codemirror_mode": {
    "name": "ipython",
    "version": 3
   },
   "file_extension": ".py",
   "mimetype": "text/x-python",
   "name": "python",
   "nbconvert_exporter": "python",
   "pygments_lexer": "ipython3",
   "version": "3.6.8"
  }
 },
 "nbformat": 4,
 "nbformat_minor": 2
}
