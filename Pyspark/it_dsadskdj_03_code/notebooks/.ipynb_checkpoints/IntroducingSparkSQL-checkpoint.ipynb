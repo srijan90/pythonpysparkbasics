{
 "cells": [
  {
   "cell_type": "markdown",
   "metadata": {},
   "source": [
    "### Exploring SQL query options"
   ]
  },
  {
   "cell_type": "code",
   "execution_count": 1,
   "metadata": {
    "collapsed": true
   },
   "outputs": [],
   "source": [
    "from pyspark.sql.types import Row\n",
    "from datetime import datetime\n",
    "from pyspark.sql import SQLContext\n",
    "from pyspark import SparkContext\n",
    "from pyspark.sql.session import SparkSession"
   ]
  },
  {
   "cell_type": "code",
   "execution_count": 2,
   "metadata": {},
   "outputs": [
    {
     "data": {
      "text/html": [
       "\n",
       "        <div>\n",
       "            <p><b>SparkContext</b></p>\n",
       "\n",
       "            <p><a href=\"http://192.168.0.104:4041\">Spark UI</a></p>\n",
       "\n",
       "            <dl>\n",
       "              <dt>Version</dt>\n",
       "                <dd><code>v2.3.2</code></dd>\n",
       "              <dt>Master</dt>\n",
       "                <dd><code>local[*]</code></dd>\n",
       "              <dt>AppName</dt>\n",
       "                <dd><code>pyspark-shell</code></dd>\n",
       "            </dl>\n",
       "        </div>\n",
       "        "
      ],
      "text/plain": [
       "<SparkContext master=local[*] appName=pyspark-shell>"
      ]
     },
     "execution_count": 2,
     "metadata": {},
     "output_type": "execute_result"
    }
   ],
   "source": [
    "sc = SparkContext()\n",
    "sc"
   ]
  },
  {
   "cell_type": "code",
   "execution_count": 3,
   "metadata": {
    "collapsed": true
   },
   "outputs": [],
   "source": [
    "spark = SparkSession(sc)\n",
    "sqlContext = SQLContext(sc)"
   ]
  },
  {
   "cell_type": "markdown",
   "metadata": {},
   "source": [
    "#### Creating a dataframe with different data types"
   ]
  },
  {
   "cell_type": "code",
   "execution_count": 4,
   "metadata": {
    "collapsed": true
   },
   "outputs": [],
   "source": [
    "movies_record = sc.parallelize([Row(certificate_id = 2195194,\n",
    "                                    movie_name = \"Iron Man\",\n",
    "                                    hit = True,\n",
    "                                    category = ['action','thriller'],\n",
    "                                    rating = {\"IMDb\": 7.9, 'rotten tomatoes': 7.7},\n",
    "                                    release_time = datetime(2008, 5, 1, 13, 1, 5)),\n",
    "                                Row(certificate_id = 2195204,\n",
    "                                    movie_name = \"Baywatch\",\n",
    "                                    hit = False,\n",
    "                                    category = ['comedy','action'],\n",
    "                                    rating = {\"IMDb\": 5.6, 'rotten tomatoes': 4.0},\n",
    "                                    release_time = datetime(2017, 5, 12, 14, 2, 5))\n",
    "])"
   ]
  },
  {
   "cell_type": "code",
   "execution_count": 5,
   "metadata": {},
   "outputs": [
    {
     "name": "stdout",
     "output_type": "stream",
     "text": [
      "+------------------+--------------+-----+----------+--------------------+-------------------+\n",
      "|          category|certificate_id|  hit|movie_name|              rating|       release_time|\n",
      "+------------------+--------------+-----+----------+--------------------+-------------------+\n",
      "|[action, thriller]|       2195194| true|  Iron Man|[IMDb -> 7.9, rot...|2008-05-01 13:01:05|\n",
      "|  [comedy, action]|       2195204|false|  Baywatch|[IMDb -> 5.6, rot...|2017-05-12 14:02:05|\n",
      "+------------------+--------------+-----+----------+--------------------+-------------------+\n",
      "\n"
     ]
    }
   ],
   "source": [
    "movies_record_df = movies_record.toDF()\n",
    "movies_record_df.show()"
   ]
  },
  {
   "cell_type": "markdown",
   "metadata": {},
   "source": [
    "#### Register the dataframe as a temporary view\n",
    "\n",
    "* The view is valid for one session\n",
    "* This is required to run SQL commands on the dataframe"
   ]
  },
  {
   "cell_type": "code",
   "execution_count": 6,
   "metadata": {
    "collapsed": true
   },
   "outputs": [],
   "source": [
    "movies_record_df.createOrReplaceTempView('records')"
   ]
  },
  {
   "cell_type": "code",
   "execution_count": 7,
   "metadata": {},
   "outputs": [
    {
     "name": "stdout",
     "output_type": "stream",
     "text": [
      "+------------------+--------------+-----+----------+--------------------+-------------------+\n",
      "|          category|certificate_id|  hit|movie_name|              rating|       release_time|\n",
      "+------------------+--------------+-----+----------+--------------------+-------------------+\n",
      "|[action, thriller]|       2195194| true|  Iron Man|[IMDb -> 7.9, rot...|2008-05-01 13:01:05|\n",
      "|  [comedy, action]|       2195204|false|  Baywatch|[IMDb -> 5.6, rot...|2017-05-12 14:02:05|\n",
      "+------------------+--------------+-----+----------+--------------------+-------------------+\n",
      "\n"
     ]
    }
   ],
   "source": [
    "all_movie_records_df = sqlContext.sql('SELECT * FROM records')\n",
    "\n",
    "all_movie_records_df.show()"
   ]
  },
  {
   "cell_type": "code",
   "execution_count": 8,
   "metadata": {},
   "outputs": [
    {
     "name": "stdout",
     "output_type": "stream",
     "text": [
      "+--------------+-----------+------------+\n",
      "|certificate_id|category[1]|rating[IMDb]|\n",
      "+--------------+-----------+------------+\n",
      "|       2195194|   thriller|         7.9|\n",
      "|       2195204|     action|         5.6|\n",
      "+--------------+-----------+------------+\n",
      "\n"
     ]
    }
   ],
   "source": [
    "sqlContext.sql('SELECT certificate_id, category[1], rating[\"IMDb\"] \\\n",
    "                FROM records').show()"
   ]
  },
  {
   "cell_type": "code",
   "execution_count": 9,
   "metadata": {},
   "outputs": [
    {
     "name": "stdout",
     "output_type": "stream",
     "text": [
      "+--------------+---------+\n",
      "|certificate_id|(NOT hit)|\n",
      "+--------------+---------+\n",
      "|       2195194|    false|\n",
      "|       2195204|     true|\n",
      "+--------------+---------+\n",
      "\n"
     ]
    }
   ],
   "source": [
    "sqlContext.sql('SELECT certificate_id, NOT hit \\\n",
    "                FROM records').show()"
   ]
  },
  {
   "cell_type": "markdown",
   "metadata": {},
   "source": [
    "### Conditional statements in SQL "
   ]
  },
  {
   "cell_type": "code",
   "execution_count": 10,
   "metadata": {},
   "outputs": [
    {
     "name": "stdout",
     "output_type": "stream",
     "text": [
      "+----------------+--------------+-----+----------+--------------------+-------------------+\n",
      "|        category|certificate_id|  hit|movie_name|              rating|       release_time|\n",
      "+----------------+--------------+-----+----------+--------------------+-------------------+\n",
      "|[comedy, action]|       2195204|false|  Baywatch|[IMDb -> 5.6, rot...|2017-05-12 14:02:05|\n",
      "+----------------+--------------+-----+----------+--------------------+-------------------+\n",
      "\n"
     ]
    }
   ],
   "source": [
    "sqlContext.sql('SELECT * FROM records \\\n",
    "                WHERE NOT hit').show()"
   ]
  },
  {
   "cell_type": "code",
   "execution_count": 11,
   "metadata": {},
   "outputs": [
    {
     "name": "stdout",
     "output_type": "stream",
     "text": [
      "+----------------+--------------+-----+----------+--------------------+-------------------+\n",
      "|        category|certificate_id|  hit|movie_name|              rating|       release_time|\n",
      "+----------------+--------------+-----+----------+--------------------+-------------------+\n",
      "|[comedy, action]|       2195204|false|  Baywatch|[IMDb -> 5.6, rot...|2017-05-12 14:02:05|\n",
      "+----------------+--------------+-----+----------+--------------------+-------------------+\n",
      "\n"
     ]
    }
   ],
   "source": [
    "sqlContext.sql('SELECT * FROM records \\\n",
    "                WHERE rating[\"IMDb\"] < 6.0').show()"
   ]
  },
  {
   "cell_type": "code",
   "execution_count": 12,
   "metadata": {},
   "outputs": [
    {
     "name": "stdout",
     "output_type": "stream",
     "text": [
      "+----------------+--------------+-----+----------+--------------------+-------------------+\n",
      "|        category|certificate_id|  hit|movie_name|              rating|       release_time|\n",
      "+----------------+--------------+-----+----------+--------------------+-------------------+\n",
      "|[comedy, action]|       2195204|false|  Baywatch|[IMDb -> 5.6, rot...|2017-05-12 14:02:05|\n",
      "+----------------+--------------+-----+----------+--------------------+-------------------+\n",
      "\n"
     ]
    }
   ],
   "source": [
    "sqlContext.sql('SELECT * FROM records \\\n",
    "                WHERE release_time >= \\'2010-05-01 0:0:0\\'').show()"
   ]
  },
  {
   "cell_type": "markdown",
   "metadata": {},
   "source": [
    "#### Global temporary view\n",
    "\n",
    "* Temporary view shared across multiple sessions\n",
    "* Kept alive till the Spark application terminates"
   ]
  },
  {
   "cell_type": "code",
   "execution_count": 13,
   "metadata": {
    "collapsed": true
   },
   "outputs": [],
   "source": [
    "movies_record_df.createGlobalTempView('global_records')"
   ]
  },
  {
   "cell_type": "code",
   "execution_count": 14,
   "metadata": {},
   "outputs": [
    {
     "name": "stdout",
     "output_type": "stream",
     "text": [
      "+------------------+--------------+-----+----------+--------------------+-------------------+\n",
      "|          category|certificate_id|  hit|movie_name|              rating|       release_time|\n",
      "+------------------+--------------+-----+----------+--------------------+-------------------+\n",
      "|[action, thriller]|       2195194| true|  Iron Man|[IMDb -> 7.9, rot...|2008-05-01 13:01:05|\n",
      "|  [comedy, action]|       2195204|false|  Baywatch|[IMDb -> 5.6, rot...|2017-05-12 14:02:05|\n",
      "+------------------+--------------+-----+----------+--------------------+-------------------+\n",
      "\n"
     ]
    }
   ],
   "source": [
    "sqlContext.sql('SELECT * FROM global_temp.global_records').show()"
   ]
  },
  {
   "cell_type": "code",
   "execution_count": null,
   "metadata": {
    "collapsed": true
   },
   "outputs": [],
   "source": []
  },
  {
   "cell_type": "code",
   "execution_count": null,
   "metadata": {
    "collapsed": true
   },
   "outputs": [],
   "source": []
  },
  {
   "cell_type": "code",
   "execution_count": null,
   "metadata": {
    "collapsed": true
   },
   "outputs": [],
   "source": []
  },
  {
   "cell_type": "code",
   "execution_count": null,
   "metadata": {
    "collapsed": true
   },
   "outputs": [],
   "source": []
  },
  {
   "cell_type": "code",
   "execution_count": null,
   "metadata": {
    "collapsed": true
   },
   "outputs": [],
   "source": []
  },
  {
   "cell_type": "code",
   "execution_count": null,
   "metadata": {
    "collapsed": true
   },
   "outputs": [],
   "source": []
  },
  {
   "cell_type": "code",
   "execution_count": null,
   "metadata": {
    "collapsed": true
   },
   "outputs": [],
   "source": []
  },
  {
   "cell_type": "code",
   "execution_count": null,
   "metadata": {
    "collapsed": true
   },
   "outputs": [],
   "source": []
  },
  {
   "cell_type": "code",
   "execution_count": null,
   "metadata": {
    "collapsed": true
   },
   "outputs": [],
   "source": []
  },
  {
   "cell_type": "code",
   "execution_count": null,
   "metadata": {
    "collapsed": true
   },
   "outputs": [],
   "source": []
  },
  {
   "cell_type": "code",
   "execution_count": null,
   "metadata": {
    "collapsed": true
   },
   "outputs": [],
   "source": []
  },
  {
   "cell_type": "code",
   "execution_count": null,
   "metadata": {
    "collapsed": true
   },
   "outputs": [],
   "source": []
  },
  {
   "cell_type": "code",
   "execution_count": null,
   "metadata": {
    "collapsed": true
   },
   "outputs": [],
   "source": []
  },
  {
   "cell_type": "code",
   "execution_count": null,
   "metadata": {
    "collapsed": true
   },
   "outputs": [],
   "source": []
  },
  {
   "cell_type": "code",
   "execution_count": null,
   "metadata": {
    "collapsed": true
   },
   "outputs": [],
   "source": []
  },
  {
   "cell_type": "code",
   "execution_count": null,
   "metadata": {
    "collapsed": true
   },
   "outputs": [],
   "source": []
  },
  {
   "cell_type": "code",
   "execution_count": null,
   "metadata": {
    "collapsed": true
   },
   "outputs": [],
   "source": []
  },
  {
   "cell_type": "code",
   "execution_count": null,
   "metadata": {
    "collapsed": true
   },
   "outputs": [],
   "source": []
  },
  {
   "cell_type": "code",
   "execution_count": null,
   "metadata": {
    "collapsed": true
   },
   "outputs": [],
   "source": []
  },
  {
   "cell_type": "code",
   "execution_count": null,
   "metadata": {
    "collapsed": true
   },
   "outputs": [],
   "source": []
  }
 ],
 "metadata": {
  "kernelspec": {
   "display_name": "Python 3",
   "language": "python",
   "name": "python3"
  },
  "language_info": {
   "codemirror_mode": {
    "name": "ipython",
    "version": 3
   },
   "file_extension": ".py",
   "mimetype": "text/x-python",
   "name": "python",
   "nbconvert_exporter": "python",
   "pygments_lexer": "ipython3",
   "version": "3.6.3"
  }
 },
 "nbformat": 4,
 "nbformat_minor": 2
}
