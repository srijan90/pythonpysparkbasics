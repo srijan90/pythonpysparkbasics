{
 "cells": [
  {
   "cell_type": "markdown",
   "metadata": {},
   "source": [
    "### Analyzing Marvel Character data with Spark SQL"
   ]
  },
  {
   "cell_type": "code",
   "execution_count": 1,
   "metadata": {
    "collapsed": true
   },
   "outputs": [],
   "source": [
    "from pyspark.sql import SparkSession\n",
    "from pyspark.sql import SQLContext\n",
    "from pyspark import SparkContext\n",
    "\n",
    "spark = SparkSession \\\n",
    "        .builder \\\n",
    "        .appName(\"Analyzing Marvel Character data\") \\\n",
    "        .getOrCreate()"
   ]
  },
  {
   "cell_type": "code",
   "execution_count": 2,
   "metadata": {
    "collapsed": true
   },
   "outputs": [],
   "source": [
    "from pyspark.sql.types import Row"
   ]
  },
  {
   "cell_type": "code",
   "execution_count": 3,
   "metadata": {
    "collapsed": true
   },
   "outputs": [],
   "source": [
    "sqlContext=SQLContext(spark)"
   ]
  },
  {
   "cell_type": "markdown",
   "metadata": {},
   "source": [
    "#### Loading Marvel character data\n",
    "\n",
    "Both the datasets are taken from https://www.kaggle.com/dannielr/marvel-superheroes. <br />\n",
    "The gives some personal information about a character such as their name, gender, eye color etc. The second dataset has data about their fighting attributes - speed, power, strength etc. In both datasets, the 'name' and 'alignment' columns are common"
   ]
  },
  {
   "cell_type": "code",
   "execution_count": 4,
   "metadata": {
    "collapsed": true
   },
   "outputs": [],
   "source": [
    "characters_info = \"../datasets/marvel_characters_info.csv\"\n",
    "\n",
    "characters_stats = \"../datasets/characters_stats.csv\""
   ]
  },
  {
   "cell_type": "code",
   "execution_count": 5,
   "metadata": {
    "collapsed": true
   },
   "outputs": [],
   "source": [
    "characters = spark.read\\\n",
    "                  .format(\"csv\")\\\n",
    "                  .option(\"header\", \"true\")\\\n",
    "                  .load(characters_info)"
   ]
  },
  {
   "cell_type": "code",
   "execution_count": 6,
   "metadata": {},
   "outputs": [
    {
     "data": {
      "text/plain": [
       "['ID',\n",
       " 'Name',\n",
       " 'Alignment',\n",
       " 'Gender',\n",
       " 'EyeColor',\n",
       " 'Race',\n",
       " 'HairColor',\n",
       " 'Publisher',\n",
       " 'SkinColor',\n",
       " 'Height',\n",
       " 'Weight']"
      ]
     },
     "execution_count": 6,
     "metadata": {},
     "output_type": "execute_result"
    }
   ],
   "source": [
    "characters.columns"
   ]
  },
  {
   "cell_type": "code",
   "execution_count": 7,
   "metadata": {
    "collapsed": true
   },
   "outputs": [],
   "source": [
    "characters = characters.drop('ID',\n",
    "                             'Alignment',\n",
    "                             'EyeColor',\n",
    "                             'Race',\n",
    "                             'HairColor',\n",
    "                             'SkinColor',\n",
    "                             'Height',\n",
    "                             'Weight')"
   ]
  },
  {
   "cell_type": "code",
   "execution_count": 8,
   "metadata": {
    "collapsed": true
   },
   "outputs": [],
   "source": [
    "characters = characters.filter(characters.Gender != 'NA')"
   ]
  },
  {
   "cell_type": "markdown",
   "metadata": {},
   "source": [
    "#### Register the dataframe as a temporary view\n",
    "\n",
    "* The view is valid for one session\n",
    "* This is required to run SQL commands on the dataframe"
   ]
  },
  {
   "cell_type": "code",
   "execution_count": 9,
   "metadata": {
    "collapsed": true
   },
   "outputs": [],
   "source": [
    "characters.createOrReplaceTempView(\"characters\")"
   ]
  },
  {
   "cell_type": "code",
   "execution_count": 10,
   "metadata": {},
   "outputs": [
    {
     "data": {
      "text/plain": [
       "['Name', 'Gender', 'Publisher']"
      ]
     },
     "execution_count": 10,
     "metadata": {},
     "output_type": "execute_result"
    }
   ],
   "source": [
    "characters= spark.sql(\"SELECT * FROM characters\")\n",
    "\n",
    "characters.columns"
   ]
  },
  {
   "cell_type": "code",
   "execution_count": 11,
   "metadata": {},
   "outputs": [
    {
     "name": "stdout",
     "output_type": "stream",
     "text": [
      "+-----------------+------+-----------------+\n",
      "|             Name|Gender|        Publisher|\n",
      "+-----------------+------+-----------------+\n",
      "|           A-Bomb|  Male|    Marvel Comics|\n",
      "|       Abe Sapien|  Male|Dark Horse Comics|\n",
      "|         Abin Sur|  Male|        DC Comics|\n",
      "|      Abomination|  Male|    Marvel Comics|\n",
      "|          Abraxas|  Male|    Marvel Comics|\n",
      "|    Absorbing Man|  Male|    Marvel Comics|\n",
      "|      Adam Monroe|  Male|     NBC - Heroes|\n",
      "|     Adam Strange|  Male|        DC Comics|\n",
      "|         Agent 13|Female|    Marvel Comics|\n",
      "|        Agent Bob|  Male|    Marvel Comics|\n",
      "|       Agent Zero|  Male|    Marvel Comics|\n",
      "|       Air-Walker|  Male|    Marvel Comics|\n",
      "|             Ajax|  Male|    Marvel Comics|\n",
      "|       Alan Scott|  Male|        DC Comics|\n",
      "|      Alex Mercer|  Male|        Wildstorm|\n",
      "|     Alex Woolsly|  Male|     NBC - Heroes|\n",
      "|Alfred Pennyworth|  Male|        DC Comics|\n",
      "|            Alien|  Male|Dark Horse Comics|\n",
      "| Allan Quatermain|  Male|        Wildstorm|\n",
      "|            Amazo|  Male|        DC Comics|\n",
      "+-----------------+------+-----------------+\n",
      "only showing top 20 rows\n",
      "\n"
     ]
    }
   ],
   "source": [
    "characters.show()"
   ]
  },
  {
   "cell_type": "code",
   "execution_count": 12,
   "metadata": {
    "collapsed": true
   },
   "outputs": [],
   "source": [
    "powers = spark.read\\\n",
    "              .format(\"csv\")\\\n",
    "              .option(\"header\", \"true\")\\\n",
    "              .load(characters_stats)"
   ]
  },
  {
   "cell_type": "code",
   "execution_count": 13,
   "metadata": {},
   "outputs": [
    {
     "data": {
      "text/plain": [
       "['Name',\n",
       " 'Alignment',\n",
       " 'Intelligence',\n",
       " 'Strength',\n",
       " 'Speed',\n",
       " 'Durability',\n",
       " 'Power',\n",
       " 'Combat',\n",
       " 'Total']"
      ]
     },
     "execution_count": 13,
     "metadata": {},
     "output_type": "execute_result"
    }
   ],
   "source": [
    "powers.columns"
   ]
  },
  {
   "cell_type": "markdown",
   "metadata": {},
   "source": [
    "#### We do not want null values for alignment"
   ]
  },
  {
   "cell_type": "code",
   "execution_count": 14,
   "metadata": {
    "collapsed": true
   },
   "outputs": [],
   "source": [
    "powers = powers.filter(powers.Alignment != 'NA')"
   ]
  },
  {
   "cell_type": "code",
   "execution_count": 15,
   "metadata": {
    "collapsed": true
   },
   "outputs": [],
   "source": [
    "powers = powers.drop('Durability',\n",
    "                     'Combat',\n",
    "                     'Total')"
   ]
  },
  {
   "cell_type": "markdown",
   "metadata": {},
   "source": [
    "#### All the values are in string form - so we convert them to integers"
   ]
  },
  {
   "cell_type": "code",
   "execution_count": 16,
   "metadata": {
    "collapsed": true
   },
   "outputs": [],
   "source": [
    "from pyspark.sql.types import IntegerType\n",
    "\n",
    "powers = powers.withColumn(\"Intelligence\", powers[\"Intelligence\"].cast(IntegerType()))\\\n",
    "               .withColumn(\"Power\", powers[\"Power\"].cast(IntegerType()))\\\n",
    "               .withColumn(\"Speed\", powers[\"Speed\"].cast(IntegerType()))\\\n",
    "               .withColumn(\"Strength\", powers[\"Strength\"].cast(IntegerType()))"
   ]
  },
  {
   "cell_type": "markdown",
   "metadata": {},
   "source": [
    "#### Register the dataframe as a temporary view\n",
    "\n",
    "* The view is valid for one session\n",
    "* This is required to run SQL commands on the dataframe"
   ]
  },
  {
   "cell_type": "code",
   "execution_count": 17,
   "metadata": {},
   "outputs": [
    {
     "data": {
      "text/plain": [
       "['Name', 'Alignment', 'Intelligence', 'Strength', 'Speed', 'Power']"
      ]
     },
     "execution_count": 17,
     "metadata": {},
     "output_type": "execute_result"
    }
   ],
   "source": [
    "powers.createOrReplaceTempView(\"powers\")\n",
    "\n",
    "powers.columns"
   ]
  },
  {
   "cell_type": "code",
   "execution_count": 18,
   "metadata": {},
   "outputs": [
    {
     "name": "stdout",
     "output_type": "stream",
     "text": [
      "+-----------+---------+------------+--------+-----+-----+\n",
      "|       Name|Alignment|Intelligence|Strength|Speed|Power|\n",
      "+-----------+---------+------------+--------+-----+-----+\n",
      "|    3-D Man|     good|          50|      31|   43|   25|\n",
      "|     A-Bomb|     good|          38|     100|   17|   17|\n",
      "| Abe Sapien|     good|          88|      14|   35|   35|\n",
      "|   Abin Sur|     good|          50|      90|   53|   84|\n",
      "|Abomination|      bad|          63|      80|   53|   55|\n",
      "+-----------+---------+------------+--------+-----+-----+\n",
      "only showing top 5 rows\n",
      "\n"
     ]
    }
   ],
   "source": [
    "powers.show(5)"
   ]
  },
  {
   "cell_type": "markdown",
   "metadata": {},
   "source": [
    "#### Counting with dataframes"
   ]
  },
  {
   "cell_type": "code",
   "execution_count": 19,
   "metadata": {},
   "outputs": [
    {
     "data": {
      "text/plain": [
       "(734, 608)"
      ]
     },
     "execution_count": 19,
     "metadata": {},
     "output_type": "execute_result"
    }
   ],
   "source": [
    "characters.count(), powers.count()"
   ]
  },
  {
   "cell_type": "markdown",
   "metadata": {},
   "source": [
    "#### Counting using SQL"
   ]
  },
  {
   "cell_type": "code",
   "execution_count": 20,
   "metadata": {
    "collapsed": true
   },
   "outputs": [],
   "source": [
    "characters_count = spark.sql(\"SELECT COUNT(*) FROM characters\")\n",
    "\n",
    "powers_count = spark.sql(\"SELECT COUNT(*) FROM powers\")"
   ]
  },
  {
   "cell_type": "code",
   "execution_count": 21,
   "metadata": {},
   "outputs": [
    {
     "data": {
      "text/plain": [
       "(DataFrame[count(1): bigint], DataFrame[count(1): bigint])"
      ]
     },
     "execution_count": 21,
     "metadata": {},
     "output_type": "execute_result"
    }
   ],
   "source": [
    "characters_count, powers_count"
   ]
  },
  {
   "cell_type": "code",
   "execution_count": 22,
   "metadata": {},
   "outputs": [
    {
     "data": {
      "text/plain": [
       "(734, 608)"
      ]
     },
     "execution_count": 22,
     "metadata": {},
     "output_type": "execute_result"
    }
   ],
   "source": [
    "characters_count.collect()[0][0], powers_count.collect()[0][0]"
   ]
  },
  {
   "cell_type": "markdown",
   "metadata": {},
   "source": [
    "#### Dataframes created using SQL commands can be aggregated, grouped etc. exactly as before"
   ]
  },
  {
   "cell_type": "markdown",
   "metadata": {},
   "source": [
    "Here we want to do aggregation on those heros whose speed is greater than 20 unit"
   ]
  },
  {
   "cell_type": "code",
   "execution_count": 23,
   "metadata": {
    "collapsed": true
   },
   "outputs": [],
   "source": [
    "quick_chars = spark.sql(\"SELECT Speed FROM powers WHERE Speed >20\")\\\n",
    "                   .agg({\"Speed\":\"count\"})\\\n",
    "                   .withColumnRenamed(\"count(Speed)\",\"num_quick_chars\")"
   ]
  },
  {
   "cell_type": "code",
   "execution_count": 24,
   "metadata": {},
   "outputs": [
    {
     "name": "stdout",
     "output_type": "stream",
     "text": [
      "+---------------+\n",
      "|num_quick_chars|\n",
      "+---------------+\n",
      "|            359|\n",
      "+---------------+\n",
      "\n"
     ]
    }
   ],
   "source": [
    "quick_chars.show()"
   ]
  },
  {
   "cell_type": "markdown",
   "metadata": {},
   "source": [
    "#### Analyzing most powerful hero"
   ]
  },
  {
   "cell_type": "code",
   "execution_count": 25,
   "metadata": {},
   "outputs": [
    {
     "name": "stdout",
     "output_type": "stream",
     "text": [
      "+-----------+---------+------------+--------+-----+\n",
      "|       Name|Alignment|Intelligence|Strength|Power|\n",
      "+-----------+---------+------------+--------+-----+\n",
      "|   Abin Sur|     good|          50|      90|   84|\n",
      "|Abomination|      bad|          63|      80|   55|\n",
      "|    Abraxas|      bad|          88|     100|  100|\n",
      "| Air-Walker|      bad|          50|      85|  100|\n",
      "| Alan Scott|     good|          63|      80|   98|\n",
      "+-----------+---------+------------+--------+-----+\n",
      "only showing top 5 rows\n",
      "\n"
     ]
    }
   ],
   "source": [
    "powerful_heroes = spark.sql(\n",
    "                    \"SELECT Name, Alignment, Intelligence, Strength,Power \" +\n",
    "                    \"FROM powers WHERE Strength >= 30 and Power > 40\")\n",
    "\n",
    "powerful_heroes.show(5)"
   ]
  },
  {
   "cell_type": "code",
   "execution_count": 26,
   "metadata": {
    "collapsed": true
   },
   "outputs": [],
   "source": [
    "powerful_heroes.createOrReplaceTempView(\"powerful_heroes_view\")"
   ]
  },
  {
   "cell_type": "code",
   "execution_count": 27,
   "metadata": {},
   "outputs": [
    {
     "name": "stdout",
     "output_type": "stream",
     "text": [
      "+-----------------+---------+------------+--------+-----+\n",
      "|             Name|Alignment|Intelligence|Strength|Power|\n",
      "+-----------------+---------+------------+--------+-----+\n",
      "|          Abraxas|      bad|          88|     100|  100|\n",
      "|     Anti-Monitor|      bad|          88|      90|  100|\n",
      "|       Air-Walker|      bad|          50|      85|  100|\n",
      "|         Beyonder|     good|          88|     100|  100|\n",
      "|       Black Bolt|     good|          75|      67|  100|\n",
      "|            Cable|     good|          88|      48|  100|\n",
      "|  Cyborg Superman|      bad|          75|      93|  100|\n",
      "|       Apocalypse|      bad|         100|     100|  100|\n",
      "|         Dormammu|      bad|          88|      95|  100|\n",
      "|     Dr Manhattan|     good|          88|      32|  100|\n",
      "|           Exodus|      bad|          63|      81|  100|\n",
      "|    Fallen One II|      bad|          88|      85|  100|\n",
      "|        Firestorm|     good|          50|      53|  100|\n",
      "|         Galactus|  neutral|         100|     100|  100|\n",
      "|             Goku|     good|          56|     100|  100|\n",
      "|       Hal Jordan|     good|          63|      90|  100|\n",
      "|           Iceman|     good|          63|      32|  100|\n",
      "|         Iron Man|     good|         100|      85|  100|\n",
      "|         Darkseid|      bad|          88|     100|  100|\n",
      "|    Beta Ray Bill|     good|          63|      80|  100|\n",
      "|Martian Manhunter|     good|         100|     100|  100|\n",
      "|      Marvel Girl|     good|          63|      85|  100|\n",
      "|         Mephisto|      bad|          88|      85|  100|\n",
      "|     Miss Martian|     good|          63|      85|  100|\n",
      "|   Naruto Uzumaki|     good|          50|      80|  100|\n",
      "|             Nova|     good|         100|      85|  100|\n",
      "|             Nova|     good|          38|      60|  100|\n",
      "|        Onslaught|      bad|          88|      85|  100|\n",
      "|          Phoenix|     good|         100|      80|  100|\n",
      "|      Plastic Man|     good|          50|      63|  100|\n",
      "|    Silver Surfer|     good|          63|     100|  100|\n",
      "|         Sinestro|      bad|          75|      80|  100|\n",
      "|            Spawn|     good|          75|      60|  100|\n",
      "|         Stardust|     good|          88|      85|  100|\n",
      "|   Superboy-Prime|      bad|          94|     100|  100|\n",
      "|           Thanos|      bad|          88|     100|  100|\n",
      "|             Thor|     good|          69|     100|  100|\n",
      "|        Thor Girl|     good|          75|      83|  100|\n",
      "|           Ultron|      bad|          88|      83|  100|\n",
      "|      War Machine|     good|          63|      80|  100|\n",
      "|          Watcher|     good|         100|      80|  100|\n",
      "|        Jean Grey|     good|         100|      80|  100|\n",
      "|          Kilowog|     good|          81|      90|  100|\n",
      "|         Doomsday|      bad|          88|      80|  100|\n",
      "|            Magus|      bad|          88|     100|  100|\n",
      "|            Amazo|      bad|          75|     100|  100|\n",
      "|       Alan Scott|     good|          63|      80|   98|\n",
      "|        Man-Thing|     good|          50|      32|   98|\n",
      "|  Blue Beetle III|     good|          50|      34|   97|\n",
      "|      Guy Gardner|     good|          38|      80|   97|\n",
      "+-----------------+---------+------------+--------+-----+\n",
      "only showing top 50 rows\n",
      "\n"
     ]
    }
   ],
   "source": [
    "powerful_heroes.orderBy(powerful_heroes.Power.desc()).show(50)"
   ]
  },
  {
   "cell_type": "code",
   "execution_count": 28,
   "metadata": {
    "collapsed": true
   },
   "outputs": [],
   "source": [
    "powerful_heroes_count = spark.sql(\"SELECT COUNT(Power) FROM powerful_heroes_view\")"
   ]
  },
  {
   "cell_type": "markdown",
   "metadata": {},
   "source": [
    "#### Total number of heros whose power is greater than 40"
   ]
  },
  {
   "cell_type": "code",
   "execution_count": 29,
   "metadata": {},
   "outputs": [
    {
     "name": "stdout",
     "output_type": "stream",
     "text": [
      "+------------+\n",
      "|count(Power)|\n",
      "+------------+\n",
      "|         164|\n",
      "+------------+\n",
      "\n"
     ]
    }
   ],
   "source": [
    "powerful_heroes_count.show()"
   ]
  },
  {
   "cell_type": "code",
   "execution_count": 30,
   "metadata": {},
   "outputs": [
    {
     "data": {
      "text/plain": [
       "164"
      ]
     },
     "execution_count": 30,
     "metadata": {},
     "output_type": "execute_result"
    }
   ],
   "source": [
    "powerful_heroes_count.collect()[0][0]"
   ]
  },
  {
   "cell_type": "markdown",
   "metadata": {},
   "source": [
    "#### Percentage of heroes whose power is greater than 40"
   ]
  },
  {
   "cell_type": "code",
   "execution_count": 31,
   "metadata": {},
   "outputs": [
    {
     "data": {
      "text/plain": [
       "26.973684210526315"
      ]
     },
     "execution_count": 31,
     "metadata": {},
     "output_type": "execute_result"
    }
   ],
   "source": [
    "power_percent = powerful_heroes_count.collect()[0][0]/ powers_count.collect()[0][0] * 100\n",
    "power_percent"
   ]
  },
  {
   "cell_type": "markdown",
   "metadata": {},
   "source": [
    "#### Finding intelligence per alignment\n",
    "The alignment takes 3 categorical values - good, bad and neutral"
   ]
  },
  {
   "cell_type": "code",
   "execution_count": 32,
   "metadata": {
    "collapsed": true
   },
   "outputs": [],
   "source": [
    "intel_per_alignment = spark.sql(\"SELECT Alignment,Intelligence FROM powers\")\\\n",
    "                           .groupBy(\"Alignment\")\\\n",
    "                           .agg({\"Intelligence\":\"avg\"})\\\n",
    "                           .withColumnRenamed(\"avg(Intelligence)\", \"Intelligence\")"
   ]
  },
  {
   "cell_type": "code",
   "execution_count": 33,
   "metadata": {},
   "outputs": [
    {
     "name": "stdout",
     "output_type": "stream",
     "text": [
      "+---------+------------------+\n",
      "|Alignment|      Intelligence|\n",
      "+---------+------------------+\n",
      "|  neutral| 60.90909090909091|\n",
      "|      bad|50.018181818181816|\n",
      "|     good|41.995370370370374|\n",
      "+---------+------------------+\n",
      "\n"
     ]
    }
   ],
   "source": [
    "intel_per_alignment.orderBy(intel_per_alignment.Intelligence.desc()).show()"
   ]
  },
  {
   "cell_type": "markdown",
   "metadata": {},
   "source": [
    "#### SQL join operations \n",
    "\n",
    "* Get the names of the Publisher with intelligence and power column"
   ]
  },
  {
   "cell_type": "code",
   "execution_count": 34,
   "metadata": {},
   "outputs": [
    {
     "name": "stdout",
     "output_type": "stream",
     "text": [
      "+-----------------+---------+------------+--------+-----+-----+------+-------------+\n",
      "|             Name|Alignment|Intelligence|Strength|Speed|Power|Gender|    Publisher|\n",
      "+-----------------+---------+------------+--------+-----+-----+------+-------------+\n",
      "|  Mister Mxyzptlk|      bad|         113|      10|   12|  100|  Male|    DC Comics|\n",
      "|          Ant-Man|     good|         100|      10|   23|   32|  Male|Marvel Comics|\n",
      "|           Batman|     good|         100|      18|   27|   37|  Male|    DC Comics|\n",
      "|       Apocalypse|      bad|         100|     100|   33|  100|  Male|Marvel Comics|\n",
      "|   Captain Marvel|     good|         100|     100|   67|   62|Female|Marvel Comics|\n",
      "|           Batman|     good|         100|      18|   27|   37|  Male|    DC Comics|\n",
      "|         Brainiac|      bad|         100|      28|   63|   60|  Male|    DC Comics|\n",
      "|       Brainiac 5|     good|         100|      10|   23|   60|  Male|    DC Comics|\n",
      "|            Joker|      bad|         100|      10|   12|   22|  Male|    DC Comics|\n",
      "|   Captain Marvel|     good|         100|     100|   67|   62|  Male|    DC Comics|\n",
      "|      Doctor Doom|      bad|         100|      32|   20|   93|  Male|Marvel Comics|\n",
      "|   Doctor Strange|     good|         100|      10|   12|  100|  Male|Marvel Comics|\n",
      "|             Nova|     good|         100|      85|   67|  100|Female|Marvel Comics|\n",
      "|         Galactus|  neutral|         100|     100|   83|  100|  Male|Marvel Comics|\n",
      "|         Iron Man|     good|         100|      85|   58|  100|  Male|Marvel Comics|\n",
      "|        Jean Grey|     good|         100|      80|   67|  100|Female|Marvel Comics|\n",
      "|             Kang|      bad|         100|      48|   58|   71|  Male|Marvel Comics|\n",
      "|           Leader|      bad|         100|      10|   12|   58|  Male|Marvel Comics|\n",
      "|       Lex Luthor|      bad|         100|      10|   12|   10|  Male|    DC Comics|\n",
      "|         Mandarin|      bad|         100|      28|   23|   99|  Male|Marvel Comics|\n",
      "|Martian Manhunter|     good|         100|     100|   96|  100|  Male|    DC Comics|\n",
      "| Mister Fantastic|     good|         100|      10|   18|   32|  Male|Marvel Comics|\n",
      "|             Nova|     good|         100|      85|   67|  100|  Male|Marvel Comics|\n",
      "|          Phoenix|     good|         100|      80|   67|  100|Female|Marvel Comics|\n",
      "|      Professor X|     good|         100|       8|   12|   90|  Male|Marvel Comics|\n",
      "|     Ra's Al Ghul|      bad|         100|      28|   32|   27|  Male|    DC Comics|\n",
      "|          Riddler|      bad|         100|      10|   12|   10|  Male|    DC Comics|\n",
      "|         Superman|     good|         100|     100|  100|   94|  Male|    DC Comics|\n",
      "|         Tinkerer|      bad|         100|      10|   23|   10|  Male|Marvel Comics|\n",
      "|           Vision|     good|         100|      72|   54|   76|  Male|Marvel Comics|\n",
      "+-----------------+---------+------------+--------+-----+-----+------+-------------+\n",
      "only showing top 30 rows\n",
      "\n"
     ]
    }
   ],
   "source": [
    "chars_overview = spark.sql(\"SELECT * FROM powers \" +\n",
    "                           \"JOIN characters on characters.Name = powers.Name \" +\n",
    "                           \"ORDER by Intelligence DESC\").drop(characters.Name)\n",
    "\n",
    "chars_overview.show(30)"
   ]
  },
  {
   "cell_type": "code",
   "execution_count": null,
   "metadata": {
    "collapsed": true
   },
   "outputs": [],
   "source": []
  },
  {
   "cell_type": "code",
   "execution_count": null,
   "metadata": {
    "collapsed": true
   },
   "outputs": [],
   "source": []
  },
  {
   "cell_type": "code",
   "execution_count": null,
   "metadata": {
    "collapsed": true
   },
   "outputs": [],
   "source": []
  }
 ],
 "metadata": {
  "kernelspec": {
   "display_name": "Python 3",
   "language": "python",
   "name": "python3"
  },
  "language_info": {
   "codemirror_mode": {
    "name": "ipython",
    "version": 3
   },
   "file_extension": ".py",
   "mimetype": "text/x-python",
   "name": "python",
   "nbconvert_exporter": "python",
   "pygments_lexer": "ipython3",
   "version": "3.6.3"
  }
 },
 "nbformat": 4,
 "nbformat_minor": 2
}
