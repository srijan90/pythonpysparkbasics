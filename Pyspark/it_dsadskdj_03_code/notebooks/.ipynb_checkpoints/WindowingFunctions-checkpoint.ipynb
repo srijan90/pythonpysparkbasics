{
 "cells": [
  {
   "cell_type": "markdown",
   "metadata": {},
   "source": [
    "### Window functions"
   ]
  },
  {
   "cell_type": "code",
   "execution_count": 1,
   "metadata": {
    "collapsed": true
   },
   "outputs": [],
   "source": [
    "from pyspark import SparkContext"
   ]
  },
  {
   "cell_type": "code",
   "execution_count": 2,
   "metadata": {},
   "outputs": [
    {
     "data": {
      "text/html": [
       "\n",
       "        <div>\n",
       "            <p><b>SparkContext</b></p>\n",
       "\n",
       "            <p><a href=\"http://192.168.1.4:4040\">Spark UI</a></p>\n",
       "\n",
       "            <dl>\n",
       "              <dt>Version</dt>\n",
       "                <dd><code>v2.3.2</code></dd>\n",
       "              <dt>Master</dt>\n",
       "                <dd><code>local[*]</code></dd>\n",
       "              <dt>AppName</dt>\n",
       "                <dd><code>pyspark-shell</code></dd>\n",
       "            </dl>\n",
       "        </div>\n",
       "        "
      ],
      "text/plain": [
       "<SparkContext master=local[*] appName=pyspark-shell>"
      ]
     },
     "execution_count": 2,
     "metadata": {},
     "output_type": "execute_result"
    }
   ],
   "source": [
    "sc = SparkContext()\n",
    "sc"
   ]
  },
  {
   "cell_type": "code",
   "execution_count": 3,
   "metadata": {
    "collapsed": true
   },
   "outputs": [],
   "source": [
    "from pyspark.sql import SparkSession\n",
    "\n",
    "spark = SparkSession \\\n",
    "        .builder \\\n",
    "        .appName(\"Window functions\") \\\n",
    "        .getOrCreate()"
   ]
  },
  {
   "cell_type": "markdown",
   "metadata": {},
   "source": [
    "### Load the dataset\n",
    "\n",
    "Dataset has been taken from https://www.kaggle.com/arminehn/disasteraccident-sources. <br />\n",
    "It contains a list of Twitter users who regularly report on natural and man-made disasters, violence or crime. The accounts may belong to journalists, news media, local fire or police departments, other local authorities, or disaster monitors."
   ]
  },
  {
   "cell_type": "code",
   "execution_count": 4,
   "metadata": {
    "collapsed": true
   },
   "outputs": [],
   "source": [
    "accounts = spark.read\\\n",
    "                .format(\"csv\")\\\n",
    "                .option(\"header\", \"true\")\\\n",
    "                .load('../datasets/disaster_accident_crime_accounts.csv')"
   ]
  },
  {
   "cell_type": "code",
   "execution_count": 5,
   "metadata": {},
   "outputs": [
    {
     "name": "stdout",
     "output_type": "stream",
     "text": [
      "+--------------+--------------------+--------------+--------------------+---------+---------+----------------+--------------------+--------------------+\n",
      "|      category|    on twitter since|twitter handle|         profile url|followers|following|profile location|     profile lat/lon| profile description|\n",
      "+--------------+--------------------+--------------+--------------------+---------+---------+----------------+--------------------+--------------------+\n",
      "|          news|1:45 PM - 11 Sep ...|  abc13houston|http://www.abc13.com|   568709|     1113|     Houston, TX|29.75893,-95.3676899|ABC13 is Houston'...|\n",
      "|police/traffic|3:41 AM - 19 Aug ...|   metpoliceuk|https://beta.met....|   670529|      367|          London| 51.50732,-0.1276399|London's Metropol...|\n",
      "|            wx|7:00 AM - 17 Feb ...|         wsbtv|http://2wsb.tv/Ne...|   934824|     2134|     Atlanta, GA|33.74909,-84.3901799|Metro Atlanta and...|\n",
      "|          news|9:22 PM - 19 Sep ...|          ABC7|     http://abc7.com|   904324|      489|            null|                null|Your #1 breaking ...|\n",
      "|            wx|1:35 PM - 24 Sep ...|         FOX59|    http://fox59.com|   204408|     6449|Indianapolis, IN|39.76833,-86.1583499|Serving central I...|\n",
      "+--------------+--------------------+--------------+--------------------+---------+---------+----------------+--------------------+--------------------+\n",
      "only showing top 5 rows\n",
      "\n"
     ]
    }
   ],
   "source": [
    "accounts.show(5)"
   ]
  },
  {
   "cell_type": "code",
   "execution_count": 6,
   "metadata": {
    "collapsed": true
   },
   "outputs": [],
   "source": [
    "accounts = accounts.drop('on twitter since',\n",
    "                         'profile url',\n",
    "                         'following',\n",
    "                         'profile location',\n",
    "                         'profile lat/lon',\n",
    "                         'profile description'\n",
    "                        )"
   ]
  },
  {
   "cell_type": "code",
   "execution_count": 7,
   "metadata": {
    "collapsed": true
   },
   "outputs": [],
   "source": [
    "from pyspark.sql.types import IntegerType"
   ]
  },
  {
   "cell_type": "code",
   "execution_count": 8,
   "metadata": {
    "collapsed": true
   },
   "outputs": [],
   "source": [
    "accounts = accounts.withColumn(\"followers\", \n",
    "                               accounts['followers'].cast(IntegerType()))"
   ]
  },
  {
   "cell_type": "code",
   "execution_count": 9,
   "metadata": {},
   "outputs": [
    {
     "name": "stdout",
     "output_type": "stream",
     "text": [
      "+--------------+--------------+---------+\n",
      "|      category|twitter handle|followers|\n",
      "+--------------+--------------+---------+\n",
      "|          news|  abc13houston|   568709|\n",
      "|police/traffic|   metpoliceuk|   670529|\n",
      "|            wx|         wsbtv|   934824|\n",
      "|          news|          ABC7|   904324|\n",
      "|            wx|         FOX59|   204408|\n",
      "+--------------+--------------+---------+\n",
      "only showing top 5 rows\n",
      "\n"
     ]
    }
   ],
   "source": [
    "accounts.show(5)"
   ]
  },
  {
   "cell_type": "markdown",
   "metadata": {},
   "source": [
    "#### Window rank function"
   ]
  },
  {
   "cell_type": "code",
   "execution_count": 10,
   "metadata": {
    "collapsed": true
   },
   "outputs": [],
   "source": [
    "import sys\n",
    "from pyspark.sql.window import Window\n",
    "import pyspark.sql.functions as func"
   ]
  },
  {
   "cell_type": "code",
   "execution_count": 11,
   "metadata": {
    "collapsed": true
   },
   "outputs": [],
   "source": [
    "windowSpec1 = Window \\\n",
    "              .partitionBy(accounts['category']) \\\n",
    "              .orderBy(accounts['followers'].desc())"
   ]
  },
  {
   "cell_type": "code",
   "execution_count": 12,
   "metadata": {},
   "outputs": [
    {
     "data": {
      "text/plain": [
       "Column<b'RANK() OVER (PARTITION BY category ORDER BY followers DESC NULLS LAST unspecifiedframe$())'>"
      ]
     },
     "execution_count": 12,
     "metadata": {},
     "output_type": "execute_result"
    }
   ],
   "source": [
    "followers_rank = (func.rank().over(windowSpec1))\n",
    "\n",
    "followers_rank"
   ]
  },
  {
   "cell_type": "code",
   "execution_count": 13,
   "metadata": {},
   "outputs": [
    {
     "name": "stdout",
     "output_type": "stream",
     "text": [
      "+---------------+--------+---------+----+\n",
      "| twitter handle|category|followers|rank|\n",
      "+---------------+--------+---------+----+\n",
      "|IndiaTodayFLASH|    news|   978677|   1|\n",
      "|          Salon|    news|   976952|   2|\n",
      "| CapitalFMKenya|    news|   967429|   3|\n",
      "|CapitalOfficial|    news|   954127|   4|\n",
      "|      DunyaNews|    news|   950673|   5|\n",
      "|       NewsHour|    news|   948347|   6|\n",
      "| chicagotribune|    news|   926799|   7|\n",
      "|          STcom|    news|   907667|   8|\n",
      "|           ABC7|    news|   904324|   9|\n",
      "|GuardianNigeria|    news|   902789|  10|\n",
      "|      60Minutes|    news|   898224|  11|\n",
      "|    DailyMirror|    news|   898158|  12|\n",
      "|  foxandfriends|    news|   896748|  13|\n",
      "|   BuzzFeedNews|    news|   891313|  14|\n",
      "|            NME|    news|   885933|  15|\n",
      "|          NewsX|    news|   869350|  16|\n",
      "| TheNationalUAE|    news|   854185|  17|\n",
      "| NBCNightlyNews|    news|   849738|  18|\n",
      "|            ajc|    news|   843790|  19|\n",
      "|        SAMAATV|    news|   843254|  20|\n",
      "+---------------+--------+---------+----+\n",
      "only showing top 20 rows\n",
      "\n"
     ]
    }
   ],
   "source": [
    "followers_rank = accounts.select(accounts['twitter handle'],\n",
    "                                 accounts['category'],\n",
    "                                 accounts['followers']\n",
    "                                ).withColumn('rank', \n",
    "                                             func.rank().over(windowSpec1))\n",
    "\n",
    "followers_rank.show()"
   ]
  },
  {
   "cell_type": "code",
   "execution_count": 14,
   "metadata": {},
   "outputs": [
    {
     "name": "stdout",
     "output_type": "stream",
     "text": [
      "+---------------+--------------+---------+----+\n",
      "| twitter handle|      category|followers|rank|\n",
      "+---------------+--------------+---------+----+\n",
      "|          CPBlr|police/traffic|   822032|   1|\n",
      "|       Ma3Route|police/traffic|   734626|   2|\n",
      "|    metpoliceuk|police/traffic|   670529|   3|\n",
      "|MassStatePolice|police/traffic|   416173|   4|\n",
      "|  wsdot_traffic|police/traffic|   362617|   5|\n",
      "|  trafficbutter|police/traffic|   262205|   6|\n",
      "|BaltimorePolice|police/traffic|   255021|   7|\n",
      "|           NJSP|police/traffic|   254180|   8|\n",
      "|      TrafficSA|police/traffic|   253441|   9|\n",
      "|  KenyanTraffic|police/traffic|   241647|  10|\n",
      "|     EWNTraffic|police/traffic|   229280|  11|\n",
      "|      jeffcanoy|police/traffic|   229002|  12|\n",
      "|    FastCoIdeas|police/traffic|   208623|  13|\n",
      "|trafficscotland|police/traffic|   190064|  14|\n",
      "|        2xTessy|police/traffic|   188600|  15|\n",
      "|   DenverPolice|police/traffic|   184100|  16|\n",
      "|      Venice311|police/traffic|   165389|  17|\n",
      "|      Kent_999s|police/traffic|   164847|  18|\n",
      "|       OPP_News|police/traffic|   164154|  19|\n",
      "|     upcoprahul|police/traffic|   163018|  20|\n",
      "+---------------+--------------+---------+----+\n",
      "only showing top 20 rows\n",
      "\n"
     ]
    }
   ],
   "source": [
    "traffic = followers_rank.filter(followers_rank['category'] == 'police/traffic')\n",
    "\n",
    "traffic.show()"
   ]
  },
  {
   "cell_type": "markdown",
   "metadata": {},
   "source": [
    "#### Window max function between rows"
   ]
  },
  {
   "cell_type": "code",
   "execution_count": 15,
   "metadata": {
    "collapsed": true
   },
   "outputs": [],
   "source": [
    "windowSpec2 = Window \\\n",
    "              .partitionBy(accounts['category']) \\\n",
    "              .orderBy(accounts['followers'].desc()) \\\n",
    "              .rowsBetween(-1, 0)"
   ]
  },
  {
   "cell_type": "code",
   "execution_count": 16,
   "metadata": {
    "collapsed": true
   },
   "outputs": [],
   "source": [
    "followers_max = (func.max(accounts['followers']).over(windowSpec2))"
   ]
  },
  {
   "cell_type": "code",
   "execution_count": 17,
   "metadata": {},
   "outputs": [
    {
     "name": "stdout",
     "output_type": "stream",
     "text": [
      "+---------------+--------+---------+-------------+\n",
      "| twitter handle|category|followers|followers_max|\n",
      "+---------------+--------+---------+-------------+\n",
      "|IndiaTodayFLASH|    news|   978677|       978677|\n",
      "|          Salon|    news|   976952|       978677|\n",
      "| CapitalFMKenya|    news|   967429|       976952|\n",
      "|CapitalOfficial|    news|   954127|       967429|\n",
      "|      DunyaNews|    news|   950673|       954127|\n",
      "|       NewsHour|    news|   948347|       950673|\n",
      "| chicagotribune|    news|   926799|       948347|\n",
      "|          STcom|    news|   907667|       926799|\n",
      "|           ABC7|    news|   904324|       907667|\n",
      "|GuardianNigeria|    news|   902789|       904324|\n",
      "|      60Minutes|    news|   898224|       902789|\n",
      "|    DailyMirror|    news|   898158|       898224|\n",
      "|  foxandfriends|    news|   896748|       898158|\n",
      "|   BuzzFeedNews|    news|   891313|       896748|\n",
      "|            NME|    news|   885933|       891313|\n",
      "|          NewsX|    news|   869350|       885933|\n",
      "| TheNationalUAE|    news|   854185|       869350|\n",
      "| NBCNightlyNews|    news|   849738|       854185|\n",
      "|            ajc|    news|   843790|       849738|\n",
      "|        SAMAATV|    news|   843254|       843790|\n",
      "+---------------+--------+---------+-------------+\n",
      "only showing top 20 rows\n",
      "\n"
     ]
    }
   ],
   "source": [
    "accounts.select(accounts['twitter handle'],\n",
    "                accounts['category'],\n",
    "                accounts['followers'],\n",
    "                followers_max.alias(\"followers_max\")).show()"
   ]
  },
  {
   "cell_type": "markdown",
   "metadata": {},
   "source": [
    "#### Window followers difference function between ranges"
   ]
  },
  {
   "cell_type": "code",
   "execution_count": 18,
   "metadata": {
    "collapsed": true
   },
   "outputs": [],
   "source": [
    "windowSpec3 = Window \\\n",
    "              .partitionBy(accounts['category']) \\\n",
    "              .orderBy(accounts['followers'].desc()) "
   ]
  },
  {
   "cell_type": "code",
   "execution_count": 19,
   "metadata": {
    "collapsed": true
   },
   "outputs": [],
   "source": [
    "followers_difference = \\\n",
    "  (func.max(accounts['followers']).over(windowSpec3) - accounts['followers'])"
   ]
  },
  {
   "cell_type": "code",
   "execution_count": 20,
   "metadata": {},
   "outputs": [
    {
     "name": "stdout",
     "output_type": "stream",
     "text": [
      "+---------------+--------+---------+--------------------+\n",
      "| twitter handle|category|followers|followers_difference|\n",
      "+---------------+--------+---------+--------------------+\n",
      "|IndiaTodayFLASH|    news|   978677|                   0|\n",
      "|          Salon|    news|   976952|                1725|\n",
      "| CapitalFMKenya|    news|   967429|               11248|\n",
      "|CapitalOfficial|    news|   954127|               24550|\n",
      "|      DunyaNews|    news|   950673|               28004|\n",
      "|       NewsHour|    news|   948347|               30330|\n",
      "| chicagotribune|    news|   926799|               51878|\n",
      "|          STcom|    news|   907667|               71010|\n",
      "|           ABC7|    news|   904324|               74353|\n",
      "|GuardianNigeria|    news|   902789|               75888|\n",
      "|      60Minutes|    news|   898224|               80453|\n",
      "|    DailyMirror|    news|   898158|               80519|\n",
      "|  foxandfriends|    news|   896748|               81929|\n",
      "|   BuzzFeedNews|    news|   891313|               87364|\n",
      "|            NME|    news|   885933|               92744|\n",
      "|          NewsX|    news|   869350|              109327|\n",
      "| TheNationalUAE|    news|   854185|              124492|\n",
      "| NBCNightlyNews|    news|   849738|              128939|\n",
      "|            ajc|    news|   843790|              134887|\n",
      "|        SAMAATV|    news|   843254|              135423|\n",
      "+---------------+--------+---------+--------------------+\n",
      "only showing top 20 rows\n",
      "\n"
     ]
    }
   ],
   "source": [
    "accounts.select(\n",
    "    accounts['twitter handle'],\n",
    "    accounts['category'],\n",
    "    accounts['followers'],\n",
    "    followers_difference.alias(\"followers_difference\")).show()"
   ]
  },
  {
   "cell_type": "code",
   "execution_count": null,
   "metadata": {
    "collapsed": true
   },
   "outputs": [],
   "source": []
  },
  {
   "cell_type": "code",
   "execution_count": null,
   "metadata": {
    "collapsed": true
   },
   "outputs": [],
   "source": []
  },
  {
   "cell_type": "code",
   "execution_count": null,
   "metadata": {
    "collapsed": true
   },
   "outputs": [],
   "source": []
  },
  {
   "cell_type": "code",
   "execution_count": null,
   "metadata": {
    "collapsed": true
   },
   "outputs": [],
   "source": []
  },
  {
   "cell_type": "code",
   "execution_count": null,
   "metadata": {
    "collapsed": true
   },
   "outputs": [],
   "source": []
  },
  {
   "cell_type": "code",
   "execution_count": null,
   "metadata": {
    "collapsed": true
   },
   "outputs": [],
   "source": []
  },
  {
   "cell_type": "code",
   "execution_count": null,
   "metadata": {
    "collapsed": true
   },
   "outputs": [],
   "source": []
  },
  {
   "cell_type": "code",
   "execution_count": null,
   "metadata": {
    "collapsed": true
   },
   "outputs": [],
   "source": []
  },
  {
   "cell_type": "code",
   "execution_count": null,
   "metadata": {
    "collapsed": true
   },
   "outputs": [],
   "source": []
  },
  {
   "cell_type": "code",
   "execution_count": null,
   "metadata": {
    "collapsed": true
   },
   "outputs": [],
   "source": []
  },
  {
   "cell_type": "code",
   "execution_count": null,
   "metadata": {
    "collapsed": true
   },
   "outputs": [],
   "source": []
  },
  {
   "cell_type": "code",
   "execution_count": null,
   "metadata": {
    "collapsed": true
   },
   "outputs": [],
   "source": []
  },
  {
   "cell_type": "code",
   "execution_count": null,
   "metadata": {
    "collapsed": true
   },
   "outputs": [],
   "source": []
  },
  {
   "cell_type": "code",
   "execution_count": null,
   "metadata": {
    "collapsed": true
   },
   "outputs": [],
   "source": []
  },
  {
   "cell_type": "code",
   "execution_count": null,
   "metadata": {
    "collapsed": true
   },
   "outputs": [],
   "source": []
  },
  {
   "cell_type": "code",
   "execution_count": null,
   "metadata": {
    "collapsed": true
   },
   "outputs": [],
   "source": []
  },
  {
   "cell_type": "code",
   "execution_count": null,
   "metadata": {
    "collapsed": true
   },
   "outputs": [],
   "source": []
  },
  {
   "cell_type": "code",
   "execution_count": null,
   "metadata": {
    "collapsed": true
   },
   "outputs": [],
   "source": []
  },
  {
   "cell_type": "code",
   "execution_count": null,
   "metadata": {
    "collapsed": true
   },
   "outputs": [],
   "source": []
  },
  {
   "cell_type": "code",
   "execution_count": null,
   "metadata": {
    "collapsed": true
   },
   "outputs": [],
   "source": []
  },
  {
   "cell_type": "code",
   "execution_count": null,
   "metadata": {
    "collapsed": true
   },
   "outputs": [],
   "source": []
  },
  {
   "cell_type": "code",
   "execution_count": null,
   "metadata": {
    "collapsed": true
   },
   "outputs": [],
   "source": []
  },
  {
   "cell_type": "code",
   "execution_count": null,
   "metadata": {
    "collapsed": true
   },
   "outputs": [],
   "source": []
  },
  {
   "cell_type": "code",
   "execution_count": null,
   "metadata": {
    "collapsed": true
   },
   "outputs": [],
   "source": []
  },
  {
   "cell_type": "code",
   "execution_count": null,
   "metadata": {
    "collapsed": true
   },
   "outputs": [],
   "source": []
  },
  {
   "cell_type": "code",
   "execution_count": null,
   "metadata": {
    "collapsed": true
   },
   "outputs": [],
   "source": []
  },
  {
   "cell_type": "code",
   "execution_count": null,
   "metadata": {
    "collapsed": true
   },
   "outputs": [],
   "source": []
  },
  {
   "cell_type": "code",
   "execution_count": null,
   "metadata": {
    "collapsed": true
   },
   "outputs": [],
   "source": []
  },
  {
   "cell_type": "code",
   "execution_count": null,
   "metadata": {
    "collapsed": true
   },
   "outputs": [],
   "source": []
  },
  {
   "cell_type": "code",
   "execution_count": null,
   "metadata": {
    "collapsed": true
   },
   "outputs": [],
   "source": []
  },
  {
   "cell_type": "code",
   "execution_count": null,
   "metadata": {
    "collapsed": true
   },
   "outputs": [],
   "source": []
  },
  {
   "cell_type": "code",
   "execution_count": null,
   "metadata": {
    "collapsed": true
   },
   "outputs": [],
   "source": []
  },
  {
   "cell_type": "code",
   "execution_count": null,
   "metadata": {
    "collapsed": true
   },
   "outputs": [],
   "source": []
  },
  {
   "cell_type": "code",
   "execution_count": null,
   "metadata": {
    "collapsed": true
   },
   "outputs": [],
   "source": []
  },
  {
   "cell_type": "code",
   "execution_count": null,
   "metadata": {
    "collapsed": true
   },
   "outputs": [],
   "source": []
  },
  {
   "cell_type": "code",
   "execution_count": null,
   "metadata": {
    "collapsed": true
   },
   "outputs": [],
   "source": []
  },
  {
   "cell_type": "code",
   "execution_count": null,
   "metadata": {
    "collapsed": true
   },
   "outputs": [],
   "source": []
  },
  {
   "cell_type": "code",
   "execution_count": null,
   "metadata": {
    "collapsed": true
   },
   "outputs": [],
   "source": []
  },
  {
   "cell_type": "code",
   "execution_count": null,
   "metadata": {
    "collapsed": true
   },
   "outputs": [],
   "source": []
  },
  {
   "cell_type": "code",
   "execution_count": null,
   "metadata": {
    "collapsed": true
   },
   "outputs": [],
   "source": []
  },
  {
   "cell_type": "code",
   "execution_count": null,
   "metadata": {
    "collapsed": true
   },
   "outputs": [],
   "source": []
  },
  {
   "cell_type": "code",
   "execution_count": null,
   "metadata": {
    "collapsed": true
   },
   "outputs": [],
   "source": []
  },
  {
   "cell_type": "code",
   "execution_count": null,
   "metadata": {
    "collapsed": true
   },
   "outputs": [],
   "source": []
  }
 ],
 "metadata": {
  "kernelspec": {
   "display_name": "Python 3",
   "language": "python",
   "name": "python3"
  },
  "language_info": {
   "codemirror_mode": {
    "name": "ipython",
    "version": 3
   },
   "file_extension": ".py",
   "mimetype": "text/x-python",
   "name": "python",
   "nbconvert_exporter": "python",
   "pygments_lexer": "ipython3",
   "version": "3.6.3"
  }
 },
 "nbformat": 4,
 "nbformat_minor": 2
}
