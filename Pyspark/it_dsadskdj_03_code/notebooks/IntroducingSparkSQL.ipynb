{
 "cells": [
  {
   "cell_type": "markdown",
   "metadata": {},
   "source": [
    "### Exploring SQL query options"
   ]
  },
  {
   "cell_type": "code",
   "execution_count": 1,
   "metadata": {
    "tags": []
   },
   "outputs": [],
   "source": [
    "from pyspark.sql.types import Row\n",
    "from datetime import datetime\n",
    "from pyspark.sql import SQLContext\n",
    "from pyspark import SparkContext\n",
    "from pyspark.sql.session import SparkSession"
   ]
  },
  {
   "cell_type": "code",
   "execution_count": 2,
   "metadata": {},
   "outputs": [
    {
     "name": "stderr",
     "output_type": "stream",
     "text": [
      "21/12/20 16:20:56 WARN Utils: Your hostname, srimac.local resolves to a loopback address: 127.0.0.1; using 192.168.1.10 instead (on interface en0)\n",
      "21/12/20 16:20:56 WARN Utils: Set SPARK_LOCAL_IP if you need to bind to another address\n",
      "Using Spark's default log4j profile: org/apache/spark/log4j-defaults.properties\n",
      "Setting default log level to \"WARN\".\n",
      "To adjust logging level use sc.setLogLevel(newLevel). For SparkR, use setLogLevel(newLevel).\n",
      "21/12/20 16:20:58 WARN NativeCodeLoader: Unable to load native-hadoop library for your platform... using builtin-java classes where applicable\n"
     ]
    },
    {
     "data": {
      "text/html": [
       "\n",
       "        <div>\n",
       "            <p><b>SparkContext</b></p>\n",
       "\n",
       "            <p><a href=\"http://192.168.1.10:4040\">Spark UI</a></p>\n",
       "\n",
       "            <dl>\n",
       "              <dt>Version</dt>\n",
       "                <dd><code>v3.2.0</code></dd>\n",
       "              <dt>Master</dt>\n",
       "                <dd><code>local[*]</code></dd>\n",
       "              <dt>AppName</dt>\n",
       "                <dd><code>pyspark-shell</code></dd>\n",
       "            </dl>\n",
       "        </div>\n",
       "        "
      ],
      "text/plain": [
       "<SparkContext master=local[*] appName=pyspark-shell>"
      ]
     },
     "execution_count": 2,
     "metadata": {},
     "output_type": "execute_result"
    }
   ],
   "source": [
    "sc = SparkContext()\n",
    "sc"
   ]
  },
  {
   "cell_type": "code",
   "execution_count": 4,
   "metadata": {
    "tags": []
   },
   "outputs": [],
   "source": [
    "spark = SparkSession(sc)\n",
    "sqlContext = SQLContext(sc)"
   ]
  },
  {
   "cell_type": "markdown",
   "metadata": {},
   "source": [
    "#### Creating a dataframe with different data types"
   ]
  },
  {
   "cell_type": "code",
   "execution_count": 5,
   "metadata": {
    "tags": []
   },
   "outputs": [],
   "source": [
    "movies_record = sc.parallelize([Row(certificate_id = 2195194,\n",
    "                                    movie_name = \"Iron Man\",\n",
    "                                    hit = True,\n",
    "                                    category = ['action','thriller'],\n",
    "                                    rating = {\"IMDb\": 7.9, 'rotten tomatoes': 7.7},\n",
    "                                    release_time = datetime(2008, 5, 1, 13, 1, 5)),\n",
    "                                Row(certificate_id = 2195204,\n",
    "                                    movie_name = \"Baywatch\",\n",
    "                                    hit = False,\n",
    "                                    category = ['comedy','action'],\n",
    "                                    rating = {\"IMDb\": 5.6, 'rotten tomatoes': 4.0},\n",
    "                                    release_time = datetime(2017, 5, 12, 14, 2, 5))\n",
    "])"
   ]
  },
  {
   "cell_type": "code",
   "execution_count": 6,
   "metadata": {},
   "outputs": [
    {
     "name": "stderr",
     "output_type": "stream",
     "text": [
      "                                                                                \r"
     ]
    },
    {
     "name": "stdout",
     "output_type": "stream",
     "text": [
      "+--------------+----------+-----+------------------+--------------------+-------------------+\n",
      "|certificate_id|movie_name|  hit|          category|              rating|       release_time|\n",
      "+--------------+----------+-----+------------------+--------------------+-------------------+\n",
      "|       2195194|  Iron Man| true|[action, thriller]|{IMDb -> 7.9, rot...|2008-05-01 13:01:05|\n",
      "|       2195204|  Baywatch|false|  [comedy, action]|{IMDb -> 5.6, rot...|2017-05-12 14:02:05|\n",
      "+--------------+----------+-----+------------------+--------------------+-------------------+\n",
      "\n"
     ]
    }
   ],
   "source": [
    "movies_record_df = movies_record.toDF()\n",
    "movies_record_df.show()"
   ]
  },
  {
   "cell_type": "markdown",
   "metadata": {},
   "source": [
    "#### Register the dataframe as a temporary view\n",
    "\n",
    "* The view is valid for one session\n",
    "* This is required to run SQL commands on the dataframe"
   ]
  },
  {
   "cell_type": "code",
   "execution_count": 7,
   "metadata": {
    "tags": []
   },
   "outputs": [],
   "source": [
    "movies_record_df.createOrReplaceTempView('records')"
   ]
  },
  {
   "cell_type": "code",
   "execution_count": 8,
   "metadata": {},
   "outputs": [
    {
     "name": "stdout",
     "output_type": "stream",
     "text": [
      "+--------------+----------+-----+------------------+--------------------+-------------------+\n",
      "|certificate_id|movie_name|  hit|          category|              rating|       release_time|\n",
      "+--------------+----------+-----+------------------+--------------------+-------------------+\n",
      "|       2195194|  Iron Man| true|[action, thriller]|{IMDb -> 7.9, rot...|2008-05-01 13:01:05|\n",
      "|       2195204|  Baywatch|false|  [comedy, action]|{IMDb -> 5.6, rot...|2017-05-12 14:02:05|\n",
      "+--------------+----------+-----+------------------+--------------------+-------------------+\n",
      "\n"
     ]
    }
   ],
   "source": [
    "all_movie_records_df = sqlContext.sql('SELECT * FROM records')\n",
    "\n",
    "all_movie_records_df.show()"
   ]
  },
  {
   "cell_type": "code",
   "execution_count": 9,
   "metadata": {},
   "outputs": [
    {
     "name": "stdout",
     "output_type": "stream",
     "text": [
      "+--------------+-----------+------------+\n",
      "|certificate_id|category[1]|rating[IMDb]|\n",
      "+--------------+-----------+------------+\n",
      "|       2195194|   thriller|         7.9|\n",
      "|       2195204|     action|         5.6|\n",
      "+--------------+-----------+------------+\n",
      "\n"
     ]
    }
   ],
   "source": [
    "sqlContext.sql('SELECT certificate_id, category[1], rating[\"IMDb\"] \\\n",
    "                FROM records').show()"
   ]
  },
  {
   "cell_type": "code",
   "execution_count": 9,
   "metadata": {},
   "outputs": [
    {
     "name": "stdout",
     "output_type": "stream",
     "text": [
      "+--------------+---------+\n",
      "|certificate_id|(NOT hit)|\n",
      "+--------------+---------+\n",
      "|       2195194|    false|\n",
      "|       2195204|     true|\n",
      "+--------------+---------+\n",
      "\n"
     ]
    }
   ],
   "source": [
    "sqlContext.sql('SELECT certificate_id, NOT hit \\\n",
    "                FROM records').show()"
   ]
  },
  {
   "cell_type": "markdown",
   "metadata": {},
   "source": [
    "### Conditional statements in SQL "
   ]
  },
  {
   "cell_type": "code",
   "execution_count": 10,
   "metadata": {},
   "outputs": [
    {
     "name": "stdout",
     "output_type": "stream",
     "text": [
      "+----------------+--------------+-----+----------+--------------------+-------------------+\n",
      "|        category|certificate_id|  hit|movie_name|              rating|       release_time|\n",
      "+----------------+--------------+-----+----------+--------------------+-------------------+\n",
      "|[comedy, action]|       2195204|false|  Baywatch|[IMDb -> 5.6, rot...|2017-05-12 14:02:05|\n",
      "+----------------+--------------+-----+----------+--------------------+-------------------+\n",
      "\n"
     ]
    }
   ],
   "source": [
    "sqlContext.sql('SELECT * FROM records \\\n",
    "                WHERE NOT hit').show()"
   ]
  },
  {
   "cell_type": "code",
   "execution_count": 11,
   "metadata": {},
   "outputs": [
    {
     "name": "stdout",
     "output_type": "stream",
     "text": [
      "+----------------+--------------+-----+----------+--------------------+-------------------+\n",
      "|        category|certificate_id|  hit|movie_name|              rating|       release_time|\n",
      "+----------------+--------------+-----+----------+--------------------+-------------------+\n",
      "|[comedy, action]|       2195204|false|  Baywatch|[IMDb -> 5.6, rot...|2017-05-12 14:02:05|\n",
      "+----------------+--------------+-----+----------+--------------------+-------------------+\n",
      "\n"
     ]
    }
   ],
   "source": [
    "sqlContext.sql('SELECT * FROM records \\\n",
    "                WHERE rating[\"IMDb\"] < 6.0').show()"
   ]
  },
  {
   "cell_type": "code",
   "execution_count": 12,
   "metadata": {},
   "outputs": [
    {
     "name": "stdout",
     "output_type": "stream",
     "text": [
      "+----------------+--------------+-----+----------+--------------------+-------------------+\n",
      "|        category|certificate_id|  hit|movie_name|              rating|       release_time|\n",
      "+----------------+--------------+-----+----------+--------------------+-------------------+\n",
      "|[comedy, action]|       2195204|false|  Baywatch|[IMDb -> 5.6, rot...|2017-05-12 14:02:05|\n",
      "+----------------+--------------+-----+----------+--------------------+-------------------+\n",
      "\n"
     ]
    }
   ],
   "source": [
    "sqlContext.sql('SELECT * FROM records \\\n",
    "                WHERE release_time >= \\'2010-05-01 0:0:0\\'').show()"
   ]
  },
  {
   "cell_type": "markdown",
   "metadata": {},
   "source": [
    "#### Global temporary view\n",
    "\n",
    "* Temporary view shared across multiple sessions\n",
    "* Kept alive till the Spark application terminates"
   ]
  },
  {
   "cell_type": "code",
   "execution_count": 11,
   "metadata": {
    "tags": []
   },
   "outputs": [],
   "source": [
    "movies_record_df.createGlobalTempView('global_records')"
   ]
  },
  {
   "cell_type": "code",
   "execution_count": 12,
   "metadata": {},
   "outputs": [
    {
     "name": "stdout",
     "output_type": "stream",
     "text": [
      "+--------------+----------+-----+------------------+--------------------+-------------------+\n",
      "|certificate_id|movie_name|  hit|          category|              rating|       release_time|\n",
      "+--------------+----------+-----+------------------+--------------------+-------------------+\n",
      "|       2195194|  Iron Man| true|[action, thriller]|{IMDb -> 7.9, rot...|2008-05-01 13:01:05|\n",
      "|       2195204|  Baywatch|false|  [comedy, action]|{IMDb -> 5.6, rot...|2017-05-12 14:02:05|\n",
      "+--------------+----------+-----+------------------+--------------------+-------------------+\n",
      "\n"
     ]
    },
    {
     "name": "stderr",
     "output_type": "stream",
     "text": [
      "21/12/21 02:05:25 WARN HeartbeatReceiver: Removing executor driver with no recent heartbeats: 13710245 ms exceeds timeout 120000 ms\n",
      "21/12/21 02:05:25 WARN SparkContext: Killing executors is not supported by current scheduler.\n"
     ]
    }
   ],
   "source": [
    "sqlContext.sql('SELECT * FROM global_temp.global_records').show()"
   ]
  },
  {
   "cell_type": "code",
   "execution_count": null,
   "metadata": {
    "collapsed": true,
    "jupyter": {
     "outputs_hidden": true
    }
   },
   "outputs": [],
   "source": []
  },
  {
   "cell_type": "code",
   "execution_count": null,
   "metadata": {
    "collapsed": true,
    "jupyter": {
     "outputs_hidden": true
    }
   },
   "outputs": [],
   "source": []
  },
  {
   "cell_type": "code",
   "execution_count": null,
   "metadata": {
    "collapsed": true,
    "jupyter": {
     "outputs_hidden": true
    }
   },
   "outputs": [],
   "source": []
  },
  {
   "cell_type": "code",
   "execution_count": null,
   "metadata": {
    "collapsed": true,
    "jupyter": {
     "outputs_hidden": true
    }
   },
   "outputs": [],
   "source": []
  },
  {
   "cell_type": "code",
   "execution_count": null,
   "metadata": {
    "collapsed": true,
    "jupyter": {
     "outputs_hidden": true
    }
   },
   "outputs": [],
   "source": []
  },
  {
   "cell_type": "code",
   "execution_count": null,
   "metadata": {
    "collapsed": true,
    "jupyter": {
     "outputs_hidden": true
    }
   },
   "outputs": [],
   "source": []
  },
  {
   "cell_type": "code",
   "execution_count": null,
   "metadata": {
    "collapsed": true,
    "jupyter": {
     "outputs_hidden": true
    }
   },
   "outputs": [],
   "source": []
  },
  {
   "cell_type": "code",
   "execution_count": null,
   "metadata": {
    "collapsed": true,
    "jupyter": {
     "outputs_hidden": true
    }
   },
   "outputs": [],
   "source": []
  },
  {
   "cell_type": "code",
   "execution_count": null,
   "metadata": {
    "collapsed": true,
    "jupyter": {
     "outputs_hidden": true
    }
   },
   "outputs": [],
   "source": []
  },
  {
   "cell_type": "code",
   "execution_count": null,
   "metadata": {
    "collapsed": true,
    "jupyter": {
     "outputs_hidden": true
    }
   },
   "outputs": [],
   "source": []
  },
  {
   "cell_type": "code",
   "execution_count": null,
   "metadata": {
    "collapsed": true,
    "jupyter": {
     "outputs_hidden": true
    }
   },
   "outputs": [],
   "source": []
  },
  {
   "cell_type": "code",
   "execution_count": null,
   "metadata": {
    "collapsed": true,
    "jupyter": {
     "outputs_hidden": true
    }
   },
   "outputs": [],
   "source": []
  },
  {
   "cell_type": "code",
   "execution_count": null,
   "metadata": {
    "collapsed": true,
    "jupyter": {
     "outputs_hidden": true
    }
   },
   "outputs": [],
   "source": []
  },
  {
   "cell_type": "code",
   "execution_count": null,
   "metadata": {
    "collapsed": true,
    "jupyter": {
     "outputs_hidden": true
    }
   },
   "outputs": [],
   "source": []
  },
  {
   "cell_type": "code",
   "execution_count": null,
   "metadata": {
    "collapsed": true,
    "jupyter": {
     "outputs_hidden": true
    }
   },
   "outputs": [],
   "source": []
  },
  {
   "cell_type": "code",
   "execution_count": null,
   "metadata": {
    "collapsed": true,
    "jupyter": {
     "outputs_hidden": true
    }
   },
   "outputs": [],
   "source": []
  },
  {
   "cell_type": "code",
   "execution_count": null,
   "metadata": {
    "collapsed": true,
    "jupyter": {
     "outputs_hidden": true
    }
   },
   "outputs": [],
   "source": []
  },
  {
   "cell_type": "code",
   "execution_count": null,
   "metadata": {
    "collapsed": true,
    "jupyter": {
     "outputs_hidden": true
    }
   },
   "outputs": [],
   "source": []
  },
  {
   "cell_type": "code",
   "execution_count": null,
   "metadata": {
    "collapsed": true,
    "jupyter": {
     "outputs_hidden": true
    }
   },
   "outputs": [],
   "source": []
  },
  {
   "cell_type": "code",
   "execution_count": null,
   "metadata": {
    "collapsed": true,
    "jupyter": {
     "outputs_hidden": true
    }
   },
   "outputs": [],
   "source": []
  }
 ],
 "metadata": {
  "kernelspec": {
   "display_name": "Python 3 (ipykernel)",
   "language": "python",
   "name": "python3"
  },
  "language_info": {
   "codemirror_mode": {
    "name": "ipython",
    "version": 3
   },
   "file_extension": ".py",
   "mimetype": "text/x-python",
   "name": "python",
   "nbconvert_exporter": "python",
   "pygments_lexer": "ipython3",
   "version": "3.9.7"
  }
 },
 "nbformat": 4,
 "nbformat_minor": 4
}
