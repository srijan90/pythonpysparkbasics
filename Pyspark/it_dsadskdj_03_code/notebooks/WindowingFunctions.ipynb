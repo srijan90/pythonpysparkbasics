{
 "cells": [
  {
   "cell_type": "markdown",
   "metadata": {},
   "source": [
    "### Window functions"
   ]
  },
  {
   "cell_type": "code",
   "execution_count": 1,
   "metadata": {
    "tags": []
   },
   "outputs": [],
   "source": [
    "from pyspark import SparkContext"
   ]
  },
  {
   "cell_type": "code",
   "execution_count": 2,
   "metadata": {},
   "outputs": [
    {
     "name": "stderr",
     "output_type": "stream",
     "text": [
      "21/12/20 21:45:54 WARN Utils: Your hostname, srimac.local resolves to a loopback address: 127.0.0.1; using 192.168.1.10 instead (on interface en0)\n",
      "21/12/20 21:45:54 WARN Utils: Set SPARK_LOCAL_IP if you need to bind to another address\n",
      "Using Spark's default log4j profile: org/apache/spark/log4j-defaults.properties\n",
      "Setting default log level to \"WARN\".\n",
      "To adjust logging level use sc.setLogLevel(newLevel). For SparkR, use setLogLevel(newLevel).\n",
      "21/12/20 21:45:55 WARN NativeCodeLoader: Unable to load native-hadoop library for your platform... using builtin-java classes where applicable\n",
      "21/12/20 21:45:56 WARN Utils: Service 'SparkUI' could not bind on port 4040. Attempting port 4041.\n"
     ]
    },
    {
     "data": {
      "text/html": [
       "\n",
       "        <div>\n",
       "            <p><b>SparkContext</b></p>\n",
       "\n",
       "            <p><a href=\"http://192.168.1.10:4041\">Spark UI</a></p>\n",
       "\n",
       "            <dl>\n",
       "              <dt>Version</dt>\n",
       "                <dd><code>v3.2.0</code></dd>\n",
       "              <dt>Master</dt>\n",
       "                <dd><code>local[*]</code></dd>\n",
       "              <dt>AppName</dt>\n",
       "                <dd><code>pyspark-shell</code></dd>\n",
       "            </dl>\n",
       "        </div>\n",
       "        "
      ],
      "text/plain": [
       "<SparkContext master=local[*] appName=pyspark-shell>"
      ]
     },
     "execution_count": 2,
     "metadata": {},
     "output_type": "execute_result"
    }
   ],
   "source": [
    "sc = SparkContext()\n",
    "sc"
   ]
  },
  {
   "cell_type": "code",
   "execution_count": 3,
   "metadata": {
    "tags": []
   },
   "outputs": [],
   "source": [
    "from pyspark.sql import SparkSession\n",
    "\n",
    "spark = SparkSession \\\n",
    "        .builder \\\n",
    "        .appName(\"Window functions\") \\\n",
    "        .getOrCreate()"
   ]
  },
  {
   "cell_type": "markdown",
   "metadata": {},
   "source": [
    "### Load the dataset\n",
    "\n",
    "Dataset has been taken from https://www.kaggle.com/arminehn/disasteraccident-sources. <br />\n",
    "It contains a list of Twitter users who regularly report on natural and man-made disasters, violence or crime. The accounts may belong to journalists, news media, local fire or police departments, other local authorities, or disaster monitors."
   ]
  },
  {
   "cell_type": "code",
   "execution_count": 4,
   "metadata": {
    "tags": []
   },
   "outputs": [
    {
     "name": "stderr",
     "output_type": "stream",
     "text": [
      "                                                                                \r"
     ]
    }
   ],
   "source": [
    "accounts = spark.read\\\n",
    "                .format(\"csv\")\\\n",
    "                .option(\"header\", \"true\")\\\n",
    "                .load('../datasets/disaster_accident_crime_accounts.csv')"
   ]
  },
  {
   "cell_type": "code",
   "execution_count": 5,
   "metadata": {},
   "outputs": [
    {
     "name": "stdout",
     "output_type": "stream",
     "text": [
      "+--------------+--------------------+--------------+--------------------+---------+---------+----------------+--------------------+--------------------+\n",
      "|      category|    on twitter since|twitter handle|         profile url|followers|following|profile location|     profile lat/lon| profile description|\n",
      "+--------------+--------------------+--------------+--------------------+---------+---------+----------------+--------------------+--------------------+\n",
      "|          news|1:45 PM - 11 Sep ...|  abc13houston|http://www.abc13.com|   568709|     1113|     Houston, TX|29.75893,-95.3676899|ABC13 is Houston'...|\n",
      "|police/traffic|3:41 AM - 19 Aug ...|   metpoliceuk|https://beta.met....|   670529|      367|          London| 51.50732,-0.1276399|London's Metropol...|\n",
      "|            wx|7:00 AM - 17 Feb ...|         wsbtv|http://2wsb.tv/Ne...|   934824|     2134|     Atlanta, GA|33.74909,-84.3901799|Metro Atlanta and...|\n",
      "|          news|9:22 PM - 19 Sep ...|          ABC7|     http://abc7.com|   904324|      489|            null|                null|Your #1 breaking ...|\n",
      "|            wx|1:35 PM - 24 Sep ...|         FOX59|    http://fox59.com|   204408|     6449|Indianapolis, IN|39.76833,-86.1583499|Serving central I...|\n",
      "+--------------+--------------------+--------------+--------------------+---------+---------+----------------+--------------------+--------------------+\n",
      "only showing top 5 rows\n",
      "\n"
     ]
    }
   ],
   "source": [
    "accounts.show(5)"
   ]
  },
  {
   "cell_type": "code",
   "execution_count": 6,
   "metadata": {
    "tags": []
   },
   "outputs": [],
   "source": [
    "accounts = accounts.drop('on twitter since',\n",
    "                         'profile url',\n",
    "                         'following',\n",
    "                         'profile location',\n",
    "                         'profile lat/lon',\n",
    "                         'profile description'\n",
    "                        )"
   ]
  },
  {
   "cell_type": "code",
   "execution_count": 7,
   "metadata": {
    "tags": []
   },
   "outputs": [],
   "source": [
    "from pyspark.sql.types import IntegerType"
   ]
  },
  {
   "cell_type": "code",
   "execution_count": 8,
   "metadata": {
    "tags": []
   },
   "outputs": [],
   "source": [
    "accounts = accounts.withColumn(\"followers\", \n",
    "                               accounts['followers'].cast(IntegerType()))"
   ]
  },
  {
   "cell_type": "code",
   "execution_count": 27,
   "metadata": {},
   "outputs": [
    {
     "name": "stdout",
     "output_type": "stream",
     "text": [
      "+--------------+--------------+---------+\n",
      "|      category|twitter handle|followers|\n",
      "+--------------+--------------+---------+\n",
      "|          news|  abc13houston|   568709|\n",
      "|police/traffic|   metpoliceuk|   670529|\n",
      "|            wx|         wsbtv|   934824|\n",
      "|          news|          ABC7|   904324|\n",
      "|            wx|         FOX59|   204408|\n",
      "+--------------+--------------+---------+\n",
      "only showing top 5 rows\n",
      "\n"
     ]
    },
    {
     "name": "stderr",
     "output_type": "stream",
     "text": [
      "                                                                                \r"
     ]
    },
    {
     "data": {
      "text/plain": [
       "DataFrame[summary: string, category: string, twitter handle: string, followers: string]"
      ]
     },
     "execution_count": 27,
     "metadata": {},
     "output_type": "execute_result"
    }
   ],
   "source": [
    "accounts.show(5)\n",
    "accounts.count()\n",
    "accounts.describe()\n"
   ]
  },
  {
   "cell_type": "markdown",
   "metadata": {},
   "source": [
    "#### Window rank function"
   ]
  },
  {
   "cell_type": "code",
   "execution_count": 9,
   "metadata": {
    "tags": []
   },
   "outputs": [],
   "source": [
    "import sys\n",
    "from pyspark.sql.window import Window\n",
    "import pyspark.sql.functions as func"
   ]
  },
  {
   "cell_type": "code",
   "execution_count": 10,
   "metadata": {
    "tags": []
   },
   "outputs": [],
   "source": [
    "windowSpec1 = Window \\\n",
    "              .partitionBy(accounts['category']) \\\n",
    "              .orderBy(accounts['followers'].desc())"
   ]
  },
  {
   "cell_type": "code",
   "execution_count": 11,
   "metadata": {},
   "outputs": [
    {
     "data": {
      "text/plain": [
       "Column<'RANK() OVER (PARTITION BY category ORDER BY followers DESC NULLS LAST unspecifiedframe$())'>"
      ]
     },
     "execution_count": 11,
     "metadata": {},
     "output_type": "execute_result"
    }
   ],
   "source": [
    "followers_rank = (func.rank().over(windowSpec1))\n",
    "\n",
    "followers_rank"
   ]
  },
  {
   "cell_type": "code",
   "execution_count": 14,
   "metadata": {},
   "outputs": [
    {
     "name": "stdout",
     "output_type": "stream",
     "text": [
      "+-----------------+-----+\n",
      "|         category|count|\n",
      "+-----------------+-----+\n",
      "|             news| 3909|\n",
      "|   police/traffic|  557|\n",
      "|         fire/emt|  702|\n",
      "|               wx|  906|\n",
      "|disaster/accident|  512|\n",
      "|             govt|  204|\n",
      "|       journalist| 3792|\n",
      "|            quake|   25|\n",
      "+-----------------+-----+\n",
      "\n"
     ]
    }
   ],
   "source": [
    "# name_count = data.groupBy(['Name', 'Gender'])\\\n",
    "#                  .count()\n",
    "    \n",
    "# name_count.show(5)\n",
    "\n",
    "acccounts_ctegory_group = accounts.groupBy(func.col(\"category\")).count()\n",
    "acccounts_ctegory_group.show()"
   ]
  },
  {
   "cell_type": "code",
   "execution_count": 21,
   "metadata": {},
   "outputs": [
    {
     "name": "stdout",
     "output_type": "stream",
     "text": [
      "+---------------+-----------------+---------+----+\n",
      "| twitter handle|         category|followers|rank|\n",
      "+---------------+-----------------+---------+----+\n",
      "|          adage|disaster/accident|   954734|   1|\n",
      "| spectatorindex|disaster/accident|   714691|   2|\n",
      "|    CrimesWorld|disaster/accident|   590042|   3|\n",
      "| SkyFallCarroll|disaster/accident|   443010|   4|\n",
      "|         nycgov|         fire/emt|   880052|   1|\n",
      "|  KenyaRedCross|         fire/emt|   765617|   2|\n",
      "|     NYCTSubway|         fire/emt|   672142|   3|\n",
      "|  SheriffClarke|         fire/emt|   644748|   4|\n",
      "|       NYCMayor|             govt|   965189|   1|\n",
      "|      MIB_India|             govt|   884202|   2|\n",
      "|       Heritage|             govt|   602540|   3|\n",
      "| DeptVetAffairs|             govt|   557641|   4|\n",
      "|     KlasraRauf|       journalist|   995009|   1|\n",
      "|  gauravcsawant|       journalist|   974663|   2|\n",
      "| KeithOlbermann|       journalist|   948584|   3|\n",
      "|   malaysiakini|       journalist|   936741|   4|\n",
      "|IndiaTodayFLASH|             news|   978677|   1|\n",
      "|          Salon|             news|   976952|   2|\n",
      "| CapitalFMKenya|             news|   967429|   3|\n",
      "|CapitalOfficial|             news|   954127|   4|\n",
      "+---------------+-----------------+---------+----+\n",
      "only showing top 20 rows\n",
      "\n"
     ]
    }
   ],
   "source": [
    "followers_rank = accounts.select(accounts['twitter handle'],\n",
    "                                 accounts['category'],\n",
    "                                 accounts['followers']\n",
    "                                ).withColumn('rank', \n",
    "                                             func.rank().over(windowSpec1))\\\n",
    "                 .where(func.col(\"rank\")<5)\n",
    "\n",
    "followers_rank.show()"
   ]
  },
  {
   "cell_type": "code",
   "execution_count": 14,
   "metadata": {},
   "outputs": [
    {
     "name": "stdout",
     "output_type": "stream",
     "text": [
      "+---------------+--------------+---------+----+\n",
      "| twitter handle|      category|followers|rank|\n",
      "+---------------+--------------+---------+----+\n",
      "|          CPBlr|police/traffic|   822032|   1|\n",
      "|       Ma3Route|police/traffic|   734626|   2|\n",
      "|    metpoliceuk|police/traffic|   670529|   3|\n",
      "|MassStatePolice|police/traffic|   416173|   4|\n",
      "|  wsdot_traffic|police/traffic|   362617|   5|\n",
      "|  trafficbutter|police/traffic|   262205|   6|\n",
      "|BaltimorePolice|police/traffic|   255021|   7|\n",
      "|           NJSP|police/traffic|   254180|   8|\n",
      "|      TrafficSA|police/traffic|   253441|   9|\n",
      "|  KenyanTraffic|police/traffic|   241647|  10|\n",
      "|     EWNTraffic|police/traffic|   229280|  11|\n",
      "|      jeffcanoy|police/traffic|   229002|  12|\n",
      "|    FastCoIdeas|police/traffic|   208623|  13|\n",
      "|trafficscotland|police/traffic|   190064|  14|\n",
      "|        2xTessy|police/traffic|   188600|  15|\n",
      "|   DenverPolice|police/traffic|   184100|  16|\n",
      "|      Venice311|police/traffic|   165389|  17|\n",
      "|      Kent_999s|police/traffic|   164847|  18|\n",
      "|       OPP_News|police/traffic|   164154|  19|\n",
      "|     upcoprahul|police/traffic|   163018|  20|\n",
      "+---------------+--------------+---------+----+\n",
      "only showing top 20 rows\n",
      "\n"
     ]
    }
   ],
   "source": [
    "traffic = followers_rank.filter(followers_rank['category'] == 'police/traffic')\n",
    "\n",
    "traffic.show()"
   ]
  },
  {
   "cell_type": "markdown",
   "metadata": {},
   "source": [
    "#### Window max function between rows"
   ]
  },
  {
   "cell_type": "code",
   "execution_count": 22,
   "metadata": {
    "tags": []
   },
   "outputs": [],
   "source": [
    "windowSpec2 = Window \\\n",
    "              .partitionBy(accounts['category']) \\\n",
    "              .orderBy(accounts['followers'].desc()) \\\n",
    "              .rowsBetween(-1, 0)"
   ]
  },
  {
   "cell_type": "code",
   "execution_count": 23,
   "metadata": {
    "tags": []
   },
   "outputs": [],
   "source": [
    "followers_max = (func.max(accounts['followers']).over(windowSpec2))"
   ]
  },
  {
   "cell_type": "code",
   "execution_count": 24,
   "metadata": {},
   "outputs": [
    {
     "name": "stdout",
     "output_type": "stream",
     "text": [
      "+---------------+-----------------+---------+-------------+\n",
      "| twitter handle|         category|followers|followers_max|\n",
      "+---------------+-----------------+---------+-------------+\n",
      "|          adage|disaster/accident|   954734|       954734|\n",
      "| spectatorindex|disaster/accident|   714691|       954734|\n",
      "|    CrimesWorld|disaster/accident|   590042|       714691|\n",
      "| SkyFallCarroll|disaster/accident|   443010|       590042|\n",
      "|   RealTimeWWII|disaster/accident|   363529|       443010|\n",
      "|USNationalGuard|disaster/accident|   355179|       363529|\n",
      "|BillionDollarID|disaster/accident|   348445|       355179|\n",
      "| ConspiracyCase|disaster/accident|   288366|       348445|\n",
      "|  RepAdamSchiff|disaster/accident|   283715|       288366|\n",
      "|  MilitaryEarth|disaster/accident|   275498|       283715|\n",
      "|WeirdCrimeFacts|disaster/accident|   237594|       275498|\n",
      "|    Breaking911|disaster/accident|   204830|       237594|\n",
      "|         ICEgov|disaster/accident|   197774|       204830|\n",
      "|   NDRRMC_OpCen|disaster/accident|   184357|       197774|\n",
      "|      defencepk|disaster/accident|   182300|       184357|\n",
      "|        rafu007|disaster/accident|   178175|       182300|\n",
      "|starsandstripes|disaster/accident|   169907|       178175|\n",
      "| Militarydotcom|disaster/accident|   155469|       169907|\n",
      "|      WAVY_News|disaster/accident|   143385|       155469|\n",
      "|        48hours|disaster/accident|   129506|       143385|\n",
      "+---------------+-----------------+---------+-------------+\n",
      "only showing top 20 rows\n",
      "\n"
     ]
    }
   ],
   "source": [
    "accounts.select(accounts['twitter handle'],\n",
    "                accounts['category'],\n",
    "                accounts['followers'],\n",
    "                followers_max.alias(\"followers_max\")).show()"
   ]
  },
  {
   "cell_type": "markdown",
   "metadata": {},
   "source": [
    "#### Window followers difference function between ranges"
   ]
  },
  {
   "cell_type": "code",
   "execution_count": 18,
   "metadata": {
    "collapsed": true,
    "jupyter": {
     "outputs_hidden": true
    }
   },
   "outputs": [],
   "source": [
    "windowSpec3 = Window \\\n",
    "              .partitionBy(accounts['category']) \\\n",
    "              .orderBy(accounts['followers'].desc()) "
   ]
  },
  {
   "cell_type": "code",
   "execution_count": 19,
   "metadata": {
    "collapsed": true,
    "jupyter": {
     "outputs_hidden": true
    }
   },
   "outputs": [],
   "source": [
    "followers_difference = \\\n",
    "  (func.max(accounts['followers']).over(windowSpec3) - accounts['followers'])"
   ]
  },
  {
   "cell_type": "code",
   "execution_count": 20,
   "metadata": {},
   "outputs": [
    {
     "name": "stdout",
     "output_type": "stream",
     "text": [
      "+---------------+--------+---------+--------------------+\n",
      "| twitter handle|category|followers|followers_difference|\n",
      "+---------------+--------+---------+--------------------+\n",
      "|IndiaTodayFLASH|    news|   978677|                   0|\n",
      "|          Salon|    news|   976952|                1725|\n",
      "| CapitalFMKenya|    news|   967429|               11248|\n",
      "|CapitalOfficial|    news|   954127|               24550|\n",
      "|      DunyaNews|    news|   950673|               28004|\n",
      "|       NewsHour|    news|   948347|               30330|\n",
      "| chicagotribune|    news|   926799|               51878|\n",
      "|          STcom|    news|   907667|               71010|\n",
      "|           ABC7|    news|   904324|               74353|\n",
      "|GuardianNigeria|    news|   902789|               75888|\n",
      "|      60Minutes|    news|   898224|               80453|\n",
      "|    DailyMirror|    news|   898158|               80519|\n",
      "|  foxandfriends|    news|   896748|               81929|\n",
      "|   BuzzFeedNews|    news|   891313|               87364|\n",
      "|            NME|    news|   885933|               92744|\n",
      "|          NewsX|    news|   869350|              109327|\n",
      "| TheNationalUAE|    news|   854185|              124492|\n",
      "| NBCNightlyNews|    news|   849738|              128939|\n",
      "|            ajc|    news|   843790|              134887|\n",
      "|        SAMAATV|    news|   843254|              135423|\n",
      "+---------------+--------+---------+--------------------+\n",
      "only showing top 20 rows\n",
      "\n"
     ]
    }
   ],
   "source": [
    "accounts.select(\n",
    "    accounts['twitter handle'],\n",
    "    accounts['category'],\n",
    "    accounts['followers'],\n",
    "    followers_difference.alias(\"followers_difference\")).show()"
   ]
  },
  {
   "cell_type": "code",
   "execution_count": null,
   "metadata": {
    "collapsed": true,
    "jupyter": {
     "outputs_hidden": true
    }
   },
   "outputs": [],
   "source": []
  },
  {
   "cell_type": "code",
   "execution_count": null,
   "metadata": {
    "collapsed": true,
    "jupyter": {
     "outputs_hidden": true
    }
   },
   "outputs": [],
   "source": []
  },
  {
   "cell_type": "code",
   "execution_count": null,
   "metadata": {
    "collapsed": true,
    "jupyter": {
     "outputs_hidden": true
    }
   },
   "outputs": [],
   "source": []
  },
  {
   "cell_type": "code",
   "execution_count": null,
   "metadata": {
    "collapsed": true,
    "jupyter": {
     "outputs_hidden": true
    }
   },
   "outputs": [],
   "source": []
  },
  {
   "cell_type": "code",
   "execution_count": null,
   "metadata": {
    "collapsed": true,
    "jupyter": {
     "outputs_hidden": true
    }
   },
   "outputs": [],
   "source": []
  },
  {
   "cell_type": "code",
   "execution_count": null,
   "metadata": {
    "collapsed": true,
    "jupyter": {
     "outputs_hidden": true
    }
   },
   "outputs": [],
   "source": []
  },
  {
   "cell_type": "code",
   "execution_count": null,
   "metadata": {
    "collapsed": true,
    "jupyter": {
     "outputs_hidden": true
    }
   },
   "outputs": [],
   "source": []
  },
  {
   "cell_type": "code",
   "execution_count": null,
   "metadata": {
    "collapsed": true,
    "jupyter": {
     "outputs_hidden": true
    }
   },
   "outputs": [],
   "source": []
  },
  {
   "cell_type": "code",
   "execution_count": null,
   "metadata": {
    "collapsed": true,
    "jupyter": {
     "outputs_hidden": true
    }
   },
   "outputs": [],
   "source": []
  },
  {
   "cell_type": "code",
   "execution_count": null,
   "metadata": {
    "collapsed": true,
    "jupyter": {
     "outputs_hidden": true
    }
   },
   "outputs": [],
   "source": []
  },
  {
   "cell_type": "code",
   "execution_count": null,
   "metadata": {
    "collapsed": true,
    "jupyter": {
     "outputs_hidden": true
    }
   },
   "outputs": [],
   "source": []
  },
  {
   "cell_type": "code",
   "execution_count": null,
   "metadata": {
    "collapsed": true,
    "jupyter": {
     "outputs_hidden": true
    }
   },
   "outputs": [],
   "source": []
  },
  {
   "cell_type": "code",
   "execution_count": null,
   "metadata": {
    "collapsed": true,
    "jupyter": {
     "outputs_hidden": true
    }
   },
   "outputs": [],
   "source": []
  },
  {
   "cell_type": "code",
   "execution_count": null,
   "metadata": {
    "collapsed": true,
    "jupyter": {
     "outputs_hidden": true
    }
   },
   "outputs": [],
   "source": []
  },
  {
   "cell_type": "code",
   "execution_count": null,
   "metadata": {
    "collapsed": true,
    "jupyter": {
     "outputs_hidden": true
    }
   },
   "outputs": [],
   "source": []
  },
  {
   "cell_type": "code",
   "execution_count": null,
   "metadata": {
    "collapsed": true,
    "jupyter": {
     "outputs_hidden": true
    }
   },
   "outputs": [],
   "source": []
  },
  {
   "cell_type": "code",
   "execution_count": null,
   "metadata": {
    "collapsed": true,
    "jupyter": {
     "outputs_hidden": true
    }
   },
   "outputs": [],
   "source": []
  },
  {
   "cell_type": "code",
   "execution_count": null,
   "metadata": {
    "collapsed": true,
    "jupyter": {
     "outputs_hidden": true
    }
   },
   "outputs": [],
   "source": []
  },
  {
   "cell_type": "code",
   "execution_count": null,
   "metadata": {
    "collapsed": true,
    "jupyter": {
     "outputs_hidden": true
    }
   },
   "outputs": [],
   "source": []
  },
  {
   "cell_type": "code",
   "execution_count": null,
   "metadata": {
    "collapsed": true,
    "jupyter": {
     "outputs_hidden": true
    }
   },
   "outputs": [],
   "source": []
  },
  {
   "cell_type": "code",
   "execution_count": null,
   "metadata": {
    "collapsed": true,
    "jupyter": {
     "outputs_hidden": true
    }
   },
   "outputs": [],
   "source": []
  },
  {
   "cell_type": "code",
   "execution_count": null,
   "metadata": {
    "collapsed": true,
    "jupyter": {
     "outputs_hidden": true
    }
   },
   "outputs": [],
   "source": []
  },
  {
   "cell_type": "code",
   "execution_count": null,
   "metadata": {
    "collapsed": true,
    "jupyter": {
     "outputs_hidden": true
    }
   },
   "outputs": [],
   "source": []
  },
  {
   "cell_type": "code",
   "execution_count": null,
   "metadata": {
    "collapsed": true,
    "jupyter": {
     "outputs_hidden": true
    }
   },
   "outputs": [],
   "source": []
  },
  {
   "cell_type": "code",
   "execution_count": null,
   "metadata": {
    "collapsed": true,
    "jupyter": {
     "outputs_hidden": true
    }
   },
   "outputs": [],
   "source": []
  },
  {
   "cell_type": "code",
   "execution_count": null,
   "metadata": {
    "collapsed": true,
    "jupyter": {
     "outputs_hidden": true
    }
   },
   "outputs": [],
   "source": []
  },
  {
   "cell_type": "code",
   "execution_count": null,
   "metadata": {
    "collapsed": true,
    "jupyter": {
     "outputs_hidden": true
    }
   },
   "outputs": [],
   "source": []
  },
  {
   "cell_type": "code",
   "execution_count": null,
   "metadata": {
    "collapsed": true,
    "jupyter": {
     "outputs_hidden": true
    }
   },
   "outputs": [],
   "source": []
  },
  {
   "cell_type": "code",
   "execution_count": null,
   "metadata": {
    "collapsed": true,
    "jupyter": {
     "outputs_hidden": true
    }
   },
   "outputs": [],
   "source": []
  },
  {
   "cell_type": "code",
   "execution_count": null,
   "metadata": {
    "collapsed": true,
    "jupyter": {
     "outputs_hidden": true
    }
   },
   "outputs": [],
   "source": []
  },
  {
   "cell_type": "code",
   "execution_count": null,
   "metadata": {
    "collapsed": true,
    "jupyter": {
     "outputs_hidden": true
    }
   },
   "outputs": [],
   "source": []
  },
  {
   "cell_type": "code",
   "execution_count": null,
   "metadata": {
    "collapsed": true,
    "jupyter": {
     "outputs_hidden": true
    }
   },
   "outputs": [],
   "source": []
  },
  {
   "cell_type": "code",
   "execution_count": null,
   "metadata": {
    "collapsed": true,
    "jupyter": {
     "outputs_hidden": true
    }
   },
   "outputs": [],
   "source": []
  },
  {
   "cell_type": "code",
   "execution_count": null,
   "metadata": {
    "collapsed": true,
    "jupyter": {
     "outputs_hidden": true
    }
   },
   "outputs": [],
   "source": []
  },
  {
   "cell_type": "code",
   "execution_count": null,
   "metadata": {
    "collapsed": true,
    "jupyter": {
     "outputs_hidden": true
    }
   },
   "outputs": [],
   "source": []
  },
  {
   "cell_type": "code",
   "execution_count": null,
   "metadata": {
    "collapsed": true,
    "jupyter": {
     "outputs_hidden": true
    }
   },
   "outputs": [],
   "source": []
  },
  {
   "cell_type": "code",
   "execution_count": null,
   "metadata": {
    "collapsed": true,
    "jupyter": {
     "outputs_hidden": true
    }
   },
   "outputs": [],
   "source": []
  },
  {
   "cell_type": "code",
   "execution_count": null,
   "metadata": {
    "collapsed": true,
    "jupyter": {
     "outputs_hidden": true
    }
   },
   "outputs": [],
   "source": []
  },
  {
   "cell_type": "code",
   "execution_count": null,
   "metadata": {
    "collapsed": true,
    "jupyter": {
     "outputs_hidden": true
    }
   },
   "outputs": [],
   "source": []
  },
  {
   "cell_type": "code",
   "execution_count": null,
   "metadata": {
    "collapsed": true,
    "jupyter": {
     "outputs_hidden": true
    }
   },
   "outputs": [],
   "source": []
  },
  {
   "cell_type": "code",
   "execution_count": null,
   "metadata": {
    "collapsed": true,
    "jupyter": {
     "outputs_hidden": true
    }
   },
   "outputs": [],
   "source": []
  },
  {
   "cell_type": "code",
   "execution_count": null,
   "metadata": {
    "collapsed": true,
    "jupyter": {
     "outputs_hidden": true
    }
   },
   "outputs": [],
   "source": []
  },
  {
   "cell_type": "code",
   "execution_count": null,
   "metadata": {
    "collapsed": true,
    "jupyter": {
     "outputs_hidden": true
    }
   },
   "outputs": [],
   "source": []
  }
 ],
 "metadata": {
  "kernelspec": {
   "display_name": "Python 3 (ipykernel)",
   "language": "python",
   "name": "python3"
  },
  "language_info": {
   "codemirror_mode": {
    "name": "ipython",
    "version": 3
   },
   "file_extension": ".py",
   "mimetype": "text/x-python",
   "name": "python",
   "nbconvert_exporter": "python",
   "pygments_lexer": "ipython3",
   "version": "3.9.7"
  }
 },
 "nbformat": 4,
 "nbformat_minor": 4
}
