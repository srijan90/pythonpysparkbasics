{
 "cells": [
  {
   "cell_type": "code",
   "execution_count": 1,
   "metadata": {
    "tags": []
   },
   "outputs": [],
   "source": [
    "import pyspark"
   ]
  },
  {
   "cell_type": "code",
   "execution_count": 2,
   "metadata": {
    "tags": []
   },
   "outputs": [],
   "source": [
    "from pyspark import SparkContext\n",
    "from pyspark.sql import SQLContext"
   ]
  },
  {
   "cell_type": "code",
   "execution_count": 3,
   "metadata": {},
   "outputs": [
    {
     "name": "stderr",
     "output_type": "stream",
     "text": [
      "Using Spark's default log4j profile: org/apache/spark/log4j-defaults.properties\n",
      "Setting default log level to \"WARN\".\n",
      "To adjust logging level use sc.setLogLevel(newLevel). For SparkR, use setLogLevel(newLevel).\n",
      "21/11/27 03:27:56 WARN NativeCodeLoader: Unable to load native-hadoop library for your platform... using builtin-java classes where applicable\n"
     ]
    },
    {
     "data": {
      "text/html": [
       "\n",
       "        <div>\n",
       "            <p><b>SparkContext</b></p>\n",
       "\n",
       "            <p><a href=\"http://192.168.1.10:4040\">Spark UI</a></p>\n",
       "\n",
       "            <dl>\n",
       "              <dt>Version</dt>\n",
       "                <dd><code>v3.2.0</code></dd>\n",
       "              <dt>Master</dt>\n",
       "                <dd><code>local[*]</code></dd>\n",
       "              <dt>AppName</dt>\n",
       "                <dd><code>pyspark-shell</code></dd>\n",
       "            </dl>\n",
       "        </div>\n",
       "        "
      ],
      "text/plain": [
       "<SparkContext master=local[*] appName=pyspark-shell>"
      ]
     },
     "execution_count": 3,
     "metadata": {},
     "output_type": "execute_result"
    }
   ],
   "source": [
    "sc=SparkContext()\n",
    "sc"
   ]
  },
  {
   "cell_type": "markdown",
   "metadata": {},
   "source": [
    "### Analyzing Baby Names in the United States"
   ]
  },
  {
   "cell_type": "markdown",
   "metadata": {},
   "source": [
    "#### Creating a Spark session\n",
    "Encapsulates SparkContext and the SQLContext within it"
   ]
  },
  {
   "cell_type": "code",
   "execution_count": 4,
   "metadata": {
    "tags": []
   },
   "outputs": [],
   "source": [
    "from pyspark.sql import SparkSession\n",
    "\n",
    "spark = SparkSession \\\n",
    "        .builder \\\n",
    "        .appName(\"Analyzing National Names data\") \\\n",
    "        .getOrCreate()"
   ]
  },
  {
   "cell_type": "markdown",
   "metadata": {},
   "source": [
    "#### Reading external data as a dataframe"
   ]
  },
  {
   "cell_type": "markdown",
   "metadata": {},
   "source": [
    "Source: https://www.kaggle.com/kaggle/us-baby-names <br />\n",
    "Dataset has Id, name, year, gender and it gives information about the first names of babies born in each year from 1880 through 2014"
   ]
  },
  {
   "cell_type": "code",
   "execution_count": 5,
   "metadata": {
    "tags": []
   },
   "outputs": [
    {
     "name": "stderr",
     "output_type": "stream",
     "text": [
      "                                                                                \r"
     ]
    }
   ],
   "source": [
    "data = spark.read\\\n",
    "            .format(\"csv\")\\\n",
    "            .option(\"header\", \"true\")\\\n",
    "            .load(\"../datasets/NationalNames.csv\")"
   ]
  },
  {
   "cell_type": "code",
   "execution_count": 7,
   "metadata": {},
   "outputs": [
    {
     "data": {
      "text/plain": [
       "pyspark.sql.dataframe.DataFrame"
      ]
     },
     "execution_count": 7,
     "metadata": {},
     "output_type": "execute_result"
    },
    {
     "name": "stderr",
     "output_type": "stream",
     "text": [
      "21/11/28 04:33:20 WARN HeartbeatReceiver: Removing executor driver with no recent heartbeats: 1640372 ms exceeds timeout 120000 ms\n",
      "21/11/28 04:33:20 WARN SparkContext: Killing executors is not supported by current scheduler.\n"
     ]
    }
   ],
   "source": [
    "type(data)"
   ]
  },
  {
   "cell_type": "markdown",
   "metadata": {},
   "source": [
    "#### View the schema of the DataFrame\n",
    "The printSchema() method gives us this information"
   ]
  },
  {
   "cell_type": "code",
   "execution_count": 7,
   "metadata": {},
   "outputs": [
    {
     "name": "stdout",
     "output_type": "stream",
     "text": [
      "root\n",
      " |-- Id: string (nullable = true)\n",
      " |-- Name: string (nullable = true)\n",
      " |-- Year: string (nullable = true)\n",
      " |-- Gender: string (nullable = true)\n",
      " |-- Count: string (nullable = true)\n",
      "\n"
     ]
    }
   ],
   "source": [
    "data.printSchema()"
   ]
  },
  {
   "cell_type": "code",
   "execution_count": 8,
   "metadata": {},
   "outputs": [
    {
     "name": "stdout",
     "output_type": "stream",
     "text": [
      "root\n",
      " |-- Id: string (nullable = true)\n",
      " |-- Name: string (nullable = true)\n",
      " |-- Year: integer (nullable = true)\n",
      " |-- Gender: string (nullable = true)\n",
      " |-- Count: long (nullable = true)\n",
      "\n"
     ]
    }
   ],
   "source": [
    "data = data.withColumn(\"Year\", \n",
    "                       data[\"Year\"].cast(\"int\"))\n",
    "\n",
    "data = data.withColumn(\"Count\", \n",
    "                       data[\"Count\"].cast(\"long\"))\n",
    "\n",
    "data.printSchema()"
   ]
  },
  {
   "cell_type": "markdown",
   "metadata": {},
   "source": [
    "#### The dataset has 1.8M rows"
   ]
  },
  {
   "cell_type": "code",
   "execution_count": 9,
   "metadata": {},
   "outputs": [
    {
     "data": {
      "text/plain": [
       "1825433"
      ]
     },
     "execution_count": 9,
     "metadata": {},
     "output_type": "execute_result"
    }
   ],
   "source": [
    "data.count()"
   ]
  },
  {
   "cell_type": "markdown",
   "metadata": {},
   "source": [
    "#### The limit() operation\n",
    "This allows us to limit the size of the DataFrame to the top n rows, where n is passed as an argument to the function"
   ]
  },
  {
   "cell_type": "code",
   "execution_count": 10,
   "metadata": {},
   "outputs": [
    {
     "name": "stdout",
     "output_type": "stream",
     "text": [
      "+---+---------+----+------+-----+\n",
      "| Id|     Name|Year|Gender|Count|\n",
      "+---+---------+----+------+-----+\n",
      "|  1|     Mary|1880|     F| 7065|\n",
      "|  2|     Anna|1880|     F| 2604|\n",
      "|  3|     Emma|1880|     F| 2003|\n",
      "|  4|Elizabeth|1880|     F| 1939|\n",
      "|  5|   Minnie|1880|     F| 1746|\n",
      "+---+---------+----+------+-----+\n",
      "\n"
     ]
    }
   ],
   "source": [
    "data.limit(5).show()"
   ]
  },
  {
   "cell_type": "markdown",
   "metadata": {},
   "source": [
    "#### Cleaning data\n",
    "* Drop rows which do not have valid values (using dropna())\n",
    "* Drop columns which we do not use in our analysis (using the drop() function)"
   ]
  },
  {
   "cell_type": "code",
   "execution_count": 11,
   "metadata": {},
   "outputs": [
    {
     "data": {
      "text/plain": [
       "DataFrame[Id: string, Name: string, Year: int, Gender: string, Count: bigint]"
      ]
     },
     "execution_count": 11,
     "metadata": {},
     "output_type": "execute_result"
    }
   ],
   "source": [
    "data.dropna()"
   ]
  },
  {
   "cell_type": "markdown",
   "metadata": {},
   "source": [
    "#### Our dataset was already clean\n",
    "There were no rows containing invalid/missing data"
   ]
  },
  {
   "cell_type": "code",
   "execution_count": 12,
   "metadata": {},
   "outputs": [
    {
     "data": {
      "text/plain": [
       "1825433"
      ]
     },
     "execution_count": 12,
     "metadata": {},
     "output_type": "execute_result"
    }
   ],
   "source": [
    "data.count()"
   ]
  },
  {
   "cell_type": "markdown",
   "metadata": {},
   "source": [
    "#### Drop the Id column \n",
    "This is meaningless for our analysis"
   ]
  },
  {
   "cell_type": "code",
   "execution_count": 13,
   "metadata": {},
   "outputs": [
    {
     "name": "stdout",
     "output_type": "stream",
     "text": [
      "+---------+----+------+-----+\n",
      "|     Name|Year|Gender|Count|\n",
      "+---------+----+------+-----+\n",
      "|     Mary|1880|     F| 7065|\n",
      "|     Anna|1880|     F| 2604|\n",
      "|     Emma|1880|     F| 2003|\n",
      "|Elizabeth|1880|     F| 1939|\n",
      "|   Minnie|1880|     F| 1746|\n",
      "+---------+----+------+-----+\n",
      "only showing top 5 rows\n",
      "\n"
     ]
    }
   ],
   "source": [
    "data = data.drop(\"Id\")\n",
    "\n",
    "data.show(5)"
   ]
  },
  {
   "cell_type": "markdown",
   "metadata": {},
   "source": [
    "#### Distinct names in the dataset\n",
    "Use a combination of the select and distinct operations"
   ]
  },
  {
   "cell_type": "code",
   "execution_count": 14,
   "metadata": {},
   "outputs": [
    {
     "name": "stdout",
     "output_type": "stream",
     "text": [
      "+--------+\n",
      "|    Name|\n",
      "+--------+\n",
      "|    Nell|\n",
      "|   Leola|\n",
      "| Susanna|\n",
      "|  Easter|\n",
      "|    Faye|\n",
      "|    Reta|\n",
      "|   Abner|\n",
      "|Laurence|\n",
      "| Ephriam|\n",
      "|   Tyler|\n",
      "|  Persis|\n",
      "|Thurston|\n",
      "|   Mella|\n",
      "| Rosendo|\n",
      "|Fredonia|\n",
      "|  Luddie|\n",
      "|   Monie|\n",
      "|    Gola|\n",
      "|  Geneve|\n",
      "| Manilla|\n",
      "+--------+\n",
      "only showing top 20 rows\n",
      "\n"
     ]
    }
   ],
   "source": [
    "distinct_names = data.select('Name')\\\n",
    "                     .distinct()\n",
    "        \n",
    "distinct_names.show()"
   ]
  },
  {
   "cell_type": "code",
   "execution_count": 15,
   "metadata": {},
   "outputs": [
    {
     "data": {
      "text/plain": [
       "93889"
      ]
     },
     "execution_count": 15,
     "metadata": {},
     "output_type": "execute_result"
    }
   ],
   "source": [
    "distinct_names.count()"
   ]
  },
  {
   "cell_type": "markdown",
   "metadata": {},
   "source": [
    "#### Return specific rows based on conditions\n",
    "Use the filter operation to specify conditions for the inclusion of rows in the result. This is similar to a WHERE clause in SQL. "
   ]
  },
  {
   "cell_type": "code",
   "execution_count": 24,
   "metadata": {},
   "outputs": [
    {
     "name": "stdout",
     "output_type": "stream",
     "text": [
      "+----+----+------+-----+\n",
      "|Name|Year|Gender|Count|\n",
      "+----+----+------+-----+\n",
      "|Mary|1880|     F| 7065|\n",
      "|Mary|1880|     M|   27|\n",
      "|Mary|1881|     F| 6919|\n",
      "|Mary|1881|     M|   29|\n",
      "|Mary|1882|     F| 8148|\n",
      "|Mary|1882|     M|   30|\n",
      "|Mary|1883|     F| 8012|\n",
      "|Mary|1883|     M|   32|\n",
      "|Mary|1884|     F| 9217|\n",
      "|Mary|1884|     M|   36|\n",
      "|Mary|1885|     F| 9128|\n",
      "|Mary|1885|     M|   38|\n",
      "|Mary|1886|     F| 9890|\n",
      "|Mary|1886|     M|   32|\n",
      "|Mary|1887|     F| 9888|\n",
      "|Mary|1887|     M|   47|\n",
      "|Mary|1888|     F|11754|\n",
      "|Mary|1888|     M|   50|\n",
      "|Mary|1889|     F|11648|\n",
      "|Mary|1889|     M|   41|\n",
      "|Mary|1890|     F|12078|\n",
      "|Mary|1890|     M|   35|\n",
      "|Mary|1891|     F|11703|\n",
      "|Mary|1891|     M|   39|\n",
      "|Mary|1892|     F|13173|\n",
      "|Mary|1892|     M|   50|\n",
      "|Mary|1893|     F|12784|\n",
      "|Mary|1893|     M|   55|\n",
      "|Mary|1894|     F|13151|\n",
      "|Mary|1894|     M|   48|\n",
      "|Mary|1895|     F|13446|\n",
      "|Mary|1895|     M|   47|\n",
      "|Mary|1896|     F|13811|\n",
      "|Mary|1896|     M|   57|\n",
      "|Mary|1897|     F|13413|\n",
      "|Mary|1897|     M|   63|\n",
      "|Mary|1898|     F|14406|\n",
      "|Mary|1898|     M|   50|\n",
      "|Mary|1899|     F|13172|\n",
      "|Mary|1899|     M|   50|\n",
      "|Mary|1900|     F|16707|\n",
      "|Mary|1900|     M|   75|\n",
      "|Mary|1901|     F|13136|\n",
      "|Mary|1901|     M|   58|\n",
      "|Mary|1902|     F|14486|\n",
      "|Mary|1902|     M|   56|\n",
      "|Mary|1903|     F|14275|\n",
      "|Mary|1903|     M|   63|\n",
      "|Mary|1904|     F|14962|\n",
      "|Mary|1904|     M|   58|\n",
      "|Mary|1905|     F|16067|\n",
      "|Mary|1905|     M|   68|\n",
      "|Mary|1906|     F|16370|\n",
      "|Mary|1906|     M|   76|\n",
      "|Mary|1907|     F|17580|\n",
      "|Mary|1907|     M|   70|\n",
      "|Mary|1908|     F|18666|\n",
      "|Mary|1908|     M|   79|\n",
      "|Mary|1909|     F|19259|\n",
      "|Mary|1909|     M|   80|\n",
      "|Mary|1910|     F|22848|\n",
      "|Mary|1910|     M|   99|\n",
      "|Mary|1911|     F|24390|\n",
      "|Mary|1911|     M|   98|\n",
      "|Mary|1912|     F|32303|\n",
      "|Mary|1912|     M|  118|\n",
      "|Mary|1913|     F|36641|\n",
      "|Mary|1913|     M|  126|\n",
      "|Mary|1914|     F|45344|\n",
      "|Mary|1914|     M|  127|\n",
      "|Mary|1915|     F|58187|\n",
      "|Mary|1915|     M|  159|\n",
      "|Mary|1916|     F|61437|\n",
      "|Mary|1916|     M|  164|\n",
      "|Mary|1917|     F|64280|\n",
      "|Mary|1917|     M|  159|\n",
      "|Mary|1918|     F|67370|\n",
      "|Mary|1918|     M|  169|\n",
      "|Mary|1919|     F|65840|\n",
      "|Mary|1919|     M|  155|\n",
      "|Mary|1920|     F|70976|\n",
      "|Mary|1920|     M|  195|\n",
      "|Mary|1921|     F|73985|\n",
      "|Mary|1921|     M|  187|\n",
      "|Mary|1922|     F|72171|\n",
      "|Mary|1922|     M|  186|\n",
      "|Mary|1923|     F|71634|\n",
      "|Mary|1923|     M|  203|\n",
      "|Mary|1924|     F|73527|\n",
      "|Mary|1924|     M|  223|\n",
      "|Mary|1925|     F|70601|\n",
      "|Mary|1925|     M|  261|\n",
      "|Mary|1926|     F|67823|\n",
      "|Mary|1926|     M|  272|\n",
      "|Mary|1927|     F|70632|\n",
      "|Mary|1927|     M|  282|\n",
      "|Mary|1928|     F|66866|\n",
      "|Mary|1928|     M|  294|\n",
      "|Mary|1929|     F|63508|\n",
      "|Mary|1929|     M|  327|\n",
      "|Mary|1930|     F|64134|\n",
      "|Mary|1930|     M|  340|\n",
      "|Mary|1931|     F|60293|\n",
      "|Mary|1931|     M|  326|\n",
      "|Mary|1932|     F|59871|\n",
      "|Mary|1932|     M|  330|\n",
      "|Mary|1933|     F|55493|\n",
      "|Mary|1933|     M|  316|\n",
      "|Mary|1934|     F|56918|\n",
      "|Mary|1934|     M|  303|\n",
      "|Mary|1935|     F|55067|\n",
      "|Mary|1935|     M|  276|\n",
      "|Mary|1936|     F|54363|\n",
      "|Mary|1936|     M|  293|\n",
      "|Mary|1937|     F|55640|\n",
      "|Mary|1937|     M|  288|\n",
      "|Mary|1938|     F|56211|\n",
      "|Mary|1938|     M|  284|\n",
      "|Mary|1939|     F|54900|\n",
      "|Mary|1939|     M|  272|\n",
      "|Mary|1940|     F|56195|\n",
      "|Mary|1940|     M|  303|\n",
      "|Mary|1941|     F|58031|\n",
      "|Mary|1941|     M|  315|\n",
      "|Mary|1942|     F|63238|\n",
      "|Mary|1942|     M|  276|\n",
      "|Mary|1943|     F|66171|\n",
      "|Mary|1943|     M|  254|\n",
      "|Mary|1944|     F|62463|\n",
      "|Mary|1944|     M|  252|\n",
      "|Mary|1945|     F|59284|\n",
      "|Mary|1945|     M|  198|\n",
      "|Mary|1946|     F|67463|\n",
      "|Mary|1946|     M|  186|\n",
      "|Mary|1947|     F|71684|\n",
      "|Mary|1947|     M|  184|\n",
      "|Mary|1948|     F|68595|\n",
      "|Mary|1948|     M|  164|\n",
      "|Mary|1949|     F|66862|\n",
      "|Mary|1949|     M|  170|\n",
      "|Mary|1950|     F|65460|\n",
      "|Mary|1950|     M|  119|\n",
      "|Mary|1951|     F|65689|\n",
      "|Mary|1951|     M|  161|\n",
      "|Mary|1952|     F|65681|\n",
      "|Mary|1952|     M|  158|\n",
      "|Mary|1953|     F|64337|\n",
      "|Mary|1953|     M|  146|\n",
      "|Mary|1954|     F|68001|\n",
      "|Mary|1954|     M|  169|\n",
      "|Mary|1955|     F|63160|\n",
      "|Mary|1955|     M|  149|\n",
      "|Mary|1956|     F|61751|\n",
      "|Mary|1956|     M|  143|\n",
      "|Mary|1957|     F|61096|\n",
      "|Mary|1957|     M|  184|\n",
      "|Mary|1958|     F|55850|\n",
      "|Mary|1958|     M|  141|\n",
      "|Mary|1959|     F|54473|\n",
      "|Mary|1959|     M|  170|\n",
      "|Mary|1960|     F|51479|\n",
      "|Mary|1960|     M|  169|\n",
      "|Mary|1961|     F|47667|\n",
      "|Mary|1961|     M|  167|\n",
      "|Mary|1962|     F|43497|\n",
      "|Mary|1962|     M|  158|\n",
      "|Mary|1963|     F|41548|\n",
      "|Mary|1963|     M|  136|\n",
      "|Mary|1964|     F|40986|\n",
      "|Mary|1964|     M|  134|\n",
      "|Mary|1965|     F|34270|\n",
      "|Mary|1965|     M|  136|\n",
      "|Mary|1966|     F|28884|\n",
      "|Mary|1966|     M|  108|\n",
      "|Mary|1967|     F|25314|\n",
      "|Mary|1967|     M|  127|\n",
      "|Mary|1968|     F|21722|\n",
      "|Mary|1968|     M|  101|\n",
      "|Mary|1969|     F|19851|\n",
      "|Mary|1969|     M|  108|\n",
      "|Mary|1970|     F|19201|\n",
      "|Mary|1970|     M|   99|\n",
      "|Mary|1971|     F|16698|\n",
      "|Mary|1971|     M|   86|\n",
      "|Mary|1972|     F|13762|\n",
      "|Mary|1972|     M|   74|\n",
      "|Mary|1973|     F|12321|\n",
      "|Mary|1973|     M|   54|\n",
      "|Mary|1974|     F|11750|\n",
      "|Mary|1974|     M|   61|\n",
      "|Mary|1975|     F|10964|\n",
      "|Mary|1975|     M|   66|\n",
      "|Mary|1976|     F|10326|\n",
      "|Mary|1976|     M|   62|\n",
      "|Mary|1977|     F|10661|\n",
      "|Mary|1977|     M|   52|\n",
      "|Mary|1978|     F|10047|\n",
      "|Mary|1978|     M|   61|\n",
      "|Mary|1979|     F|10554|\n",
      "|Mary|1979|     M|   65|\n",
      "+----+----+------+-----+\n",
      "only showing top 200 rows\n",
      "\n"
     ]
    }
   ],
   "source": [
    "mary_data = data.filter(data['name'] == \"Mary\")\n",
    "\n",
    "mary_data.show(200)"
   ]
  },
  {
   "cell_type": "code",
   "execution_count": 25,
   "metadata": {},
   "outputs": [
    {
     "data": {
      "text/plain": [
       "265"
      ]
     },
     "execution_count": 25,
     "metadata": {},
     "output_type": "execute_result"
    }
   ],
   "source": [
    "mary_data.count()"
   ]
  },
  {
   "cell_type": "markdown",
   "metadata": {},
   "source": [
    "#### The isin() operation\n",
    "If your condition involves a check in a list of values, the isin operation can be used within a filter. This is similar to an IN clause in SQL."
   ]
  },
  {
   "cell_type": "code",
   "execution_count": 18,
   "metadata": {
    "collapsed": true,
    "jupyter": {
     "outputs_hidden": true
    }
   },
   "outputs": [],
   "source": [
    "data_1880_1881 = data.filter(data['Year'].isin([\"1880\", \"1881\"]))"
   ]
  },
  {
   "cell_type": "markdown",
   "metadata": {},
   "source": [
    "#### The returned DataFrame is still large"
   ]
  },
  {
   "cell_type": "code",
   "execution_count": 19,
   "metadata": {},
   "outputs": [
    {
     "data": {
      "text/plain": [
       "3935"
      ]
     },
     "execution_count": 19,
     "metadata": {},
     "output_type": "execute_result"
    }
   ],
   "source": [
    "data_1880_1881.count()"
   ]
  },
  {
   "cell_type": "markdown",
   "metadata": {},
   "source": [
    "#### Viewing a sample of the DataFrame\n",
    "The sample function allows us to view a specified fraction of the data"
   ]
  },
  {
   "cell_type": "code",
   "execution_count": 20,
   "metadata": {},
   "outputs": [
    {
     "name": "stdout",
     "output_type": "stream",
     "text": [
      "+-------+----+------+-----+\n",
      "|   Name|Year|Gender|Count|\n",
      "+-------+----+------+-----+\n",
      "|    Zoa|1880|     F|    8|\n",
      "| Luther|1880|     M|  260|\n",
      "|   Clay|1880|     M|   18|\n",
      "|   Maud|1881|     F|  328|\n",
      "|Rudolph|1881|     M|   62|\n",
      "|Solomon|1881|     M|   49|\n",
      "| Miller|1881|     M|   11|\n",
      "|Garland|1881|     M|    7|\n",
      "+-------+----+------+-----+\n",
      "\n"
     ]
    }
   ],
   "source": [
    "data_1880_1881.sample(fraction=0.002).show()"
   ]
  },
  {
   "cell_type": "code",
   "execution_count": 21,
   "metadata": {},
   "outputs": [
    {
     "name": "stdout",
     "output_type": "stream",
     "text": [
      "+---------+----+------+-----+\n",
      "|     Name|Year|Gender|Count|\n",
      "+---------+----+------+-----+\n",
      "|    Meena|2010|     F|   37|\n",
      "|  Deziyah|2010|     F|   26|\n",
      "|    Javia|2010|     F|    6|\n",
      "|   Gitzel|2010|     F|    5|\n",
      "|     Faiz|2010|     M|   17|\n",
      "|  Armonie|2010|     M|   13|\n",
      "|   Lennon|2011|     F|  113|\n",
      "|Josaphina|2011|     F|    6|\n",
      "|    Keane|2011|     M|   44|\n",
      "|      Jeb|2011|     M|   18|\n",
      "|   Amorie|2011|     M|    5|\n",
      "|     Zyen|2012|     M|    6|\n",
      "|    Kayle|2013|     F|   63|\n",
      "|   Lyanna|2014|     F|   58|\n",
      "|    Noeli|2014|     F|   17|\n",
      "|     Jaye|2014|     F|   13|\n",
      "+---------+----+------+-----+\n",
      "\n"
     ]
    }
   ],
   "source": [
    "data_2010_onwards = data.filter(data['Year'] >= 2010 )\n",
    "\n",
    "data_2010_onwards.sample(fraction=0.0001).show()"
   ]
  },
  {
   "cell_type": "markdown",
   "metadata": {},
   "source": [
    "#### No of times each name has appeared for each gender\n",
    "The groupBy operation is used along with the count() function"
   ]
  },
  {
   "cell_type": "code",
   "execution_count": 22,
   "metadata": {},
   "outputs": [
    {
     "name": "stdout",
     "output_type": "stream",
     "text": [
      "+---------+------+-----+\n",
      "|     Name|Gender|count|\n",
      "+---------+------+-----+\n",
      "|Elizabeth|     F|  135|\n",
      "|   Bertha|     F|  135|\n",
      "|   Sophia|     F|  135|\n",
      "|  Johanna|     F|  135|\n",
      "|  Mabelle|     F|   74|\n",
      "+---------+------+-----+\n",
      "only showing top 5 rows\n",
      "\n"
     ]
    }
   ],
   "source": [
    "name_count = data.groupBy(['Name', 'Gender'])\\\n",
    "                 .count()\n",
    "    \n",
    "name_count.show(5)"
   ]
  },
  {
   "cell_type": "markdown",
   "metadata": {},
   "source": [
    "#### Specify aggegation operation for a column\n",
    "Columns which are not included in the groupBy can be aggregated based on a function. Options include \"sum\", \"max\", \"min\", \"avg\".\n",
    "\n",
    "Here we sum up the Count column to get the total number of people born with a specific name for each gender."
   ]
  },
  {
   "cell_type": "code",
   "execution_count": 23,
   "metadata": {},
   "outputs": [
    {
     "name": "stdout",
     "output_type": "stream",
     "text": [
      "+---------+------+----------+\n",
      "|     Name|Gender|sum(Count)|\n",
      "+---------+------+----------+\n",
      "|Elizabeth|     F|   1601128|\n",
      "|   Bertha|     F|    207508|\n",
      "|   Sophia|     F|    287379|\n",
      "|  Johanna|     F|     49180|\n",
      "|  Mabelle|     F|      2488|\n",
      "+---------+------+----------+\n",
      "only showing top 5 rows\n",
      "\n"
     ]
    }
   ],
   "source": [
    "name_count = data.groupBy(['Name', 'Gender'])\\\n",
    "                 .agg({\"Count\": \"sum\"})\n",
    "\n",
    "name_count.show(5)"
   ]
  },
  {
   "cell_type": "markdown",
   "metadata": {},
   "source": [
    "#### Rename the aggregated column"
   ]
  },
  {
   "cell_type": "code",
   "execution_count": 24,
   "metadata": {},
   "outputs": [
    {
     "name": "stdout",
     "output_type": "stream",
     "text": [
      "+---------+------+----------+\n",
      "|     Name|Gender|TotalCount|\n",
      "+---------+------+----------+\n",
      "|Elizabeth|     F|   1601128|\n",
      "|   Bertha|     F|    207508|\n",
      "|   Sophia|     F|    287379|\n",
      "|  Johanna|     F|     49180|\n",
      "|  Mabelle|     F|      2488|\n",
      "+---------+------+----------+\n",
      "only showing top 5 rows\n",
      "\n"
     ]
    }
   ],
   "source": [
    "name_count = data.groupBy(['Name', 'Gender'])\\\n",
    "                 .agg({\"Count\":\"sum\"})\\\n",
    "                 .withColumnRenamed(\"sum(Count)\",\"TotalCount\")\n",
    "\n",
    "name_count.show(5)"
   ]
  },
  {
   "cell_type": "markdown",
   "metadata": {},
   "source": [
    "#### Total count of individuals\n",
    "We can get it by summing the counts in the aggregated DataFrame"
   ]
  },
  {
   "cell_type": "code",
   "execution_count": 25,
   "metadata": {},
   "outputs": [
    {
     "name": "stdout",
     "output_type": "stream",
     "text": [
      "+---------------+\n",
      "|sum(TotalCount)|\n",
      "+---------------+\n",
      "|      337135426|\n",
      "+---------------+\n",
      "\n"
     ]
    }
   ],
   "source": [
    "grand_total = name_count.agg({\"TotalCount\":\"sum\"})\n",
    "\n",
    "grand_total.show()"
   ]
  },
  {
   "cell_type": "markdown",
   "metadata": {},
   "source": [
    "#### The same count obtained from the original data"
   ]
  },
  {
   "cell_type": "code",
   "execution_count": 26,
   "metadata": {},
   "outputs": [
    {
     "name": "stdout",
     "output_type": "stream",
     "text": [
      "+----------+\n",
      "|sum(Count)|\n",
      "+----------+\n",
      "| 337135426|\n",
      "+----------+\n",
      "\n"
     ]
    }
   ],
   "source": [
    "grand_total = data.agg({\"Count\":\"sum\"})\n",
    "\n",
    "grand_total.show()"
   ]
  },
  {
   "cell_type": "markdown",
   "metadata": {},
   "source": [
    "#### Retrieve the contents of the count\n",
    "Rather than a DataFrame, we get the actual value of the count"
   ]
  },
  {
   "cell_type": "code",
   "execution_count": 27,
   "metadata": {},
   "outputs": [
    {
     "data": {
      "text/plain": [
       "337135426"
      ]
     },
     "execution_count": 27,
     "metadata": {},
     "output_type": "execute_result"
    }
   ],
   "source": [
    "total_num = grand_total.collect()[0][0]\n",
    "total_num"
   ]
  },
  {
   "cell_type": "markdown",
   "metadata": {},
   "source": [
    "#### A new column which contains the % contribution for each {name,gender} in the data\n",
    "We import the func func object from pyspark.sql.functions which provides a lot of commonly used functions. We will use the round() function to perform a rounding operation"
   ]
  },
  {
   "cell_type": "code",
   "execution_count": 28,
   "metadata": {
    "collapsed": true,
    "jupyter": {
     "outputs_hidden": true
    }
   },
   "outputs": [],
   "source": [
    "import pyspark.sql.functions as func"
   ]
  },
  {
   "cell_type": "markdown",
   "metadata": {},
   "source": [
    "#### Create a new column in the DataFrame to display the percentage contribution\n",
    "The value appearing in the column divides the TotalCount of the {name,gender} combination by the total number of people in our dataset "
   ]
  },
  {
   "cell_type": "code",
   "execution_count": 29,
   "metadata": {},
   "outputs": [
    {
     "name": "stdout",
     "output_type": "stream",
     "text": [
      "root\n",
      " |-- Name: string (nullable = true)\n",
      " |-- Gender: string (nullable = true)\n",
      " |-- TotalCount: long (nullable = true)\n",
      " |-- PercentContribution: double (nullable = true)\n",
      "\n"
     ]
    }
   ],
   "source": [
    "name_percent = name_count.withColumn(\n",
    "        \"PercentContribution\",\n",
    "        func.round(name_count.TotalCount / total_num * 100, 2))\n",
    "\n",
    "name_percent.printSchema()"
   ]
  },
  {
   "cell_type": "markdown",
   "metadata": {},
   "source": [
    "#### Ordering the data\n",
    "We use the desc() function to order the data by descending order of TotalCount"
   ]
  },
  {
   "cell_type": "code",
   "execution_count": 30,
   "metadata": {},
   "outputs": [
    {
     "name": "stdout",
     "output_type": "stream",
     "text": [
      "+-------+------+----------+-------------------+\n",
      "|   Name|Gender|TotalCount|PercentContribution|\n",
      "+-------+------+----------+-------------------+\n",
      "|  James|     M|   5105919|               1.51|\n",
      "|   John|     M|   5084943|               1.51|\n",
      "| Robert|     M|   4796695|               1.42|\n",
      "|Michael|     M|   4309198|               1.28|\n",
      "|   Mary|     F|   4115282|               1.22|\n",
      "|William|     M|   4055473|                1.2|\n",
      "|  David|     M|   3577704|               1.06|\n",
      "| Joseph|     M|   2570095|               0.76|\n",
      "|Richard|     M|   2555330|               0.76|\n",
      "|Charles|     M|   2364332|                0.7|\n",
      "+-------+------+----------+-------------------+\n",
      "only showing top 10 rows\n",
      "\n"
     ]
    }
   ],
   "source": [
    "name_percent.orderBy(name_percent[2].desc())\\\n",
    "            .show(10)"
   ]
  },
  {
   "cell_type": "markdown",
   "metadata": {},
   "source": [
    "#### Performing multiple operations\n",
    "How many male and female names does our dataset contain from 1880? To get this info we perform  a number of operations:\n",
    "* filter the data to only include information for 1880\n",
    "* group by Gender to have one line item for each gender\n",
    "* aggregate the Count column to get the total count for each gender\n",
    "* rename the aggregated column to TotalCount"
   ]
  },
  {
   "cell_type": "code",
   "execution_count": 31,
   "metadata": {},
   "outputs": [
    {
     "data": {
      "text/plain": [
       "DataFrame[Gender: string, TotalCount: bigint]"
      ]
     },
     "execution_count": 31,
     "metadata": {},
     "output_type": "execute_result"
    }
   ],
   "source": [
    "count_gender = data.filter(data['Year'] == 1880)\\\n",
    "                   .groupBy('Gender')\\\n",
    "                   .agg({\"Count\":\"sum\"})\\\n",
    "                   .withColumnRenamed(\"sum(Count)\",\"TotalCount\")\n",
    "            \n",
    "count_gender"
   ]
  },
  {
   "cell_type": "code",
   "execution_count": 32,
   "metadata": {},
   "outputs": [
    {
     "name": "stdout",
     "output_type": "stream",
     "text": [
      "+------+----------+\n",
      "|Gender|TotalCount|\n",
      "+------+----------+\n",
      "|     F|     90993|\n",
      "|     M|    110491|\n",
      "+------+----------+\n",
      "\n"
     ]
    }
   ],
   "source": [
    "count_gender.show()"
   ]
  },
  {
   "cell_type": "markdown",
   "metadata": {},
   "source": [
    "#### min and max count values"
   ]
  },
  {
   "cell_type": "code",
   "execution_count": 33,
   "metadata": {},
   "outputs": [
    {
     "name": "stdout",
     "output_type": "stream",
     "text": [
      "root\n",
      " |-- Name: string (nullable = true)\n",
      " |-- Year: integer (nullable = true)\n",
      " |-- Gender: string (nullable = true)\n",
      " |-- Count: long (nullable = true)\n",
      "\n"
     ]
    }
   ],
   "source": [
    "data.printSchema()"
   ]
  },
  {
   "cell_type": "code",
   "execution_count": 34,
   "metadata": {},
   "outputs": [
    {
     "name": "stdout",
     "output_type": "stream",
     "text": [
      "+----------+\n",
      "|min(Count)|\n",
      "+----------+\n",
      "|         5|\n",
      "+----------+\n",
      "\n"
     ]
    }
   ],
   "source": [
    "data.agg({'Count':'min'}).show()"
   ]
  },
  {
   "cell_type": "code",
   "execution_count": 35,
   "metadata": {},
   "outputs": [
    {
     "name": "stdout",
     "output_type": "stream",
     "text": [
      "+----------+\n",
      "|max(Count)|\n",
      "+----------+\n",
      "|     99680|\n",
      "+----------+\n",
      "\n"
     ]
    }
   ],
   "source": [
    "data.agg({'Count':'max'}).show()"
   ]
  },
  {
   "cell_type": "markdown",
   "metadata": {},
   "source": [
    "#### The describe() function summarizes each column\n",
    "This is especially useful for numberic columns where a summary of the distribution is obtained"
   ]
  },
  {
   "cell_type": "code",
   "execution_count": 36,
   "metadata": {},
   "outputs": [
    {
     "name": "stdout",
     "output_type": "stream",
     "text": [
      "+-------+--------+------------------+-------+------------------+\n",
      "|summary|    Name|              Year| Gender|             Count|\n",
      "+-------+--------+------------------+-------+------------------+\n",
      "|  count| 1825433|           1825433|1825433|           1825433|\n",
      "|   mean|Infinity|1972.6197833609888|   null|184.68792116719703|\n",
      "| stddev|     NaN| 33.52891233759197|   null|1566.7109787190273|\n",
      "|    min|   Aaban|              1880|      F|                 5|\n",
      "|    max|   Zzyzx|              2014|      M|             99680|\n",
      "+-------+--------+------------------+-------+------------------+\n",
      "\n"
     ]
    }
   ],
   "source": [
    "data.describe().show()"
   ]
  },
  {
   "cell_type": "markdown",
   "metadata": {},
   "source": [
    "#### Which was the name that was used 99,680 times in a year?\n",
    "The name Linda was really popular in the late 1940s while Michael seems the name of choice in the 1950s."
   ]
  },
  {
   "cell_type": "code",
   "execution_count": 37,
   "metadata": {},
   "outputs": [
    {
     "name": "stdout",
     "output_type": "stream",
     "text": [
      "+-------+----+------+-----+\n",
      "|   Name|Year|Gender|Count|\n",
      "+-------+----+------+-----+\n",
      "|  Linda|1947|     F|99680|\n",
      "|  Linda|1948|     F|96205|\n",
      "|  James|1947|     M|94755|\n",
      "|Michael|1957|     M|92709|\n",
      "| Robert|1947|     M|91642|\n",
      "|  Linda|1949|     F|91010|\n",
      "|Michael|1956|     M|90633|\n",
      "|Michael|1958|     M|90519|\n",
      "|  James|1948|     M|88596|\n",
      "|Michael|1954|     M|88485|\n",
      "|   John|1947|     M|88318|\n",
      "|Michael|1955|     M|88283|\n",
      "|  James|1946|     M|87425|\n",
      "|  James|1951|     M|87175|\n",
      "|  James|1952|     M|87083|\n",
      "|Michael|1961|     M|86916|\n",
      "|  James|1949|     M|86856|\n",
      "| Robert|1952|     M|86572|\n",
      "| Robert|1951|     M|86327|\n",
      "|  James|1954|     M|86277|\n",
      "+-------+----+------+-----+\n",
      "only showing top 20 rows\n",
      "\n"
     ]
    }
   ],
   "source": [
    "data.orderBy(data['Count'].desc()).show()"
   ]
  },
  {
   "cell_type": "markdown",
   "metadata": {},
   "source": [
    "#### Visualizing the data"
   ]
  },
  {
   "cell_type": "code",
   "execution_count": 38,
   "metadata": {
    "collapsed": true,
    "jupyter": {
     "outputs_hidden": true
    }
   },
   "outputs": [],
   "source": [
    "%matplotlib inline\n",
    "import matplotlib.pyplot as plt\n",
    "plt.style.use('ggplot')"
   ]
  },
  {
   "cell_type": "markdown",
   "metadata": {},
   "source": [
    "#### Define a function to display data\n",
    "* function takes in a name and a year and produces a bar graph of the use of the name since the given year\n",
    "* we use Matplotlib to create a figure\n",
    "* the plot is a bar graph showing the year and the frequency of the name in the year\n",
    "* we set a title for the plot and also label and format the axes"
   ]
  },
  {
   "cell_type": "code",
   "execution_count": 39,
   "metadata": {
    "collapsed": true,
    "jupyter": {
     "outputs_hidden": true
    }
   },
   "outputs": [],
   "source": [
    "def describe_year(name, year):\n",
    "\n",
    "    yearly_details = data.filter((data.Name == name) & (data.Year >= year))\\\n",
    "                         .groupBy('Year')\\\n",
    "                         .agg({'Count':'sum'})\\\n",
    "                         .withColumnRenamed(\"sum(Count)\",\"TotalCount\")\\\n",
    "                         .sort(\"Year\")\n",
    "\n",
    "    \n",
    "    name_list = [x[0] for x in yearly_details.toLocalIterator()]\n",
    "    count_list = [x[1] for x in yearly_details.toLocalIterator()]\n",
    "  \n",
    "    plt.figure(figsize=(12, 6)) \n",
    "    plt.bar(name_list, count_list,color='royalblue')\n",
    "    \n",
    "    plt.title('Name: ' + name, fontsize=15)\n",
    "    plt.xlabel('Year', fontsize=12, color='blue')\n",
    "    plt.ylabel('Count', fontsize=12,color='blue')\n",
    "\n",
    "    plt.xticks(rotation=90, fontsize=10)\n",
    "    plt.yticks(fontsize=10)\n",
    "    plt.autoscale()\n",
    "    plt.show()"
   ]
  },
  {
   "cell_type": "markdown",
   "metadata": {},
   "source": [
    "#### How often was the name Julianne used for children since 2001?"
   ]
  },
  {
   "cell_type": "code",
   "execution_count": 40,
   "metadata": {},
   "outputs": [
    {
     "data": {
      "image/png": "[encoded data removed]",
      "text/plain": [
       "<matplotlib.figure.Figure at 0x1101f5278>"
      ]
     },
     "metadata": {},
     "output_type": "display_data"
    }
   ],
   "source": [
    "describe_year('Julianne', '2001')"
   ]
  },
  {
   "cell_type": "code",
   "execution_count": null,
   "metadata": {
    "collapsed": true,
    "jupyter": {
     "outputs_hidden": true
    }
   },
   "outputs": [],
   "source": []
  },
  {
   "cell_type": "code",
   "execution_count": null,
   "metadata": {
    "collapsed": true,
    "jupyter": {
     "outputs_hidden": true
    }
   },
   "outputs": [],
   "source": []
  }
 ],
 "metadata": {
  "kernelspec": {
   "display_name": "Python 3 (ipykernel)",
   "language": "python",
   "name": "python3"
  },
  "language_info": {
   "codemirror_mode": {
    "name": "ipython",
    "version": 3
   },
   "file_extension": ".py",
   "mimetype": "text/x-python",
   "name": "python",
   "nbconvert_exporter": "python",
   "pygments_lexer": "ipython3",
   "version": "3.9.7"
  }
 },
 "nbformat": 4,
 "nbformat_minor": 4
}
