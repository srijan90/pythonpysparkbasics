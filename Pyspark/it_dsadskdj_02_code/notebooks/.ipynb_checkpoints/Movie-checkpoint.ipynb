{
 "cells": [
  {
   "cell_type": "code",
   "execution_count": 1,
   "metadata": {},
   "outputs": [
    {
     "name": "stdout",
     "output_type": "stream",
     "text": [
      "Python 3.9.7\n"
     ]
    },
    {
     "name": "stderr",
     "output_type": "stream",
     "text": [
      "java version \"1.8.0_311\"\n",
      "Java(TM) SE Runtime Environment (build 1.8.0_311-b11)\n",
      "Java HotSpot(TM) 64-Bit Server VM (build 25.311-b11, mixed mode)\n"
     ]
    }
   ],
   "source": [
    "%%bash\n",
    "python --version\n",
    "java -version\n",
    "#scala -version"
   ]
  },
  {
   "cell_type": "code",
   "execution_count": 2,
   "metadata": {},
   "outputs": [
    {
     "ename": "SyntaxError",
     "evalue": "invalid syntax (2910056770.py, line 2)",
     "output_type": "error",
     "traceback": [
      "\u001b[0;36m  File \u001b[0;32m\"/var/folders/6d/bv3fkrz91n12x1pdky37p2gr0000gn/T/ipykernel_16470/2910056770.py\"\u001b[0;36m, line \u001b[0;32m2\u001b[0m\n\u001b[0;31m    http://java.sun.com/products/autodl/j2se\u001b[0m\n\u001b[0m         ^\u001b[0m\n\u001b[0;31mSyntaxError\u001b[0m\u001b[0;31m:\u001b[0m invalid syntax\n"
     ]
    }
   ],
   "source": [
    "java.sun.com\n",
    "http://java.sun.com/products/autodl/j2se\n",
    "/Library/Internet Plug-Ins/JavaAppletPlugin.plugin/Contents/Home/bin/java"
   ]
  },
  {
   "cell_type": "code",
   "execution_count": null,
   "metadata": {},
   "outputs": [],
   "source": [
    "import pyspark"
   ]
  },
  {
   "cell_type": "code",
   "execution_count": null,
   "metadata": {},
   "outputs": [],
   "source": [
    "from pyspark import SparkContext\n",
    "from pyspark.sql import SQLContext"
   ]
  },
  {
   "cell_type": "code",
   "execution_count": null,
   "metadata": {
    "scrolled": true
   },
   "outputs": [],
   "source": [
    "sc = SparkContext()\n",
    "sc"
   ]
  },
  {
   "cell_type": "code",
   "execution_count": null,
   "metadata": {},
   "outputs": [],
   "source": [
    "from pyspark.sql import SparkSession\n",
    "\n",
    "spark = SparkSession \\\n",
    "        .builder \\\n",
    "        .appName(\"Analyzing Movies Dataset\") \\\n",
    "        .getOrCreate()"
   ]
  },
  {
   "cell_type": "markdown",
   "metadata": {},
   "source": [
    "#### Load the dataset"
   ]
  },
  {
   "cell_type": "markdown",
   "metadata": {},
   "source": [
    "Both datasets have been sourced from https://www.kaggle.com/rounakbanik/the-movies-dataset. <br />\n",
    "The first file (ratings.csv) contains 26 million ratings from 270,000 users on all the 45,000 movies but here we are considering only 2 million ratings for this demo. <br />\n",
    "The second file (movies_metadata.csv) includes information about budget, revenue, release dates, languages, production countries etc. for each movie."
   ]
  },
  {
   "cell_type": "code",
   "execution_count": null,
   "metadata": {},
   "outputs": [],
   "source": [
    "movie_ratings = spark.read\\\n",
    "               .format(\"csv\")\\\n",
    "               .option(\"sep\", \",\")\\\n",
    "               .option(\"header\", \"true\")\\\n",
    "               .load(\"../datasets/ratings.csv\")"
   ]
  },
  {
   "cell_type": "code",
   "execution_count": null,
   "metadata": {},
   "outputs": [],
   "source": [
    "movie_ratings.printSchema()"
   ]
  },
  {
   "cell_type": "code",
   "execution_count": null,
   "metadata": {},
   "outputs": [],
   "source": [
    "movie_metadata = spark.read\\\n",
    "                         .format(\"csv\")\\\n",
    "                         .option(\"sep\", \",\")\\\n",
    "                         .option(\"header\", \"true\")\\\n",
    "                         .load(\"../datasets/movies_metadata.csv\")"
   ]
  },
  {
   "cell_type": "code",
   "execution_count": null,
   "metadata": {},
   "outputs": [],
   "source": [
    "movie_metadata.printSchema()"
   ]
  },
  {
   "cell_type": "code",
   "execution_count": null,
   "metadata": {},
   "outputs": [],
   "source": [
    "movie_ratings.count(),movie_metadata.count()"
   ]
  },
  {
   "cell_type": "markdown",
   "metadata": {},
   "source": [
    "#### Distinct number of Id"
   ]
  },
  {
   "cell_type": "code",
   "execution_count": null,
   "metadata": {},
   "outputs": [],
   "source": [
    "movie_metadata.select('id')\\\n",
    "                 .distinct()\\\n",
    "                 .count()"
   ]
  },
  {
   "cell_type": "markdown",
   "metadata": {},
   "source": [
    "#### Drop columns which are not necessary for our analysis"
   ]
  },
  {
   "cell_type": "code",
   "execution_count": null,
   "metadata": {},
   "outputs": [],
   "source": [
    "movie_metadata = movie_metadata.drop(\n",
    "                        'belongs_to_collection', \n",
    "                        'genres',\n",
    "                        'homepage',\n",
    "                        'imdb_id',\n",
    "                        'overview',\n",
    "                        'poster_path',\n",
    "                        'production_companies',\n",
    "                        'production_countries',\n",
    "                        'spoken_languages',\n",
    "                        'tagline')\n",
    "movie_metadata"
   ]
  },
  {
   "cell_type": "markdown",
   "metadata": {},
   "source": [
    "#### View the schema of the dataframes\n",
    "Though many numeric columns are currently formatted as strings, we'll adjust their types when we need to later on"
   ]
  },
  {
   "cell_type": "code",
   "execution_count": null,
   "metadata": {},
   "outputs": [],
   "source": [
    "movie_metadata.printSchema()"
   ]
  },
  {
   "cell_type": "markdown",
   "metadata": {},
   "source": [
    "#### Drop the invalid data from the dataframes"
   ]
  },
  {
   "cell_type": "code",
   "execution_count": null,
   "metadata": {},
   "outputs": [],
   "source": [
    "movie_metadata = movie_metadata.dropna()\n",
    "movie_ratings = movie_ratings.dropna()"
   ]
  },
  {
   "cell_type": "markdown",
   "metadata": {},
   "source": [
    "#### The size of movie_metadata has reduced"
   ]
  },
  {
   "cell_type": "code",
   "execution_count": null,
   "metadata": {},
   "outputs": [],
   "source": [
    "movie_ratings.count(),movie_metadata.count()"
   ]
  },
  {
   "cell_type": "markdown",
   "metadata": {},
   "source": [
    "#### Cast the numeric columns as float\n",
    "These are currently strings"
   ]
  },
  {
   "cell_type": "code",
   "execution_count": null,
   "metadata": {},
   "outputs": [],
   "source": [
    "for col_name in [\"budget\", \"revenue\", \"vote_average\", \"popularity\"]:\n",
    "    movie_metadata = movie_metadata.withColumn(col_name, \n",
    "                                               movie_metadata[col_name].cast(\"float\"))\n",
    "    \n",
    "movie_metadata.printSchema()"
   ]
  },
  {
   "cell_type": "markdown",
   "metadata": {},
   "source": [
    "#### We are interested in positive budget and revenue values"
   ]
  },
  {
   "cell_type": "code",
   "execution_count": null,
   "metadata": {},
   "outputs": [],
   "source": [
    "movie_metadata = movie_metadata[(movie_metadata.budget > 0) \\\n",
    "                                & (movie_metadata.revenue > 0)]"
   ]
  },
  {
   "cell_type": "code",
   "execution_count": null,
   "metadata": {},
   "outputs": [],
   "source": [
    "movie_metadata.count()"
   ]
  },
  {
   "cell_type": "code",
   "execution_count": null,
   "metadata": {},
   "outputs": [],
   "source": [
    "movie_metadata.select(\"budget\", \"revenue\").show()"
   ]
  },
  {
   "cell_type": "code",
   "execution_count": null,
   "metadata": {},
   "outputs": [],
   "source": [
    "movie_metadata = movie_metadata.withColumn(\"profit\",\n",
    "                                           (movie_metadata[\"revenue\"] - movie_metadata[\"budget\"]))"
   ]
  },
  {
   "cell_type": "code",
   "execution_count": null,
   "metadata": {},
   "outputs": [],
   "source": [
    "movie_metadata.select(\"profit\").sort(movie_metadata[\"profit\"].desc())\\\n",
    "                               .show()"
   ]
  },
  {
   "cell_type": "code",
   "execution_count": null,
   "metadata": {},
   "outputs": [],
   "source": [
    "movie_metadata.printSchema()"
   ]
  },
  {
   "cell_type": "code",
   "execution_count": null,
   "metadata": {},
   "outputs": [],
   "source": [
    "from pyspark.sql.functions import udf"
   ]
  },
  {
   "cell_type": "markdown",
   "metadata": {},
   "source": [
    "#### We are spliting the date column and from here we will take only year and save it in another column."
   ]
  },
  {
   "cell_type": "code",
   "execution_count": null,
   "metadata": {},
   "outputs": [],
   "source": [
    "year_extract_udf = udf(lambda date: date.split('-')[0])\n",
    "\n",
    "movie_metadata = movie_metadata.withColumn(\n",
    "                    \"release_year\",\n",
    "                    year_extract_udf(movie_metadata.release_date)\n",
    ")"
   ]
  },
  {
   "cell_type": "markdown",
   "metadata": {},
   "source": [
    "#### Drop the date column"
   ]
  },
  {
   "cell_type": "code",
   "execution_count": null,
   "metadata": {},
   "outputs": [],
   "source": [
    "movie_metadata =movie_metadata.drop(\"release_date\")"
   ]
  },
  {
   "cell_type": "code",
   "execution_count": null,
   "metadata": {},
   "outputs": [],
   "source": [
    "movie_metadata.s"
   ]
  },
  {
   "cell_type": "markdown",
   "metadata": {},
   "source": [
    "#### Filter the dataset to movies released since 1995 "
   ]
  },
  {
   "cell_type": "code",
   "execution_count": null,
   "metadata": {},
   "outputs": [],
   "source": [
    "movies_1995 = movie_metadata.filter(movie_metadata.release_year >= 1995)"
   ]
  },
  {
   "cell_type": "code",
   "execution_count": null,
   "metadata": {},
   "outputs": [],
   "source": [
    "movies_1995.count()"
   ]
  },
  {
   "cell_type": "markdown",
   "metadata": {},
   "source": [
    "#### Check the number of distinct languages in this filtered dataset"
   ]
  },
  {
   "cell_type": "code",
   "execution_count": null,
   "metadata": {},
   "outputs": [],
   "source": [
    "movies_1995.select(movies_1995.original_language)\\\n",
    "       .distinct()\\\n",
    "       .count()"
   ]
  },
  {
   "cell_type": "markdown",
   "metadata": {},
   "source": [
    "#### Check average popularity and profits for movies in each language"
   ]
  },
  {
   "cell_type": "code",
   "execution_count": null,
   "metadata": {},
   "outputs": [],
   "source": [
    "movies_1995 = movies_1995.groupBy(\"original_language\")\\\n",
    "                         .agg({\"popularity\": \"avg\",\n",
    "                               \"profit\": \"avg\"\n",
    "                              })"
   ]
  },
  {
   "cell_type": "code",
   "execution_count": null,
   "metadata": {},
   "outputs": [],
   "source": [
    "movies_1995 =movies_1995.withColumnRenamed(\"avg(popularity)\", \"popularity\")\\\n",
    "                        .withColumnRenamed(\"avg(profit)\", \"profit\")"
   ]
  },
  {
   "cell_type": "markdown",
   "metadata": {},
   "source": [
    "#### How popular and profitable are movies in each language?\n",
    "* English, German, Spanish films are popular and profitable\n",
    "* Vietnamese films are neither profitable nor popular\n",
    "* Romanian films are mildly popular but unprofitable"
   ]
  },
  {
   "cell_type": "code",
   "execution_count": null,
   "metadata": {},
   "outputs": [],
   "source": [
    "movies_1995.show()"
   ]
  },
  {
   "cell_type": "markdown",
   "metadata": {},
   "source": [
    "#### Define your own metric to calculate how \"good\" a movie is\n",
    "We scale the popularity and profitabiltiy values"
   ]
  },
  {
   "cell_type": "code",
   "execution_count": null,
   "metadata": {},
   "outputs": [],
   "source": [
    "weight_popularity = 10\n",
    "weight_profit=0.000001"
   ]
  },
  {
   "cell_type": "code",
   "execution_count": null,
   "metadata": {},
   "outputs": [],
   "source": [
    "movies = movies_1995.withColumn(\"score\",\n",
    "                                    (movies_1995.popularity * weight_popularity + \\\n",
    "                                     movies_1995.profit * weight_profit))"
   ]
  },
  {
   "cell_type": "code",
   "execution_count": null,
   "metadata": {},
   "outputs": [],
   "source": [
    "movies.show()"
   ]
  },
  {
   "cell_type": "markdown",
   "metadata": {},
   "source": [
    "#### We are interested in movies with a score greater than 50\n",
    "English, Japanese and Chinese movies top our list"
   ]
  },
  {
   "cell_type": "code",
   "execution_count": null,
   "metadata": {},
   "outputs": [],
   "source": [
    "movies = movies.filter(movies.score > 50)\\\n",
    "                   .sort(movies.score.desc())\n",
    "    \n",
    "movies.show(15)"
   ]
  },
  {
   "cell_type": "code",
   "execution_count": null,
   "metadata": {},
   "outputs": [],
   "source": [
    "from pyspark.sql.functions import broadcast"
   ]
  },
  {
   "cell_type": "code",
   "execution_count": null,
   "metadata": {},
   "outputs": [],
   "source": [
    "movie_ratings.count(),movie_metadata.count()"
   ]
  },
  {
   "cell_type": "markdown",
   "metadata": {},
   "source": [
    "### Broadcast & Join\n",
    "\n",
    "* Broadcast the smaller dataframe so it is available on all cluster machines\n",
    "* The data should be small enough so it is held in memory\n",
    "* All nodes in the cluster distribute the data as fast as they can so overall computation is faster"
   ]
  },
  {
   "cell_type": "code",
   "execution_count": null,
   "metadata": {},
   "outputs": [],
   "source": [
    "movies_joined = movie_ratings.select('movieId',\n",
    "                                     'rating')\\\n",
    "                             .join(broadcast(movie_metadata),\n",
    "                                   movie_ratings.movieId == movie_metadata.id, 'inner')"
   ]
  },
  {
   "cell_type": "code",
   "execution_count": null,
   "metadata": {},
   "outputs": [],
   "source": [
    "movies_joined.columns"
   ]
  },
  {
   "cell_type": "code",
   "execution_count": null,
   "metadata": {},
   "outputs": [],
   "source": [
    "movies_joined = movies_joined.drop(\n",
    "                                     'adult',\n",
    "                                     'id',\n",
    "                                     'budget',\n",
    "                                     'original_title',\n",
    "                                     'popularity',\n",
    "                                     'revenue',\n",
    "                                     'runtime',\n",
    "                                     'status',\n",
    "                                     'video',\n",
    "                                     'vote_average',\n",
    "                                     'vote_count',\n",
    "                                     'profit',\n",
    "                                     'release_year')\n",
    "movies_joined"
   ]
  },
  {
   "cell_type": "code",
   "execution_count": null,
   "metadata": {},
   "outputs": [],
   "source": [
    "movies_joined.show(truncate = False)"
   ]
  },
  {
   "cell_type": "code",
   "execution_count": null,
   "metadata": {},
   "outputs": [],
   "source": [
    "movies_joined.groupBy([\"movieID\", \"title\"])\\\n",
    "             .agg({\"rating\": \"avg\"}).show()"
   ]
  },
  {
   "cell_type": "code",
   "execution_count": null,
   "metadata": {},
   "outputs": [],
   "source": [
    "movies_joined.select(\"rating\").describe().show()"
   ]
  },
  {
   "cell_type": "markdown",
   "metadata": {},
   "source": [
    "### Accumulators\n",
    "* Shared variables which are updated by processes running across multiple nodes"
   ]
  },
  {
   "cell_type": "code",
   "execution_count": null,
   "metadata": {},
   "outputs": [],
   "source": [
    "terrible_count = spark.sparkContext.accumulator(0)\n",
    "subpar_count = spark.sparkContext.accumulator(0)\n",
    "average_count = spark.sparkContext.accumulator(0)\n",
    "good_count = spark.sparkContext.accumulator(0)"
   ]
  },
  {
   "cell_type": "markdown",
   "metadata": {},
   "source": [
    "#### Get movie count by ratings"
   ]
  },
  {
   "cell_type": "code",
   "execution_count": null,
   "metadata": {},
   "outputs": [],
   "source": [
    "def count_movie_by_rating(row):\n",
    "    rating = float(row.rating)\n",
    "    \n",
    "    if (rating <= 2.0 ):\n",
    "        terrible_count.add(1)\n",
    "    elif (rating <= 3.0 and rating > 2.0 ):\n",
    "        subpar_count.add(1)\n",
    "    elif (rating <= 4.0 and rating > 3.0 ):\n",
    "        average_count.add(1)\n",
    "    elif (rating > 4.0) :\n",
    "        good_count.add(1)"
   ]
  },
  {
   "cell_type": "code",
   "execution_count": null,
   "metadata": {},
   "outputs": [],
   "source": [
    "movies_joined.foreach(lambda x: count_movie_by_rating(x))"
   ]
  },
  {
   "cell_type": "code",
   "execution_count": null,
   "metadata": {},
   "outputs": [],
   "source": [
    "print(\"Terrible movies: \", terrible_count.value)\n",
    "print(\"Sub-par movies: \", subpar_count.value)\n",
    "print(\"Average movies: \", average_count.value)\n",
    "print(\"Good movies: \", good_count.value)"
   ]
  },
  {
   "cell_type": "markdown",
   "metadata": {},
   "source": [
    "### Save the dataframe to a file"
   ]
  },
  {
   "cell_type": "markdown",
   "metadata": {},
   "source": [
    "#### Save to a CSV file\n",
    "Saves the data into a directory. You could also give a path in HDFS"
   ]
  },
  {
   "cell_type": "code",
   "execution_count": null,
   "metadata": {},
   "outputs": [],
   "source": [
    "movies_1995.write\\\n",
    "           .option(\"header\",\"true\")\\\n",
    "           .csv(\"movies_1995_csv\")"
   ]
  },
  {
   "cell_type": "markdown",
   "metadata": {},
   "source": [
    "#### Coalesce data into one file\n",
    "Data from all partitions will coalesce into a single list"
   ]
  },
  {
   "cell_type": "code",
   "execution_count": null,
   "metadata": {},
   "outputs": [],
   "source": [
    "movies_1995.coalesce(1)\\\n",
    "           .write\\\n",
    "           .option(\"header\",\"true\")\\\n",
    "           .csv(\"movies_1995_coalesce_csv\")"
   ]
  },
  {
   "cell_type": "markdown",
   "metadata": {},
   "source": [
    "#### Save data as a JSON file"
   ]
  },
  {
   "cell_type": "code",
   "execution_count": null,
   "metadata": {},
   "outputs": [],
   "source": [
    "movies_1995.coalesce(1)\\\n",
    "           .write\\\n",
    "           .json(\"movie_overall_json\")"
   ]
  },
  {
   "cell_type": "code",
   "execution_count": null,
   "metadata": {},
   "outputs": [],
   "source": []
  },
  {
   "cell_type": "code",
   "execution_count": null,
   "metadata": {},
   "outputs": [],
   "source": []
  },
  {
   "cell_type": "code",
   "execution_count": null,
   "metadata": {},
   "outputs": [],
   "source": []
  },
  {
   "cell_type": "code",
   "execution_count": null,
   "metadata": {},
   "outputs": [],
   "source": []
  },
  {
   "cell_type": "code",
   "execution_count": null,
   "metadata": {},
   "outputs": [],
   "source": []
  },
  {
   "cell_type": "code",
   "execution_count": null,
   "metadata": {},
   "outputs": [],
   "source": []
  },
  {
   "cell_type": "code",
   "execution_count": null,
   "metadata": {},
   "outputs": [],
   "source": []
  },
  {
   "cell_type": "code",
   "execution_count": null,
   "metadata": {},
   "outputs": [],
   "source": []
  },
  {
   "cell_type": "code",
   "execution_count": null,
   "metadata": {},
   "outputs": [],
   "source": []
  }
 ],
 "metadata": {
  "kernelspec": {
   "display_name": "Python 3 (ipykernel)",
   "language": "python",
   "name": "python3"
  },
  "language_info": {
   "codemirror_mode": {
    "name": "ipython",
    "version": 3
   },
   "file_extension": ".py",
   "mimetype": "text/x-python",
   "name": "python",
   "nbconvert_exporter": "python",
   "pygments_lexer": "ipython3",
   "version": "3.9.7"
  },
  "toc-autonumbering": false,
  "toc-showmarkdowntxt": false
 },
 "nbformat": 4,
 "nbformat_minor": 4
}
